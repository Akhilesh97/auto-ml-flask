{
 "cells": [
  {
   "cell_type": "code",
   "execution_count": 1,
   "id": "b79b167d",
   "metadata": {},
   "outputs": [],
   "source": [
    "import pandas as pd"
   ]
  },
  {
   "cell_type": "code",
   "execution_count": 2,
   "id": "29227659",
   "metadata": {},
   "outputs": [],
   "source": [
    "df = pd.read_csv(\"data/LoanApprovalPrediction.csv\")"
   ]
  },
  {
   "cell_type": "markdown",
   "id": "3e23655f",
   "metadata": {},
   "source": [
    "## Duplicate display"
   ]
  },
  {
   "cell_type": "code",
   "execution_count": 3,
   "id": "d9989cb4",
   "metadata": {},
   "outputs": [
    {
     "name": "stdout",
     "output_type": "stream",
     "text": [
      "Number of duplicate rows: 0\n",
      "\n",
      "Duplicate Rows:\n",
      "Empty DataFrame\n",
      "Columns: [Loan_ID, Gender, Married, Dependents, Education, Self_Employed, ApplicantIncome, CoapplicantIncome, LoanAmount, Loan_Amount_Term, Credit_History, Property_Area, Loan_Status]\n",
      "Index: []\n"
     ]
    }
   ],
   "source": [
    "# Find and display the number of duplicates based on all columns\n",
    "duplicate_counts = df.duplicated().sum()\n",
    "print(f'Number of duplicate rows: {duplicate_counts}')\n",
    "\n",
    "# Display the duplicate rows in a new DataFrame\n",
    "duplicates_df = df[df.duplicated(keep=False)]\n",
    "print('\\nDuplicate Rows:')\n",
    "print(duplicates_df)"
   ]
  },
  {
   "cell_type": "code",
   "execution_count": 6,
   "id": "015ceeee",
   "metadata": {},
   "outputs": [],
   "source": [
    "import numpy as np\n",
    "from numbers import Number\n",
    "import datetime\n"
   ]
  },
  {
   "cell_type": "markdown",
   "id": "7083072e",
   "metadata": {},
   "source": [
    "## Inconsistent values"
   ]
  },
  {
   "cell_type": "code",
   "execution_count": 14,
   "id": "445af506",
   "metadata": {},
   "outputs": [],
   "source": [
    "columns = list(df.columns)\n",
    "\n",
    "def get_col_counts(x):\n",
    "    numeric_counts = 0\n",
    "    object_counts = 0\n",
    "    date_types = 0\n",
    "\n",
    "    for val in x:\n",
    "        if isinstance(val, Number):\n",
    "            numeric_counts+=1\n",
    "        elif isinstance(val, str):\n",
    "            object_counts+=1\n",
    "        elif isinstance(val, datetime.date):\n",
    "            date_types+=1\n",
    "\n",
    "    return numeric_counts, object_counts, date_types"
   ]
  },
  {
   "cell_type": "code",
   "execution_count": 22,
   "id": "f3928bb2",
   "metadata": {},
   "outputs": [],
   "source": [
    "numeric_counts_ = []\n",
    "object_counts_ = []\n",
    "date_types_ = []\n",
    "inconsistencies_ = []\n",
    "for col in columns:\n",
    "    numeric_counts, object_counts, date_types = get_col_counts(df[col])    \n",
    "    inconsistency = 100-(max(numeric_counts, object_counts, date_types)/len(df))*100    \n",
    "    numeric_counts_.append(numeric_counts)\n",
    "    object_counts_.append(object_counts)\n",
    "    date_types_.append(date_types)\n",
    "    inconsistencies_.append(inconsistency)"
   ]
  },
  {
   "cell_type": "code",
   "execution_count": 25,
   "id": "9797f5ee",
   "metadata": {},
   "outputs": [],
   "source": [
    "inconsistency_df = pd.DataFrame(columns=['column', 'numeric_vals', 'object_vals', 'date_vals', 'inconsistency_percentage'])\n",
    "inconsistency_df['column'] = columns\n",
    "inconsistency_df['numeric_vals'] = numeric_counts_\n",
    "inconsistency_df['object_vals'] = object_counts_\n",
    "inconsistency_df['date_vals'] = date_types_\n",
    "inconsistency_df['inconsistency_percentage'] = inconsistencies_"
   ]
  },
  {
   "cell_type": "code",
   "execution_count": 26,
   "id": "e775c910",
   "metadata": {},
   "outputs": [
    {
     "data": {
      "text/html": [
       "<div>\n",
       "<style scoped>\n",
       "    .dataframe tbody tr th:only-of-type {\n",
       "        vertical-align: middle;\n",
       "    }\n",
       "\n",
       "    .dataframe tbody tr th {\n",
       "        vertical-align: top;\n",
       "    }\n",
       "\n",
       "    .dataframe thead th {\n",
       "        text-align: right;\n",
       "    }\n",
       "</style>\n",
       "<table border=\"1\" class=\"dataframe\">\n",
       "  <thead>\n",
       "    <tr style=\"text-align: right;\">\n",
       "      <th></th>\n",
       "      <th>column</th>\n",
       "      <th>numeric_vals</th>\n",
       "      <th>object_vals</th>\n",
       "      <th>date_vals</th>\n",
       "      <th>inconsistency_percentage</th>\n",
       "    </tr>\n",
       "  </thead>\n",
       "  <tbody>\n",
       "    <tr>\n",
       "      <th>0</th>\n",
       "      <td>Loan_ID</td>\n",
       "      <td>0</td>\n",
       "      <td>598</td>\n",
       "      <td>0</td>\n",
       "      <td>0.0</td>\n",
       "    </tr>\n",
       "    <tr>\n",
       "      <th>1</th>\n",
       "      <td>Gender</td>\n",
       "      <td>0</td>\n",
       "      <td>598</td>\n",
       "      <td>0</td>\n",
       "      <td>0.0</td>\n",
       "    </tr>\n",
       "    <tr>\n",
       "      <th>2</th>\n",
       "      <td>Married</td>\n",
       "      <td>0</td>\n",
       "      <td>598</td>\n",
       "      <td>0</td>\n",
       "      <td>0.0</td>\n",
       "    </tr>\n",
       "    <tr>\n",
       "      <th>3</th>\n",
       "      <td>Dependents</td>\n",
       "      <td>598</td>\n",
       "      <td>0</td>\n",
       "      <td>0</td>\n",
       "      <td>0.0</td>\n",
       "    </tr>\n",
       "    <tr>\n",
       "      <th>4</th>\n",
       "      <td>Education</td>\n",
       "      <td>0</td>\n",
       "      <td>598</td>\n",
       "      <td>0</td>\n",
       "      <td>0.0</td>\n",
       "    </tr>\n",
       "    <tr>\n",
       "      <th>5</th>\n",
       "      <td>Self_Employed</td>\n",
       "      <td>0</td>\n",
       "      <td>598</td>\n",
       "      <td>0</td>\n",
       "      <td>0.0</td>\n",
       "    </tr>\n",
       "    <tr>\n",
       "      <th>6</th>\n",
       "      <td>ApplicantIncome</td>\n",
       "      <td>598</td>\n",
       "      <td>0</td>\n",
       "      <td>0</td>\n",
       "      <td>0.0</td>\n",
       "    </tr>\n",
       "    <tr>\n",
       "      <th>7</th>\n",
       "      <td>CoapplicantIncome</td>\n",
       "      <td>598</td>\n",
       "      <td>0</td>\n",
       "      <td>0</td>\n",
       "      <td>0.0</td>\n",
       "    </tr>\n",
       "    <tr>\n",
       "      <th>8</th>\n",
       "      <td>LoanAmount</td>\n",
       "      <td>598</td>\n",
       "      <td>0</td>\n",
       "      <td>0</td>\n",
       "      <td>0.0</td>\n",
       "    </tr>\n",
       "    <tr>\n",
       "      <th>9</th>\n",
       "      <td>Loan_Amount_Term</td>\n",
       "      <td>598</td>\n",
       "      <td>0</td>\n",
       "      <td>0</td>\n",
       "      <td>0.0</td>\n",
       "    </tr>\n",
       "    <tr>\n",
       "      <th>10</th>\n",
       "      <td>Credit_History</td>\n",
       "      <td>598</td>\n",
       "      <td>0</td>\n",
       "      <td>0</td>\n",
       "      <td>0.0</td>\n",
       "    </tr>\n",
       "    <tr>\n",
       "      <th>11</th>\n",
       "      <td>Property_Area</td>\n",
       "      <td>0</td>\n",
       "      <td>598</td>\n",
       "      <td>0</td>\n",
       "      <td>0.0</td>\n",
       "    </tr>\n",
       "    <tr>\n",
       "      <th>12</th>\n",
       "      <td>Loan_Status</td>\n",
       "      <td>0</td>\n",
       "      <td>598</td>\n",
       "      <td>0</td>\n",
       "      <td>0.0</td>\n",
       "    </tr>\n",
       "  </tbody>\n",
       "</table>\n",
       "</div>"
      ],
      "text/plain": [
       "               column  numeric_vals  object_vals  date_vals  \\\n",
       "0             Loan_ID             0          598          0   \n",
       "1              Gender             0          598          0   \n",
       "2             Married             0          598          0   \n",
       "3          Dependents           598            0          0   \n",
       "4           Education             0          598          0   \n",
       "5       Self_Employed             0          598          0   \n",
       "6     ApplicantIncome           598            0          0   \n",
       "7   CoapplicantIncome           598            0          0   \n",
       "8          LoanAmount           598            0          0   \n",
       "9    Loan_Amount_Term           598            0          0   \n",
       "10     Credit_History           598            0          0   \n",
       "11      Property_Area             0          598          0   \n",
       "12        Loan_Status             0          598          0   \n",
       "\n",
       "    inconsistency_percentage  \n",
       "0                        0.0  \n",
       "1                        0.0  \n",
       "2                        0.0  \n",
       "3                        0.0  \n",
       "4                        0.0  \n",
       "5                        0.0  \n",
       "6                        0.0  \n",
       "7                        0.0  \n",
       "8                        0.0  \n",
       "9                        0.0  \n",
       "10                       0.0  \n",
       "11                       0.0  \n",
       "12                       0.0  "
      ]
     },
     "execution_count": 26,
     "metadata": {},
     "output_type": "execute_result"
    }
   ],
   "source": [
    "inconsistency_df"
   ]
  },
  {
   "cell_type": "code",
   "execution_count": 28,
   "id": "f7252fee",
   "metadata": {},
   "outputs": [],
   "source": [
    "import plotly.express as px"
   ]
  },
  {
   "cell_type": "code",
   "execution_count": 31,
   "id": "583bc318",
   "metadata": {},
   "outputs": [],
   "source": [
    "numeric_columns = df.select_dtypes(include=['number']).columns"
   ]
  },
  {
   "cell_type": "code",
   "execution_count": 35,
   "id": "4bfd87f2",
   "metadata": {},
   "outputs": [
    {
     "data": {
      "application/vnd.plotly.v1+json": {
       "config": {
        "plotlyServerURL": "https://plot.ly"
       },
       "data": [
        {
         "alignmentgroup": "True",
         "boxpoints": "all",
         "hovertemplate": "variable=%{x}<br>value=%{y}<extra></extra>",
         "legendgroup": "",
         "marker": {
          "color": "#636efa"
         },
         "name": "",
         "notched": false,
         "offsetgroup": "",
         "orientation": "v",
         "showlegend": false,
         "type": "box",
         "x": [
          "Dependents",
          "Dependents",
          "Dependents",
          "Dependents",
          "Dependents",
          "Dependents",
          "Dependents",
          "Dependents",
          "Dependents",
          "Dependents",
          "Dependents",
          "Dependents",
          "Dependents",
          "Dependents",
          "Dependents",
          "Dependents",
          "Dependents",
          "Dependents",
          "Dependents",
          "Dependents",
          "Dependents",
          "Dependents",
          "Dependents",
          "Dependents",
          "Dependents",
          "Dependents",
          "Dependents",
          "Dependents",
          "Dependents",
          "Dependents",
          "Dependents",
          "Dependents",
          "Dependents",
          "Dependents",
          "Dependents",
          "Dependents",
          "Dependents",
          "Dependents",
          "Dependents",
          "Dependents",
          "Dependents",
          "Dependents",
          "Dependents",
          "Dependents",
          "Dependents",
          "Dependents",
          "Dependents",
          "Dependents",
          "Dependents",
          "Dependents",
          "Dependents",
          "Dependents",
          "Dependents",
          "Dependents",
          "Dependents",
          "Dependents",
          "Dependents",
          "Dependents",
          "Dependents",
          "Dependents",
          "Dependents",
          "Dependents",
          "Dependents",
          "Dependents",
          "Dependents",
          "Dependents",
          "Dependents",
          "Dependents",
          "Dependents",
          "Dependents",
          "Dependents",
          "Dependents",
          "Dependents",
          "Dependents",
          "Dependents",
          "Dependents",
          "Dependents",
          "Dependents",
          "Dependents",
          "Dependents",
          "Dependents",
          "Dependents",
          "Dependents",
          "Dependents",
          "Dependents",
          "Dependents",
          "Dependents",
          "Dependents",
          "Dependents",
          "Dependents",
          "Dependents",
          "Dependents",
          "Dependents",
          "Dependents",
          "Dependents",
          "Dependents",
          "Dependents",
          "Dependents",
          "Dependents",
          "Dependents",
          "Dependents",
          "Dependents",
          "Dependents",
          "Dependents",
          "Dependents",
          "Dependents",
          "Dependents",
          "Dependents",
          "Dependents",
          "Dependents",
          "Dependents",
          "Dependents",
          "Dependents",
          "Dependents",
          "Dependents",
          "Dependents",
          "Dependents",
          "Dependents",
          "Dependents",
          "Dependents",
          "Dependents",
          "Dependents",
          "Dependents",
          "Dependents",
          "Dependents",
          "Dependents",
          "Dependents",
          "Dependents",
          "Dependents",
          "Dependents",
          "Dependents",
          "Dependents",
          "Dependents",
          "Dependents",
          "Dependents",
          "Dependents",
          "Dependents",
          "Dependents",
          "Dependents",
          "Dependents",
          "Dependents",
          "Dependents",
          "Dependents",
          "Dependents",
          "Dependents",
          "Dependents",
          "Dependents",
          "Dependents",
          "Dependents",
          "Dependents",
          "Dependents",
          "Dependents",
          "Dependents",
          "Dependents",
          "Dependents",
          "Dependents",
          "Dependents",
          "Dependents",
          "Dependents",
          "Dependents",
          "Dependents",
          "Dependents",
          "Dependents",
          "Dependents",
          "Dependents",
          "Dependents",
          "Dependents",
          "Dependents",
          "Dependents",
          "Dependents",
          "Dependents",
          "Dependents",
          "Dependents",
          "Dependents",
          "Dependents",
          "Dependents",
          "Dependents",
          "Dependents",
          "Dependents",
          "Dependents",
          "Dependents",
          "Dependents",
          "Dependents",
          "Dependents",
          "Dependents",
          "Dependents",
          "Dependents",
          "Dependents",
          "Dependents",
          "Dependents",
          "Dependents",
          "Dependents",
          "Dependents",
          "Dependents",
          "Dependents",
          "Dependents",
          "Dependents",
          "Dependents",
          "Dependents",
          "Dependents",
          "Dependents",
          "Dependents",
          "Dependents",
          "Dependents",
          "Dependents",
          "Dependents",
          "Dependents",
          "Dependents",
          "Dependents",
          "Dependents",
          "Dependents",
          "Dependents",
          "Dependents",
          "Dependents",
          "Dependents",
          "Dependents",
          "Dependents",
          "Dependents",
          "Dependents",
          "Dependents",
          "Dependents",
          "Dependents",
          "Dependents",
          "Dependents",
          "Dependents",
          "Dependents",
          "Dependents",
          "Dependents",
          "Dependents",
          "Dependents",
          "Dependents",
          "Dependents",
          "Dependents",
          "Dependents",
          "Dependents",
          "Dependents",
          "Dependents",
          "Dependents",
          "Dependents",
          "Dependents",
          "Dependents",
          "Dependents",
          "Dependents",
          "Dependents",
          "Dependents",
          "Dependents",
          "Dependents",
          "Dependents",
          "Dependents",
          "Dependents",
          "Dependents",
          "Dependents",
          "Dependents",
          "Dependents",
          "Dependents",
          "Dependents",
          "Dependents",
          "Dependents",
          "Dependents",
          "Dependents",
          "Dependents",
          "Dependents",
          "Dependents",
          "Dependents",
          "Dependents",
          "Dependents",
          "Dependents",
          "Dependents",
          "Dependents",
          "Dependents",
          "Dependents",
          "Dependents",
          "Dependents",
          "Dependents",
          "Dependents",
          "Dependents",
          "Dependents",
          "Dependents",
          "Dependents",
          "Dependents",
          "Dependents",
          "Dependents",
          "Dependents",
          "Dependents",
          "Dependents",
          "Dependents",
          "Dependents",
          "Dependents",
          "Dependents",
          "Dependents",
          "Dependents",
          "Dependents",
          "Dependents",
          "Dependents",
          "Dependents",
          "Dependents",
          "Dependents",
          "Dependents",
          "Dependents",
          "Dependents",
          "Dependents",
          "Dependents",
          "Dependents",
          "Dependents",
          "Dependents",
          "Dependents",
          "Dependents",
          "Dependents",
          "Dependents",
          "Dependents",
          "Dependents",
          "Dependents",
          "Dependents",
          "Dependents",
          "Dependents",
          "Dependents",
          "Dependents",
          "Dependents",
          "Dependents",
          "Dependents",
          "Dependents",
          "Dependents",
          "Dependents",
          "Dependents",
          "Dependents",
          "Dependents",
          "Dependents",
          "Dependents",
          "Dependents",
          "Dependents",
          "Dependents",
          "Dependents",
          "Dependents",
          "Dependents",
          "Dependents",
          "Dependents",
          "Dependents",
          "Dependents",
          "Dependents",
          "Dependents",
          "Dependents",
          "Dependents",
          "Dependents",
          "Dependents",
          "Dependents",
          "Dependents",
          "Dependents",
          "Dependents",
          "Dependents",
          "Dependents",
          "Dependents",
          "Dependents",
          "Dependents",
          "Dependents",
          "Dependents",
          "Dependents",
          "Dependents",
          "Dependents",
          "Dependents",
          "Dependents",
          "Dependents",
          "Dependents",
          "Dependents",
          "Dependents",
          "Dependents",
          "Dependents",
          "Dependents",
          "Dependents",
          "Dependents",
          "Dependents",
          "Dependents",
          "Dependents",
          "Dependents",
          "Dependents",
          "Dependents",
          "Dependents",
          "Dependents",
          "Dependents",
          "Dependents",
          "Dependents",
          "Dependents",
          "Dependents",
          "Dependents",
          "Dependents",
          "Dependents",
          "Dependents",
          "Dependents",
          "Dependents",
          "Dependents",
          "Dependents",
          "Dependents",
          "Dependents",
          "Dependents",
          "Dependents",
          "Dependents",
          "Dependents",
          "Dependents",
          "Dependents",
          "Dependents",
          "Dependents",
          "Dependents",
          "Dependents",
          "Dependents",
          "Dependents",
          "Dependents",
          "Dependents",
          "Dependents",
          "Dependents",
          "Dependents",
          "Dependents",
          "Dependents",
          "Dependents",
          "Dependents",
          "Dependents",
          "Dependents",
          "Dependents",
          "Dependents",
          "Dependents",
          "Dependents",
          "Dependents",
          "Dependents",
          "Dependents",
          "Dependents",
          "Dependents",
          "Dependents",
          "Dependents",
          "Dependents",
          "Dependents",
          "Dependents",
          "Dependents",
          "Dependents",
          "Dependents",
          "Dependents",
          "Dependents",
          "Dependents",
          "Dependents",
          "Dependents",
          "Dependents",
          "Dependents",
          "Dependents",
          "Dependents",
          "Dependents",
          "Dependents",
          "Dependents",
          "Dependents",
          "Dependents",
          "Dependents",
          "Dependents",
          "Dependents",
          "Dependents",
          "Dependents",
          "Dependents",
          "Dependents",
          "Dependents",
          "Dependents",
          "Dependents",
          "Dependents",
          "Dependents",
          "Dependents",
          "Dependents",
          "Dependents",
          "Dependents",
          "Dependents",
          "Dependents",
          "Dependents",
          "Dependents",
          "Dependents",
          "Dependents",
          "Dependents",
          "Dependents",
          "Dependents",
          "Dependents",
          "Dependents",
          "Dependents",
          "Dependents",
          "Dependents",
          "Dependents",
          "Dependents",
          "Dependents",
          "Dependents",
          "Dependents",
          "Dependents",
          "Dependents",
          "Dependents",
          "Dependents",
          "Dependents",
          "Dependents",
          "Dependents",
          "Dependents",
          "Dependents",
          "Dependents",
          "Dependents",
          "Dependents",
          "Dependents",
          "Dependents",
          "Dependents",
          "Dependents",
          "Dependents",
          "Dependents",
          "Dependents",
          "Dependents",
          "Dependents",
          "Dependents",
          "Dependents",
          "Dependents",
          "Dependents",
          "Dependents",
          "Dependents",
          "Dependents",
          "Dependents",
          "Dependents",
          "Dependents",
          "Dependents",
          "Dependents",
          "Dependents",
          "Dependents",
          "Dependents",
          "Dependents",
          "Dependents",
          "Dependents",
          "Dependents",
          "Dependents",
          "Dependents",
          "Dependents",
          "Dependents",
          "Dependents",
          "Dependents",
          "Dependents",
          "Dependents",
          "Dependents",
          "Dependents",
          "Dependents",
          "Dependents",
          "Dependents",
          "Dependents",
          "Dependents",
          "Dependents",
          "Dependents",
          "Dependents",
          "Dependents",
          "Dependents",
          "Dependents",
          "Dependents",
          "Dependents",
          "Dependents",
          "Dependents",
          "Dependents",
          "Dependents",
          "Dependents",
          "Dependents",
          "Dependents",
          "Dependents",
          "Dependents",
          "Dependents",
          "Dependents",
          "Dependents",
          "Dependents",
          "Dependents",
          "Dependents",
          "Dependents",
          "Dependents",
          "Dependents",
          "Dependents",
          "Dependents",
          "Dependents",
          "Dependents",
          "Dependents",
          "Dependents",
          "Dependents",
          "Dependents",
          "Dependents",
          "Dependents",
          "Dependents",
          "Dependents",
          "Dependents",
          "Dependents",
          "Dependents",
          "Dependents",
          "Dependents",
          "Dependents",
          "Dependents",
          "Dependents",
          "Dependents",
          "Dependents",
          "Dependents",
          "Dependents",
          "Dependents",
          "Dependents",
          "Dependents",
          "Dependents",
          "Dependents",
          "Dependents",
          "Dependents",
          "Dependents",
          "Dependents",
          "Dependents",
          "Dependents",
          "Dependents"
         ],
         "x0": " ",
         "xaxis": "x",
         "y": [
          0,
          1,
          0,
          0,
          0,
          2,
          0,
          3,
          2,
          1,
          2,
          2,
          2,
          0,
          2,
          0,
          1,
          0,
          0,
          0,
          0,
          1,
          0,
          1,
          0,
          0,
          2,
          0,
          2,
          1,
          0,
          1,
          0,
          3,
          0,
          0,
          0,
          0,
          0,
          0,
          0,
          0,
          0,
          0,
          0,
          1,
          0,
          0,
          0,
          0,
          0,
          0,
          2,
          1,
          2,
          0,
          0,
          1,
          2,
          0,
          3,
          0,
          1,
          0,
          0,
          0,
          1,
          3,
          0,
          0,
          2,
          0,
          3,
          3,
          0,
          0,
          1,
          3,
          3,
          0,
          1,
          2,
          0,
          1,
          0,
          2,
          0,
          0,
          0,
          0,
          2,
          2,
          0,
          0,
          0,
          0,
          0,
          0,
          0,
          2,
          0,
          null,
          0,
          1,
          2,
          0,
          2,
          3,
          0,
          0,
          0,
          1,
          0,
          1,
          0,
          1,
          0,
          0,
          null,
          0,
          0,
          2,
          0,
          0,
          0,
          1,
          0,
          0,
          0,
          0,
          0,
          0,
          3,
          0,
          2,
          0,
          2,
          2,
          0,
          0,
          0,
          2,
          0,
          2,
          1,
          0,
          0,
          0,
          0,
          0,
          2,
          0,
          3,
          1,
          1,
          0,
          0,
          0,
          0,
          1,
          2,
          0,
          0,
          0,
          0,
          0,
          2,
          0,
          3,
          0,
          0,
          0,
          2,
          3,
          1,
          0,
          1,
          0,
          0,
          1,
          0,
          0,
          1,
          0,
          0,
          0,
          0,
          0,
          0,
          0,
          1,
          0,
          0,
          0,
          0,
          1,
          2,
          3,
          1,
          2,
          0,
          0,
          0,
          0,
          0,
          0,
          3,
          1,
          3,
          0,
          3,
          0,
          0,
          2,
          2,
          0,
          2,
          0,
          0,
          0,
          0,
          null,
          2,
          0,
          1,
          0,
          0,
          0,
          1,
          1,
          0,
          0,
          1,
          1,
          2,
          1,
          0,
          2,
          0,
          0,
          2,
          1,
          1,
          0,
          0,
          2,
          0,
          1,
          0,
          3,
          0,
          3,
          0,
          3,
          1,
          0,
          1,
          0,
          0,
          0,
          2,
          3,
          0,
          1,
          0,
          0,
          0,
          0,
          2,
          1,
          0,
          0,
          0,
          0,
          1,
          0,
          2,
          0,
          0,
          0,
          0,
          0,
          0,
          0,
          0,
          2,
          2,
          null,
          0,
          3,
          1,
          1,
          0,
          1,
          0,
          null,
          0,
          1,
          0,
          0,
          0,
          0,
          0,
          2,
          0,
          0,
          0,
          2,
          1,
          2,
          0,
          1,
          1,
          0,
          3,
          2,
          0,
          3,
          1,
          0,
          0,
          0,
          0,
          1,
          0,
          null,
          0,
          null,
          1,
          2,
          3,
          0,
          3,
          0,
          1,
          3,
          2,
          0,
          null,
          2,
          0,
          0,
          0,
          0,
          3,
          0,
          0,
          null,
          2,
          1,
          0,
          3,
          1,
          2,
          0,
          0,
          0,
          0,
          0,
          0,
          1,
          0,
          0,
          2,
          2,
          1,
          0,
          0,
          3,
          0,
          0,
          2,
          0,
          0,
          0,
          0,
          2,
          1,
          0,
          0,
          0,
          0,
          3,
          3,
          0,
          2,
          2,
          2,
          0,
          0,
          0,
          0,
          2,
          0,
          0,
          0,
          0,
          0,
          0,
          0,
          1,
          3,
          1,
          0,
          0,
          0,
          0,
          0,
          1,
          2,
          0,
          0,
          0,
          0,
          0,
          1,
          0,
          0,
          1,
          2,
          0,
          0,
          1,
          0,
          0,
          0,
          0,
          0,
          0,
          0,
          0,
          0,
          0,
          3,
          1,
          0,
          1,
          2,
          0,
          2,
          1,
          2,
          2,
          0,
          0,
          0,
          2,
          0,
          0,
          2,
          0,
          3,
          0,
          1,
          0,
          0,
          3,
          2,
          0,
          1,
          1,
          3,
          0,
          2,
          2,
          2,
          1,
          2,
          0,
          3,
          0,
          0,
          2,
          1,
          2,
          1,
          2,
          0,
          0,
          1,
          0,
          0,
          0,
          1,
          0,
          0,
          1,
          0,
          0,
          0,
          2,
          1,
          0,
          2,
          0,
          0,
          1,
          0,
          1,
          2,
          0,
          0,
          3,
          2,
          null,
          0,
          0,
          2,
          0,
          3,
          2,
          0,
          2,
          0,
          1,
          1,
          0,
          0,
          3,
          2,
          1,
          0,
          0,
          0,
          2,
          0,
          3,
          1,
          0,
          1,
          1,
          0,
          0,
          0,
          0,
          0,
          0,
          2,
          1,
          1,
          0,
          0,
          1,
          0,
          3,
          0,
          0,
          2,
          1,
          0,
          0,
          2,
          0,
          0,
          3,
          0,
          0,
          1,
          null,
          2,
          2,
          3,
          2,
          0,
          1,
          0,
          2,
          0,
          0,
          1,
          1,
          1,
          0,
          0,
          2,
          0,
          2,
          0,
          0,
          0,
          2,
          null,
          0,
          2,
          3,
          0,
          3,
          0,
          1,
          0,
          1,
          2,
          0,
          0,
          3,
          1,
          2,
          0
         ],
         "y0": " ",
         "yaxis": "y"
        }
       ],
       "layout": {
        "boxmode": "group",
        "legend": {
         "tracegroupgap": 0
        },
        "template": {
         "data": {
          "bar": [
           {
            "error_x": {
             "color": "#2a3f5f"
            },
            "error_y": {
             "color": "#2a3f5f"
            },
            "marker": {
             "line": {
              "color": "#E5ECF6",
              "width": 0.5
             },
             "pattern": {
              "fillmode": "overlay",
              "size": 10,
              "solidity": 0.2
             }
            },
            "type": "bar"
           }
          ],
          "barpolar": [
           {
            "marker": {
             "line": {
              "color": "#E5ECF6",
              "width": 0.5
             },
             "pattern": {
              "fillmode": "overlay",
              "size": 10,
              "solidity": 0.2
             }
            },
            "type": "barpolar"
           }
          ],
          "carpet": [
           {
            "aaxis": {
             "endlinecolor": "#2a3f5f",
             "gridcolor": "white",
             "linecolor": "white",
             "minorgridcolor": "white",
             "startlinecolor": "#2a3f5f"
            },
            "baxis": {
             "endlinecolor": "#2a3f5f",
             "gridcolor": "white",
             "linecolor": "white",
             "minorgridcolor": "white",
             "startlinecolor": "#2a3f5f"
            },
            "type": "carpet"
           }
          ],
          "choropleth": [
           {
            "colorbar": {
             "outlinewidth": 0,
             "ticks": ""
            },
            "type": "choropleth"
           }
          ],
          "contour": [
           {
            "colorbar": {
             "outlinewidth": 0,
             "ticks": ""
            },
            "colorscale": [
             [
              0,
              "#0d0887"
             ],
             [
              0.1111111111111111,
              "#46039f"
             ],
             [
              0.2222222222222222,
              "#7201a8"
             ],
             [
              0.3333333333333333,
              "#9c179e"
             ],
             [
              0.4444444444444444,
              "#bd3786"
             ],
             [
              0.5555555555555556,
              "#d8576b"
             ],
             [
              0.6666666666666666,
              "#ed7953"
             ],
             [
              0.7777777777777778,
              "#fb9f3a"
             ],
             [
              0.8888888888888888,
              "#fdca26"
             ],
             [
              1,
              "#f0f921"
             ]
            ],
            "type": "contour"
           }
          ],
          "contourcarpet": [
           {
            "colorbar": {
             "outlinewidth": 0,
             "ticks": ""
            },
            "type": "contourcarpet"
           }
          ],
          "heatmap": [
           {
            "colorbar": {
             "outlinewidth": 0,
             "ticks": ""
            },
            "colorscale": [
             [
              0,
              "#0d0887"
             ],
             [
              0.1111111111111111,
              "#46039f"
             ],
             [
              0.2222222222222222,
              "#7201a8"
             ],
             [
              0.3333333333333333,
              "#9c179e"
             ],
             [
              0.4444444444444444,
              "#bd3786"
             ],
             [
              0.5555555555555556,
              "#d8576b"
             ],
             [
              0.6666666666666666,
              "#ed7953"
             ],
             [
              0.7777777777777778,
              "#fb9f3a"
             ],
             [
              0.8888888888888888,
              "#fdca26"
             ],
             [
              1,
              "#f0f921"
             ]
            ],
            "type": "heatmap"
           }
          ],
          "heatmapgl": [
           {
            "colorbar": {
             "outlinewidth": 0,
             "ticks": ""
            },
            "colorscale": [
             [
              0,
              "#0d0887"
             ],
             [
              0.1111111111111111,
              "#46039f"
             ],
             [
              0.2222222222222222,
              "#7201a8"
             ],
             [
              0.3333333333333333,
              "#9c179e"
             ],
             [
              0.4444444444444444,
              "#bd3786"
             ],
             [
              0.5555555555555556,
              "#d8576b"
             ],
             [
              0.6666666666666666,
              "#ed7953"
             ],
             [
              0.7777777777777778,
              "#fb9f3a"
             ],
             [
              0.8888888888888888,
              "#fdca26"
             ],
             [
              1,
              "#f0f921"
             ]
            ],
            "type": "heatmapgl"
           }
          ],
          "histogram": [
           {
            "marker": {
             "pattern": {
              "fillmode": "overlay",
              "size": 10,
              "solidity": 0.2
             }
            },
            "type": "histogram"
           }
          ],
          "histogram2d": [
           {
            "colorbar": {
             "outlinewidth": 0,
             "ticks": ""
            },
            "colorscale": [
             [
              0,
              "#0d0887"
             ],
             [
              0.1111111111111111,
              "#46039f"
             ],
             [
              0.2222222222222222,
              "#7201a8"
             ],
             [
              0.3333333333333333,
              "#9c179e"
             ],
             [
              0.4444444444444444,
              "#bd3786"
             ],
             [
              0.5555555555555556,
              "#d8576b"
             ],
             [
              0.6666666666666666,
              "#ed7953"
             ],
             [
              0.7777777777777778,
              "#fb9f3a"
             ],
             [
              0.8888888888888888,
              "#fdca26"
             ],
             [
              1,
              "#f0f921"
             ]
            ],
            "type": "histogram2d"
           }
          ],
          "histogram2dcontour": [
           {
            "colorbar": {
             "outlinewidth": 0,
             "ticks": ""
            },
            "colorscale": [
             [
              0,
              "#0d0887"
             ],
             [
              0.1111111111111111,
              "#46039f"
             ],
             [
              0.2222222222222222,
              "#7201a8"
             ],
             [
              0.3333333333333333,
              "#9c179e"
             ],
             [
              0.4444444444444444,
              "#bd3786"
             ],
             [
              0.5555555555555556,
              "#d8576b"
             ],
             [
              0.6666666666666666,
              "#ed7953"
             ],
             [
              0.7777777777777778,
              "#fb9f3a"
             ],
             [
              0.8888888888888888,
              "#fdca26"
             ],
             [
              1,
              "#f0f921"
             ]
            ],
            "type": "histogram2dcontour"
           }
          ],
          "mesh3d": [
           {
            "colorbar": {
             "outlinewidth": 0,
             "ticks": ""
            },
            "type": "mesh3d"
           }
          ],
          "parcoords": [
           {
            "line": {
             "colorbar": {
              "outlinewidth": 0,
              "ticks": ""
             }
            },
            "type": "parcoords"
           }
          ],
          "pie": [
           {
            "automargin": true,
            "type": "pie"
           }
          ],
          "scatter": [
           {
            "fillpattern": {
             "fillmode": "overlay",
             "size": 10,
             "solidity": 0.2
            },
            "type": "scatter"
           }
          ],
          "scatter3d": [
           {
            "line": {
             "colorbar": {
              "outlinewidth": 0,
              "ticks": ""
             }
            },
            "marker": {
             "colorbar": {
              "outlinewidth": 0,
              "ticks": ""
             }
            },
            "type": "scatter3d"
           }
          ],
          "scattercarpet": [
           {
            "marker": {
             "colorbar": {
              "outlinewidth": 0,
              "ticks": ""
             }
            },
            "type": "scattercarpet"
           }
          ],
          "scattergeo": [
           {
            "marker": {
             "colorbar": {
              "outlinewidth": 0,
              "ticks": ""
             }
            },
            "type": "scattergeo"
           }
          ],
          "scattergl": [
           {
            "marker": {
             "colorbar": {
              "outlinewidth": 0,
              "ticks": ""
             }
            },
            "type": "scattergl"
           }
          ],
          "scattermapbox": [
           {
            "marker": {
             "colorbar": {
              "outlinewidth": 0,
              "ticks": ""
             }
            },
            "type": "scattermapbox"
           }
          ],
          "scatterpolar": [
           {
            "marker": {
             "colorbar": {
              "outlinewidth": 0,
              "ticks": ""
             }
            },
            "type": "scatterpolar"
           }
          ],
          "scatterpolargl": [
           {
            "marker": {
             "colorbar": {
              "outlinewidth": 0,
              "ticks": ""
             }
            },
            "type": "scatterpolargl"
           }
          ],
          "scatterternary": [
           {
            "marker": {
             "colorbar": {
              "outlinewidth": 0,
              "ticks": ""
             }
            },
            "type": "scatterternary"
           }
          ],
          "surface": [
           {
            "colorbar": {
             "outlinewidth": 0,
             "ticks": ""
            },
            "colorscale": [
             [
              0,
              "#0d0887"
             ],
             [
              0.1111111111111111,
              "#46039f"
             ],
             [
              0.2222222222222222,
              "#7201a8"
             ],
             [
              0.3333333333333333,
              "#9c179e"
             ],
             [
              0.4444444444444444,
              "#bd3786"
             ],
             [
              0.5555555555555556,
              "#d8576b"
             ],
             [
              0.6666666666666666,
              "#ed7953"
             ],
             [
              0.7777777777777778,
              "#fb9f3a"
             ],
             [
              0.8888888888888888,
              "#fdca26"
             ],
             [
              1,
              "#f0f921"
             ]
            ],
            "type": "surface"
           }
          ],
          "table": [
           {
            "cells": {
             "fill": {
              "color": "#EBF0F8"
             },
             "line": {
              "color": "white"
             }
            },
            "header": {
             "fill": {
              "color": "#C8D4E3"
             },
             "line": {
              "color": "white"
             }
            },
            "type": "table"
           }
          ]
         },
         "layout": {
          "annotationdefaults": {
           "arrowcolor": "#2a3f5f",
           "arrowhead": 0,
           "arrowwidth": 1
          },
          "autotypenumbers": "strict",
          "coloraxis": {
           "colorbar": {
            "outlinewidth": 0,
            "ticks": ""
           }
          },
          "colorscale": {
           "diverging": [
            [
             0,
             "#8e0152"
            ],
            [
             0.1,
             "#c51b7d"
            ],
            [
             0.2,
             "#de77ae"
            ],
            [
             0.3,
             "#f1b6da"
            ],
            [
             0.4,
             "#fde0ef"
            ],
            [
             0.5,
             "#f7f7f7"
            ],
            [
             0.6,
             "#e6f5d0"
            ],
            [
             0.7,
             "#b8e186"
            ],
            [
             0.8,
             "#7fbc41"
            ],
            [
             0.9,
             "#4d9221"
            ],
            [
             1,
             "#276419"
            ]
           ],
           "sequential": [
            [
             0,
             "#0d0887"
            ],
            [
             0.1111111111111111,
             "#46039f"
            ],
            [
             0.2222222222222222,
             "#7201a8"
            ],
            [
             0.3333333333333333,
             "#9c179e"
            ],
            [
             0.4444444444444444,
             "#bd3786"
            ],
            [
             0.5555555555555556,
             "#d8576b"
            ],
            [
             0.6666666666666666,
             "#ed7953"
            ],
            [
             0.7777777777777778,
             "#fb9f3a"
            ],
            [
             0.8888888888888888,
             "#fdca26"
            ],
            [
             1,
             "#f0f921"
            ]
           ],
           "sequentialminus": [
            [
             0,
             "#0d0887"
            ],
            [
             0.1111111111111111,
             "#46039f"
            ],
            [
             0.2222222222222222,
             "#7201a8"
            ],
            [
             0.3333333333333333,
             "#9c179e"
            ],
            [
             0.4444444444444444,
             "#bd3786"
            ],
            [
             0.5555555555555556,
             "#d8576b"
            ],
            [
             0.6666666666666666,
             "#ed7953"
            ],
            [
             0.7777777777777778,
             "#fb9f3a"
            ],
            [
             0.8888888888888888,
             "#fdca26"
            ],
            [
             1,
             "#f0f921"
            ]
           ]
          },
          "colorway": [
           "#636efa",
           "#EF553B",
           "#00cc96",
           "#ab63fa",
           "#FFA15A",
           "#19d3f3",
           "#FF6692",
           "#B6E880",
           "#FF97FF",
           "#FECB52"
          ],
          "font": {
           "color": "#2a3f5f"
          },
          "geo": {
           "bgcolor": "white",
           "lakecolor": "white",
           "landcolor": "#E5ECF6",
           "showlakes": true,
           "showland": true,
           "subunitcolor": "white"
          },
          "hoverlabel": {
           "align": "left"
          },
          "hovermode": "closest",
          "mapbox": {
           "style": "light"
          },
          "paper_bgcolor": "white",
          "plot_bgcolor": "#E5ECF6",
          "polar": {
           "angularaxis": {
            "gridcolor": "white",
            "linecolor": "white",
            "ticks": ""
           },
           "bgcolor": "#E5ECF6",
           "radialaxis": {
            "gridcolor": "white",
            "linecolor": "white",
            "ticks": ""
           }
          },
          "scene": {
           "xaxis": {
            "backgroundcolor": "#E5ECF6",
            "gridcolor": "white",
            "gridwidth": 2,
            "linecolor": "white",
            "showbackground": true,
            "ticks": "",
            "zerolinecolor": "white"
           },
           "yaxis": {
            "backgroundcolor": "#E5ECF6",
            "gridcolor": "white",
            "gridwidth": 2,
            "linecolor": "white",
            "showbackground": true,
            "ticks": "",
            "zerolinecolor": "white"
           },
           "zaxis": {
            "backgroundcolor": "#E5ECF6",
            "gridcolor": "white",
            "gridwidth": 2,
            "linecolor": "white",
            "showbackground": true,
            "ticks": "",
            "zerolinecolor": "white"
           }
          },
          "shapedefaults": {
           "line": {
            "color": "#2a3f5f"
           }
          },
          "ternary": {
           "aaxis": {
            "gridcolor": "white",
            "linecolor": "white",
            "ticks": ""
           },
           "baxis": {
            "gridcolor": "white",
            "linecolor": "white",
            "ticks": ""
           },
           "bgcolor": "#E5ECF6",
           "caxis": {
            "gridcolor": "white",
            "linecolor": "white",
            "ticks": ""
           }
          },
          "title": {
           "x": 0.05
          },
          "xaxis": {
           "automargin": true,
           "gridcolor": "white",
           "linecolor": "white",
           "ticks": "",
           "title": {
            "standoff": 15
           },
           "zerolinecolor": "white",
           "zerolinewidth": 2
          },
          "yaxis": {
           "automargin": true,
           "gridcolor": "white",
           "linecolor": "white",
           "ticks": "",
           "title": {
            "standoff": 15
           },
           "zerolinecolor": "white",
           "zerolinewidth": 2
          }
         }
        },
        "title": {
         "text": "Outliers in Dependents"
        },
        "xaxis": {
         "anchor": "y",
         "domain": [
          0,
          1
         ],
         "title": {
          "text": "variable"
         }
        },
        "yaxis": {
         "anchor": "x",
         "domain": [
          0,
          1
         ],
         "title": {
          "text": "value"
         }
        }
       }
      },
      "text/html": [
       "<div>                            <div id=\"582230ec-85e0-4e7e-9d43-4a09d923be02\" class=\"plotly-graph-div\" style=\"height:525px; width:100%;\"></div>            <script type=\"text/javascript\">                require([\"plotly\"], function(Plotly) {                    window.PLOTLYENV=window.PLOTLYENV || {};                                    if (document.getElementById(\"582230ec-85e0-4e7e-9d43-4a09d923be02\")) {                    Plotly.newPlot(                        \"582230ec-85e0-4e7e-9d43-4a09d923be02\",                        [{\"alignmentgroup\":\"True\",\"boxpoints\":\"all\",\"hovertemplate\":\"variable=%{x}\\u003cbr\\u003evalue=%{y}\\u003cextra\\u003e\\u003c\\u002fextra\\u003e\",\"legendgroup\":\"\",\"marker\":{\"color\":\"#636efa\"},\"name\":\"\",\"notched\":false,\"offsetgroup\":\"\",\"orientation\":\"v\",\"showlegend\":false,\"x\":[\"Dependents\",\"Dependents\",\"Dependents\",\"Dependents\",\"Dependents\",\"Dependents\",\"Dependents\",\"Dependents\",\"Dependents\",\"Dependents\",\"Dependents\",\"Dependents\",\"Dependents\",\"Dependents\",\"Dependents\",\"Dependents\",\"Dependents\",\"Dependents\",\"Dependents\",\"Dependents\",\"Dependents\",\"Dependents\",\"Dependents\",\"Dependents\",\"Dependents\",\"Dependents\",\"Dependents\",\"Dependents\",\"Dependents\",\"Dependents\",\"Dependents\",\"Dependents\",\"Dependents\",\"Dependents\",\"Dependents\",\"Dependents\",\"Dependents\",\"Dependents\",\"Dependents\",\"Dependents\",\"Dependents\",\"Dependents\",\"Dependents\",\"Dependents\",\"Dependents\",\"Dependents\",\"Dependents\",\"Dependents\",\"Dependents\",\"Dependents\",\"Dependents\",\"Dependents\",\"Dependents\",\"Dependents\",\"Dependents\",\"Dependents\",\"Dependents\",\"Dependents\",\"Dependents\",\"Dependents\",\"Dependents\",\"Dependents\",\"Dependents\",\"Dependents\",\"Dependents\",\"Dependents\",\"Dependents\",\"Dependents\",\"Dependents\",\"Dependents\",\"Dependents\",\"Dependents\",\"Dependents\",\"Dependents\",\"Dependents\",\"Dependents\",\"Dependents\",\"Dependents\",\"Dependents\",\"Dependents\",\"Dependents\",\"Dependents\",\"Dependents\",\"Dependents\",\"Dependents\",\"Dependents\",\"Dependents\",\"Dependents\",\"Dependents\",\"Dependents\",\"Dependents\",\"Dependents\",\"Dependents\",\"Dependents\",\"Dependents\",\"Dependents\",\"Dependents\",\"Dependents\",\"Dependents\",\"Dependents\",\"Dependents\",\"Dependents\",\"Dependents\",\"Dependents\",\"Dependents\",\"Dependents\",\"Dependents\",\"Dependents\",\"Dependents\",\"Dependents\",\"Dependents\",\"Dependents\",\"Dependents\",\"Dependents\",\"Dependents\",\"Dependents\",\"Dependents\",\"Dependents\",\"Dependents\",\"Dependents\",\"Dependents\",\"Dependents\",\"Dependents\",\"Dependents\",\"Dependents\",\"Dependents\",\"Dependents\",\"Dependents\",\"Dependents\",\"Dependents\",\"Dependents\",\"Dependents\",\"Dependents\",\"Dependents\",\"Dependents\",\"Dependents\",\"Dependents\",\"Dependents\",\"Dependents\",\"Dependents\",\"Dependents\",\"Dependents\",\"Dependents\",\"Dependents\",\"Dependents\",\"Dependents\",\"Dependents\",\"Dependents\",\"Dependents\",\"Dependents\",\"Dependents\",\"Dependents\",\"Dependents\",\"Dependents\",\"Dependents\",\"Dependents\",\"Dependents\",\"Dependents\",\"Dependents\",\"Dependents\",\"Dependents\",\"Dependents\",\"Dependents\",\"Dependents\",\"Dependents\",\"Dependents\",\"Dependents\",\"Dependents\",\"Dependents\",\"Dependents\",\"Dependents\",\"Dependents\",\"Dependents\",\"Dependents\",\"Dependents\",\"Dependents\",\"Dependents\",\"Dependents\",\"Dependents\",\"Dependents\",\"Dependents\",\"Dependents\",\"Dependents\",\"Dependents\",\"Dependents\",\"Dependents\",\"Dependents\",\"Dependents\",\"Dependents\",\"Dependents\",\"Dependents\",\"Dependents\",\"Dependents\",\"Dependents\",\"Dependents\",\"Dependents\",\"Dependents\",\"Dependents\",\"Dependents\",\"Dependents\",\"Dependents\",\"Dependents\",\"Dependents\",\"Dependents\",\"Dependents\",\"Dependents\",\"Dependents\",\"Dependents\",\"Dependents\",\"Dependents\",\"Dependents\",\"Dependents\",\"Dependents\",\"Dependents\",\"Dependents\",\"Dependents\",\"Dependents\",\"Dependents\",\"Dependents\",\"Dependents\",\"Dependents\",\"Dependents\",\"Dependents\",\"Dependents\",\"Dependents\",\"Dependents\",\"Dependents\",\"Dependents\",\"Dependents\",\"Dependents\",\"Dependents\",\"Dependents\",\"Dependents\",\"Dependents\",\"Dependents\",\"Dependents\",\"Dependents\",\"Dependents\",\"Dependents\",\"Dependents\",\"Dependents\",\"Dependents\",\"Dependents\",\"Dependents\",\"Dependents\",\"Dependents\",\"Dependents\",\"Dependents\",\"Dependents\",\"Dependents\",\"Dependents\",\"Dependents\",\"Dependents\",\"Dependents\",\"Dependents\",\"Dependents\",\"Dependents\",\"Dependents\",\"Dependents\",\"Dependents\",\"Dependents\",\"Dependents\",\"Dependents\",\"Dependents\",\"Dependents\",\"Dependents\",\"Dependents\",\"Dependents\",\"Dependents\",\"Dependents\",\"Dependents\",\"Dependents\",\"Dependents\",\"Dependents\",\"Dependents\",\"Dependents\",\"Dependents\",\"Dependents\",\"Dependents\",\"Dependents\",\"Dependents\",\"Dependents\",\"Dependents\",\"Dependents\",\"Dependents\",\"Dependents\",\"Dependents\",\"Dependents\",\"Dependents\",\"Dependents\",\"Dependents\",\"Dependents\",\"Dependents\",\"Dependents\",\"Dependents\",\"Dependents\",\"Dependents\",\"Dependents\",\"Dependents\",\"Dependents\",\"Dependents\",\"Dependents\",\"Dependents\",\"Dependents\",\"Dependents\",\"Dependents\",\"Dependents\",\"Dependents\",\"Dependents\",\"Dependents\",\"Dependents\",\"Dependents\",\"Dependents\",\"Dependents\",\"Dependents\",\"Dependents\",\"Dependents\",\"Dependents\",\"Dependents\",\"Dependents\",\"Dependents\",\"Dependents\",\"Dependents\",\"Dependents\",\"Dependents\",\"Dependents\",\"Dependents\",\"Dependents\",\"Dependents\",\"Dependents\",\"Dependents\",\"Dependents\",\"Dependents\",\"Dependents\",\"Dependents\",\"Dependents\",\"Dependents\",\"Dependents\",\"Dependents\",\"Dependents\",\"Dependents\",\"Dependents\",\"Dependents\",\"Dependents\",\"Dependents\",\"Dependents\",\"Dependents\",\"Dependents\",\"Dependents\",\"Dependents\",\"Dependents\",\"Dependents\",\"Dependents\",\"Dependents\",\"Dependents\",\"Dependents\",\"Dependents\",\"Dependents\",\"Dependents\",\"Dependents\",\"Dependents\",\"Dependents\",\"Dependents\",\"Dependents\",\"Dependents\",\"Dependents\",\"Dependents\",\"Dependents\",\"Dependents\",\"Dependents\",\"Dependents\",\"Dependents\",\"Dependents\",\"Dependents\",\"Dependents\",\"Dependents\",\"Dependents\",\"Dependents\",\"Dependents\",\"Dependents\",\"Dependents\",\"Dependents\",\"Dependents\",\"Dependents\",\"Dependents\",\"Dependents\",\"Dependents\",\"Dependents\",\"Dependents\",\"Dependents\",\"Dependents\",\"Dependents\",\"Dependents\",\"Dependents\",\"Dependents\",\"Dependents\",\"Dependents\",\"Dependents\",\"Dependents\",\"Dependents\",\"Dependents\",\"Dependents\",\"Dependents\",\"Dependents\",\"Dependents\",\"Dependents\",\"Dependents\",\"Dependents\",\"Dependents\",\"Dependents\",\"Dependents\",\"Dependents\",\"Dependents\",\"Dependents\",\"Dependents\",\"Dependents\",\"Dependents\",\"Dependents\",\"Dependents\",\"Dependents\",\"Dependents\",\"Dependents\",\"Dependents\",\"Dependents\",\"Dependents\",\"Dependents\",\"Dependents\",\"Dependents\",\"Dependents\",\"Dependents\",\"Dependents\",\"Dependents\",\"Dependents\",\"Dependents\",\"Dependents\",\"Dependents\",\"Dependents\",\"Dependents\",\"Dependents\",\"Dependents\",\"Dependents\",\"Dependents\",\"Dependents\",\"Dependents\",\"Dependents\",\"Dependents\",\"Dependents\",\"Dependents\",\"Dependents\",\"Dependents\",\"Dependents\",\"Dependents\",\"Dependents\",\"Dependents\",\"Dependents\",\"Dependents\",\"Dependents\",\"Dependents\",\"Dependents\",\"Dependents\",\"Dependents\",\"Dependents\",\"Dependents\",\"Dependents\",\"Dependents\",\"Dependents\",\"Dependents\",\"Dependents\",\"Dependents\",\"Dependents\",\"Dependents\",\"Dependents\",\"Dependents\",\"Dependents\",\"Dependents\",\"Dependents\",\"Dependents\",\"Dependents\",\"Dependents\",\"Dependents\",\"Dependents\",\"Dependents\",\"Dependents\",\"Dependents\",\"Dependents\",\"Dependents\",\"Dependents\",\"Dependents\",\"Dependents\",\"Dependents\",\"Dependents\",\"Dependents\",\"Dependents\",\"Dependents\",\"Dependents\",\"Dependents\",\"Dependents\",\"Dependents\",\"Dependents\",\"Dependents\",\"Dependents\",\"Dependents\",\"Dependents\",\"Dependents\",\"Dependents\",\"Dependents\",\"Dependents\",\"Dependents\",\"Dependents\",\"Dependents\",\"Dependents\",\"Dependents\",\"Dependents\",\"Dependents\",\"Dependents\",\"Dependents\",\"Dependents\",\"Dependents\",\"Dependents\",\"Dependents\",\"Dependents\",\"Dependents\",\"Dependents\",\"Dependents\",\"Dependents\",\"Dependents\",\"Dependents\",\"Dependents\",\"Dependents\",\"Dependents\",\"Dependents\",\"Dependents\",\"Dependents\",\"Dependents\",\"Dependents\",\"Dependents\",\"Dependents\",\"Dependents\",\"Dependents\",\"Dependents\",\"Dependents\",\"Dependents\",\"Dependents\",\"Dependents\",\"Dependents\",\"Dependents\",\"Dependents\",\"Dependents\",\"Dependents\",\"Dependents\",\"Dependents\",\"Dependents\",\"Dependents\",\"Dependents\",\"Dependents\",\"Dependents\",\"Dependents\",\"Dependents\",\"Dependents\",\"Dependents\",\"Dependents\",\"Dependents\",\"Dependents\",\"Dependents\",\"Dependents\",\"Dependents\",\"Dependents\",\"Dependents\",\"Dependents\",\"Dependents\",\"Dependents\",\"Dependents\",\"Dependents\",\"Dependents\",\"Dependents\",\"Dependents\",\"Dependents\",\"Dependents\",\"Dependents\",\"Dependents\",\"Dependents\",\"Dependents\",\"Dependents\",\"Dependents\",\"Dependents\",\"Dependents\",\"Dependents\",\"Dependents\",\"Dependents\",\"Dependents\",\"Dependents\",\"Dependents\",\"Dependents\",\"Dependents\",\"Dependents\",\"Dependents\",\"Dependents\",\"Dependents\"],\"x0\":\" \",\"xaxis\":\"x\",\"y\":[0.0,1.0,0.0,0.0,0.0,2.0,0.0,3.0,2.0,1.0,2.0,2.0,2.0,0.0,2.0,0.0,1.0,0.0,0.0,0.0,0.0,1.0,0.0,1.0,0.0,0.0,2.0,0.0,2.0,1.0,0.0,1.0,0.0,3.0,0.0,0.0,0.0,0.0,0.0,0.0,0.0,0.0,0.0,0.0,0.0,1.0,0.0,0.0,0.0,0.0,0.0,0.0,2.0,1.0,2.0,0.0,0.0,1.0,2.0,0.0,3.0,0.0,1.0,0.0,0.0,0.0,1.0,3.0,0.0,0.0,2.0,0.0,3.0,3.0,0.0,0.0,1.0,3.0,3.0,0.0,1.0,2.0,0.0,1.0,0.0,2.0,0.0,0.0,0.0,0.0,2.0,2.0,0.0,0.0,0.0,0.0,0.0,0.0,0.0,2.0,0.0,null,0.0,1.0,2.0,0.0,2.0,3.0,0.0,0.0,0.0,1.0,0.0,1.0,0.0,1.0,0.0,0.0,null,0.0,0.0,2.0,0.0,0.0,0.0,1.0,0.0,0.0,0.0,0.0,0.0,0.0,3.0,0.0,2.0,0.0,2.0,2.0,0.0,0.0,0.0,2.0,0.0,2.0,1.0,0.0,0.0,0.0,0.0,0.0,2.0,0.0,3.0,1.0,1.0,0.0,0.0,0.0,0.0,1.0,2.0,0.0,0.0,0.0,0.0,0.0,2.0,0.0,3.0,0.0,0.0,0.0,2.0,3.0,1.0,0.0,1.0,0.0,0.0,1.0,0.0,0.0,1.0,0.0,0.0,0.0,0.0,0.0,0.0,0.0,1.0,0.0,0.0,0.0,0.0,1.0,2.0,3.0,1.0,2.0,0.0,0.0,0.0,0.0,0.0,0.0,3.0,1.0,3.0,0.0,3.0,0.0,0.0,2.0,2.0,0.0,2.0,0.0,0.0,0.0,0.0,null,2.0,0.0,1.0,0.0,0.0,0.0,1.0,1.0,0.0,0.0,1.0,1.0,2.0,1.0,0.0,2.0,0.0,0.0,2.0,1.0,1.0,0.0,0.0,2.0,0.0,1.0,0.0,3.0,0.0,3.0,0.0,3.0,1.0,0.0,1.0,0.0,0.0,0.0,2.0,3.0,0.0,1.0,0.0,0.0,0.0,0.0,2.0,1.0,0.0,0.0,0.0,0.0,1.0,0.0,2.0,0.0,0.0,0.0,0.0,0.0,0.0,0.0,0.0,2.0,2.0,null,0.0,3.0,1.0,1.0,0.0,1.0,0.0,null,0.0,1.0,0.0,0.0,0.0,0.0,0.0,2.0,0.0,0.0,0.0,2.0,1.0,2.0,0.0,1.0,1.0,0.0,3.0,2.0,0.0,3.0,1.0,0.0,0.0,0.0,0.0,1.0,0.0,null,0.0,null,1.0,2.0,3.0,0.0,3.0,0.0,1.0,3.0,2.0,0.0,null,2.0,0.0,0.0,0.0,0.0,3.0,0.0,0.0,null,2.0,1.0,0.0,3.0,1.0,2.0,0.0,0.0,0.0,0.0,0.0,0.0,1.0,0.0,0.0,2.0,2.0,1.0,0.0,0.0,3.0,0.0,0.0,2.0,0.0,0.0,0.0,0.0,2.0,1.0,0.0,0.0,0.0,0.0,3.0,3.0,0.0,2.0,2.0,2.0,0.0,0.0,0.0,0.0,2.0,0.0,0.0,0.0,0.0,0.0,0.0,0.0,1.0,3.0,1.0,0.0,0.0,0.0,0.0,0.0,1.0,2.0,0.0,0.0,0.0,0.0,0.0,1.0,0.0,0.0,1.0,2.0,0.0,0.0,1.0,0.0,0.0,0.0,0.0,0.0,0.0,0.0,0.0,0.0,0.0,3.0,1.0,0.0,1.0,2.0,0.0,2.0,1.0,2.0,2.0,0.0,0.0,0.0,2.0,0.0,0.0,2.0,0.0,3.0,0.0,1.0,0.0,0.0,3.0,2.0,0.0,1.0,1.0,3.0,0.0,2.0,2.0,2.0,1.0,2.0,0.0,3.0,0.0,0.0,2.0,1.0,2.0,1.0,2.0,0.0,0.0,1.0,0.0,0.0,0.0,1.0,0.0,0.0,1.0,0.0,0.0,0.0,2.0,1.0,0.0,2.0,0.0,0.0,1.0,0.0,1.0,2.0,0.0,0.0,3.0,2.0,null,0.0,0.0,2.0,0.0,3.0,2.0,0.0,2.0,0.0,1.0,1.0,0.0,0.0,3.0,2.0,1.0,0.0,0.0,0.0,2.0,0.0,3.0,1.0,0.0,1.0,1.0,0.0,0.0,0.0,0.0,0.0,0.0,2.0,1.0,1.0,0.0,0.0,1.0,0.0,3.0,0.0,0.0,2.0,1.0,0.0,0.0,2.0,0.0,0.0,3.0,0.0,0.0,1.0,null,2.0,2.0,3.0,2.0,0.0,1.0,0.0,2.0,0.0,0.0,1.0,1.0,1.0,0.0,0.0,2.0,0.0,2.0,0.0,0.0,0.0,2.0,null,0.0,2.0,3.0,0.0,3.0,0.0,1.0,0.0,1.0,2.0,0.0,0.0,3.0,1.0,2.0,0.0],\"y0\":\" \",\"yaxis\":\"y\",\"type\":\"box\"}],                        {\"template\":{\"data\":{\"histogram2dcontour\":[{\"type\":\"histogram2dcontour\",\"colorbar\":{\"outlinewidth\":0,\"ticks\":\"\"},\"colorscale\":[[0.0,\"#0d0887\"],[0.1111111111111111,\"#46039f\"],[0.2222222222222222,\"#7201a8\"],[0.3333333333333333,\"#9c179e\"],[0.4444444444444444,\"#bd3786\"],[0.5555555555555556,\"#d8576b\"],[0.6666666666666666,\"#ed7953\"],[0.7777777777777778,\"#fb9f3a\"],[0.8888888888888888,\"#fdca26\"],[1.0,\"#f0f921\"]]}],\"choropleth\":[{\"type\":\"choropleth\",\"colorbar\":{\"outlinewidth\":0,\"ticks\":\"\"}}],\"histogram2d\":[{\"type\":\"histogram2d\",\"colorbar\":{\"outlinewidth\":0,\"ticks\":\"\"},\"colorscale\":[[0.0,\"#0d0887\"],[0.1111111111111111,\"#46039f\"],[0.2222222222222222,\"#7201a8\"],[0.3333333333333333,\"#9c179e\"],[0.4444444444444444,\"#bd3786\"],[0.5555555555555556,\"#d8576b\"],[0.6666666666666666,\"#ed7953\"],[0.7777777777777778,\"#fb9f3a\"],[0.8888888888888888,\"#fdca26\"],[1.0,\"#f0f921\"]]}],\"heatmap\":[{\"type\":\"heatmap\",\"colorbar\":{\"outlinewidth\":0,\"ticks\":\"\"},\"colorscale\":[[0.0,\"#0d0887\"],[0.1111111111111111,\"#46039f\"],[0.2222222222222222,\"#7201a8\"],[0.3333333333333333,\"#9c179e\"],[0.4444444444444444,\"#bd3786\"],[0.5555555555555556,\"#d8576b\"],[0.6666666666666666,\"#ed7953\"],[0.7777777777777778,\"#fb9f3a\"],[0.8888888888888888,\"#fdca26\"],[1.0,\"#f0f921\"]]}],\"heatmapgl\":[{\"type\":\"heatmapgl\",\"colorbar\":{\"outlinewidth\":0,\"ticks\":\"\"},\"colorscale\":[[0.0,\"#0d0887\"],[0.1111111111111111,\"#46039f\"],[0.2222222222222222,\"#7201a8\"],[0.3333333333333333,\"#9c179e\"],[0.4444444444444444,\"#bd3786\"],[0.5555555555555556,\"#d8576b\"],[0.6666666666666666,\"#ed7953\"],[0.7777777777777778,\"#fb9f3a\"],[0.8888888888888888,\"#fdca26\"],[1.0,\"#f0f921\"]]}],\"contourcarpet\":[{\"type\":\"contourcarpet\",\"colorbar\":{\"outlinewidth\":0,\"ticks\":\"\"}}],\"contour\":[{\"type\":\"contour\",\"colorbar\":{\"outlinewidth\":0,\"ticks\":\"\"},\"colorscale\":[[0.0,\"#0d0887\"],[0.1111111111111111,\"#46039f\"],[0.2222222222222222,\"#7201a8\"],[0.3333333333333333,\"#9c179e\"],[0.4444444444444444,\"#bd3786\"],[0.5555555555555556,\"#d8576b\"],[0.6666666666666666,\"#ed7953\"],[0.7777777777777778,\"#fb9f3a\"],[0.8888888888888888,\"#fdca26\"],[1.0,\"#f0f921\"]]}],\"surface\":[{\"type\":\"surface\",\"colorbar\":{\"outlinewidth\":0,\"ticks\":\"\"},\"colorscale\":[[0.0,\"#0d0887\"],[0.1111111111111111,\"#46039f\"],[0.2222222222222222,\"#7201a8\"],[0.3333333333333333,\"#9c179e\"],[0.4444444444444444,\"#bd3786\"],[0.5555555555555556,\"#d8576b\"],[0.6666666666666666,\"#ed7953\"],[0.7777777777777778,\"#fb9f3a\"],[0.8888888888888888,\"#fdca26\"],[1.0,\"#f0f921\"]]}],\"mesh3d\":[{\"type\":\"mesh3d\",\"colorbar\":{\"outlinewidth\":0,\"ticks\":\"\"}}],\"scatter\":[{\"fillpattern\":{\"fillmode\":\"overlay\",\"size\":10,\"solidity\":0.2},\"type\":\"scatter\"}],\"parcoords\":[{\"type\":\"parcoords\",\"line\":{\"colorbar\":{\"outlinewidth\":0,\"ticks\":\"\"}}}],\"scatterpolargl\":[{\"type\":\"scatterpolargl\",\"marker\":{\"colorbar\":{\"outlinewidth\":0,\"ticks\":\"\"}}}],\"bar\":[{\"error_x\":{\"color\":\"#2a3f5f\"},\"error_y\":{\"color\":\"#2a3f5f\"},\"marker\":{\"line\":{\"color\":\"#E5ECF6\",\"width\":0.5},\"pattern\":{\"fillmode\":\"overlay\",\"size\":10,\"solidity\":0.2}},\"type\":\"bar\"}],\"scattergeo\":[{\"type\":\"scattergeo\",\"marker\":{\"colorbar\":{\"outlinewidth\":0,\"ticks\":\"\"}}}],\"scatterpolar\":[{\"type\":\"scatterpolar\",\"marker\":{\"colorbar\":{\"outlinewidth\":0,\"ticks\":\"\"}}}],\"histogram\":[{\"marker\":{\"pattern\":{\"fillmode\":\"overlay\",\"size\":10,\"solidity\":0.2}},\"type\":\"histogram\"}],\"scattergl\":[{\"type\":\"scattergl\",\"marker\":{\"colorbar\":{\"outlinewidth\":0,\"ticks\":\"\"}}}],\"scatter3d\":[{\"type\":\"scatter3d\",\"line\":{\"colorbar\":{\"outlinewidth\":0,\"ticks\":\"\"}},\"marker\":{\"colorbar\":{\"outlinewidth\":0,\"ticks\":\"\"}}}],\"scattermapbox\":[{\"type\":\"scattermapbox\",\"marker\":{\"colorbar\":{\"outlinewidth\":0,\"ticks\":\"\"}}}],\"scatterternary\":[{\"type\":\"scatterternary\",\"marker\":{\"colorbar\":{\"outlinewidth\":0,\"ticks\":\"\"}}}],\"scattercarpet\":[{\"type\":\"scattercarpet\",\"marker\":{\"colorbar\":{\"outlinewidth\":0,\"ticks\":\"\"}}}],\"carpet\":[{\"aaxis\":{\"endlinecolor\":\"#2a3f5f\",\"gridcolor\":\"white\",\"linecolor\":\"white\",\"minorgridcolor\":\"white\",\"startlinecolor\":\"#2a3f5f\"},\"baxis\":{\"endlinecolor\":\"#2a3f5f\",\"gridcolor\":\"white\",\"linecolor\":\"white\",\"minorgridcolor\":\"white\",\"startlinecolor\":\"#2a3f5f\"},\"type\":\"carpet\"}],\"table\":[{\"cells\":{\"fill\":{\"color\":\"#EBF0F8\"},\"line\":{\"color\":\"white\"}},\"header\":{\"fill\":{\"color\":\"#C8D4E3\"},\"line\":{\"color\":\"white\"}},\"type\":\"table\"}],\"barpolar\":[{\"marker\":{\"line\":{\"color\":\"#E5ECF6\",\"width\":0.5},\"pattern\":{\"fillmode\":\"overlay\",\"size\":10,\"solidity\":0.2}},\"type\":\"barpolar\"}],\"pie\":[{\"automargin\":true,\"type\":\"pie\"}]},\"layout\":{\"autotypenumbers\":\"strict\",\"colorway\":[\"#636efa\",\"#EF553B\",\"#00cc96\",\"#ab63fa\",\"#FFA15A\",\"#19d3f3\",\"#FF6692\",\"#B6E880\",\"#FF97FF\",\"#FECB52\"],\"font\":{\"color\":\"#2a3f5f\"},\"hovermode\":\"closest\",\"hoverlabel\":{\"align\":\"left\"},\"paper_bgcolor\":\"white\",\"plot_bgcolor\":\"#E5ECF6\",\"polar\":{\"bgcolor\":\"#E5ECF6\",\"angularaxis\":{\"gridcolor\":\"white\",\"linecolor\":\"white\",\"ticks\":\"\"},\"radialaxis\":{\"gridcolor\":\"white\",\"linecolor\":\"white\",\"ticks\":\"\"}},\"ternary\":{\"bgcolor\":\"#E5ECF6\",\"aaxis\":{\"gridcolor\":\"white\",\"linecolor\":\"white\",\"ticks\":\"\"},\"baxis\":{\"gridcolor\":\"white\",\"linecolor\":\"white\",\"ticks\":\"\"},\"caxis\":{\"gridcolor\":\"white\",\"linecolor\":\"white\",\"ticks\":\"\"}},\"coloraxis\":{\"colorbar\":{\"outlinewidth\":0,\"ticks\":\"\"}},\"colorscale\":{\"sequential\":[[0.0,\"#0d0887\"],[0.1111111111111111,\"#46039f\"],[0.2222222222222222,\"#7201a8\"],[0.3333333333333333,\"#9c179e\"],[0.4444444444444444,\"#bd3786\"],[0.5555555555555556,\"#d8576b\"],[0.6666666666666666,\"#ed7953\"],[0.7777777777777778,\"#fb9f3a\"],[0.8888888888888888,\"#fdca26\"],[1.0,\"#f0f921\"]],\"sequentialminus\":[[0.0,\"#0d0887\"],[0.1111111111111111,\"#46039f\"],[0.2222222222222222,\"#7201a8\"],[0.3333333333333333,\"#9c179e\"],[0.4444444444444444,\"#bd3786\"],[0.5555555555555556,\"#d8576b\"],[0.6666666666666666,\"#ed7953\"],[0.7777777777777778,\"#fb9f3a\"],[0.8888888888888888,\"#fdca26\"],[1.0,\"#f0f921\"]],\"diverging\":[[0,\"#8e0152\"],[0.1,\"#c51b7d\"],[0.2,\"#de77ae\"],[0.3,\"#f1b6da\"],[0.4,\"#fde0ef\"],[0.5,\"#f7f7f7\"],[0.6,\"#e6f5d0\"],[0.7,\"#b8e186\"],[0.8,\"#7fbc41\"],[0.9,\"#4d9221\"],[1,\"#276419\"]]},\"xaxis\":{\"gridcolor\":\"white\",\"linecolor\":\"white\",\"ticks\":\"\",\"title\":{\"standoff\":15},\"zerolinecolor\":\"white\",\"automargin\":true,\"zerolinewidth\":2},\"yaxis\":{\"gridcolor\":\"white\",\"linecolor\":\"white\",\"ticks\":\"\",\"title\":{\"standoff\":15},\"zerolinecolor\":\"white\",\"automargin\":true,\"zerolinewidth\":2},\"scene\":{\"xaxis\":{\"backgroundcolor\":\"#E5ECF6\",\"gridcolor\":\"white\",\"linecolor\":\"white\",\"showbackground\":true,\"ticks\":\"\",\"zerolinecolor\":\"white\",\"gridwidth\":2},\"yaxis\":{\"backgroundcolor\":\"#E5ECF6\",\"gridcolor\":\"white\",\"linecolor\":\"white\",\"showbackground\":true,\"ticks\":\"\",\"zerolinecolor\":\"white\",\"gridwidth\":2},\"zaxis\":{\"backgroundcolor\":\"#E5ECF6\",\"gridcolor\":\"white\",\"linecolor\":\"white\",\"showbackground\":true,\"ticks\":\"\",\"zerolinecolor\":\"white\",\"gridwidth\":2}},\"shapedefaults\":{\"line\":{\"color\":\"#2a3f5f\"}},\"annotationdefaults\":{\"arrowcolor\":\"#2a3f5f\",\"arrowhead\":0,\"arrowwidth\":1},\"geo\":{\"bgcolor\":\"white\",\"landcolor\":\"#E5ECF6\",\"subunitcolor\":\"white\",\"showland\":true,\"showlakes\":true,\"lakecolor\":\"white\"},\"title\":{\"x\":0.05},\"mapbox\":{\"style\":\"light\"}}},\"xaxis\":{\"anchor\":\"y\",\"domain\":[0.0,1.0],\"title\":{\"text\":\"variable\"}},\"yaxis\":{\"anchor\":\"x\",\"domain\":[0.0,1.0],\"title\":{\"text\":\"value\"}},\"legend\":{\"tracegroupgap\":0},\"title\":{\"text\":\"Outliers in Dependents\"},\"boxmode\":\"group\"},                        {\"responsive\": true}                    ).then(function(){\n",
       "                            \n",
       "var gd = document.getElementById('582230ec-85e0-4e7e-9d43-4a09d923be02');\n",
       "var x = new MutationObserver(function (mutations, observer) {{\n",
       "        var display = window.getComputedStyle(gd).display;\n",
       "        if (!display || display === 'none') {{\n",
       "            console.log([gd, 'removed!']);\n",
       "            Plotly.purge(gd);\n",
       "            observer.disconnect();\n",
       "        }}\n",
       "}});\n",
       "\n",
       "// Listen for the removal of the full notebook cells\n",
       "var notebookContainer = gd.closest('#notebook-container');\n",
       "if (notebookContainer) {{\n",
       "    x.observe(notebookContainer, {childList: true});\n",
       "}}\n",
       "\n",
       "// Listen for the clearing of the current output cell\n",
       "var outputEl = gd.closest('.output');\n",
       "if (outputEl) {{\n",
       "    x.observe(outputEl, {childList: true});\n",
       "}}\n",
       "\n",
       "                        })                };                });            </script>        </div>"
      ]
     },
     "metadata": {},
     "output_type": "display_data"
    },
    {
     "data": {
      "application/vnd.plotly.v1+json": {
       "config": {
        "plotlyServerURL": "https://plot.ly"
       },
       "data": [
        {
         "alignmentgroup": "True",
         "boxpoints": "all",
         "hovertemplate": "variable=%{x}<br>value=%{y}<extra></extra>",
         "legendgroup": "",
         "marker": {
          "color": "#636efa"
         },
         "name": "",
         "notched": false,
         "offsetgroup": "",
         "orientation": "v",
         "showlegend": false,
         "type": "box",
         "x": [
          "ApplicantIncome",
          "ApplicantIncome",
          "ApplicantIncome",
          "ApplicantIncome",
          "ApplicantIncome",
          "ApplicantIncome",
          "ApplicantIncome",
          "ApplicantIncome",
          "ApplicantIncome",
          "ApplicantIncome",
          "ApplicantIncome",
          "ApplicantIncome",
          "ApplicantIncome",
          "ApplicantIncome",
          "ApplicantIncome",
          "ApplicantIncome",
          "ApplicantIncome",
          "ApplicantIncome",
          "ApplicantIncome",
          "ApplicantIncome",
          "ApplicantIncome",
          "ApplicantIncome",
          "ApplicantIncome",
          "ApplicantIncome",
          "ApplicantIncome",
          "ApplicantIncome",
          "ApplicantIncome",
          "ApplicantIncome",
          "ApplicantIncome",
          "ApplicantIncome",
          "ApplicantIncome",
          "ApplicantIncome",
          "ApplicantIncome",
          "ApplicantIncome",
          "ApplicantIncome",
          "ApplicantIncome",
          "ApplicantIncome",
          "ApplicantIncome",
          "ApplicantIncome",
          "ApplicantIncome",
          "ApplicantIncome",
          "ApplicantIncome",
          "ApplicantIncome",
          "ApplicantIncome",
          "ApplicantIncome",
          "ApplicantIncome",
          "ApplicantIncome",
          "ApplicantIncome",
          "ApplicantIncome",
          "ApplicantIncome",
          "ApplicantIncome",
          "ApplicantIncome",
          "ApplicantIncome",
          "ApplicantIncome",
          "ApplicantIncome",
          "ApplicantIncome",
          "ApplicantIncome",
          "ApplicantIncome",
          "ApplicantIncome",
          "ApplicantIncome",
          "ApplicantIncome",
          "ApplicantIncome",
          "ApplicantIncome",
          "ApplicantIncome",
          "ApplicantIncome",
          "ApplicantIncome",
          "ApplicantIncome",
          "ApplicantIncome",
          "ApplicantIncome",
          "ApplicantIncome",
          "ApplicantIncome",
          "ApplicantIncome",
          "ApplicantIncome",
          "ApplicantIncome",
          "ApplicantIncome",
          "ApplicantIncome",
          "ApplicantIncome",
          "ApplicantIncome",
          "ApplicantIncome",
          "ApplicantIncome",
          "ApplicantIncome",
          "ApplicantIncome",
          "ApplicantIncome",
          "ApplicantIncome",
          "ApplicantIncome",
          "ApplicantIncome",
          "ApplicantIncome",
          "ApplicantIncome",
          "ApplicantIncome",
          "ApplicantIncome",
          "ApplicantIncome",
          "ApplicantIncome",
          "ApplicantIncome",
          "ApplicantIncome",
          "ApplicantIncome",
          "ApplicantIncome",
          "ApplicantIncome",
          "ApplicantIncome",
          "ApplicantIncome",
          "ApplicantIncome",
          "ApplicantIncome",
          "ApplicantIncome",
          "ApplicantIncome",
          "ApplicantIncome",
          "ApplicantIncome",
          "ApplicantIncome",
          "ApplicantIncome",
          "ApplicantIncome",
          "ApplicantIncome",
          "ApplicantIncome",
          "ApplicantIncome",
          "ApplicantIncome",
          "ApplicantIncome",
          "ApplicantIncome",
          "ApplicantIncome",
          "ApplicantIncome",
          "ApplicantIncome",
          "ApplicantIncome",
          "ApplicantIncome",
          "ApplicantIncome",
          "ApplicantIncome",
          "ApplicantIncome",
          "ApplicantIncome",
          "ApplicantIncome",
          "ApplicantIncome",
          "ApplicantIncome",
          "ApplicantIncome",
          "ApplicantIncome",
          "ApplicantIncome",
          "ApplicantIncome",
          "ApplicantIncome",
          "ApplicantIncome",
          "ApplicantIncome",
          "ApplicantIncome",
          "ApplicantIncome",
          "ApplicantIncome",
          "ApplicantIncome",
          "ApplicantIncome",
          "ApplicantIncome",
          "ApplicantIncome",
          "ApplicantIncome",
          "ApplicantIncome",
          "ApplicantIncome",
          "ApplicantIncome",
          "ApplicantIncome",
          "ApplicantIncome",
          "ApplicantIncome",
          "ApplicantIncome",
          "ApplicantIncome",
          "ApplicantIncome",
          "ApplicantIncome",
          "ApplicantIncome",
          "ApplicantIncome",
          "ApplicantIncome",
          "ApplicantIncome",
          "ApplicantIncome",
          "ApplicantIncome",
          "ApplicantIncome",
          "ApplicantIncome",
          "ApplicantIncome",
          "ApplicantIncome",
          "ApplicantIncome",
          "ApplicantIncome",
          "ApplicantIncome",
          "ApplicantIncome",
          "ApplicantIncome",
          "ApplicantIncome",
          "ApplicantIncome",
          "ApplicantIncome",
          "ApplicantIncome",
          "ApplicantIncome",
          "ApplicantIncome",
          "ApplicantIncome",
          "ApplicantIncome",
          "ApplicantIncome",
          "ApplicantIncome",
          "ApplicantIncome",
          "ApplicantIncome",
          "ApplicantIncome",
          "ApplicantIncome",
          "ApplicantIncome",
          "ApplicantIncome",
          "ApplicantIncome",
          "ApplicantIncome",
          "ApplicantIncome",
          "ApplicantIncome",
          "ApplicantIncome",
          "ApplicantIncome",
          "ApplicantIncome",
          "ApplicantIncome",
          "ApplicantIncome",
          "ApplicantIncome",
          "ApplicantIncome",
          "ApplicantIncome",
          "ApplicantIncome",
          "ApplicantIncome",
          "ApplicantIncome",
          "ApplicantIncome",
          "ApplicantIncome",
          "ApplicantIncome",
          "ApplicantIncome",
          "ApplicantIncome",
          "ApplicantIncome",
          "ApplicantIncome",
          "ApplicantIncome",
          "ApplicantIncome",
          "ApplicantIncome",
          "ApplicantIncome",
          "ApplicantIncome",
          "ApplicantIncome",
          "ApplicantIncome",
          "ApplicantIncome",
          "ApplicantIncome",
          "ApplicantIncome",
          "ApplicantIncome",
          "ApplicantIncome",
          "ApplicantIncome",
          "ApplicantIncome",
          "ApplicantIncome",
          "ApplicantIncome",
          "ApplicantIncome",
          "ApplicantIncome",
          "ApplicantIncome",
          "ApplicantIncome",
          "ApplicantIncome",
          "ApplicantIncome",
          "ApplicantIncome",
          "ApplicantIncome",
          "ApplicantIncome",
          "ApplicantIncome",
          "ApplicantIncome",
          "ApplicantIncome",
          "ApplicantIncome",
          "ApplicantIncome",
          "ApplicantIncome",
          "ApplicantIncome",
          "ApplicantIncome",
          "ApplicantIncome",
          "ApplicantIncome",
          "ApplicantIncome",
          "ApplicantIncome",
          "ApplicantIncome",
          "ApplicantIncome",
          "ApplicantIncome",
          "ApplicantIncome",
          "ApplicantIncome",
          "ApplicantIncome",
          "ApplicantIncome",
          "ApplicantIncome",
          "ApplicantIncome",
          "ApplicantIncome",
          "ApplicantIncome",
          "ApplicantIncome",
          "ApplicantIncome",
          "ApplicantIncome",
          "ApplicantIncome",
          "ApplicantIncome",
          "ApplicantIncome",
          "ApplicantIncome",
          "ApplicantIncome",
          "ApplicantIncome",
          "ApplicantIncome",
          "ApplicantIncome",
          "ApplicantIncome",
          "ApplicantIncome",
          "ApplicantIncome",
          "ApplicantIncome",
          "ApplicantIncome",
          "ApplicantIncome",
          "ApplicantIncome",
          "ApplicantIncome",
          "ApplicantIncome",
          "ApplicantIncome",
          "ApplicantIncome",
          "ApplicantIncome",
          "ApplicantIncome",
          "ApplicantIncome",
          "ApplicantIncome",
          "ApplicantIncome",
          "ApplicantIncome",
          "ApplicantIncome",
          "ApplicantIncome",
          "ApplicantIncome",
          "ApplicantIncome",
          "ApplicantIncome",
          "ApplicantIncome",
          "ApplicantIncome",
          "ApplicantIncome",
          "ApplicantIncome",
          "ApplicantIncome",
          "ApplicantIncome",
          "ApplicantIncome",
          "ApplicantIncome",
          "ApplicantIncome",
          "ApplicantIncome",
          "ApplicantIncome",
          "ApplicantIncome",
          "ApplicantIncome",
          "ApplicantIncome",
          "ApplicantIncome",
          "ApplicantIncome",
          "ApplicantIncome",
          "ApplicantIncome",
          "ApplicantIncome",
          "ApplicantIncome",
          "ApplicantIncome",
          "ApplicantIncome",
          "ApplicantIncome",
          "ApplicantIncome",
          "ApplicantIncome",
          "ApplicantIncome",
          "ApplicantIncome",
          "ApplicantIncome",
          "ApplicantIncome",
          "ApplicantIncome",
          "ApplicantIncome",
          "ApplicantIncome",
          "ApplicantIncome",
          "ApplicantIncome",
          "ApplicantIncome",
          "ApplicantIncome",
          "ApplicantIncome",
          "ApplicantIncome",
          "ApplicantIncome",
          "ApplicantIncome",
          "ApplicantIncome",
          "ApplicantIncome",
          "ApplicantIncome",
          "ApplicantIncome",
          "ApplicantIncome",
          "ApplicantIncome",
          "ApplicantIncome",
          "ApplicantIncome",
          "ApplicantIncome",
          "ApplicantIncome",
          "ApplicantIncome",
          "ApplicantIncome",
          "ApplicantIncome",
          "ApplicantIncome",
          "ApplicantIncome",
          "ApplicantIncome",
          "ApplicantIncome",
          "ApplicantIncome",
          "ApplicantIncome",
          "ApplicantIncome",
          "ApplicantIncome",
          "ApplicantIncome",
          "ApplicantIncome",
          "ApplicantIncome",
          "ApplicantIncome",
          "ApplicantIncome",
          "ApplicantIncome",
          "ApplicantIncome",
          "ApplicantIncome",
          "ApplicantIncome",
          "ApplicantIncome",
          "ApplicantIncome",
          "ApplicantIncome",
          "ApplicantIncome",
          "ApplicantIncome",
          "ApplicantIncome",
          "ApplicantIncome",
          "ApplicantIncome",
          "ApplicantIncome",
          "ApplicantIncome",
          "ApplicantIncome",
          "ApplicantIncome",
          "ApplicantIncome",
          "ApplicantIncome",
          "ApplicantIncome",
          "ApplicantIncome",
          "ApplicantIncome",
          "ApplicantIncome",
          "ApplicantIncome",
          "ApplicantIncome",
          "ApplicantIncome",
          "ApplicantIncome",
          "ApplicantIncome",
          "ApplicantIncome",
          "ApplicantIncome",
          "ApplicantIncome",
          "ApplicantIncome",
          "ApplicantIncome",
          "ApplicantIncome",
          "ApplicantIncome",
          "ApplicantIncome",
          "ApplicantIncome",
          "ApplicantIncome",
          "ApplicantIncome",
          "ApplicantIncome",
          "ApplicantIncome",
          "ApplicantIncome",
          "ApplicantIncome",
          "ApplicantIncome",
          "ApplicantIncome",
          "ApplicantIncome",
          "ApplicantIncome",
          "ApplicantIncome",
          "ApplicantIncome",
          "ApplicantIncome",
          "ApplicantIncome",
          "ApplicantIncome",
          "ApplicantIncome",
          "ApplicantIncome",
          "ApplicantIncome",
          "ApplicantIncome",
          "ApplicantIncome",
          "ApplicantIncome",
          "ApplicantIncome",
          "ApplicantIncome",
          "ApplicantIncome",
          "ApplicantIncome",
          "ApplicantIncome",
          "ApplicantIncome",
          "ApplicantIncome",
          "ApplicantIncome",
          "ApplicantIncome",
          "ApplicantIncome",
          "ApplicantIncome",
          "ApplicantIncome",
          "ApplicantIncome",
          "ApplicantIncome",
          "ApplicantIncome",
          "ApplicantIncome",
          "ApplicantIncome",
          "ApplicantIncome",
          "ApplicantIncome",
          "ApplicantIncome",
          "ApplicantIncome",
          "ApplicantIncome",
          "ApplicantIncome",
          "ApplicantIncome",
          "ApplicantIncome",
          "ApplicantIncome",
          "ApplicantIncome",
          "ApplicantIncome",
          "ApplicantIncome",
          "ApplicantIncome",
          "ApplicantIncome",
          "ApplicantIncome",
          "ApplicantIncome",
          "ApplicantIncome",
          "ApplicantIncome",
          "ApplicantIncome",
          "ApplicantIncome",
          "ApplicantIncome",
          "ApplicantIncome",
          "ApplicantIncome",
          "ApplicantIncome",
          "ApplicantIncome",
          "ApplicantIncome",
          "ApplicantIncome",
          "ApplicantIncome",
          "ApplicantIncome",
          "ApplicantIncome",
          "ApplicantIncome",
          "ApplicantIncome",
          "ApplicantIncome",
          "ApplicantIncome",
          "ApplicantIncome",
          "ApplicantIncome",
          "ApplicantIncome",
          "ApplicantIncome",
          "ApplicantIncome",
          "ApplicantIncome",
          "ApplicantIncome",
          "ApplicantIncome",
          "ApplicantIncome",
          "ApplicantIncome",
          "ApplicantIncome",
          "ApplicantIncome",
          "ApplicantIncome",
          "ApplicantIncome",
          "ApplicantIncome",
          "ApplicantIncome",
          "ApplicantIncome",
          "ApplicantIncome",
          "ApplicantIncome",
          "ApplicantIncome",
          "ApplicantIncome",
          "ApplicantIncome",
          "ApplicantIncome",
          "ApplicantIncome",
          "ApplicantIncome",
          "ApplicantIncome",
          "ApplicantIncome",
          "ApplicantIncome",
          "ApplicantIncome",
          "ApplicantIncome",
          "ApplicantIncome",
          "ApplicantIncome",
          "ApplicantIncome",
          "ApplicantIncome",
          "ApplicantIncome",
          "ApplicantIncome",
          "ApplicantIncome",
          "ApplicantIncome",
          "ApplicantIncome",
          "ApplicantIncome",
          "ApplicantIncome",
          "ApplicantIncome",
          "ApplicantIncome",
          "ApplicantIncome",
          "ApplicantIncome",
          "ApplicantIncome",
          "ApplicantIncome",
          "ApplicantIncome",
          "ApplicantIncome",
          "ApplicantIncome",
          "ApplicantIncome",
          "ApplicantIncome",
          "ApplicantIncome",
          "ApplicantIncome",
          "ApplicantIncome",
          "ApplicantIncome",
          "ApplicantIncome",
          "ApplicantIncome",
          "ApplicantIncome",
          "ApplicantIncome",
          "ApplicantIncome",
          "ApplicantIncome",
          "ApplicantIncome",
          "ApplicantIncome",
          "ApplicantIncome",
          "ApplicantIncome",
          "ApplicantIncome",
          "ApplicantIncome",
          "ApplicantIncome",
          "ApplicantIncome",
          "ApplicantIncome",
          "ApplicantIncome",
          "ApplicantIncome",
          "ApplicantIncome",
          "ApplicantIncome",
          "ApplicantIncome",
          "ApplicantIncome",
          "ApplicantIncome",
          "ApplicantIncome",
          "ApplicantIncome",
          "ApplicantIncome",
          "ApplicantIncome",
          "ApplicantIncome",
          "ApplicantIncome",
          "ApplicantIncome",
          "ApplicantIncome",
          "ApplicantIncome",
          "ApplicantIncome",
          "ApplicantIncome",
          "ApplicantIncome",
          "ApplicantIncome",
          "ApplicantIncome",
          "ApplicantIncome",
          "ApplicantIncome",
          "ApplicantIncome",
          "ApplicantIncome",
          "ApplicantIncome",
          "ApplicantIncome",
          "ApplicantIncome",
          "ApplicantIncome",
          "ApplicantIncome",
          "ApplicantIncome",
          "ApplicantIncome",
          "ApplicantIncome",
          "ApplicantIncome",
          "ApplicantIncome",
          "ApplicantIncome",
          "ApplicantIncome",
          "ApplicantIncome",
          "ApplicantIncome",
          "ApplicantIncome",
          "ApplicantIncome",
          "ApplicantIncome",
          "ApplicantIncome",
          "ApplicantIncome",
          "ApplicantIncome",
          "ApplicantIncome",
          "ApplicantIncome",
          "ApplicantIncome",
          "ApplicantIncome",
          "ApplicantIncome",
          "ApplicantIncome",
          "ApplicantIncome",
          "ApplicantIncome",
          "ApplicantIncome",
          "ApplicantIncome",
          "ApplicantIncome",
          "ApplicantIncome",
          "ApplicantIncome",
          "ApplicantIncome",
          "ApplicantIncome",
          "ApplicantIncome",
          "ApplicantIncome",
          "ApplicantIncome",
          "ApplicantIncome",
          "ApplicantIncome",
          "ApplicantIncome",
          "ApplicantIncome",
          "ApplicantIncome"
         ],
         "x0": " ",
         "xaxis": "x",
         "y": [
          5849,
          4583,
          3000,
          2583,
          6000,
          5417,
          2333,
          3036,
          4006,
          12841,
          3200,
          2500,
          3073,
          1853,
          1299,
          4950,
          3596,
          3510,
          4887,
          2600,
          7660,
          5955,
          2600,
          3717,
          9560,
          2799,
          4226,
          1442,
          3750,
          4166,
          3167,
          4692,
          3500,
          12500,
          2275,
          1828,
          3667,
          4166,
          3748,
          3600,
          1800,
          2400,
          3941,
          4695,
          3410,
          5649,
          5821,
          2645,
          4000,
          1928,
          3086,
          4230,
          4616,
          11500,
          2708,
          2132,
          3366,
          8080,
          3357,
          2500,
          3029,
          2609,
          4945,
          4166,
          5726,
          3200,
          10750,
          7100,
          4300,
          3208,
          1875,
          3500,
          4755,
          5266,
          3750,
          3750,
          1000,
          3167,
          3333,
          3846,
          2395,
          1378,
          6000,
          3988,
          2366,
          3333,
          2500,
          8566,
          5695,
          2958,
          6250,
          3273,
          4133,
          3620,
          6782,
          2484,
          1977,
          4188,
          1759,
          4288,
          4843,
          13650,
          4652,
          3052,
          11417,
          7333,
          3800,
          2071,
          5316,
          2929,
          3572,
          7451,
          5050,
          14583,
          3167,
          2214,
          5568,
          10408,
          5667,
          4166,
          2137,
          2957,
          4300,
          3692,
          3865,
          10513,
          6080,
          20166,
          2014,
          2718,
          3459,
          4895,
          4000,
          4583,
          3316,
          14999,
          4200,
          5042,
          5417,
          6950,
          2698,
          11757,
          2330,
          14866,
          1538,
          10000,
          4860,
          6277,
          2577,
          9166,
          2281,
          3254,
          39999,
          6000,
          9538,
          2980,
          4583,
          1863,
          7933,
          3089,
          4167,
          9323,
          3707,
          4583,
          2439,
          2237,
          8000,
          1820,
          3522,
          5708,
          4344,
          3497,
          2045,
          5516,
          3750,
          2333,
          6400,
          1916,
          4600,
          33846,
          3625,
          39147,
          2178,
          2383,
          9328,
          4885,
          12000,
          6033,
          3858,
          4191,
          3125,
          8333,
          1907,
          3416,
          11000,
          2600,
          4923,
          3992,
          3500,
          3917,
          4408,
          3244,
          3975,
          2479,
          3418,
          10000,
          3430,
          7787,
          5703,
          3173,
          3850,
          150,
          3727,
          5000,
          4283,
          2221,
          4009,
          2971,
          7578,
          6250,
          3250,
          4735,
          6250,
          6400,
          2491,
          3716,
          3189,
          8333,
          3155,
          5500,
          5746,
          3463,
          3812,
          3315,
          5819,
          2510,
          2965,
          6250,
          3406,
          6050,
          9703,
          6608,
          2882,
          1809,
          1668,
          3427,
          2583,
          2661,
          16250,
          3083,
          6045,
          5250,
          14683,
          4931,
          6083,
          2060,
          3481,
          7200,
          5166,
          4095,
          4708,
          4333,
          3418,
          2876,
          3237,
          11146,
          2833,
          2620,
          3900,
          2750,
          3993,
          3103,
          14583,
          4100,
          4053,
          3927,
          2301,
          1811,
          20667,
          3158,
          2600,
          3704,
          4124,
          9508,
          3075,
          4400,
          3153,
          5417,
          2383,
          4416,
          6875,
          4666,
          5000,
          2014,
          1800,
          2875,
          5000,
          1625,
          4000,
          2000,
          3762,
          2400,
          20233,
          7667,
          2917,
          2927,
          2507,
          5746,
          3399,
          3717,
          2058,
          3541,
          10000,
          2400,
          4342,
          3601,
          3166,
          15000,
          8666,
          4917,
          5818,
          4333,
          2500,
          4384,
          2935,
          2833,
          63337,
          5503,
          5250,
          2500,
          1830,
          4160,
          2647,
          2378,
          4554,
          3173,
          2583,
          2499,
          3523,
          3083,
          6333,
          2625,
          9083,
          8750,
          2666,
          5500,
          2423,
          3813,
          8333,
          3875,
          3000,
          5167,
          4723,
          5000,
          4750,
          3013,
          6822,
          6216,
          2500,
          5124,
          6325,
          19730,
          15759,
          5185,
          9323,
          3062,
          2764,
          4817,
          8750,
          4310,
          3069,
          5391,
          3333,
          5941,
          6000,
          7167,
          4566,
          3667,
          2346,
          3010,
          2333,
          5488,
          9167,
          9504,
          2583,
          1993,
          3100,
          3276,
          3180,
          3033,
          3902,
          1500,
          2889,
          2755,
          2500,
          1963,
          7441,
          4547,
          2167,
          2213,
          8300,
          81000,
          3867,
          6256,
          6096,
          2253,
          2149,
          2995,
          2600,
          1600,
          1025,
          3246,
          5829,
          2720,
          1820,
          7250,
          14880,
          2666,
          4606,
          5935,
          2920,
          2717,
          8624,
          6500,
          12876,
          2425,
          3750,
          1926,
          2213,
          10416,
          7142,
          3660,
          7901,
          4707,
          37719,
          7333,
          3466,
          4652,
          3539,
          3340,
          2769,
          2309,
          1958,
          3948,
          2483,
          7085,
          3859,
          4301,
          3708,
          4354,
          8334,
          7740,
          3015,
          5191,
          4166,
          6000,
          2947,
          210,
          4333,
          3450,
          2653,
          4691,
          2500,
          5532,
          16525,
          6700,
          16667,
          2947,
          4350,
          3095,
          2083,
          10833,
          8333,
          1958,
          3547,
          18333,
          4583,
          2435,
          2699,
          5333,
          3691,
          17263,
          3597,
          3326,
          2600,
          4625,
          2895,
          6283,
          645,
          3159,
          4865,
          4050,
          3814,
          3510,
          20833,
          2479,
          13262,
          3598,
          6065,
          3283,
          2130,
          5815,
          3466,
          2031,
          3074,
          4683,
          3400,
          2192,
          2500,
          5677,
          7948,
          4680,
          17500,
          3775,
          5285,
          2679,
          6783,
          1025,
          4281,
          3588,
          11250,
          18165,
          2550,
          6133,
          3617,
          2917,
          6417,
          4608,
          2138,
          3652,
          2239,
          3017,
          2768,
          3358,
          2526,
          5000,
          2785,
          6633,
          2492,
          3333,
          2454,
          3593,
          5468,
          2667,
          10139,
          3887,
          4180,
          3675,
          19484,
          5923,
          5800,
          8799,
          4467,
          3333,
          3400,
          2378,
          3166,
          3417,
          5116,
          16666,
          6125,
          6406,
          3159,
          3229,
          1782,
          3182,
          6540,
          1836,
          3166,
          1880,
          2787,
          4283,
          2297,
          2165,
          2726,
          3000,
          6000,
          3859,
          16120,
          3833,
          6383,
          2987,
          9963,
          5780,
          416,
          2894,
          5703,
          3676,
          12000,
          2400,
          3400,
          3987,
          3232,
          2900,
          4106,
          8072,
          7583,
          4583
         ],
         "y0": " ",
         "yaxis": "y"
        }
       ],
       "layout": {
        "boxmode": "group",
        "legend": {
         "tracegroupgap": 0
        },
        "template": {
         "data": {
          "bar": [
           {
            "error_x": {
             "color": "#2a3f5f"
            },
            "error_y": {
             "color": "#2a3f5f"
            },
            "marker": {
             "line": {
              "color": "#E5ECF6",
              "width": 0.5
             },
             "pattern": {
              "fillmode": "overlay",
              "size": 10,
              "solidity": 0.2
             }
            },
            "type": "bar"
           }
          ],
          "barpolar": [
           {
            "marker": {
             "line": {
              "color": "#E5ECF6",
              "width": 0.5
             },
             "pattern": {
              "fillmode": "overlay",
              "size": 10,
              "solidity": 0.2
             }
            },
            "type": "barpolar"
           }
          ],
          "carpet": [
           {
            "aaxis": {
             "endlinecolor": "#2a3f5f",
             "gridcolor": "white",
             "linecolor": "white",
             "minorgridcolor": "white",
             "startlinecolor": "#2a3f5f"
            },
            "baxis": {
             "endlinecolor": "#2a3f5f",
             "gridcolor": "white",
             "linecolor": "white",
             "minorgridcolor": "white",
             "startlinecolor": "#2a3f5f"
            },
            "type": "carpet"
           }
          ],
          "choropleth": [
           {
            "colorbar": {
             "outlinewidth": 0,
             "ticks": ""
            },
            "type": "choropleth"
           }
          ],
          "contour": [
           {
            "colorbar": {
             "outlinewidth": 0,
             "ticks": ""
            },
            "colorscale": [
             [
              0,
              "#0d0887"
             ],
             [
              0.1111111111111111,
              "#46039f"
             ],
             [
              0.2222222222222222,
              "#7201a8"
             ],
             [
              0.3333333333333333,
              "#9c179e"
             ],
             [
              0.4444444444444444,
              "#bd3786"
             ],
             [
              0.5555555555555556,
              "#d8576b"
             ],
             [
              0.6666666666666666,
              "#ed7953"
             ],
             [
              0.7777777777777778,
              "#fb9f3a"
             ],
             [
              0.8888888888888888,
              "#fdca26"
             ],
             [
              1,
              "#f0f921"
             ]
            ],
            "type": "contour"
           }
          ],
          "contourcarpet": [
           {
            "colorbar": {
             "outlinewidth": 0,
             "ticks": ""
            },
            "type": "contourcarpet"
           }
          ],
          "heatmap": [
           {
            "colorbar": {
             "outlinewidth": 0,
             "ticks": ""
            },
            "colorscale": [
             [
              0,
              "#0d0887"
             ],
             [
              0.1111111111111111,
              "#46039f"
             ],
             [
              0.2222222222222222,
              "#7201a8"
             ],
             [
              0.3333333333333333,
              "#9c179e"
             ],
             [
              0.4444444444444444,
              "#bd3786"
             ],
             [
              0.5555555555555556,
              "#d8576b"
             ],
             [
              0.6666666666666666,
              "#ed7953"
             ],
             [
              0.7777777777777778,
              "#fb9f3a"
             ],
             [
              0.8888888888888888,
              "#fdca26"
             ],
             [
              1,
              "#f0f921"
             ]
            ],
            "type": "heatmap"
           }
          ],
          "heatmapgl": [
           {
            "colorbar": {
             "outlinewidth": 0,
             "ticks": ""
            },
            "colorscale": [
             [
              0,
              "#0d0887"
             ],
             [
              0.1111111111111111,
              "#46039f"
             ],
             [
              0.2222222222222222,
              "#7201a8"
             ],
             [
              0.3333333333333333,
              "#9c179e"
             ],
             [
              0.4444444444444444,
              "#bd3786"
             ],
             [
              0.5555555555555556,
              "#d8576b"
             ],
             [
              0.6666666666666666,
              "#ed7953"
             ],
             [
              0.7777777777777778,
              "#fb9f3a"
             ],
             [
              0.8888888888888888,
              "#fdca26"
             ],
             [
              1,
              "#f0f921"
             ]
            ],
            "type": "heatmapgl"
           }
          ],
          "histogram": [
           {
            "marker": {
             "pattern": {
              "fillmode": "overlay",
              "size": 10,
              "solidity": 0.2
             }
            },
            "type": "histogram"
           }
          ],
          "histogram2d": [
           {
            "colorbar": {
             "outlinewidth": 0,
             "ticks": ""
            },
            "colorscale": [
             [
              0,
              "#0d0887"
             ],
             [
              0.1111111111111111,
              "#46039f"
             ],
             [
              0.2222222222222222,
              "#7201a8"
             ],
             [
              0.3333333333333333,
              "#9c179e"
             ],
             [
              0.4444444444444444,
              "#bd3786"
             ],
             [
              0.5555555555555556,
              "#d8576b"
             ],
             [
              0.6666666666666666,
              "#ed7953"
             ],
             [
              0.7777777777777778,
              "#fb9f3a"
             ],
             [
              0.8888888888888888,
              "#fdca26"
             ],
             [
              1,
              "#f0f921"
             ]
            ],
            "type": "histogram2d"
           }
          ],
          "histogram2dcontour": [
           {
            "colorbar": {
             "outlinewidth": 0,
             "ticks": ""
            },
            "colorscale": [
             [
              0,
              "#0d0887"
             ],
             [
              0.1111111111111111,
              "#46039f"
             ],
             [
              0.2222222222222222,
              "#7201a8"
             ],
             [
              0.3333333333333333,
              "#9c179e"
             ],
             [
              0.4444444444444444,
              "#bd3786"
             ],
             [
              0.5555555555555556,
              "#d8576b"
             ],
             [
              0.6666666666666666,
              "#ed7953"
             ],
             [
              0.7777777777777778,
              "#fb9f3a"
             ],
             [
              0.8888888888888888,
              "#fdca26"
             ],
             [
              1,
              "#f0f921"
             ]
            ],
            "type": "histogram2dcontour"
           }
          ],
          "mesh3d": [
           {
            "colorbar": {
             "outlinewidth": 0,
             "ticks": ""
            },
            "type": "mesh3d"
           }
          ],
          "parcoords": [
           {
            "line": {
             "colorbar": {
              "outlinewidth": 0,
              "ticks": ""
             }
            },
            "type": "parcoords"
           }
          ],
          "pie": [
           {
            "automargin": true,
            "type": "pie"
           }
          ],
          "scatter": [
           {
            "fillpattern": {
             "fillmode": "overlay",
             "size": 10,
             "solidity": 0.2
            },
            "type": "scatter"
           }
          ],
          "scatter3d": [
           {
            "line": {
             "colorbar": {
              "outlinewidth": 0,
              "ticks": ""
             }
            },
            "marker": {
             "colorbar": {
              "outlinewidth": 0,
              "ticks": ""
             }
            },
            "type": "scatter3d"
           }
          ],
          "scattercarpet": [
           {
            "marker": {
             "colorbar": {
              "outlinewidth": 0,
              "ticks": ""
             }
            },
            "type": "scattercarpet"
           }
          ],
          "scattergeo": [
           {
            "marker": {
             "colorbar": {
              "outlinewidth": 0,
              "ticks": ""
             }
            },
            "type": "scattergeo"
           }
          ],
          "scattergl": [
           {
            "marker": {
             "colorbar": {
              "outlinewidth": 0,
              "ticks": ""
             }
            },
            "type": "scattergl"
           }
          ],
          "scattermapbox": [
           {
            "marker": {
             "colorbar": {
              "outlinewidth": 0,
              "ticks": ""
             }
            },
            "type": "scattermapbox"
           }
          ],
          "scatterpolar": [
           {
            "marker": {
             "colorbar": {
              "outlinewidth": 0,
              "ticks": ""
             }
            },
            "type": "scatterpolar"
           }
          ],
          "scatterpolargl": [
           {
            "marker": {
             "colorbar": {
              "outlinewidth": 0,
              "ticks": ""
             }
            },
            "type": "scatterpolargl"
           }
          ],
          "scatterternary": [
           {
            "marker": {
             "colorbar": {
              "outlinewidth": 0,
              "ticks": ""
             }
            },
            "type": "scatterternary"
           }
          ],
          "surface": [
           {
            "colorbar": {
             "outlinewidth": 0,
             "ticks": ""
            },
            "colorscale": [
             [
              0,
              "#0d0887"
             ],
             [
              0.1111111111111111,
              "#46039f"
             ],
             [
              0.2222222222222222,
              "#7201a8"
             ],
             [
              0.3333333333333333,
              "#9c179e"
             ],
             [
              0.4444444444444444,
              "#bd3786"
             ],
             [
              0.5555555555555556,
              "#d8576b"
             ],
             [
              0.6666666666666666,
              "#ed7953"
             ],
             [
              0.7777777777777778,
              "#fb9f3a"
             ],
             [
              0.8888888888888888,
              "#fdca26"
             ],
             [
              1,
              "#f0f921"
             ]
            ],
            "type": "surface"
           }
          ],
          "table": [
           {
            "cells": {
             "fill": {
              "color": "#EBF0F8"
             },
             "line": {
              "color": "white"
             }
            },
            "header": {
             "fill": {
              "color": "#C8D4E3"
             },
             "line": {
              "color": "white"
             }
            },
            "type": "table"
           }
          ]
         },
         "layout": {
          "annotationdefaults": {
           "arrowcolor": "#2a3f5f",
           "arrowhead": 0,
           "arrowwidth": 1
          },
          "autotypenumbers": "strict",
          "coloraxis": {
           "colorbar": {
            "outlinewidth": 0,
            "ticks": ""
           }
          },
          "colorscale": {
           "diverging": [
            [
             0,
             "#8e0152"
            ],
            [
             0.1,
             "#c51b7d"
            ],
            [
             0.2,
             "#de77ae"
            ],
            [
             0.3,
             "#f1b6da"
            ],
            [
             0.4,
             "#fde0ef"
            ],
            [
             0.5,
             "#f7f7f7"
            ],
            [
             0.6,
             "#e6f5d0"
            ],
            [
             0.7,
             "#b8e186"
            ],
            [
             0.8,
             "#7fbc41"
            ],
            [
             0.9,
             "#4d9221"
            ],
            [
             1,
             "#276419"
            ]
           ],
           "sequential": [
            [
             0,
             "#0d0887"
            ],
            [
             0.1111111111111111,
             "#46039f"
            ],
            [
             0.2222222222222222,
             "#7201a8"
            ],
            [
             0.3333333333333333,
             "#9c179e"
            ],
            [
             0.4444444444444444,
             "#bd3786"
            ],
            [
             0.5555555555555556,
             "#d8576b"
            ],
            [
             0.6666666666666666,
             "#ed7953"
            ],
            [
             0.7777777777777778,
             "#fb9f3a"
            ],
            [
             0.8888888888888888,
             "#fdca26"
            ],
            [
             1,
             "#f0f921"
            ]
           ],
           "sequentialminus": [
            [
             0,
             "#0d0887"
            ],
            [
             0.1111111111111111,
             "#46039f"
            ],
            [
             0.2222222222222222,
             "#7201a8"
            ],
            [
             0.3333333333333333,
             "#9c179e"
            ],
            [
             0.4444444444444444,
             "#bd3786"
            ],
            [
             0.5555555555555556,
             "#d8576b"
            ],
            [
             0.6666666666666666,
             "#ed7953"
            ],
            [
             0.7777777777777778,
             "#fb9f3a"
            ],
            [
             0.8888888888888888,
             "#fdca26"
            ],
            [
             1,
             "#f0f921"
            ]
           ]
          },
          "colorway": [
           "#636efa",
           "#EF553B",
           "#00cc96",
           "#ab63fa",
           "#FFA15A",
           "#19d3f3",
           "#FF6692",
           "#B6E880",
           "#FF97FF",
           "#FECB52"
          ],
          "font": {
           "color": "#2a3f5f"
          },
          "geo": {
           "bgcolor": "white",
           "lakecolor": "white",
           "landcolor": "#E5ECF6",
           "showlakes": true,
           "showland": true,
           "subunitcolor": "white"
          },
          "hoverlabel": {
           "align": "left"
          },
          "hovermode": "closest",
          "mapbox": {
           "style": "light"
          },
          "paper_bgcolor": "white",
          "plot_bgcolor": "#E5ECF6",
          "polar": {
           "angularaxis": {
            "gridcolor": "white",
            "linecolor": "white",
            "ticks": ""
           },
           "bgcolor": "#E5ECF6",
           "radialaxis": {
            "gridcolor": "white",
            "linecolor": "white",
            "ticks": ""
           }
          },
          "scene": {
           "xaxis": {
            "backgroundcolor": "#E5ECF6",
            "gridcolor": "white",
            "gridwidth": 2,
            "linecolor": "white",
            "showbackground": true,
            "ticks": "",
            "zerolinecolor": "white"
           },
           "yaxis": {
            "backgroundcolor": "#E5ECF6",
            "gridcolor": "white",
            "gridwidth": 2,
            "linecolor": "white",
            "showbackground": true,
            "ticks": "",
            "zerolinecolor": "white"
           },
           "zaxis": {
            "backgroundcolor": "#E5ECF6",
            "gridcolor": "white",
            "gridwidth": 2,
            "linecolor": "white",
            "showbackground": true,
            "ticks": "",
            "zerolinecolor": "white"
           }
          },
          "shapedefaults": {
           "line": {
            "color": "#2a3f5f"
           }
          },
          "ternary": {
           "aaxis": {
            "gridcolor": "white",
            "linecolor": "white",
            "ticks": ""
           },
           "baxis": {
            "gridcolor": "white",
            "linecolor": "white",
            "ticks": ""
           },
           "bgcolor": "#E5ECF6",
           "caxis": {
            "gridcolor": "white",
            "linecolor": "white",
            "ticks": ""
           }
          },
          "title": {
           "x": 0.05
          },
          "xaxis": {
           "automargin": true,
           "gridcolor": "white",
           "linecolor": "white",
           "ticks": "",
           "title": {
            "standoff": 15
           },
           "zerolinecolor": "white",
           "zerolinewidth": 2
          },
          "yaxis": {
           "automargin": true,
           "gridcolor": "white",
           "linecolor": "white",
           "ticks": "",
           "title": {
            "standoff": 15
           },
           "zerolinecolor": "white",
           "zerolinewidth": 2
          }
         }
        },
        "title": {
         "text": "Outliers in ApplicantIncome"
        },
        "xaxis": {
         "anchor": "y",
         "domain": [
          0,
          1
         ],
         "title": {
          "text": "variable"
         }
        },
        "yaxis": {
         "anchor": "x",
         "domain": [
          0,
          1
         ],
         "title": {
          "text": "value"
         }
        }
       }
      },
      "text/html": [
       "<div>                            <div id=\"4dee9cdc-91c1-409e-a1e7-455dc2a051c6\" class=\"plotly-graph-div\" style=\"height:525px; width:100%;\"></div>            <script type=\"text/javascript\">                require([\"plotly\"], function(Plotly) {                    window.PLOTLYENV=window.PLOTLYENV || {};                                    if (document.getElementById(\"4dee9cdc-91c1-409e-a1e7-455dc2a051c6\")) {                    Plotly.newPlot(                        \"4dee9cdc-91c1-409e-a1e7-455dc2a051c6\",                        [{\"alignmentgroup\":\"True\",\"boxpoints\":\"all\",\"hovertemplate\":\"variable=%{x}\\u003cbr\\u003evalue=%{y}\\u003cextra\\u003e\\u003c\\u002fextra\\u003e\",\"legendgroup\":\"\",\"marker\":{\"color\":\"#636efa\"},\"name\":\"\",\"notched\":false,\"offsetgroup\":\"\",\"orientation\":\"v\",\"showlegend\":false,\"x\":[\"ApplicantIncome\",\"ApplicantIncome\",\"ApplicantIncome\",\"ApplicantIncome\",\"ApplicantIncome\",\"ApplicantIncome\",\"ApplicantIncome\",\"ApplicantIncome\",\"ApplicantIncome\",\"ApplicantIncome\",\"ApplicantIncome\",\"ApplicantIncome\",\"ApplicantIncome\",\"ApplicantIncome\",\"ApplicantIncome\",\"ApplicantIncome\",\"ApplicantIncome\",\"ApplicantIncome\",\"ApplicantIncome\",\"ApplicantIncome\",\"ApplicantIncome\",\"ApplicantIncome\",\"ApplicantIncome\",\"ApplicantIncome\",\"ApplicantIncome\",\"ApplicantIncome\",\"ApplicantIncome\",\"ApplicantIncome\",\"ApplicantIncome\",\"ApplicantIncome\",\"ApplicantIncome\",\"ApplicantIncome\",\"ApplicantIncome\",\"ApplicantIncome\",\"ApplicantIncome\",\"ApplicantIncome\",\"ApplicantIncome\",\"ApplicantIncome\",\"ApplicantIncome\",\"ApplicantIncome\",\"ApplicantIncome\",\"ApplicantIncome\",\"ApplicantIncome\",\"ApplicantIncome\",\"ApplicantIncome\",\"ApplicantIncome\",\"ApplicantIncome\",\"ApplicantIncome\",\"ApplicantIncome\",\"ApplicantIncome\",\"ApplicantIncome\",\"ApplicantIncome\",\"ApplicantIncome\",\"ApplicantIncome\",\"ApplicantIncome\",\"ApplicantIncome\",\"ApplicantIncome\",\"ApplicantIncome\",\"ApplicantIncome\",\"ApplicantIncome\",\"ApplicantIncome\",\"ApplicantIncome\",\"ApplicantIncome\",\"ApplicantIncome\",\"ApplicantIncome\",\"ApplicantIncome\",\"ApplicantIncome\",\"ApplicantIncome\",\"ApplicantIncome\",\"ApplicantIncome\",\"ApplicantIncome\",\"ApplicantIncome\",\"ApplicantIncome\",\"ApplicantIncome\",\"ApplicantIncome\",\"ApplicantIncome\",\"ApplicantIncome\",\"ApplicantIncome\",\"ApplicantIncome\",\"ApplicantIncome\",\"ApplicantIncome\",\"ApplicantIncome\",\"ApplicantIncome\",\"ApplicantIncome\",\"ApplicantIncome\",\"ApplicantIncome\",\"ApplicantIncome\",\"ApplicantIncome\",\"ApplicantIncome\",\"ApplicantIncome\",\"ApplicantIncome\",\"ApplicantIncome\",\"ApplicantIncome\",\"ApplicantIncome\",\"ApplicantIncome\",\"ApplicantIncome\",\"ApplicantIncome\",\"ApplicantIncome\",\"ApplicantIncome\",\"ApplicantIncome\",\"ApplicantIncome\",\"ApplicantIncome\",\"ApplicantIncome\",\"ApplicantIncome\",\"ApplicantIncome\",\"ApplicantIncome\",\"ApplicantIncome\",\"ApplicantIncome\",\"ApplicantIncome\",\"ApplicantIncome\",\"ApplicantIncome\",\"ApplicantIncome\",\"ApplicantIncome\",\"ApplicantIncome\",\"ApplicantIncome\",\"ApplicantIncome\",\"ApplicantIncome\",\"ApplicantIncome\",\"ApplicantIncome\",\"ApplicantIncome\",\"ApplicantIncome\",\"ApplicantIncome\",\"ApplicantIncome\",\"ApplicantIncome\",\"ApplicantIncome\",\"ApplicantIncome\",\"ApplicantIncome\",\"ApplicantIncome\",\"ApplicantIncome\",\"ApplicantIncome\",\"ApplicantIncome\",\"ApplicantIncome\",\"ApplicantIncome\",\"ApplicantIncome\",\"ApplicantIncome\",\"ApplicantIncome\",\"ApplicantIncome\",\"ApplicantIncome\",\"ApplicantIncome\",\"ApplicantIncome\",\"ApplicantIncome\",\"ApplicantIncome\",\"ApplicantIncome\",\"ApplicantIncome\",\"ApplicantIncome\",\"ApplicantIncome\",\"ApplicantIncome\",\"ApplicantIncome\",\"ApplicantIncome\",\"ApplicantIncome\",\"ApplicantIncome\",\"ApplicantIncome\",\"ApplicantIncome\",\"ApplicantIncome\",\"ApplicantIncome\",\"ApplicantIncome\",\"ApplicantIncome\",\"ApplicantIncome\",\"ApplicantIncome\",\"ApplicantIncome\",\"ApplicantIncome\",\"ApplicantIncome\",\"ApplicantIncome\",\"ApplicantIncome\",\"ApplicantIncome\",\"ApplicantIncome\",\"ApplicantIncome\",\"ApplicantIncome\",\"ApplicantIncome\",\"ApplicantIncome\",\"ApplicantIncome\",\"ApplicantIncome\",\"ApplicantIncome\",\"ApplicantIncome\",\"ApplicantIncome\",\"ApplicantIncome\",\"ApplicantIncome\",\"ApplicantIncome\",\"ApplicantIncome\",\"ApplicantIncome\",\"ApplicantIncome\",\"ApplicantIncome\",\"ApplicantIncome\",\"ApplicantIncome\",\"ApplicantIncome\",\"ApplicantIncome\",\"ApplicantIncome\",\"ApplicantIncome\",\"ApplicantIncome\",\"ApplicantIncome\",\"ApplicantIncome\",\"ApplicantIncome\",\"ApplicantIncome\",\"ApplicantIncome\",\"ApplicantIncome\",\"ApplicantIncome\",\"ApplicantIncome\",\"ApplicantIncome\",\"ApplicantIncome\",\"ApplicantIncome\",\"ApplicantIncome\",\"ApplicantIncome\",\"ApplicantIncome\",\"ApplicantIncome\",\"ApplicantIncome\",\"ApplicantIncome\",\"ApplicantIncome\",\"ApplicantIncome\",\"ApplicantIncome\",\"ApplicantIncome\",\"ApplicantIncome\",\"ApplicantIncome\",\"ApplicantIncome\",\"ApplicantIncome\",\"ApplicantIncome\",\"ApplicantIncome\",\"ApplicantIncome\",\"ApplicantIncome\",\"ApplicantIncome\",\"ApplicantIncome\",\"ApplicantIncome\",\"ApplicantIncome\",\"ApplicantIncome\",\"ApplicantIncome\",\"ApplicantIncome\",\"ApplicantIncome\",\"ApplicantIncome\",\"ApplicantIncome\",\"ApplicantIncome\",\"ApplicantIncome\",\"ApplicantIncome\",\"ApplicantIncome\",\"ApplicantIncome\",\"ApplicantIncome\",\"ApplicantIncome\",\"ApplicantIncome\",\"ApplicantIncome\",\"ApplicantIncome\",\"ApplicantIncome\",\"ApplicantIncome\",\"ApplicantIncome\",\"ApplicantIncome\",\"ApplicantIncome\",\"ApplicantIncome\",\"ApplicantIncome\",\"ApplicantIncome\",\"ApplicantIncome\",\"ApplicantIncome\",\"ApplicantIncome\",\"ApplicantIncome\",\"ApplicantIncome\",\"ApplicantIncome\",\"ApplicantIncome\",\"ApplicantIncome\",\"ApplicantIncome\",\"ApplicantIncome\",\"ApplicantIncome\",\"ApplicantIncome\",\"ApplicantIncome\",\"ApplicantIncome\",\"ApplicantIncome\",\"ApplicantIncome\",\"ApplicantIncome\",\"ApplicantIncome\",\"ApplicantIncome\",\"ApplicantIncome\",\"ApplicantIncome\",\"ApplicantIncome\",\"ApplicantIncome\",\"ApplicantIncome\",\"ApplicantIncome\",\"ApplicantIncome\",\"ApplicantIncome\",\"ApplicantIncome\",\"ApplicantIncome\",\"ApplicantIncome\",\"ApplicantIncome\",\"ApplicantIncome\",\"ApplicantIncome\",\"ApplicantIncome\",\"ApplicantIncome\",\"ApplicantIncome\",\"ApplicantIncome\",\"ApplicantIncome\",\"ApplicantIncome\",\"ApplicantIncome\",\"ApplicantIncome\",\"ApplicantIncome\",\"ApplicantIncome\",\"ApplicantIncome\",\"ApplicantIncome\",\"ApplicantIncome\",\"ApplicantIncome\",\"ApplicantIncome\",\"ApplicantIncome\",\"ApplicantIncome\",\"ApplicantIncome\",\"ApplicantIncome\",\"ApplicantIncome\",\"ApplicantIncome\",\"ApplicantIncome\",\"ApplicantIncome\",\"ApplicantIncome\",\"ApplicantIncome\",\"ApplicantIncome\",\"ApplicantIncome\",\"ApplicantIncome\",\"ApplicantIncome\",\"ApplicantIncome\",\"ApplicantIncome\",\"ApplicantIncome\",\"ApplicantIncome\",\"ApplicantIncome\",\"ApplicantIncome\",\"ApplicantIncome\",\"ApplicantIncome\",\"ApplicantIncome\",\"ApplicantIncome\",\"ApplicantIncome\",\"ApplicantIncome\",\"ApplicantIncome\",\"ApplicantIncome\",\"ApplicantIncome\",\"ApplicantIncome\",\"ApplicantIncome\",\"ApplicantIncome\",\"ApplicantIncome\",\"ApplicantIncome\",\"ApplicantIncome\",\"ApplicantIncome\",\"ApplicantIncome\",\"ApplicantIncome\",\"ApplicantIncome\",\"ApplicantIncome\",\"ApplicantIncome\",\"ApplicantIncome\",\"ApplicantIncome\",\"ApplicantIncome\",\"ApplicantIncome\",\"ApplicantIncome\",\"ApplicantIncome\",\"ApplicantIncome\",\"ApplicantIncome\",\"ApplicantIncome\",\"ApplicantIncome\",\"ApplicantIncome\",\"ApplicantIncome\",\"ApplicantIncome\",\"ApplicantIncome\",\"ApplicantIncome\",\"ApplicantIncome\",\"ApplicantIncome\",\"ApplicantIncome\",\"ApplicantIncome\",\"ApplicantIncome\",\"ApplicantIncome\",\"ApplicantIncome\",\"ApplicantIncome\",\"ApplicantIncome\",\"ApplicantIncome\",\"ApplicantIncome\",\"ApplicantIncome\",\"ApplicantIncome\",\"ApplicantIncome\",\"ApplicantIncome\",\"ApplicantIncome\",\"ApplicantIncome\",\"ApplicantIncome\",\"ApplicantIncome\",\"ApplicantIncome\",\"ApplicantIncome\",\"ApplicantIncome\",\"ApplicantIncome\",\"ApplicantIncome\",\"ApplicantIncome\",\"ApplicantIncome\",\"ApplicantIncome\",\"ApplicantIncome\",\"ApplicantIncome\",\"ApplicantIncome\",\"ApplicantIncome\",\"ApplicantIncome\",\"ApplicantIncome\",\"ApplicantIncome\",\"ApplicantIncome\",\"ApplicantIncome\",\"ApplicantIncome\",\"ApplicantIncome\",\"ApplicantIncome\",\"ApplicantIncome\",\"ApplicantIncome\",\"ApplicantIncome\",\"ApplicantIncome\",\"ApplicantIncome\",\"ApplicantIncome\",\"ApplicantIncome\",\"ApplicantIncome\",\"ApplicantIncome\",\"ApplicantIncome\",\"ApplicantIncome\",\"ApplicantIncome\",\"ApplicantIncome\",\"ApplicantIncome\",\"ApplicantIncome\",\"ApplicantIncome\",\"ApplicantIncome\",\"ApplicantIncome\",\"ApplicantIncome\",\"ApplicantIncome\",\"ApplicantIncome\",\"ApplicantIncome\",\"ApplicantIncome\",\"ApplicantIncome\",\"ApplicantIncome\",\"ApplicantIncome\",\"ApplicantIncome\",\"ApplicantIncome\",\"ApplicantIncome\",\"ApplicantIncome\",\"ApplicantIncome\",\"ApplicantIncome\",\"ApplicantIncome\",\"ApplicantIncome\",\"ApplicantIncome\",\"ApplicantIncome\",\"ApplicantIncome\",\"ApplicantIncome\",\"ApplicantIncome\",\"ApplicantIncome\",\"ApplicantIncome\",\"ApplicantIncome\",\"ApplicantIncome\",\"ApplicantIncome\",\"ApplicantIncome\",\"ApplicantIncome\",\"ApplicantIncome\",\"ApplicantIncome\",\"ApplicantIncome\",\"ApplicantIncome\",\"ApplicantIncome\",\"ApplicantIncome\",\"ApplicantIncome\",\"ApplicantIncome\",\"ApplicantIncome\",\"ApplicantIncome\",\"ApplicantIncome\",\"ApplicantIncome\",\"ApplicantIncome\",\"ApplicantIncome\",\"ApplicantIncome\",\"ApplicantIncome\",\"ApplicantIncome\",\"ApplicantIncome\",\"ApplicantIncome\",\"ApplicantIncome\",\"ApplicantIncome\",\"ApplicantIncome\",\"ApplicantIncome\",\"ApplicantIncome\",\"ApplicantIncome\",\"ApplicantIncome\",\"ApplicantIncome\",\"ApplicantIncome\",\"ApplicantIncome\",\"ApplicantIncome\",\"ApplicantIncome\",\"ApplicantIncome\",\"ApplicantIncome\",\"ApplicantIncome\",\"ApplicantIncome\",\"ApplicantIncome\",\"ApplicantIncome\",\"ApplicantIncome\",\"ApplicantIncome\",\"ApplicantIncome\",\"ApplicantIncome\",\"ApplicantIncome\",\"ApplicantIncome\",\"ApplicantIncome\",\"ApplicantIncome\",\"ApplicantIncome\",\"ApplicantIncome\",\"ApplicantIncome\",\"ApplicantIncome\",\"ApplicantIncome\",\"ApplicantIncome\",\"ApplicantIncome\",\"ApplicantIncome\",\"ApplicantIncome\",\"ApplicantIncome\",\"ApplicantIncome\",\"ApplicantIncome\",\"ApplicantIncome\",\"ApplicantIncome\",\"ApplicantIncome\",\"ApplicantIncome\",\"ApplicantIncome\",\"ApplicantIncome\",\"ApplicantIncome\",\"ApplicantIncome\",\"ApplicantIncome\",\"ApplicantIncome\",\"ApplicantIncome\",\"ApplicantIncome\",\"ApplicantIncome\",\"ApplicantIncome\",\"ApplicantIncome\",\"ApplicantIncome\",\"ApplicantIncome\",\"ApplicantIncome\",\"ApplicantIncome\",\"ApplicantIncome\",\"ApplicantIncome\",\"ApplicantIncome\",\"ApplicantIncome\",\"ApplicantIncome\",\"ApplicantIncome\",\"ApplicantIncome\",\"ApplicantIncome\",\"ApplicantIncome\",\"ApplicantIncome\",\"ApplicantIncome\",\"ApplicantIncome\",\"ApplicantIncome\",\"ApplicantIncome\",\"ApplicantIncome\",\"ApplicantIncome\",\"ApplicantIncome\",\"ApplicantIncome\",\"ApplicantIncome\",\"ApplicantIncome\",\"ApplicantIncome\",\"ApplicantIncome\",\"ApplicantIncome\",\"ApplicantIncome\",\"ApplicantIncome\",\"ApplicantIncome\",\"ApplicantIncome\",\"ApplicantIncome\",\"ApplicantIncome\",\"ApplicantIncome\",\"ApplicantIncome\",\"ApplicantIncome\",\"ApplicantIncome\",\"ApplicantIncome\",\"ApplicantIncome\",\"ApplicantIncome\",\"ApplicantIncome\",\"ApplicantIncome\",\"ApplicantIncome\",\"ApplicantIncome\",\"ApplicantIncome\",\"ApplicantIncome\",\"ApplicantIncome\",\"ApplicantIncome\",\"ApplicantIncome\",\"ApplicantIncome\",\"ApplicantIncome\",\"ApplicantIncome\",\"ApplicantIncome\",\"ApplicantIncome\",\"ApplicantIncome\",\"ApplicantIncome\",\"ApplicantIncome\",\"ApplicantIncome\",\"ApplicantIncome\",\"ApplicantIncome\",\"ApplicantIncome\",\"ApplicantIncome\",\"ApplicantIncome\",\"ApplicantIncome\",\"ApplicantIncome\",\"ApplicantIncome\",\"ApplicantIncome\",\"ApplicantIncome\",\"ApplicantIncome\",\"ApplicantIncome\",\"ApplicantIncome\",\"ApplicantIncome\",\"ApplicantIncome\",\"ApplicantIncome\",\"ApplicantIncome\",\"ApplicantIncome\",\"ApplicantIncome\",\"ApplicantIncome\",\"ApplicantIncome\",\"ApplicantIncome\",\"ApplicantIncome\",\"ApplicantIncome\",\"ApplicantIncome\",\"ApplicantIncome\",\"ApplicantIncome\",\"ApplicantIncome\",\"ApplicantIncome\",\"ApplicantIncome\",\"ApplicantIncome\",\"ApplicantIncome\",\"ApplicantIncome\"],\"x0\":\" \",\"xaxis\":\"x\",\"y\":[5849,4583,3000,2583,6000,5417,2333,3036,4006,12841,3200,2500,3073,1853,1299,4950,3596,3510,4887,2600,7660,5955,2600,3717,9560,2799,4226,1442,3750,4166,3167,4692,3500,12500,2275,1828,3667,4166,3748,3600,1800,2400,3941,4695,3410,5649,5821,2645,4000,1928,3086,4230,4616,11500,2708,2132,3366,8080,3357,2500,3029,2609,4945,4166,5726,3200,10750,7100,4300,3208,1875,3500,4755,5266,3750,3750,1000,3167,3333,3846,2395,1378,6000,3988,2366,3333,2500,8566,5695,2958,6250,3273,4133,3620,6782,2484,1977,4188,1759,4288,4843,13650,4652,3052,11417,7333,3800,2071,5316,2929,3572,7451,5050,14583,3167,2214,5568,10408,5667,4166,2137,2957,4300,3692,3865,10513,6080,20166,2014,2718,3459,4895,4000,4583,3316,14999,4200,5042,5417,6950,2698,11757,2330,14866,1538,10000,4860,6277,2577,9166,2281,3254,39999,6000,9538,2980,4583,1863,7933,3089,4167,9323,3707,4583,2439,2237,8000,1820,3522,5708,4344,3497,2045,5516,3750,2333,6400,1916,4600,33846,3625,39147,2178,2383,9328,4885,12000,6033,3858,4191,3125,8333,1907,3416,11000,2600,4923,3992,3500,3917,4408,3244,3975,2479,3418,10000,3430,7787,5703,3173,3850,150,3727,5000,4283,2221,4009,2971,7578,6250,3250,4735,6250,6400,2491,3716,3189,8333,3155,5500,5746,3463,3812,3315,5819,2510,2965,6250,3406,6050,9703,6608,2882,1809,1668,3427,2583,2661,16250,3083,6045,5250,14683,4931,6083,2060,3481,7200,5166,4095,4708,4333,3418,2876,3237,11146,2833,2620,3900,2750,3993,3103,14583,4100,4053,3927,2301,1811,20667,3158,2600,3704,4124,9508,3075,4400,3153,5417,2383,4416,6875,4666,5000,2014,1800,2875,5000,1625,4000,2000,3762,2400,20233,7667,2917,2927,2507,5746,3399,3717,2058,3541,10000,2400,4342,3601,3166,15000,8666,4917,5818,4333,2500,4384,2935,2833,63337,5503,5250,2500,1830,4160,2647,2378,4554,3173,2583,2499,3523,3083,6333,2625,9083,8750,2666,5500,2423,3813,8333,3875,3000,5167,4723,5000,4750,3013,6822,6216,2500,5124,6325,19730,15759,5185,9323,3062,2764,4817,8750,4310,3069,5391,3333,5941,6000,7167,4566,3667,2346,3010,2333,5488,9167,9504,2583,1993,3100,3276,3180,3033,3902,1500,2889,2755,2500,1963,7441,4547,2167,2213,8300,81000,3867,6256,6096,2253,2149,2995,2600,1600,1025,3246,5829,2720,1820,7250,14880,2666,4606,5935,2920,2717,8624,6500,12876,2425,3750,1926,2213,10416,7142,3660,7901,4707,37719,7333,3466,4652,3539,3340,2769,2309,1958,3948,2483,7085,3859,4301,3708,4354,8334,7740,3015,5191,4166,6000,2947,210,4333,3450,2653,4691,2500,5532,16525,6700,16667,2947,4350,3095,2083,10833,8333,1958,3547,18333,4583,2435,2699,5333,3691,17263,3597,3326,2600,4625,2895,6283,645,3159,4865,4050,3814,3510,20833,2479,13262,3598,6065,3283,2130,5815,3466,2031,3074,4683,3400,2192,2500,5677,7948,4680,17500,3775,5285,2679,6783,1025,4281,3588,11250,18165,2550,6133,3617,2917,6417,4608,2138,3652,2239,3017,2768,3358,2526,5000,2785,6633,2492,3333,2454,3593,5468,2667,10139,3887,4180,3675,19484,5923,5800,8799,4467,3333,3400,2378,3166,3417,5116,16666,6125,6406,3159,3229,1782,3182,6540,1836,3166,1880,2787,4283,2297,2165,2726,3000,6000,3859,16120,3833,6383,2987,9963,5780,416,2894,5703,3676,12000,2400,3400,3987,3232,2900,4106,8072,7583,4583],\"y0\":\" \",\"yaxis\":\"y\",\"type\":\"box\"}],                        {\"template\":{\"data\":{\"histogram2dcontour\":[{\"type\":\"histogram2dcontour\",\"colorbar\":{\"outlinewidth\":0,\"ticks\":\"\"},\"colorscale\":[[0.0,\"#0d0887\"],[0.1111111111111111,\"#46039f\"],[0.2222222222222222,\"#7201a8\"],[0.3333333333333333,\"#9c179e\"],[0.4444444444444444,\"#bd3786\"],[0.5555555555555556,\"#d8576b\"],[0.6666666666666666,\"#ed7953\"],[0.7777777777777778,\"#fb9f3a\"],[0.8888888888888888,\"#fdca26\"],[1.0,\"#f0f921\"]]}],\"choropleth\":[{\"type\":\"choropleth\",\"colorbar\":{\"outlinewidth\":0,\"ticks\":\"\"}}],\"histogram2d\":[{\"type\":\"histogram2d\",\"colorbar\":{\"outlinewidth\":0,\"ticks\":\"\"},\"colorscale\":[[0.0,\"#0d0887\"],[0.1111111111111111,\"#46039f\"],[0.2222222222222222,\"#7201a8\"],[0.3333333333333333,\"#9c179e\"],[0.4444444444444444,\"#bd3786\"],[0.5555555555555556,\"#d8576b\"],[0.6666666666666666,\"#ed7953\"],[0.7777777777777778,\"#fb9f3a\"],[0.8888888888888888,\"#fdca26\"],[1.0,\"#f0f921\"]]}],\"heatmap\":[{\"type\":\"heatmap\",\"colorbar\":{\"outlinewidth\":0,\"ticks\":\"\"},\"colorscale\":[[0.0,\"#0d0887\"],[0.1111111111111111,\"#46039f\"],[0.2222222222222222,\"#7201a8\"],[0.3333333333333333,\"#9c179e\"],[0.4444444444444444,\"#bd3786\"],[0.5555555555555556,\"#d8576b\"],[0.6666666666666666,\"#ed7953\"],[0.7777777777777778,\"#fb9f3a\"],[0.8888888888888888,\"#fdca26\"],[1.0,\"#f0f921\"]]}],\"heatmapgl\":[{\"type\":\"heatmapgl\",\"colorbar\":{\"outlinewidth\":0,\"ticks\":\"\"},\"colorscale\":[[0.0,\"#0d0887\"],[0.1111111111111111,\"#46039f\"],[0.2222222222222222,\"#7201a8\"],[0.3333333333333333,\"#9c179e\"],[0.4444444444444444,\"#bd3786\"],[0.5555555555555556,\"#d8576b\"],[0.6666666666666666,\"#ed7953\"],[0.7777777777777778,\"#fb9f3a\"],[0.8888888888888888,\"#fdca26\"],[1.0,\"#f0f921\"]]}],\"contourcarpet\":[{\"type\":\"contourcarpet\",\"colorbar\":{\"outlinewidth\":0,\"ticks\":\"\"}}],\"contour\":[{\"type\":\"contour\",\"colorbar\":{\"outlinewidth\":0,\"ticks\":\"\"},\"colorscale\":[[0.0,\"#0d0887\"],[0.1111111111111111,\"#46039f\"],[0.2222222222222222,\"#7201a8\"],[0.3333333333333333,\"#9c179e\"],[0.4444444444444444,\"#bd3786\"],[0.5555555555555556,\"#d8576b\"],[0.6666666666666666,\"#ed7953\"],[0.7777777777777778,\"#fb9f3a\"],[0.8888888888888888,\"#fdca26\"],[1.0,\"#f0f921\"]]}],\"surface\":[{\"type\":\"surface\",\"colorbar\":{\"outlinewidth\":0,\"ticks\":\"\"},\"colorscale\":[[0.0,\"#0d0887\"],[0.1111111111111111,\"#46039f\"],[0.2222222222222222,\"#7201a8\"],[0.3333333333333333,\"#9c179e\"],[0.4444444444444444,\"#bd3786\"],[0.5555555555555556,\"#d8576b\"],[0.6666666666666666,\"#ed7953\"],[0.7777777777777778,\"#fb9f3a\"],[0.8888888888888888,\"#fdca26\"],[1.0,\"#f0f921\"]]}],\"mesh3d\":[{\"type\":\"mesh3d\",\"colorbar\":{\"outlinewidth\":0,\"ticks\":\"\"}}],\"scatter\":[{\"fillpattern\":{\"fillmode\":\"overlay\",\"size\":10,\"solidity\":0.2},\"type\":\"scatter\"}],\"parcoords\":[{\"type\":\"parcoords\",\"line\":{\"colorbar\":{\"outlinewidth\":0,\"ticks\":\"\"}}}],\"scatterpolargl\":[{\"type\":\"scatterpolargl\",\"marker\":{\"colorbar\":{\"outlinewidth\":0,\"ticks\":\"\"}}}],\"bar\":[{\"error_x\":{\"color\":\"#2a3f5f\"},\"error_y\":{\"color\":\"#2a3f5f\"},\"marker\":{\"line\":{\"color\":\"#E5ECF6\",\"width\":0.5},\"pattern\":{\"fillmode\":\"overlay\",\"size\":10,\"solidity\":0.2}},\"type\":\"bar\"}],\"scattergeo\":[{\"type\":\"scattergeo\",\"marker\":{\"colorbar\":{\"outlinewidth\":0,\"ticks\":\"\"}}}],\"scatterpolar\":[{\"type\":\"scatterpolar\",\"marker\":{\"colorbar\":{\"outlinewidth\":0,\"ticks\":\"\"}}}],\"histogram\":[{\"marker\":{\"pattern\":{\"fillmode\":\"overlay\",\"size\":10,\"solidity\":0.2}},\"type\":\"histogram\"}],\"scattergl\":[{\"type\":\"scattergl\",\"marker\":{\"colorbar\":{\"outlinewidth\":0,\"ticks\":\"\"}}}],\"scatter3d\":[{\"type\":\"scatter3d\",\"line\":{\"colorbar\":{\"outlinewidth\":0,\"ticks\":\"\"}},\"marker\":{\"colorbar\":{\"outlinewidth\":0,\"ticks\":\"\"}}}],\"scattermapbox\":[{\"type\":\"scattermapbox\",\"marker\":{\"colorbar\":{\"outlinewidth\":0,\"ticks\":\"\"}}}],\"scatterternary\":[{\"type\":\"scatterternary\",\"marker\":{\"colorbar\":{\"outlinewidth\":0,\"ticks\":\"\"}}}],\"scattercarpet\":[{\"type\":\"scattercarpet\",\"marker\":{\"colorbar\":{\"outlinewidth\":0,\"ticks\":\"\"}}}],\"carpet\":[{\"aaxis\":{\"endlinecolor\":\"#2a3f5f\",\"gridcolor\":\"white\",\"linecolor\":\"white\",\"minorgridcolor\":\"white\",\"startlinecolor\":\"#2a3f5f\"},\"baxis\":{\"endlinecolor\":\"#2a3f5f\",\"gridcolor\":\"white\",\"linecolor\":\"white\",\"minorgridcolor\":\"white\",\"startlinecolor\":\"#2a3f5f\"},\"type\":\"carpet\"}],\"table\":[{\"cells\":{\"fill\":{\"color\":\"#EBF0F8\"},\"line\":{\"color\":\"white\"}},\"header\":{\"fill\":{\"color\":\"#C8D4E3\"},\"line\":{\"color\":\"white\"}},\"type\":\"table\"}],\"barpolar\":[{\"marker\":{\"line\":{\"color\":\"#E5ECF6\",\"width\":0.5},\"pattern\":{\"fillmode\":\"overlay\",\"size\":10,\"solidity\":0.2}},\"type\":\"barpolar\"}],\"pie\":[{\"automargin\":true,\"type\":\"pie\"}]},\"layout\":{\"autotypenumbers\":\"strict\",\"colorway\":[\"#636efa\",\"#EF553B\",\"#00cc96\",\"#ab63fa\",\"#FFA15A\",\"#19d3f3\",\"#FF6692\",\"#B6E880\",\"#FF97FF\",\"#FECB52\"],\"font\":{\"color\":\"#2a3f5f\"},\"hovermode\":\"closest\",\"hoverlabel\":{\"align\":\"left\"},\"paper_bgcolor\":\"white\",\"plot_bgcolor\":\"#E5ECF6\",\"polar\":{\"bgcolor\":\"#E5ECF6\",\"angularaxis\":{\"gridcolor\":\"white\",\"linecolor\":\"white\",\"ticks\":\"\"},\"radialaxis\":{\"gridcolor\":\"white\",\"linecolor\":\"white\",\"ticks\":\"\"}},\"ternary\":{\"bgcolor\":\"#E5ECF6\",\"aaxis\":{\"gridcolor\":\"white\",\"linecolor\":\"white\",\"ticks\":\"\"},\"baxis\":{\"gridcolor\":\"white\",\"linecolor\":\"white\",\"ticks\":\"\"},\"caxis\":{\"gridcolor\":\"white\",\"linecolor\":\"white\",\"ticks\":\"\"}},\"coloraxis\":{\"colorbar\":{\"outlinewidth\":0,\"ticks\":\"\"}},\"colorscale\":{\"sequential\":[[0.0,\"#0d0887\"],[0.1111111111111111,\"#46039f\"],[0.2222222222222222,\"#7201a8\"],[0.3333333333333333,\"#9c179e\"],[0.4444444444444444,\"#bd3786\"],[0.5555555555555556,\"#d8576b\"],[0.6666666666666666,\"#ed7953\"],[0.7777777777777778,\"#fb9f3a\"],[0.8888888888888888,\"#fdca26\"],[1.0,\"#f0f921\"]],\"sequentialminus\":[[0.0,\"#0d0887\"],[0.1111111111111111,\"#46039f\"],[0.2222222222222222,\"#7201a8\"],[0.3333333333333333,\"#9c179e\"],[0.4444444444444444,\"#bd3786\"],[0.5555555555555556,\"#d8576b\"],[0.6666666666666666,\"#ed7953\"],[0.7777777777777778,\"#fb9f3a\"],[0.8888888888888888,\"#fdca26\"],[1.0,\"#f0f921\"]],\"diverging\":[[0,\"#8e0152\"],[0.1,\"#c51b7d\"],[0.2,\"#de77ae\"],[0.3,\"#f1b6da\"],[0.4,\"#fde0ef\"],[0.5,\"#f7f7f7\"],[0.6,\"#e6f5d0\"],[0.7,\"#b8e186\"],[0.8,\"#7fbc41\"],[0.9,\"#4d9221\"],[1,\"#276419\"]]},\"xaxis\":{\"gridcolor\":\"white\",\"linecolor\":\"white\",\"ticks\":\"\",\"title\":{\"standoff\":15},\"zerolinecolor\":\"white\",\"automargin\":true,\"zerolinewidth\":2},\"yaxis\":{\"gridcolor\":\"white\",\"linecolor\":\"white\",\"ticks\":\"\",\"title\":{\"standoff\":15},\"zerolinecolor\":\"white\",\"automargin\":true,\"zerolinewidth\":2},\"scene\":{\"xaxis\":{\"backgroundcolor\":\"#E5ECF6\",\"gridcolor\":\"white\",\"linecolor\":\"white\",\"showbackground\":true,\"ticks\":\"\",\"zerolinecolor\":\"white\",\"gridwidth\":2},\"yaxis\":{\"backgroundcolor\":\"#E5ECF6\",\"gridcolor\":\"white\",\"linecolor\":\"white\",\"showbackground\":true,\"ticks\":\"\",\"zerolinecolor\":\"white\",\"gridwidth\":2},\"zaxis\":{\"backgroundcolor\":\"#E5ECF6\",\"gridcolor\":\"white\",\"linecolor\":\"white\",\"showbackground\":true,\"ticks\":\"\",\"zerolinecolor\":\"white\",\"gridwidth\":2}},\"shapedefaults\":{\"line\":{\"color\":\"#2a3f5f\"}},\"annotationdefaults\":{\"arrowcolor\":\"#2a3f5f\",\"arrowhead\":0,\"arrowwidth\":1},\"geo\":{\"bgcolor\":\"white\",\"landcolor\":\"#E5ECF6\",\"subunitcolor\":\"white\",\"showland\":true,\"showlakes\":true,\"lakecolor\":\"white\"},\"title\":{\"x\":0.05},\"mapbox\":{\"style\":\"light\"}}},\"xaxis\":{\"anchor\":\"y\",\"domain\":[0.0,1.0],\"title\":{\"text\":\"variable\"}},\"yaxis\":{\"anchor\":\"x\",\"domain\":[0.0,1.0],\"title\":{\"text\":\"value\"}},\"legend\":{\"tracegroupgap\":0},\"title\":{\"text\":\"Outliers in ApplicantIncome\"},\"boxmode\":\"group\"},                        {\"responsive\": true}                    ).then(function(){\n",
       "                            \n",
       "var gd = document.getElementById('4dee9cdc-91c1-409e-a1e7-455dc2a051c6');\n",
       "var x = new MutationObserver(function (mutations, observer) {{\n",
       "        var display = window.getComputedStyle(gd).display;\n",
       "        if (!display || display === 'none') {{\n",
       "            console.log([gd, 'removed!']);\n",
       "            Plotly.purge(gd);\n",
       "            observer.disconnect();\n",
       "        }}\n",
       "}});\n",
       "\n",
       "// Listen for the removal of the full notebook cells\n",
       "var notebookContainer = gd.closest('#notebook-container');\n",
       "if (notebookContainer) {{\n",
       "    x.observe(notebookContainer, {childList: true});\n",
       "}}\n",
       "\n",
       "// Listen for the clearing of the current output cell\n",
       "var outputEl = gd.closest('.output');\n",
       "if (outputEl) {{\n",
       "    x.observe(outputEl, {childList: true});\n",
       "}}\n",
       "\n",
       "                        })                };                });            </script>        </div>"
      ]
     },
     "metadata": {},
     "output_type": "display_data"
    },
    {
     "data": {
      "application/vnd.plotly.v1+json": {
       "config": {
        "plotlyServerURL": "https://plot.ly"
       },
       "data": [
        {
         "alignmentgroup": "True",
         "boxpoints": "all",
         "hovertemplate": "variable=%{x}<br>value=%{y}<extra></extra>",
         "legendgroup": "",
         "marker": {
          "color": "#636efa"
         },
         "name": "",
         "notched": false,
         "offsetgroup": "",
         "orientation": "v",
         "showlegend": false,
         "type": "box",
         "x": [
          "CoapplicantIncome",
          "CoapplicantIncome",
          "CoapplicantIncome",
          "CoapplicantIncome",
          "CoapplicantIncome",
          "CoapplicantIncome",
          "CoapplicantIncome",
          "CoapplicantIncome",
          "CoapplicantIncome",
          "CoapplicantIncome",
          "CoapplicantIncome",
          "CoapplicantIncome",
          "CoapplicantIncome",
          "CoapplicantIncome",
          "CoapplicantIncome",
          "CoapplicantIncome",
          "CoapplicantIncome",
          "CoapplicantIncome",
          "CoapplicantIncome",
          "CoapplicantIncome",
          "CoapplicantIncome",
          "CoapplicantIncome",
          "CoapplicantIncome",
          "CoapplicantIncome",
          "CoapplicantIncome",
          "CoapplicantIncome",
          "CoapplicantIncome",
          "CoapplicantIncome",
          "CoapplicantIncome",
          "CoapplicantIncome",
          "CoapplicantIncome",
          "CoapplicantIncome",
          "CoapplicantIncome",
          "CoapplicantIncome",
          "CoapplicantIncome",
          "CoapplicantIncome",
          "CoapplicantIncome",
          "CoapplicantIncome",
          "CoapplicantIncome",
          "CoapplicantIncome",
          "CoapplicantIncome",
          "CoapplicantIncome",
          "CoapplicantIncome",
          "CoapplicantIncome",
          "CoapplicantIncome",
          "CoapplicantIncome",
          "CoapplicantIncome",
          "CoapplicantIncome",
          "CoapplicantIncome",
          "CoapplicantIncome",
          "CoapplicantIncome",
          "CoapplicantIncome",
          "CoapplicantIncome",
          "CoapplicantIncome",
          "CoapplicantIncome",
          "CoapplicantIncome",
          "CoapplicantIncome",
          "CoapplicantIncome",
          "CoapplicantIncome",
          "CoapplicantIncome",
          "CoapplicantIncome",
          "CoapplicantIncome",
          "CoapplicantIncome",
          "CoapplicantIncome",
          "CoapplicantIncome",
          "CoapplicantIncome",
          "CoapplicantIncome",
          "CoapplicantIncome",
          "CoapplicantIncome",
          "CoapplicantIncome",
          "CoapplicantIncome",
          "CoapplicantIncome",
          "CoapplicantIncome",
          "CoapplicantIncome",
          "CoapplicantIncome",
          "CoapplicantIncome",
          "CoapplicantIncome",
          "CoapplicantIncome",
          "CoapplicantIncome",
          "CoapplicantIncome",
          "CoapplicantIncome",
          "CoapplicantIncome",
          "CoapplicantIncome",
          "CoapplicantIncome",
          "CoapplicantIncome",
          "CoapplicantIncome",
          "CoapplicantIncome",
          "CoapplicantIncome",
          "CoapplicantIncome",
          "CoapplicantIncome",
          "CoapplicantIncome",
          "CoapplicantIncome",
          "CoapplicantIncome",
          "CoapplicantIncome",
          "CoapplicantIncome",
          "CoapplicantIncome",
          "CoapplicantIncome",
          "CoapplicantIncome",
          "CoapplicantIncome",
          "CoapplicantIncome",
          "CoapplicantIncome",
          "CoapplicantIncome",
          "CoapplicantIncome",
          "CoapplicantIncome",
          "CoapplicantIncome",
          "CoapplicantIncome",
          "CoapplicantIncome",
          "CoapplicantIncome",
          "CoapplicantIncome",
          "CoapplicantIncome",
          "CoapplicantIncome",
          "CoapplicantIncome",
          "CoapplicantIncome",
          "CoapplicantIncome",
          "CoapplicantIncome",
          "CoapplicantIncome",
          "CoapplicantIncome",
          "CoapplicantIncome",
          "CoapplicantIncome",
          "CoapplicantIncome",
          "CoapplicantIncome",
          "CoapplicantIncome",
          "CoapplicantIncome",
          "CoapplicantIncome",
          "CoapplicantIncome",
          "CoapplicantIncome",
          "CoapplicantIncome",
          "CoapplicantIncome",
          "CoapplicantIncome",
          "CoapplicantIncome",
          "CoapplicantIncome",
          "CoapplicantIncome",
          "CoapplicantIncome",
          "CoapplicantIncome",
          "CoapplicantIncome",
          "CoapplicantIncome",
          "CoapplicantIncome",
          "CoapplicantIncome",
          "CoapplicantIncome",
          "CoapplicantIncome",
          "CoapplicantIncome",
          "CoapplicantIncome",
          "CoapplicantIncome",
          "CoapplicantIncome",
          "CoapplicantIncome",
          "CoapplicantIncome",
          "CoapplicantIncome",
          "CoapplicantIncome",
          "CoapplicantIncome",
          "CoapplicantIncome",
          "CoapplicantIncome",
          "CoapplicantIncome",
          "CoapplicantIncome",
          "CoapplicantIncome",
          "CoapplicantIncome",
          "CoapplicantIncome",
          "CoapplicantIncome",
          "CoapplicantIncome",
          "CoapplicantIncome",
          "CoapplicantIncome",
          "CoapplicantIncome",
          "CoapplicantIncome",
          "CoapplicantIncome",
          "CoapplicantIncome",
          "CoapplicantIncome",
          "CoapplicantIncome",
          "CoapplicantIncome",
          "CoapplicantIncome",
          "CoapplicantIncome",
          "CoapplicantIncome",
          "CoapplicantIncome",
          "CoapplicantIncome",
          "CoapplicantIncome",
          "CoapplicantIncome",
          "CoapplicantIncome",
          "CoapplicantIncome",
          "CoapplicantIncome",
          "CoapplicantIncome",
          "CoapplicantIncome",
          "CoapplicantIncome",
          "CoapplicantIncome",
          "CoapplicantIncome",
          "CoapplicantIncome",
          "CoapplicantIncome",
          "CoapplicantIncome",
          "CoapplicantIncome",
          "CoapplicantIncome",
          "CoapplicantIncome",
          "CoapplicantIncome",
          "CoapplicantIncome",
          "CoapplicantIncome",
          "CoapplicantIncome",
          "CoapplicantIncome",
          "CoapplicantIncome",
          "CoapplicantIncome",
          "CoapplicantIncome",
          "CoapplicantIncome",
          "CoapplicantIncome",
          "CoapplicantIncome",
          "CoapplicantIncome",
          "CoapplicantIncome",
          "CoapplicantIncome",
          "CoapplicantIncome",
          "CoapplicantIncome",
          "CoapplicantIncome",
          "CoapplicantIncome",
          "CoapplicantIncome",
          "CoapplicantIncome",
          "CoapplicantIncome",
          "CoapplicantIncome",
          "CoapplicantIncome",
          "CoapplicantIncome",
          "CoapplicantIncome",
          "CoapplicantIncome",
          "CoapplicantIncome",
          "CoapplicantIncome",
          "CoapplicantIncome",
          "CoapplicantIncome",
          "CoapplicantIncome",
          "CoapplicantIncome",
          "CoapplicantIncome",
          "CoapplicantIncome",
          "CoapplicantIncome",
          "CoapplicantIncome",
          "CoapplicantIncome",
          "CoapplicantIncome",
          "CoapplicantIncome",
          "CoapplicantIncome",
          "CoapplicantIncome",
          "CoapplicantIncome",
          "CoapplicantIncome",
          "CoapplicantIncome",
          "CoapplicantIncome",
          "CoapplicantIncome",
          "CoapplicantIncome",
          "CoapplicantIncome",
          "CoapplicantIncome",
          "CoapplicantIncome",
          "CoapplicantIncome",
          "CoapplicantIncome",
          "CoapplicantIncome",
          "CoapplicantIncome",
          "CoapplicantIncome",
          "CoapplicantIncome",
          "CoapplicantIncome",
          "CoapplicantIncome",
          "CoapplicantIncome",
          "CoapplicantIncome",
          "CoapplicantIncome",
          "CoapplicantIncome",
          "CoapplicantIncome",
          "CoapplicantIncome",
          "CoapplicantIncome",
          "CoapplicantIncome",
          "CoapplicantIncome",
          "CoapplicantIncome",
          "CoapplicantIncome",
          "CoapplicantIncome",
          "CoapplicantIncome",
          "CoapplicantIncome",
          "CoapplicantIncome",
          "CoapplicantIncome",
          "CoapplicantIncome",
          "CoapplicantIncome",
          "CoapplicantIncome",
          "CoapplicantIncome",
          "CoapplicantIncome",
          "CoapplicantIncome",
          "CoapplicantIncome",
          "CoapplicantIncome",
          "CoapplicantIncome",
          "CoapplicantIncome",
          "CoapplicantIncome",
          "CoapplicantIncome",
          "CoapplicantIncome",
          "CoapplicantIncome",
          "CoapplicantIncome",
          "CoapplicantIncome",
          "CoapplicantIncome",
          "CoapplicantIncome",
          "CoapplicantIncome",
          "CoapplicantIncome",
          "CoapplicantIncome",
          "CoapplicantIncome",
          "CoapplicantIncome",
          "CoapplicantIncome",
          "CoapplicantIncome",
          "CoapplicantIncome",
          "CoapplicantIncome",
          "CoapplicantIncome",
          "CoapplicantIncome",
          "CoapplicantIncome",
          "CoapplicantIncome",
          "CoapplicantIncome",
          "CoapplicantIncome",
          "CoapplicantIncome",
          "CoapplicantIncome",
          "CoapplicantIncome",
          "CoapplicantIncome",
          "CoapplicantIncome",
          "CoapplicantIncome",
          "CoapplicantIncome",
          "CoapplicantIncome",
          "CoapplicantIncome",
          "CoapplicantIncome",
          "CoapplicantIncome",
          "CoapplicantIncome",
          "CoapplicantIncome",
          "CoapplicantIncome",
          "CoapplicantIncome",
          "CoapplicantIncome",
          "CoapplicantIncome",
          "CoapplicantIncome",
          "CoapplicantIncome",
          "CoapplicantIncome",
          "CoapplicantIncome",
          "CoapplicantIncome",
          "CoapplicantIncome",
          "CoapplicantIncome",
          "CoapplicantIncome",
          "CoapplicantIncome",
          "CoapplicantIncome",
          "CoapplicantIncome",
          "CoapplicantIncome",
          "CoapplicantIncome",
          "CoapplicantIncome",
          "CoapplicantIncome",
          "CoapplicantIncome",
          "CoapplicantIncome",
          "CoapplicantIncome",
          "CoapplicantIncome",
          "CoapplicantIncome",
          "CoapplicantIncome",
          "CoapplicantIncome",
          "CoapplicantIncome",
          "CoapplicantIncome",
          "CoapplicantIncome",
          "CoapplicantIncome",
          "CoapplicantIncome",
          "CoapplicantIncome",
          "CoapplicantIncome",
          "CoapplicantIncome",
          "CoapplicantIncome",
          "CoapplicantIncome",
          "CoapplicantIncome",
          "CoapplicantIncome",
          "CoapplicantIncome",
          "CoapplicantIncome",
          "CoapplicantIncome",
          "CoapplicantIncome",
          "CoapplicantIncome",
          "CoapplicantIncome",
          "CoapplicantIncome",
          "CoapplicantIncome",
          "CoapplicantIncome",
          "CoapplicantIncome",
          "CoapplicantIncome",
          "CoapplicantIncome",
          "CoapplicantIncome",
          "CoapplicantIncome",
          "CoapplicantIncome",
          "CoapplicantIncome",
          "CoapplicantIncome",
          "CoapplicantIncome",
          "CoapplicantIncome",
          "CoapplicantIncome",
          "CoapplicantIncome",
          "CoapplicantIncome",
          "CoapplicantIncome",
          "CoapplicantIncome",
          "CoapplicantIncome",
          "CoapplicantIncome",
          "CoapplicantIncome",
          "CoapplicantIncome",
          "CoapplicantIncome",
          "CoapplicantIncome",
          "CoapplicantIncome",
          "CoapplicantIncome",
          "CoapplicantIncome",
          "CoapplicantIncome",
          "CoapplicantIncome",
          "CoapplicantIncome",
          "CoapplicantIncome",
          "CoapplicantIncome",
          "CoapplicantIncome",
          "CoapplicantIncome",
          "CoapplicantIncome",
          "CoapplicantIncome",
          "CoapplicantIncome",
          "CoapplicantIncome",
          "CoapplicantIncome",
          "CoapplicantIncome",
          "CoapplicantIncome",
          "CoapplicantIncome",
          "CoapplicantIncome",
          "CoapplicantIncome",
          "CoapplicantIncome",
          "CoapplicantIncome",
          "CoapplicantIncome",
          "CoapplicantIncome",
          "CoapplicantIncome",
          "CoapplicantIncome",
          "CoapplicantIncome",
          "CoapplicantIncome",
          "CoapplicantIncome",
          "CoapplicantIncome",
          "CoapplicantIncome",
          "CoapplicantIncome",
          "CoapplicantIncome",
          "CoapplicantIncome",
          "CoapplicantIncome",
          "CoapplicantIncome",
          "CoapplicantIncome",
          "CoapplicantIncome",
          "CoapplicantIncome",
          "CoapplicantIncome",
          "CoapplicantIncome",
          "CoapplicantIncome",
          "CoapplicantIncome",
          "CoapplicantIncome",
          "CoapplicantIncome",
          "CoapplicantIncome",
          "CoapplicantIncome",
          "CoapplicantIncome",
          "CoapplicantIncome",
          "CoapplicantIncome",
          "CoapplicantIncome",
          "CoapplicantIncome",
          "CoapplicantIncome",
          "CoapplicantIncome",
          "CoapplicantIncome",
          "CoapplicantIncome",
          "CoapplicantIncome",
          "CoapplicantIncome",
          "CoapplicantIncome",
          "CoapplicantIncome",
          "CoapplicantIncome",
          "CoapplicantIncome",
          "CoapplicantIncome",
          "CoapplicantIncome",
          "CoapplicantIncome",
          "CoapplicantIncome",
          "CoapplicantIncome",
          "CoapplicantIncome",
          "CoapplicantIncome",
          "CoapplicantIncome",
          "CoapplicantIncome",
          "CoapplicantIncome",
          "CoapplicantIncome",
          "CoapplicantIncome",
          "CoapplicantIncome",
          "CoapplicantIncome",
          "CoapplicantIncome",
          "CoapplicantIncome",
          "CoapplicantIncome",
          "CoapplicantIncome",
          "CoapplicantIncome",
          "CoapplicantIncome",
          "CoapplicantIncome",
          "CoapplicantIncome",
          "CoapplicantIncome",
          "CoapplicantIncome",
          "CoapplicantIncome",
          "CoapplicantIncome",
          "CoapplicantIncome",
          "CoapplicantIncome",
          "CoapplicantIncome",
          "CoapplicantIncome",
          "CoapplicantIncome",
          "CoapplicantIncome",
          "CoapplicantIncome",
          "CoapplicantIncome",
          "CoapplicantIncome",
          "CoapplicantIncome",
          "CoapplicantIncome",
          "CoapplicantIncome",
          "CoapplicantIncome",
          "CoapplicantIncome",
          "CoapplicantIncome",
          "CoapplicantIncome",
          "CoapplicantIncome",
          "CoapplicantIncome",
          "CoapplicantIncome",
          "CoapplicantIncome",
          "CoapplicantIncome",
          "CoapplicantIncome",
          "CoapplicantIncome",
          "CoapplicantIncome",
          "CoapplicantIncome",
          "CoapplicantIncome",
          "CoapplicantIncome",
          "CoapplicantIncome",
          "CoapplicantIncome",
          "CoapplicantIncome",
          "CoapplicantIncome",
          "CoapplicantIncome",
          "CoapplicantIncome",
          "CoapplicantIncome",
          "CoapplicantIncome",
          "CoapplicantIncome",
          "CoapplicantIncome",
          "CoapplicantIncome",
          "CoapplicantIncome",
          "CoapplicantIncome",
          "CoapplicantIncome",
          "CoapplicantIncome",
          "CoapplicantIncome",
          "CoapplicantIncome",
          "CoapplicantIncome",
          "CoapplicantIncome",
          "CoapplicantIncome",
          "CoapplicantIncome",
          "CoapplicantIncome",
          "CoapplicantIncome",
          "CoapplicantIncome",
          "CoapplicantIncome",
          "CoapplicantIncome",
          "CoapplicantIncome",
          "CoapplicantIncome",
          "CoapplicantIncome",
          "CoapplicantIncome",
          "CoapplicantIncome",
          "CoapplicantIncome",
          "CoapplicantIncome",
          "CoapplicantIncome",
          "CoapplicantIncome",
          "CoapplicantIncome",
          "CoapplicantIncome",
          "CoapplicantIncome",
          "CoapplicantIncome",
          "CoapplicantIncome",
          "CoapplicantIncome",
          "CoapplicantIncome",
          "CoapplicantIncome",
          "CoapplicantIncome",
          "CoapplicantIncome",
          "CoapplicantIncome",
          "CoapplicantIncome",
          "CoapplicantIncome",
          "CoapplicantIncome",
          "CoapplicantIncome",
          "CoapplicantIncome",
          "CoapplicantIncome",
          "CoapplicantIncome",
          "CoapplicantIncome",
          "CoapplicantIncome",
          "CoapplicantIncome",
          "CoapplicantIncome",
          "CoapplicantIncome",
          "CoapplicantIncome",
          "CoapplicantIncome",
          "CoapplicantIncome",
          "CoapplicantIncome",
          "CoapplicantIncome",
          "CoapplicantIncome",
          "CoapplicantIncome",
          "CoapplicantIncome",
          "CoapplicantIncome",
          "CoapplicantIncome",
          "CoapplicantIncome",
          "CoapplicantIncome",
          "CoapplicantIncome",
          "CoapplicantIncome",
          "CoapplicantIncome",
          "CoapplicantIncome",
          "CoapplicantIncome",
          "CoapplicantIncome",
          "CoapplicantIncome",
          "CoapplicantIncome",
          "CoapplicantIncome",
          "CoapplicantIncome",
          "CoapplicantIncome",
          "CoapplicantIncome",
          "CoapplicantIncome",
          "CoapplicantIncome",
          "CoapplicantIncome",
          "CoapplicantIncome",
          "CoapplicantIncome",
          "CoapplicantIncome",
          "CoapplicantIncome",
          "CoapplicantIncome",
          "CoapplicantIncome",
          "CoapplicantIncome",
          "CoapplicantIncome",
          "CoapplicantIncome",
          "CoapplicantIncome",
          "CoapplicantIncome",
          "CoapplicantIncome",
          "CoapplicantIncome",
          "CoapplicantIncome",
          "CoapplicantIncome",
          "CoapplicantIncome",
          "CoapplicantIncome",
          "CoapplicantIncome",
          "CoapplicantIncome",
          "CoapplicantIncome",
          "CoapplicantIncome",
          "CoapplicantIncome"
         ],
         "x0": " ",
         "xaxis": "x",
         "y": [
          0,
          1508,
          0,
          2358,
          0,
          4196,
          1516,
          2504,
          1526,
          10968,
          700,
          1840,
          8106,
          2840,
          1086,
          0,
          0,
          0,
          0,
          3500,
          0,
          5625,
          1911,
          2925,
          0,
          2253,
          1040,
          0,
          2083,
          3369,
          0,
          0,
          1667,
          3000,
          2067,
          1330,
          1459,
          7210,
          1668,
          0,
          1213,
          0,
          2336,
          0,
          0,
          0,
          0,
          3440,
          2275,
          1644,
          0,
          0,
          0,
          0,
          1167,
          1591,
          2200,
          2250,
          2859,
          3796,
          0,
          3449,
          0,
          0,
          4595,
          2254,
          0,
          0,
          0,
          3066,
          1875,
          0,
          0,
          1774,
          0,
          4750,
          3022,
          4000,
          2166,
          0,
          0,
          1881,
          2250,
          0,
          2531,
          2000,
          2118,
          0,
          4167,
          2900,
          5654,
          1820,
          0,
          0,
          0,
          2302,
          997,
          0,
          3541,
          3263,
          3806,
          0,
          3583,
          1030,
          1126,
          0,
          3600,
          754,
          0,
          2333,
          4114,
          0,
          0,
          0,
          2283,
          1398,
          2142,
          0,
          2667,
          0,
          8980,
          0,
          2014,
          0,
          1640,
          3850,
          2569,
          0,
          1929,
          0,
          0,
          0,
          7750,
          0,
          3500,
          0,
          1430,
          2083,
          0,
          0,
          2034,
          0,
          4486,
          0,
          1425,
          1666,
          830,
          0,
          3750,
          0,
          0,
          0,
          0,
          0,
          0,
          2083,
          5625,
          1041,
          0,
          1280,
          1447,
          0,
          3166,
          0,
          3333,
          0,
          0,
          1769,
          0,
          5625,
          736,
          1964,
          1619,
          11300,
          0,
          1451,
          7250,
          5063,
          0,
          0,
          0,
          4750,
          0,
          2138,
          0,
          0,
          0,
          0,
          0,
          0,
          2583,
          3750,
          2365,
          2816,
          0,
          2500,
          0,
          0,
          1083,
          0,
          0,
          0,
          2531,
          0,
          0,
          0,
          1250,
          0,
          0,
          3021,
          983,
          1800,
          1775,
          0,
          2383,
          0,
          1717,
          2791,
          1010,
          0,
          0,
          0,
          1695,
          0,
          2054,
          0,
          2598,
          0,
          1779,
          1260,
          0,
          0,
          0,
          0,
          5000,
          1983,
          5701,
          1300,
          4417,
          4333,
          0,
          0,
          1843,
          1868,
          3890,
          0,
          2167,
          7101,
          0,
          0,
          0,
          0,
          2100,
          0,
          4250,
          2209,
          0,
          0,
          0,
          3447,
          1387,
          1811,
          0,
          1560,
          0,
          0,
          1857,
          2223,
          0,
          1842,
          3274,
          1300,
          0,
          0,
          2426,
          800,
          985.7999878,
          1666,
          0,
          3053,
          1717,
          2000,
          0,
          0,
          2416,
          0,
          1560,
          0,
          3334,
          1250,
          0,
          0,
          2541,
          2925,
          2934,
          1750,
          0,
          1803,
          2500,
          0,
          1666,
          1863,
          0,
          0,
          0,
          2405,
          0,
          0,
          1640,
          0,
          2134,
          0,
          0,
          2167,
          189,
          1590,
          2985,
          0,
          4983,
          0,
          2160,
          2451,
          0,
          1793,
          0,
          0,
          0,
          4490,
          688,
          4600,
          0,
          0,
          1587,
          0,
          1229,
          0,
          2330,
          2458,
          3230,
          2168,
          4583,
          6250,
          0,
          4167,
          2083,
          0,
          505,
          0,
          3167,
          0,
          1666,
          3167,
          0,
          3667,
          2333,
          3033,
          0,
          0,
          0,
          0,
          0,
          5266,
          0,
          0,
          7873,
          1987,
          1459,
          923,
          4996,
          0,
          0,
          0,
          2500,
          4232,
          0,
          0,
          0,
          0,
          1600,
          3136,
          2417,
          0,
          0,
          0,
          2115,
          1625,
          1400,
          484,
          0,
          1459,
          1666,
          1800,
          0,
          0,
          20000,
          0,
          0,
          0,
          2400,
          0,
          0,
          0,
          0,
          0,
          0,
          2033,
          3237,
          0,
          0,
          20000,
          2773,
          1417,
          0,
          0,
          1719,
          1667,
          0,
          4300,
          0,
          0,
          16.12000084,
          0,
          0,
          0,
          0,
          2340,
          0,
          1851,
          1125,
          0,
          0,
          5064,
          1833,
          1993,
          0,
          8333,
          1210,
          0,
          1376,
          1710,
          1542,
          1255,
          1456,
          1733,
          2466,
          0,
          0,
          0,
          2569,
          0,
          0,
          0,
          2188,
          0,
          0,
          0,
          1664,
          2917,
          2451,
          2079,
          1500,
          0,
          0,
          4648,
          1014,
          1750,
          2250,
          1603,
          0,
          0,
          3150,
          0,
          0,
          2436,
          0,
          0,
          2083,
          0,
          2785,
          1131,
          0,
          0,
          2157,
          913,
          1700,
          2857,
          0,
          4416,
          3683,
          0,
          5624,
          5302,
          1483,
          4416,
          6667,
          3013,
          0,
          1287,
          2004,
          2035,
          6666,
          3666,
          3428,
          1632,
          1800,
          1915,
          0,
          1742,
          0,
          1424,
          7166,
          2087,
          0,
          0,
          1430,
          1302,
          0,
          5500,
          0,
          0,
          0,
          0,
          2042,
          3906,
          0,
          536,
          0,
          2845,
          0,
          0,
          2524,
          663,
          1950,
          0,
          1783,
          0,
          2016,
          0,
          2375,
          3250,
          2333,
          4266,
          1032,
          1625,
          0,
          2669,
          2306,
          242,
          0,
          2054,
          0,
          0,
          0,
          0,
          2500,
          0,
          2064,
          1750,
          1451,
          0,
          1625,
          0,
          461,
          2739,
          2232,
          2917,
          0,
          33837,
          0,
          0,
          1917,
          3000,
          1522,
          0,
          0,
          3416,
          0,
          3300,
          0,
          0,
          1000,
          0,
          0,
          0,
          41667,
          2792,
          0,
          4301,
          0,
          3800,
          2500,
          1411,
          1950,
          0,
          0,
          240,
          0,
          0
         ],
         "y0": " ",
         "yaxis": "y"
        }
       ],
       "layout": {
        "boxmode": "group",
        "legend": {
         "tracegroupgap": 0
        },
        "template": {
         "data": {
          "bar": [
           {
            "error_x": {
             "color": "#2a3f5f"
            },
            "error_y": {
             "color": "#2a3f5f"
            },
            "marker": {
             "line": {
              "color": "#E5ECF6",
              "width": 0.5
             },
             "pattern": {
              "fillmode": "overlay",
              "size": 10,
              "solidity": 0.2
             }
            },
            "type": "bar"
           }
          ],
          "barpolar": [
           {
            "marker": {
             "line": {
              "color": "#E5ECF6",
              "width": 0.5
             },
             "pattern": {
              "fillmode": "overlay",
              "size": 10,
              "solidity": 0.2
             }
            },
            "type": "barpolar"
           }
          ],
          "carpet": [
           {
            "aaxis": {
             "endlinecolor": "#2a3f5f",
             "gridcolor": "white",
             "linecolor": "white",
             "minorgridcolor": "white",
             "startlinecolor": "#2a3f5f"
            },
            "baxis": {
             "endlinecolor": "#2a3f5f",
             "gridcolor": "white",
             "linecolor": "white",
             "minorgridcolor": "white",
             "startlinecolor": "#2a3f5f"
            },
            "type": "carpet"
           }
          ],
          "choropleth": [
           {
            "colorbar": {
             "outlinewidth": 0,
             "ticks": ""
            },
            "type": "choropleth"
           }
          ],
          "contour": [
           {
            "colorbar": {
             "outlinewidth": 0,
             "ticks": ""
            },
            "colorscale": [
             [
              0,
              "#0d0887"
             ],
             [
              0.1111111111111111,
              "#46039f"
             ],
             [
              0.2222222222222222,
              "#7201a8"
             ],
             [
              0.3333333333333333,
              "#9c179e"
             ],
             [
              0.4444444444444444,
              "#bd3786"
             ],
             [
              0.5555555555555556,
              "#d8576b"
             ],
             [
              0.6666666666666666,
              "#ed7953"
             ],
             [
              0.7777777777777778,
              "#fb9f3a"
             ],
             [
              0.8888888888888888,
              "#fdca26"
             ],
             [
              1,
              "#f0f921"
             ]
            ],
            "type": "contour"
           }
          ],
          "contourcarpet": [
           {
            "colorbar": {
             "outlinewidth": 0,
             "ticks": ""
            },
            "type": "contourcarpet"
           }
          ],
          "heatmap": [
           {
            "colorbar": {
             "outlinewidth": 0,
             "ticks": ""
            },
            "colorscale": [
             [
              0,
              "#0d0887"
             ],
             [
              0.1111111111111111,
              "#46039f"
             ],
             [
              0.2222222222222222,
              "#7201a8"
             ],
             [
              0.3333333333333333,
              "#9c179e"
             ],
             [
              0.4444444444444444,
              "#bd3786"
             ],
             [
              0.5555555555555556,
              "#d8576b"
             ],
             [
              0.6666666666666666,
              "#ed7953"
             ],
             [
              0.7777777777777778,
              "#fb9f3a"
             ],
             [
              0.8888888888888888,
              "#fdca26"
             ],
             [
              1,
              "#f0f921"
             ]
            ],
            "type": "heatmap"
           }
          ],
          "heatmapgl": [
           {
            "colorbar": {
             "outlinewidth": 0,
             "ticks": ""
            },
            "colorscale": [
             [
              0,
              "#0d0887"
             ],
             [
              0.1111111111111111,
              "#46039f"
             ],
             [
              0.2222222222222222,
              "#7201a8"
             ],
             [
              0.3333333333333333,
              "#9c179e"
             ],
             [
              0.4444444444444444,
              "#bd3786"
             ],
             [
              0.5555555555555556,
              "#d8576b"
             ],
             [
              0.6666666666666666,
              "#ed7953"
             ],
             [
              0.7777777777777778,
              "#fb9f3a"
             ],
             [
              0.8888888888888888,
              "#fdca26"
             ],
             [
              1,
              "#f0f921"
             ]
            ],
            "type": "heatmapgl"
           }
          ],
          "histogram": [
           {
            "marker": {
             "pattern": {
              "fillmode": "overlay",
              "size": 10,
              "solidity": 0.2
             }
            },
            "type": "histogram"
           }
          ],
          "histogram2d": [
           {
            "colorbar": {
             "outlinewidth": 0,
             "ticks": ""
            },
            "colorscale": [
             [
              0,
              "#0d0887"
             ],
             [
              0.1111111111111111,
              "#46039f"
             ],
             [
              0.2222222222222222,
              "#7201a8"
             ],
             [
              0.3333333333333333,
              "#9c179e"
             ],
             [
              0.4444444444444444,
              "#bd3786"
             ],
             [
              0.5555555555555556,
              "#d8576b"
             ],
             [
              0.6666666666666666,
              "#ed7953"
             ],
             [
              0.7777777777777778,
              "#fb9f3a"
             ],
             [
              0.8888888888888888,
              "#fdca26"
             ],
             [
              1,
              "#f0f921"
             ]
            ],
            "type": "histogram2d"
           }
          ],
          "histogram2dcontour": [
           {
            "colorbar": {
             "outlinewidth": 0,
             "ticks": ""
            },
            "colorscale": [
             [
              0,
              "#0d0887"
             ],
             [
              0.1111111111111111,
              "#46039f"
             ],
             [
              0.2222222222222222,
              "#7201a8"
             ],
             [
              0.3333333333333333,
              "#9c179e"
             ],
             [
              0.4444444444444444,
              "#bd3786"
             ],
             [
              0.5555555555555556,
              "#d8576b"
             ],
             [
              0.6666666666666666,
              "#ed7953"
             ],
             [
              0.7777777777777778,
              "#fb9f3a"
             ],
             [
              0.8888888888888888,
              "#fdca26"
             ],
             [
              1,
              "#f0f921"
             ]
            ],
            "type": "histogram2dcontour"
           }
          ],
          "mesh3d": [
           {
            "colorbar": {
             "outlinewidth": 0,
             "ticks": ""
            },
            "type": "mesh3d"
           }
          ],
          "parcoords": [
           {
            "line": {
             "colorbar": {
              "outlinewidth": 0,
              "ticks": ""
             }
            },
            "type": "parcoords"
           }
          ],
          "pie": [
           {
            "automargin": true,
            "type": "pie"
           }
          ],
          "scatter": [
           {
            "fillpattern": {
             "fillmode": "overlay",
             "size": 10,
             "solidity": 0.2
            },
            "type": "scatter"
           }
          ],
          "scatter3d": [
           {
            "line": {
             "colorbar": {
              "outlinewidth": 0,
              "ticks": ""
             }
            },
            "marker": {
             "colorbar": {
              "outlinewidth": 0,
              "ticks": ""
             }
            },
            "type": "scatter3d"
           }
          ],
          "scattercarpet": [
           {
            "marker": {
             "colorbar": {
              "outlinewidth": 0,
              "ticks": ""
             }
            },
            "type": "scattercarpet"
           }
          ],
          "scattergeo": [
           {
            "marker": {
             "colorbar": {
              "outlinewidth": 0,
              "ticks": ""
             }
            },
            "type": "scattergeo"
           }
          ],
          "scattergl": [
           {
            "marker": {
             "colorbar": {
              "outlinewidth": 0,
              "ticks": ""
             }
            },
            "type": "scattergl"
           }
          ],
          "scattermapbox": [
           {
            "marker": {
             "colorbar": {
              "outlinewidth": 0,
              "ticks": ""
             }
            },
            "type": "scattermapbox"
           }
          ],
          "scatterpolar": [
           {
            "marker": {
             "colorbar": {
              "outlinewidth": 0,
              "ticks": ""
             }
            },
            "type": "scatterpolar"
           }
          ],
          "scatterpolargl": [
           {
            "marker": {
             "colorbar": {
              "outlinewidth": 0,
              "ticks": ""
             }
            },
            "type": "scatterpolargl"
           }
          ],
          "scatterternary": [
           {
            "marker": {
             "colorbar": {
              "outlinewidth": 0,
              "ticks": ""
             }
            },
            "type": "scatterternary"
           }
          ],
          "surface": [
           {
            "colorbar": {
             "outlinewidth": 0,
             "ticks": ""
            },
            "colorscale": [
             [
              0,
              "#0d0887"
             ],
             [
              0.1111111111111111,
              "#46039f"
             ],
             [
              0.2222222222222222,
              "#7201a8"
             ],
             [
              0.3333333333333333,
              "#9c179e"
             ],
             [
              0.4444444444444444,
              "#bd3786"
             ],
             [
              0.5555555555555556,
              "#d8576b"
             ],
             [
              0.6666666666666666,
              "#ed7953"
             ],
             [
              0.7777777777777778,
              "#fb9f3a"
             ],
             [
              0.8888888888888888,
              "#fdca26"
             ],
             [
              1,
              "#f0f921"
             ]
            ],
            "type": "surface"
           }
          ],
          "table": [
           {
            "cells": {
             "fill": {
              "color": "#EBF0F8"
             },
             "line": {
              "color": "white"
             }
            },
            "header": {
             "fill": {
              "color": "#C8D4E3"
             },
             "line": {
              "color": "white"
             }
            },
            "type": "table"
           }
          ]
         },
         "layout": {
          "annotationdefaults": {
           "arrowcolor": "#2a3f5f",
           "arrowhead": 0,
           "arrowwidth": 1
          },
          "autotypenumbers": "strict",
          "coloraxis": {
           "colorbar": {
            "outlinewidth": 0,
            "ticks": ""
           }
          },
          "colorscale": {
           "diverging": [
            [
             0,
             "#8e0152"
            ],
            [
             0.1,
             "#c51b7d"
            ],
            [
             0.2,
             "#de77ae"
            ],
            [
             0.3,
             "#f1b6da"
            ],
            [
             0.4,
             "#fde0ef"
            ],
            [
             0.5,
             "#f7f7f7"
            ],
            [
             0.6,
             "#e6f5d0"
            ],
            [
             0.7,
             "#b8e186"
            ],
            [
             0.8,
             "#7fbc41"
            ],
            [
             0.9,
             "#4d9221"
            ],
            [
             1,
             "#276419"
            ]
           ],
           "sequential": [
            [
             0,
             "#0d0887"
            ],
            [
             0.1111111111111111,
             "#46039f"
            ],
            [
             0.2222222222222222,
             "#7201a8"
            ],
            [
             0.3333333333333333,
             "#9c179e"
            ],
            [
             0.4444444444444444,
             "#bd3786"
            ],
            [
             0.5555555555555556,
             "#d8576b"
            ],
            [
             0.6666666666666666,
             "#ed7953"
            ],
            [
             0.7777777777777778,
             "#fb9f3a"
            ],
            [
             0.8888888888888888,
             "#fdca26"
            ],
            [
             1,
             "#f0f921"
            ]
           ],
           "sequentialminus": [
            [
             0,
             "#0d0887"
            ],
            [
             0.1111111111111111,
             "#46039f"
            ],
            [
             0.2222222222222222,
             "#7201a8"
            ],
            [
             0.3333333333333333,
             "#9c179e"
            ],
            [
             0.4444444444444444,
             "#bd3786"
            ],
            [
             0.5555555555555556,
             "#d8576b"
            ],
            [
             0.6666666666666666,
             "#ed7953"
            ],
            [
             0.7777777777777778,
             "#fb9f3a"
            ],
            [
             0.8888888888888888,
             "#fdca26"
            ],
            [
             1,
             "#f0f921"
            ]
           ]
          },
          "colorway": [
           "#636efa",
           "#EF553B",
           "#00cc96",
           "#ab63fa",
           "#FFA15A",
           "#19d3f3",
           "#FF6692",
           "#B6E880",
           "#FF97FF",
           "#FECB52"
          ],
          "font": {
           "color": "#2a3f5f"
          },
          "geo": {
           "bgcolor": "white",
           "lakecolor": "white",
           "landcolor": "#E5ECF6",
           "showlakes": true,
           "showland": true,
           "subunitcolor": "white"
          },
          "hoverlabel": {
           "align": "left"
          },
          "hovermode": "closest",
          "mapbox": {
           "style": "light"
          },
          "paper_bgcolor": "white",
          "plot_bgcolor": "#E5ECF6",
          "polar": {
           "angularaxis": {
            "gridcolor": "white",
            "linecolor": "white",
            "ticks": ""
           },
           "bgcolor": "#E5ECF6",
           "radialaxis": {
            "gridcolor": "white",
            "linecolor": "white",
            "ticks": ""
           }
          },
          "scene": {
           "xaxis": {
            "backgroundcolor": "#E5ECF6",
            "gridcolor": "white",
            "gridwidth": 2,
            "linecolor": "white",
            "showbackground": true,
            "ticks": "",
            "zerolinecolor": "white"
           },
           "yaxis": {
            "backgroundcolor": "#E5ECF6",
            "gridcolor": "white",
            "gridwidth": 2,
            "linecolor": "white",
            "showbackground": true,
            "ticks": "",
            "zerolinecolor": "white"
           },
           "zaxis": {
            "backgroundcolor": "#E5ECF6",
            "gridcolor": "white",
            "gridwidth": 2,
            "linecolor": "white",
            "showbackground": true,
            "ticks": "",
            "zerolinecolor": "white"
           }
          },
          "shapedefaults": {
           "line": {
            "color": "#2a3f5f"
           }
          },
          "ternary": {
           "aaxis": {
            "gridcolor": "white",
            "linecolor": "white",
            "ticks": ""
           },
           "baxis": {
            "gridcolor": "white",
            "linecolor": "white",
            "ticks": ""
           },
           "bgcolor": "#E5ECF6",
           "caxis": {
            "gridcolor": "white",
            "linecolor": "white",
            "ticks": ""
           }
          },
          "title": {
           "x": 0.05
          },
          "xaxis": {
           "automargin": true,
           "gridcolor": "white",
           "linecolor": "white",
           "ticks": "",
           "title": {
            "standoff": 15
           },
           "zerolinecolor": "white",
           "zerolinewidth": 2
          },
          "yaxis": {
           "automargin": true,
           "gridcolor": "white",
           "linecolor": "white",
           "ticks": "",
           "title": {
            "standoff": 15
           },
           "zerolinecolor": "white",
           "zerolinewidth": 2
          }
         }
        },
        "title": {
         "text": "Outliers in CoapplicantIncome"
        },
        "xaxis": {
         "anchor": "y",
         "domain": [
          0,
          1
         ],
         "title": {
          "text": "variable"
         }
        },
        "yaxis": {
         "anchor": "x",
         "domain": [
          0,
          1
         ],
         "title": {
          "text": "value"
         }
        }
       }
      },
      "text/html": [
       "<div>                            <div id=\"4c2a14df-6d9e-4c0a-841f-b497d707a912\" class=\"plotly-graph-div\" style=\"height:525px; width:100%;\"></div>            <script type=\"text/javascript\">                require([\"plotly\"], function(Plotly) {                    window.PLOTLYENV=window.PLOTLYENV || {};                                    if (document.getElementById(\"4c2a14df-6d9e-4c0a-841f-b497d707a912\")) {                    Plotly.newPlot(                        \"4c2a14df-6d9e-4c0a-841f-b497d707a912\",                        [{\"alignmentgroup\":\"True\",\"boxpoints\":\"all\",\"hovertemplate\":\"variable=%{x}\\u003cbr\\u003evalue=%{y}\\u003cextra\\u003e\\u003c\\u002fextra\\u003e\",\"legendgroup\":\"\",\"marker\":{\"color\":\"#636efa\"},\"name\":\"\",\"notched\":false,\"offsetgroup\":\"\",\"orientation\":\"v\",\"showlegend\":false,\"x\":[\"CoapplicantIncome\",\"CoapplicantIncome\",\"CoapplicantIncome\",\"CoapplicantIncome\",\"CoapplicantIncome\",\"CoapplicantIncome\",\"CoapplicantIncome\",\"CoapplicantIncome\",\"CoapplicantIncome\",\"CoapplicantIncome\",\"CoapplicantIncome\",\"CoapplicantIncome\",\"CoapplicantIncome\",\"CoapplicantIncome\",\"CoapplicantIncome\",\"CoapplicantIncome\",\"CoapplicantIncome\",\"CoapplicantIncome\",\"CoapplicantIncome\",\"CoapplicantIncome\",\"CoapplicantIncome\",\"CoapplicantIncome\",\"CoapplicantIncome\",\"CoapplicantIncome\",\"CoapplicantIncome\",\"CoapplicantIncome\",\"CoapplicantIncome\",\"CoapplicantIncome\",\"CoapplicantIncome\",\"CoapplicantIncome\",\"CoapplicantIncome\",\"CoapplicantIncome\",\"CoapplicantIncome\",\"CoapplicantIncome\",\"CoapplicantIncome\",\"CoapplicantIncome\",\"CoapplicantIncome\",\"CoapplicantIncome\",\"CoapplicantIncome\",\"CoapplicantIncome\",\"CoapplicantIncome\",\"CoapplicantIncome\",\"CoapplicantIncome\",\"CoapplicantIncome\",\"CoapplicantIncome\",\"CoapplicantIncome\",\"CoapplicantIncome\",\"CoapplicantIncome\",\"CoapplicantIncome\",\"CoapplicantIncome\",\"CoapplicantIncome\",\"CoapplicantIncome\",\"CoapplicantIncome\",\"CoapplicantIncome\",\"CoapplicantIncome\",\"CoapplicantIncome\",\"CoapplicantIncome\",\"CoapplicantIncome\",\"CoapplicantIncome\",\"CoapplicantIncome\",\"CoapplicantIncome\",\"CoapplicantIncome\",\"CoapplicantIncome\",\"CoapplicantIncome\",\"CoapplicantIncome\",\"CoapplicantIncome\",\"CoapplicantIncome\",\"CoapplicantIncome\",\"CoapplicantIncome\",\"CoapplicantIncome\",\"CoapplicantIncome\",\"CoapplicantIncome\",\"CoapplicantIncome\",\"CoapplicantIncome\",\"CoapplicantIncome\",\"CoapplicantIncome\",\"CoapplicantIncome\",\"CoapplicantIncome\",\"CoapplicantIncome\",\"CoapplicantIncome\",\"CoapplicantIncome\",\"CoapplicantIncome\",\"CoapplicantIncome\",\"CoapplicantIncome\",\"CoapplicantIncome\",\"CoapplicantIncome\",\"CoapplicantIncome\",\"CoapplicantIncome\",\"CoapplicantIncome\",\"CoapplicantIncome\",\"CoapplicantIncome\",\"CoapplicantIncome\",\"CoapplicantIncome\",\"CoapplicantIncome\",\"CoapplicantIncome\",\"CoapplicantIncome\",\"CoapplicantIncome\",\"CoapplicantIncome\",\"CoapplicantIncome\",\"CoapplicantIncome\",\"CoapplicantIncome\",\"CoapplicantIncome\",\"CoapplicantIncome\",\"CoapplicantIncome\",\"CoapplicantIncome\",\"CoapplicantIncome\",\"CoapplicantIncome\",\"CoapplicantIncome\",\"CoapplicantIncome\",\"CoapplicantIncome\",\"CoapplicantIncome\",\"CoapplicantIncome\",\"CoapplicantIncome\",\"CoapplicantIncome\",\"CoapplicantIncome\",\"CoapplicantIncome\",\"CoapplicantIncome\",\"CoapplicantIncome\",\"CoapplicantIncome\",\"CoapplicantIncome\",\"CoapplicantIncome\",\"CoapplicantIncome\",\"CoapplicantIncome\",\"CoapplicantIncome\",\"CoapplicantIncome\",\"CoapplicantIncome\",\"CoapplicantIncome\",\"CoapplicantIncome\",\"CoapplicantIncome\",\"CoapplicantIncome\",\"CoapplicantIncome\",\"CoapplicantIncome\",\"CoapplicantIncome\",\"CoapplicantIncome\",\"CoapplicantIncome\",\"CoapplicantIncome\",\"CoapplicantIncome\",\"CoapplicantIncome\",\"CoapplicantIncome\",\"CoapplicantIncome\",\"CoapplicantIncome\",\"CoapplicantIncome\",\"CoapplicantIncome\",\"CoapplicantIncome\",\"CoapplicantIncome\",\"CoapplicantIncome\",\"CoapplicantIncome\",\"CoapplicantIncome\",\"CoapplicantIncome\",\"CoapplicantIncome\",\"CoapplicantIncome\",\"CoapplicantIncome\",\"CoapplicantIncome\",\"CoapplicantIncome\",\"CoapplicantIncome\",\"CoapplicantIncome\",\"CoapplicantIncome\",\"CoapplicantIncome\",\"CoapplicantIncome\",\"CoapplicantIncome\",\"CoapplicantIncome\",\"CoapplicantIncome\",\"CoapplicantIncome\",\"CoapplicantIncome\",\"CoapplicantIncome\",\"CoapplicantIncome\",\"CoapplicantIncome\",\"CoapplicantIncome\",\"CoapplicantIncome\",\"CoapplicantIncome\",\"CoapplicantIncome\",\"CoapplicantIncome\",\"CoapplicantIncome\",\"CoapplicantIncome\",\"CoapplicantIncome\",\"CoapplicantIncome\",\"CoapplicantIncome\",\"CoapplicantIncome\",\"CoapplicantIncome\",\"CoapplicantIncome\",\"CoapplicantIncome\",\"CoapplicantIncome\",\"CoapplicantIncome\",\"CoapplicantIncome\",\"CoapplicantIncome\",\"CoapplicantIncome\",\"CoapplicantIncome\",\"CoapplicantIncome\",\"CoapplicantIncome\",\"CoapplicantIncome\",\"CoapplicantIncome\",\"CoapplicantIncome\",\"CoapplicantIncome\",\"CoapplicantIncome\",\"CoapplicantIncome\",\"CoapplicantIncome\",\"CoapplicantIncome\",\"CoapplicantIncome\",\"CoapplicantIncome\",\"CoapplicantIncome\",\"CoapplicantIncome\",\"CoapplicantIncome\",\"CoapplicantIncome\",\"CoapplicantIncome\",\"CoapplicantIncome\",\"CoapplicantIncome\",\"CoapplicantIncome\",\"CoapplicantIncome\",\"CoapplicantIncome\",\"CoapplicantIncome\",\"CoapplicantIncome\",\"CoapplicantIncome\",\"CoapplicantIncome\",\"CoapplicantIncome\",\"CoapplicantIncome\",\"CoapplicantIncome\",\"CoapplicantIncome\",\"CoapplicantIncome\",\"CoapplicantIncome\",\"CoapplicantIncome\",\"CoapplicantIncome\",\"CoapplicantIncome\",\"CoapplicantIncome\",\"CoapplicantIncome\",\"CoapplicantIncome\",\"CoapplicantIncome\",\"CoapplicantIncome\",\"CoapplicantIncome\",\"CoapplicantIncome\",\"CoapplicantIncome\",\"CoapplicantIncome\",\"CoapplicantIncome\",\"CoapplicantIncome\",\"CoapplicantIncome\",\"CoapplicantIncome\",\"CoapplicantIncome\",\"CoapplicantIncome\",\"CoapplicantIncome\",\"CoapplicantIncome\",\"CoapplicantIncome\",\"CoapplicantIncome\",\"CoapplicantIncome\",\"CoapplicantIncome\",\"CoapplicantIncome\",\"CoapplicantIncome\",\"CoapplicantIncome\",\"CoapplicantIncome\",\"CoapplicantIncome\",\"CoapplicantIncome\",\"CoapplicantIncome\",\"CoapplicantIncome\",\"CoapplicantIncome\",\"CoapplicantIncome\",\"CoapplicantIncome\",\"CoapplicantIncome\",\"CoapplicantIncome\",\"CoapplicantIncome\",\"CoapplicantIncome\",\"CoapplicantIncome\",\"CoapplicantIncome\",\"CoapplicantIncome\",\"CoapplicantIncome\",\"CoapplicantIncome\",\"CoapplicantIncome\",\"CoapplicantIncome\",\"CoapplicantIncome\",\"CoapplicantIncome\",\"CoapplicantIncome\",\"CoapplicantIncome\",\"CoapplicantIncome\",\"CoapplicantIncome\",\"CoapplicantIncome\",\"CoapplicantIncome\",\"CoapplicantIncome\",\"CoapplicantIncome\",\"CoapplicantIncome\",\"CoapplicantIncome\",\"CoapplicantIncome\",\"CoapplicantIncome\",\"CoapplicantIncome\",\"CoapplicantIncome\",\"CoapplicantIncome\",\"CoapplicantIncome\",\"CoapplicantIncome\",\"CoapplicantIncome\",\"CoapplicantIncome\",\"CoapplicantIncome\",\"CoapplicantIncome\",\"CoapplicantIncome\",\"CoapplicantIncome\",\"CoapplicantIncome\",\"CoapplicantIncome\",\"CoapplicantIncome\",\"CoapplicantIncome\",\"CoapplicantIncome\",\"CoapplicantIncome\",\"CoapplicantIncome\",\"CoapplicantIncome\",\"CoapplicantIncome\",\"CoapplicantIncome\",\"CoapplicantIncome\",\"CoapplicantIncome\",\"CoapplicantIncome\",\"CoapplicantIncome\",\"CoapplicantIncome\",\"CoapplicantIncome\",\"CoapplicantIncome\",\"CoapplicantIncome\",\"CoapplicantIncome\",\"CoapplicantIncome\",\"CoapplicantIncome\",\"CoapplicantIncome\",\"CoapplicantIncome\",\"CoapplicantIncome\",\"CoapplicantIncome\",\"CoapplicantIncome\",\"CoapplicantIncome\",\"CoapplicantIncome\",\"CoapplicantIncome\",\"CoapplicantIncome\",\"CoapplicantIncome\",\"CoapplicantIncome\",\"CoapplicantIncome\",\"CoapplicantIncome\",\"CoapplicantIncome\",\"CoapplicantIncome\",\"CoapplicantIncome\",\"CoapplicantIncome\",\"CoapplicantIncome\",\"CoapplicantIncome\",\"CoapplicantIncome\",\"CoapplicantIncome\",\"CoapplicantIncome\",\"CoapplicantIncome\",\"CoapplicantIncome\",\"CoapplicantIncome\",\"CoapplicantIncome\",\"CoapplicantIncome\",\"CoapplicantIncome\",\"CoapplicantIncome\",\"CoapplicantIncome\",\"CoapplicantIncome\",\"CoapplicantIncome\",\"CoapplicantIncome\",\"CoapplicantIncome\",\"CoapplicantIncome\",\"CoapplicantIncome\",\"CoapplicantIncome\",\"CoapplicantIncome\",\"CoapplicantIncome\",\"CoapplicantIncome\",\"CoapplicantIncome\",\"CoapplicantIncome\",\"CoapplicantIncome\",\"CoapplicantIncome\",\"CoapplicantIncome\",\"CoapplicantIncome\",\"CoapplicantIncome\",\"CoapplicantIncome\",\"CoapplicantIncome\",\"CoapplicantIncome\",\"CoapplicantIncome\",\"CoapplicantIncome\",\"CoapplicantIncome\",\"CoapplicantIncome\",\"CoapplicantIncome\",\"CoapplicantIncome\",\"CoapplicantIncome\",\"CoapplicantIncome\",\"CoapplicantIncome\",\"CoapplicantIncome\",\"CoapplicantIncome\",\"CoapplicantIncome\",\"CoapplicantIncome\",\"CoapplicantIncome\",\"CoapplicantIncome\",\"CoapplicantIncome\",\"CoapplicantIncome\",\"CoapplicantIncome\",\"CoapplicantIncome\",\"CoapplicantIncome\",\"CoapplicantIncome\",\"CoapplicantIncome\",\"CoapplicantIncome\",\"CoapplicantIncome\",\"CoapplicantIncome\",\"CoapplicantIncome\",\"CoapplicantIncome\",\"CoapplicantIncome\",\"CoapplicantIncome\",\"CoapplicantIncome\",\"CoapplicantIncome\",\"CoapplicantIncome\",\"CoapplicantIncome\",\"CoapplicantIncome\",\"CoapplicantIncome\",\"CoapplicantIncome\",\"CoapplicantIncome\",\"CoapplicantIncome\",\"CoapplicantIncome\",\"CoapplicantIncome\",\"CoapplicantIncome\",\"CoapplicantIncome\",\"CoapplicantIncome\",\"CoapplicantIncome\",\"CoapplicantIncome\",\"CoapplicantIncome\",\"CoapplicantIncome\",\"CoapplicantIncome\",\"CoapplicantIncome\",\"CoapplicantIncome\",\"CoapplicantIncome\",\"CoapplicantIncome\",\"CoapplicantIncome\",\"CoapplicantIncome\",\"CoapplicantIncome\",\"CoapplicantIncome\",\"CoapplicantIncome\",\"CoapplicantIncome\",\"CoapplicantIncome\",\"CoapplicantIncome\",\"CoapplicantIncome\",\"CoapplicantIncome\",\"CoapplicantIncome\",\"CoapplicantIncome\",\"CoapplicantIncome\",\"CoapplicantIncome\",\"CoapplicantIncome\",\"CoapplicantIncome\",\"CoapplicantIncome\",\"CoapplicantIncome\",\"CoapplicantIncome\",\"CoapplicantIncome\",\"CoapplicantIncome\",\"CoapplicantIncome\",\"CoapplicantIncome\",\"CoapplicantIncome\",\"CoapplicantIncome\",\"CoapplicantIncome\",\"CoapplicantIncome\",\"CoapplicantIncome\",\"CoapplicantIncome\",\"CoapplicantIncome\",\"CoapplicantIncome\",\"CoapplicantIncome\",\"CoapplicantIncome\",\"CoapplicantIncome\",\"CoapplicantIncome\",\"CoapplicantIncome\",\"CoapplicantIncome\",\"CoapplicantIncome\",\"CoapplicantIncome\",\"CoapplicantIncome\",\"CoapplicantIncome\",\"CoapplicantIncome\",\"CoapplicantIncome\",\"CoapplicantIncome\",\"CoapplicantIncome\",\"CoapplicantIncome\",\"CoapplicantIncome\",\"CoapplicantIncome\",\"CoapplicantIncome\",\"CoapplicantIncome\",\"CoapplicantIncome\",\"CoapplicantIncome\",\"CoapplicantIncome\",\"CoapplicantIncome\",\"CoapplicantIncome\",\"CoapplicantIncome\",\"CoapplicantIncome\",\"CoapplicantIncome\",\"CoapplicantIncome\",\"CoapplicantIncome\",\"CoapplicantIncome\",\"CoapplicantIncome\",\"CoapplicantIncome\",\"CoapplicantIncome\",\"CoapplicantIncome\",\"CoapplicantIncome\",\"CoapplicantIncome\",\"CoapplicantIncome\",\"CoapplicantIncome\",\"CoapplicantIncome\",\"CoapplicantIncome\",\"CoapplicantIncome\",\"CoapplicantIncome\",\"CoapplicantIncome\",\"CoapplicantIncome\",\"CoapplicantIncome\",\"CoapplicantIncome\",\"CoapplicantIncome\",\"CoapplicantIncome\",\"CoapplicantIncome\",\"CoapplicantIncome\",\"CoapplicantIncome\",\"CoapplicantIncome\",\"CoapplicantIncome\",\"CoapplicantIncome\",\"CoapplicantIncome\",\"CoapplicantIncome\",\"CoapplicantIncome\",\"CoapplicantIncome\",\"CoapplicantIncome\",\"CoapplicantIncome\",\"CoapplicantIncome\",\"CoapplicantIncome\",\"CoapplicantIncome\",\"CoapplicantIncome\",\"CoapplicantIncome\",\"CoapplicantIncome\",\"CoapplicantIncome\",\"CoapplicantIncome\",\"CoapplicantIncome\",\"CoapplicantIncome\",\"CoapplicantIncome\",\"CoapplicantIncome\",\"CoapplicantIncome\",\"CoapplicantIncome\",\"CoapplicantIncome\",\"CoapplicantIncome\",\"CoapplicantIncome\",\"CoapplicantIncome\",\"CoapplicantIncome\",\"CoapplicantIncome\",\"CoapplicantIncome\",\"CoapplicantIncome\",\"CoapplicantIncome\",\"CoapplicantIncome\",\"CoapplicantIncome\",\"CoapplicantIncome\",\"CoapplicantIncome\",\"CoapplicantIncome\",\"CoapplicantIncome\",\"CoapplicantIncome\",\"CoapplicantIncome\",\"CoapplicantIncome\",\"CoapplicantIncome\",\"CoapplicantIncome\",\"CoapplicantIncome\",\"CoapplicantIncome\",\"CoapplicantIncome\",\"CoapplicantIncome\",\"CoapplicantIncome\",\"CoapplicantIncome\",\"CoapplicantIncome\",\"CoapplicantIncome\",\"CoapplicantIncome\",\"CoapplicantIncome\",\"CoapplicantIncome\",\"CoapplicantIncome\",\"CoapplicantIncome\",\"CoapplicantIncome\",\"CoapplicantIncome\",\"CoapplicantIncome\",\"CoapplicantIncome\",\"CoapplicantIncome\",\"CoapplicantIncome\",\"CoapplicantIncome\",\"CoapplicantIncome\",\"CoapplicantIncome\",\"CoapplicantIncome\",\"CoapplicantIncome\",\"CoapplicantIncome\",\"CoapplicantIncome\",\"CoapplicantIncome\",\"CoapplicantIncome\",\"CoapplicantIncome\",\"CoapplicantIncome\",\"CoapplicantIncome\",\"CoapplicantIncome\",\"CoapplicantIncome\",\"CoapplicantIncome\",\"CoapplicantIncome\",\"CoapplicantIncome\",\"CoapplicantIncome\",\"CoapplicantIncome\",\"CoapplicantIncome\",\"CoapplicantIncome\",\"CoapplicantIncome\",\"CoapplicantIncome\",\"CoapplicantIncome\",\"CoapplicantIncome\",\"CoapplicantIncome\",\"CoapplicantIncome\",\"CoapplicantIncome\",\"CoapplicantIncome\",\"CoapplicantIncome\",\"CoapplicantIncome\",\"CoapplicantIncome\",\"CoapplicantIncome\",\"CoapplicantIncome\",\"CoapplicantIncome\",\"CoapplicantIncome\",\"CoapplicantIncome\",\"CoapplicantIncome\",\"CoapplicantIncome\",\"CoapplicantIncome\",\"CoapplicantIncome\"],\"x0\":\" \",\"xaxis\":\"x\",\"y\":[0.0,1508.0,0.0,2358.0,0.0,4196.0,1516.0,2504.0,1526.0,10968.0,700.0,1840.0,8106.0,2840.0,1086.0,0.0,0.0,0.0,0.0,3500.0,0.0,5625.0,1911.0,2925.0,0.0,2253.0,1040.0,0.0,2083.0,3369.0,0.0,0.0,1667.0,3000.0,2067.0,1330.0,1459.0,7210.0,1668.0,0.0,1213.0,0.0,2336.0,0.0,0.0,0.0,0.0,3440.0,2275.0,1644.0,0.0,0.0,0.0,0.0,1167.0,1591.0,2200.0,2250.0,2859.0,3796.0,0.0,3449.0,0.0,0.0,4595.0,2254.0,0.0,0.0,0.0,3066.0,1875.0,0.0,0.0,1774.0,0.0,4750.0,3022.0,4000.0,2166.0,0.0,0.0,1881.0,2250.0,0.0,2531.0,2000.0,2118.0,0.0,4167.0,2900.0,5654.0,1820.0,0.0,0.0,0.0,2302.0,997.0,0.0,3541.0,3263.0,3806.0,0.0,3583.0,1030.0,1126.0,0.0,3600.0,754.0,0.0,2333.0,4114.0,0.0,0.0,0.0,2283.0,1398.0,2142.0,0.0,2667.0,0.0,8980.0,0.0,2014.0,0.0,1640.0,3850.0,2569.0,0.0,1929.0,0.0,0.0,0.0,7750.0,0.0,3500.0,0.0,1430.0,2083.0,0.0,0.0,2034.0,0.0,4486.0,0.0,1425.0,1666.0,830.0,0.0,3750.0,0.0,0.0,0.0,0.0,0.0,0.0,2083.0,5625.0,1041.0,0.0,1280.0,1447.0,0.0,3166.0,0.0,3333.0,0.0,0.0,1769.0,0.0,5625.0,736.0,1964.0,1619.0,11300.0,0.0,1451.0,7250.0,5063.0,0.0,0.0,0.0,4750.0,0.0,2138.0,0.0,0.0,0.0,0.0,0.0,0.0,2583.0,3750.0,2365.0,2816.0,0.0,2500.0,0.0,0.0,1083.0,0.0,0.0,0.0,2531.0,0.0,0.0,0.0,1250.0,0.0,0.0,3021.0,983.0,1800.0,1775.0,0.0,2383.0,0.0,1717.0,2791.0,1010.0,0.0,0.0,0.0,1695.0,0.0,2054.0,0.0,2598.0,0.0,1779.0,1260.0,0.0,0.0,0.0,0.0,5000.0,1983.0,5701.0,1300.0,4417.0,4333.0,0.0,0.0,1843.0,1868.0,3890.0,0.0,2167.0,7101.0,0.0,0.0,0.0,0.0,2100.0,0.0,4250.0,2209.0,0.0,0.0,0.0,3447.0,1387.0,1811.0,0.0,1560.0,0.0,0.0,1857.0,2223.0,0.0,1842.0,3274.0,1300.0,0.0,0.0,2426.0,800.0,985.7999878,1666.0,0.0,3053.0,1717.0,2000.0,0.0,0.0,2416.0,0.0,1560.0,0.0,3334.0,1250.0,0.0,0.0,2541.0,2925.0,2934.0,1750.0,0.0,1803.0,2500.0,0.0,1666.0,1863.0,0.0,0.0,0.0,2405.0,0.0,0.0,1640.0,0.0,2134.0,0.0,0.0,2167.0,189.0,1590.0,2985.0,0.0,4983.0,0.0,2160.0,2451.0,0.0,1793.0,0.0,0.0,0.0,4490.0,688.0,4600.0,0.0,0.0,1587.0,0.0,1229.0,0.0,2330.0,2458.0,3230.0,2168.0,4583.0,6250.0,0.0,4167.0,2083.0,0.0,505.0,0.0,3167.0,0.0,1666.0,3167.0,0.0,3667.0,2333.0,3033.0,0.0,0.0,0.0,0.0,0.0,5266.0,0.0,0.0,7873.0,1987.0,1459.0,923.0,4996.0,0.0,0.0,0.0,2500.0,4232.0,0.0,0.0,0.0,0.0,1600.0,3136.0,2417.0,0.0,0.0,0.0,2115.0,1625.0,1400.0,484.0,0.0,1459.0,1666.0,1800.0,0.0,0.0,20000.0,0.0,0.0,0.0,2400.0,0.0,0.0,0.0,0.0,0.0,0.0,2033.0,3237.0,0.0,0.0,20000.0,2773.0,1417.0,0.0,0.0,1719.0,1667.0,0.0,4300.0,0.0,0.0,16.12000084,0.0,0.0,0.0,0.0,2340.0,0.0,1851.0,1125.0,0.0,0.0,5064.0,1833.0,1993.0,0.0,8333.0,1210.0,0.0,1376.0,1710.0,1542.0,1255.0,1456.0,1733.0,2466.0,0.0,0.0,0.0,2569.0,0.0,0.0,0.0,2188.0,0.0,0.0,0.0,1664.0,2917.0,2451.0,2079.0,1500.0,0.0,0.0,4648.0,1014.0,1750.0,2250.0,1603.0,0.0,0.0,3150.0,0.0,0.0,2436.0,0.0,0.0,2083.0,0.0,2785.0,1131.0,0.0,0.0,2157.0,913.0,1700.0,2857.0,0.0,4416.0,3683.0,0.0,5624.0,5302.0,1483.0,4416.0,6667.0,3013.0,0.0,1287.0,2004.0,2035.0,6666.0,3666.0,3428.0,1632.0,1800.0,1915.0,0.0,1742.0,0.0,1424.0,7166.0,2087.0,0.0,0.0,1430.0,1302.0,0.0,5500.0,0.0,0.0,0.0,0.0,2042.0,3906.0,0.0,536.0,0.0,2845.0,0.0,0.0,2524.0,663.0,1950.0,0.0,1783.0,0.0,2016.0,0.0,2375.0,3250.0,2333.0,4266.0,1032.0,1625.0,0.0,2669.0,2306.0,242.0,0.0,2054.0,0.0,0.0,0.0,0.0,2500.0,0.0,2064.0,1750.0,1451.0,0.0,1625.0,0.0,461.0,2739.0,2232.0,2917.0,0.0,33837.0,0.0,0.0,1917.0,3000.0,1522.0,0.0,0.0,3416.0,0.0,3300.0,0.0,0.0,1000.0,0.0,0.0,0.0,41667.0,2792.0,0.0,4301.0,0.0,3800.0,2500.0,1411.0,1950.0,0.0,0.0,240.0,0.0,0.0],\"y0\":\" \",\"yaxis\":\"y\",\"type\":\"box\"}],                        {\"template\":{\"data\":{\"histogram2dcontour\":[{\"type\":\"histogram2dcontour\",\"colorbar\":{\"outlinewidth\":0,\"ticks\":\"\"},\"colorscale\":[[0.0,\"#0d0887\"],[0.1111111111111111,\"#46039f\"],[0.2222222222222222,\"#7201a8\"],[0.3333333333333333,\"#9c179e\"],[0.4444444444444444,\"#bd3786\"],[0.5555555555555556,\"#d8576b\"],[0.6666666666666666,\"#ed7953\"],[0.7777777777777778,\"#fb9f3a\"],[0.8888888888888888,\"#fdca26\"],[1.0,\"#f0f921\"]]}],\"choropleth\":[{\"type\":\"choropleth\",\"colorbar\":{\"outlinewidth\":0,\"ticks\":\"\"}}],\"histogram2d\":[{\"type\":\"histogram2d\",\"colorbar\":{\"outlinewidth\":0,\"ticks\":\"\"},\"colorscale\":[[0.0,\"#0d0887\"],[0.1111111111111111,\"#46039f\"],[0.2222222222222222,\"#7201a8\"],[0.3333333333333333,\"#9c179e\"],[0.4444444444444444,\"#bd3786\"],[0.5555555555555556,\"#d8576b\"],[0.6666666666666666,\"#ed7953\"],[0.7777777777777778,\"#fb9f3a\"],[0.8888888888888888,\"#fdca26\"],[1.0,\"#f0f921\"]]}],\"heatmap\":[{\"type\":\"heatmap\",\"colorbar\":{\"outlinewidth\":0,\"ticks\":\"\"},\"colorscale\":[[0.0,\"#0d0887\"],[0.1111111111111111,\"#46039f\"],[0.2222222222222222,\"#7201a8\"],[0.3333333333333333,\"#9c179e\"],[0.4444444444444444,\"#bd3786\"],[0.5555555555555556,\"#d8576b\"],[0.6666666666666666,\"#ed7953\"],[0.7777777777777778,\"#fb9f3a\"],[0.8888888888888888,\"#fdca26\"],[1.0,\"#f0f921\"]]}],\"heatmapgl\":[{\"type\":\"heatmapgl\",\"colorbar\":{\"outlinewidth\":0,\"ticks\":\"\"},\"colorscale\":[[0.0,\"#0d0887\"],[0.1111111111111111,\"#46039f\"],[0.2222222222222222,\"#7201a8\"],[0.3333333333333333,\"#9c179e\"],[0.4444444444444444,\"#bd3786\"],[0.5555555555555556,\"#d8576b\"],[0.6666666666666666,\"#ed7953\"],[0.7777777777777778,\"#fb9f3a\"],[0.8888888888888888,\"#fdca26\"],[1.0,\"#f0f921\"]]}],\"contourcarpet\":[{\"type\":\"contourcarpet\",\"colorbar\":{\"outlinewidth\":0,\"ticks\":\"\"}}],\"contour\":[{\"type\":\"contour\",\"colorbar\":{\"outlinewidth\":0,\"ticks\":\"\"},\"colorscale\":[[0.0,\"#0d0887\"],[0.1111111111111111,\"#46039f\"],[0.2222222222222222,\"#7201a8\"],[0.3333333333333333,\"#9c179e\"],[0.4444444444444444,\"#bd3786\"],[0.5555555555555556,\"#d8576b\"],[0.6666666666666666,\"#ed7953\"],[0.7777777777777778,\"#fb9f3a\"],[0.8888888888888888,\"#fdca26\"],[1.0,\"#f0f921\"]]}],\"surface\":[{\"type\":\"surface\",\"colorbar\":{\"outlinewidth\":0,\"ticks\":\"\"},\"colorscale\":[[0.0,\"#0d0887\"],[0.1111111111111111,\"#46039f\"],[0.2222222222222222,\"#7201a8\"],[0.3333333333333333,\"#9c179e\"],[0.4444444444444444,\"#bd3786\"],[0.5555555555555556,\"#d8576b\"],[0.6666666666666666,\"#ed7953\"],[0.7777777777777778,\"#fb9f3a\"],[0.8888888888888888,\"#fdca26\"],[1.0,\"#f0f921\"]]}],\"mesh3d\":[{\"type\":\"mesh3d\",\"colorbar\":{\"outlinewidth\":0,\"ticks\":\"\"}}],\"scatter\":[{\"fillpattern\":{\"fillmode\":\"overlay\",\"size\":10,\"solidity\":0.2},\"type\":\"scatter\"}],\"parcoords\":[{\"type\":\"parcoords\",\"line\":{\"colorbar\":{\"outlinewidth\":0,\"ticks\":\"\"}}}],\"scatterpolargl\":[{\"type\":\"scatterpolargl\",\"marker\":{\"colorbar\":{\"outlinewidth\":0,\"ticks\":\"\"}}}],\"bar\":[{\"error_x\":{\"color\":\"#2a3f5f\"},\"error_y\":{\"color\":\"#2a3f5f\"},\"marker\":{\"line\":{\"color\":\"#E5ECF6\",\"width\":0.5},\"pattern\":{\"fillmode\":\"overlay\",\"size\":10,\"solidity\":0.2}},\"type\":\"bar\"}],\"scattergeo\":[{\"type\":\"scattergeo\",\"marker\":{\"colorbar\":{\"outlinewidth\":0,\"ticks\":\"\"}}}],\"scatterpolar\":[{\"type\":\"scatterpolar\",\"marker\":{\"colorbar\":{\"outlinewidth\":0,\"ticks\":\"\"}}}],\"histogram\":[{\"marker\":{\"pattern\":{\"fillmode\":\"overlay\",\"size\":10,\"solidity\":0.2}},\"type\":\"histogram\"}],\"scattergl\":[{\"type\":\"scattergl\",\"marker\":{\"colorbar\":{\"outlinewidth\":0,\"ticks\":\"\"}}}],\"scatter3d\":[{\"type\":\"scatter3d\",\"line\":{\"colorbar\":{\"outlinewidth\":0,\"ticks\":\"\"}},\"marker\":{\"colorbar\":{\"outlinewidth\":0,\"ticks\":\"\"}}}],\"scattermapbox\":[{\"type\":\"scattermapbox\",\"marker\":{\"colorbar\":{\"outlinewidth\":0,\"ticks\":\"\"}}}],\"scatterternary\":[{\"type\":\"scatterternary\",\"marker\":{\"colorbar\":{\"outlinewidth\":0,\"ticks\":\"\"}}}],\"scattercarpet\":[{\"type\":\"scattercarpet\",\"marker\":{\"colorbar\":{\"outlinewidth\":0,\"ticks\":\"\"}}}],\"carpet\":[{\"aaxis\":{\"endlinecolor\":\"#2a3f5f\",\"gridcolor\":\"white\",\"linecolor\":\"white\",\"minorgridcolor\":\"white\",\"startlinecolor\":\"#2a3f5f\"},\"baxis\":{\"endlinecolor\":\"#2a3f5f\",\"gridcolor\":\"white\",\"linecolor\":\"white\",\"minorgridcolor\":\"white\",\"startlinecolor\":\"#2a3f5f\"},\"type\":\"carpet\"}],\"table\":[{\"cells\":{\"fill\":{\"color\":\"#EBF0F8\"},\"line\":{\"color\":\"white\"}},\"header\":{\"fill\":{\"color\":\"#C8D4E3\"},\"line\":{\"color\":\"white\"}},\"type\":\"table\"}],\"barpolar\":[{\"marker\":{\"line\":{\"color\":\"#E5ECF6\",\"width\":0.5},\"pattern\":{\"fillmode\":\"overlay\",\"size\":10,\"solidity\":0.2}},\"type\":\"barpolar\"}],\"pie\":[{\"automargin\":true,\"type\":\"pie\"}]},\"layout\":{\"autotypenumbers\":\"strict\",\"colorway\":[\"#636efa\",\"#EF553B\",\"#00cc96\",\"#ab63fa\",\"#FFA15A\",\"#19d3f3\",\"#FF6692\",\"#B6E880\",\"#FF97FF\",\"#FECB52\"],\"font\":{\"color\":\"#2a3f5f\"},\"hovermode\":\"closest\",\"hoverlabel\":{\"align\":\"left\"},\"paper_bgcolor\":\"white\",\"plot_bgcolor\":\"#E5ECF6\",\"polar\":{\"bgcolor\":\"#E5ECF6\",\"angularaxis\":{\"gridcolor\":\"white\",\"linecolor\":\"white\",\"ticks\":\"\"},\"radialaxis\":{\"gridcolor\":\"white\",\"linecolor\":\"white\",\"ticks\":\"\"}},\"ternary\":{\"bgcolor\":\"#E5ECF6\",\"aaxis\":{\"gridcolor\":\"white\",\"linecolor\":\"white\",\"ticks\":\"\"},\"baxis\":{\"gridcolor\":\"white\",\"linecolor\":\"white\",\"ticks\":\"\"},\"caxis\":{\"gridcolor\":\"white\",\"linecolor\":\"white\",\"ticks\":\"\"}},\"coloraxis\":{\"colorbar\":{\"outlinewidth\":0,\"ticks\":\"\"}},\"colorscale\":{\"sequential\":[[0.0,\"#0d0887\"],[0.1111111111111111,\"#46039f\"],[0.2222222222222222,\"#7201a8\"],[0.3333333333333333,\"#9c179e\"],[0.4444444444444444,\"#bd3786\"],[0.5555555555555556,\"#d8576b\"],[0.6666666666666666,\"#ed7953\"],[0.7777777777777778,\"#fb9f3a\"],[0.8888888888888888,\"#fdca26\"],[1.0,\"#f0f921\"]],\"sequentialminus\":[[0.0,\"#0d0887\"],[0.1111111111111111,\"#46039f\"],[0.2222222222222222,\"#7201a8\"],[0.3333333333333333,\"#9c179e\"],[0.4444444444444444,\"#bd3786\"],[0.5555555555555556,\"#d8576b\"],[0.6666666666666666,\"#ed7953\"],[0.7777777777777778,\"#fb9f3a\"],[0.8888888888888888,\"#fdca26\"],[1.0,\"#f0f921\"]],\"diverging\":[[0,\"#8e0152\"],[0.1,\"#c51b7d\"],[0.2,\"#de77ae\"],[0.3,\"#f1b6da\"],[0.4,\"#fde0ef\"],[0.5,\"#f7f7f7\"],[0.6,\"#e6f5d0\"],[0.7,\"#b8e186\"],[0.8,\"#7fbc41\"],[0.9,\"#4d9221\"],[1,\"#276419\"]]},\"xaxis\":{\"gridcolor\":\"white\",\"linecolor\":\"white\",\"ticks\":\"\",\"title\":{\"standoff\":15},\"zerolinecolor\":\"white\",\"automargin\":true,\"zerolinewidth\":2},\"yaxis\":{\"gridcolor\":\"white\",\"linecolor\":\"white\",\"ticks\":\"\",\"title\":{\"standoff\":15},\"zerolinecolor\":\"white\",\"automargin\":true,\"zerolinewidth\":2},\"scene\":{\"xaxis\":{\"backgroundcolor\":\"#E5ECF6\",\"gridcolor\":\"white\",\"linecolor\":\"white\",\"showbackground\":true,\"ticks\":\"\",\"zerolinecolor\":\"white\",\"gridwidth\":2},\"yaxis\":{\"backgroundcolor\":\"#E5ECF6\",\"gridcolor\":\"white\",\"linecolor\":\"white\",\"showbackground\":true,\"ticks\":\"\",\"zerolinecolor\":\"white\",\"gridwidth\":2},\"zaxis\":{\"backgroundcolor\":\"#E5ECF6\",\"gridcolor\":\"white\",\"linecolor\":\"white\",\"showbackground\":true,\"ticks\":\"\",\"zerolinecolor\":\"white\",\"gridwidth\":2}},\"shapedefaults\":{\"line\":{\"color\":\"#2a3f5f\"}},\"annotationdefaults\":{\"arrowcolor\":\"#2a3f5f\",\"arrowhead\":0,\"arrowwidth\":1},\"geo\":{\"bgcolor\":\"white\",\"landcolor\":\"#E5ECF6\",\"subunitcolor\":\"white\",\"showland\":true,\"showlakes\":true,\"lakecolor\":\"white\"},\"title\":{\"x\":0.05},\"mapbox\":{\"style\":\"light\"}}},\"xaxis\":{\"anchor\":\"y\",\"domain\":[0.0,1.0],\"title\":{\"text\":\"variable\"}},\"yaxis\":{\"anchor\":\"x\",\"domain\":[0.0,1.0],\"title\":{\"text\":\"value\"}},\"legend\":{\"tracegroupgap\":0},\"title\":{\"text\":\"Outliers in CoapplicantIncome\"},\"boxmode\":\"group\"},                        {\"responsive\": true}                    ).then(function(){\n",
       "                            \n",
       "var gd = document.getElementById('4c2a14df-6d9e-4c0a-841f-b497d707a912');\n",
       "var x = new MutationObserver(function (mutations, observer) {{\n",
       "        var display = window.getComputedStyle(gd).display;\n",
       "        if (!display || display === 'none') {{\n",
       "            console.log([gd, 'removed!']);\n",
       "            Plotly.purge(gd);\n",
       "            observer.disconnect();\n",
       "        }}\n",
       "}});\n",
       "\n",
       "// Listen for the removal of the full notebook cells\n",
       "var notebookContainer = gd.closest('#notebook-container');\n",
       "if (notebookContainer) {{\n",
       "    x.observe(notebookContainer, {childList: true});\n",
       "}}\n",
       "\n",
       "// Listen for the clearing of the current output cell\n",
       "var outputEl = gd.closest('.output');\n",
       "if (outputEl) {{\n",
       "    x.observe(outputEl, {childList: true});\n",
       "}}\n",
       "\n",
       "                        })                };                });            </script>        </div>"
      ]
     },
     "metadata": {},
     "output_type": "display_data"
    },
    {
     "data": {
      "application/vnd.plotly.v1+json": {
       "config": {
        "plotlyServerURL": "https://plot.ly"
       },
       "data": [
        {
         "alignmentgroup": "True",
         "boxpoints": "all",
         "hovertemplate": "variable=%{x}<br>value=%{y}<extra></extra>",
         "legendgroup": "",
         "marker": {
          "color": "#636efa"
         },
         "name": "",
         "notched": false,
         "offsetgroup": "",
         "orientation": "v",
         "showlegend": false,
         "type": "box",
         "x": [
          "LoanAmount",
          "LoanAmount",
          "LoanAmount",
          "LoanAmount",
          "LoanAmount",
          "LoanAmount",
          "LoanAmount",
          "LoanAmount",
          "LoanAmount",
          "LoanAmount",
          "LoanAmount",
          "LoanAmount",
          "LoanAmount",
          "LoanAmount",
          "LoanAmount",
          "LoanAmount",
          "LoanAmount",
          "LoanAmount",
          "LoanAmount",
          "LoanAmount",
          "LoanAmount",
          "LoanAmount",
          "LoanAmount",
          "LoanAmount",
          "LoanAmount",
          "LoanAmount",
          "LoanAmount",
          "LoanAmount",
          "LoanAmount",
          "LoanAmount",
          "LoanAmount",
          "LoanAmount",
          "LoanAmount",
          "LoanAmount",
          "LoanAmount",
          "LoanAmount",
          "LoanAmount",
          "LoanAmount",
          "LoanAmount",
          "LoanAmount",
          "LoanAmount",
          "LoanAmount",
          "LoanAmount",
          "LoanAmount",
          "LoanAmount",
          "LoanAmount",
          "LoanAmount",
          "LoanAmount",
          "LoanAmount",
          "LoanAmount",
          "LoanAmount",
          "LoanAmount",
          "LoanAmount",
          "LoanAmount",
          "LoanAmount",
          "LoanAmount",
          "LoanAmount",
          "LoanAmount",
          "LoanAmount",
          "LoanAmount",
          "LoanAmount",
          "LoanAmount",
          "LoanAmount",
          "LoanAmount",
          "LoanAmount",
          "LoanAmount",
          "LoanAmount",
          "LoanAmount",
          "LoanAmount",
          "LoanAmount",
          "LoanAmount",
          "LoanAmount",
          "LoanAmount",
          "LoanAmount",
          "LoanAmount",
          "LoanAmount",
          "LoanAmount",
          "LoanAmount",
          "LoanAmount",
          "LoanAmount",
          "LoanAmount",
          "LoanAmount",
          "LoanAmount",
          "LoanAmount",
          "LoanAmount",
          "LoanAmount",
          "LoanAmount",
          "LoanAmount",
          "LoanAmount",
          "LoanAmount",
          "LoanAmount",
          "LoanAmount",
          "LoanAmount",
          "LoanAmount",
          "LoanAmount",
          "LoanAmount",
          "LoanAmount",
          "LoanAmount",
          "LoanAmount",
          "LoanAmount",
          "LoanAmount",
          "LoanAmount",
          "LoanAmount",
          "LoanAmount",
          "LoanAmount",
          "LoanAmount",
          "LoanAmount",
          "LoanAmount",
          "LoanAmount",
          "LoanAmount",
          "LoanAmount",
          "LoanAmount",
          "LoanAmount",
          "LoanAmount",
          "LoanAmount",
          "LoanAmount",
          "LoanAmount",
          "LoanAmount",
          "LoanAmount",
          "LoanAmount",
          "LoanAmount",
          "LoanAmount",
          "LoanAmount",
          "LoanAmount",
          "LoanAmount",
          "LoanAmount",
          "LoanAmount",
          "LoanAmount",
          "LoanAmount",
          "LoanAmount",
          "LoanAmount",
          "LoanAmount",
          "LoanAmount",
          "LoanAmount",
          "LoanAmount",
          "LoanAmount",
          "LoanAmount",
          "LoanAmount",
          "LoanAmount",
          "LoanAmount",
          "LoanAmount",
          "LoanAmount",
          "LoanAmount",
          "LoanAmount",
          "LoanAmount",
          "LoanAmount",
          "LoanAmount",
          "LoanAmount",
          "LoanAmount",
          "LoanAmount",
          "LoanAmount",
          "LoanAmount",
          "LoanAmount",
          "LoanAmount",
          "LoanAmount",
          "LoanAmount",
          "LoanAmount",
          "LoanAmount",
          "LoanAmount",
          "LoanAmount",
          "LoanAmount",
          "LoanAmount",
          "LoanAmount",
          "LoanAmount",
          "LoanAmount",
          "LoanAmount",
          "LoanAmount",
          "LoanAmount",
          "LoanAmount",
          "LoanAmount",
          "LoanAmount",
          "LoanAmount",
          "LoanAmount",
          "LoanAmount",
          "LoanAmount",
          "LoanAmount",
          "LoanAmount",
          "LoanAmount",
          "LoanAmount",
          "LoanAmount",
          "LoanAmount",
          "LoanAmount",
          "LoanAmount",
          "LoanAmount",
          "LoanAmount",
          "LoanAmount",
          "LoanAmount",
          "LoanAmount",
          "LoanAmount",
          "LoanAmount",
          "LoanAmount",
          "LoanAmount",
          "LoanAmount",
          "LoanAmount",
          "LoanAmount",
          "LoanAmount",
          "LoanAmount",
          "LoanAmount",
          "LoanAmount",
          "LoanAmount",
          "LoanAmount",
          "LoanAmount",
          "LoanAmount",
          "LoanAmount",
          "LoanAmount",
          "LoanAmount",
          "LoanAmount",
          "LoanAmount",
          "LoanAmount",
          "LoanAmount",
          "LoanAmount",
          "LoanAmount",
          "LoanAmount",
          "LoanAmount",
          "LoanAmount",
          "LoanAmount",
          "LoanAmount",
          "LoanAmount",
          "LoanAmount",
          "LoanAmount",
          "LoanAmount",
          "LoanAmount",
          "LoanAmount",
          "LoanAmount",
          "LoanAmount",
          "LoanAmount",
          "LoanAmount",
          "LoanAmount",
          "LoanAmount",
          "LoanAmount",
          "LoanAmount",
          "LoanAmount",
          "LoanAmount",
          "LoanAmount",
          "LoanAmount",
          "LoanAmount",
          "LoanAmount",
          "LoanAmount",
          "LoanAmount",
          "LoanAmount",
          "LoanAmount",
          "LoanAmount",
          "LoanAmount",
          "LoanAmount",
          "LoanAmount",
          "LoanAmount",
          "LoanAmount",
          "LoanAmount",
          "LoanAmount",
          "LoanAmount",
          "LoanAmount",
          "LoanAmount",
          "LoanAmount",
          "LoanAmount",
          "LoanAmount",
          "LoanAmount",
          "LoanAmount",
          "LoanAmount",
          "LoanAmount",
          "LoanAmount",
          "LoanAmount",
          "LoanAmount",
          "LoanAmount",
          "LoanAmount",
          "LoanAmount",
          "LoanAmount",
          "LoanAmount",
          "LoanAmount",
          "LoanAmount",
          "LoanAmount",
          "LoanAmount",
          "LoanAmount",
          "LoanAmount",
          "LoanAmount",
          "LoanAmount",
          "LoanAmount",
          "LoanAmount",
          "LoanAmount",
          "LoanAmount",
          "LoanAmount",
          "LoanAmount",
          "LoanAmount",
          "LoanAmount",
          "LoanAmount",
          "LoanAmount",
          "LoanAmount",
          "LoanAmount",
          "LoanAmount",
          "LoanAmount",
          "LoanAmount",
          "LoanAmount",
          "LoanAmount",
          "LoanAmount",
          "LoanAmount",
          "LoanAmount",
          "LoanAmount",
          "LoanAmount",
          "LoanAmount",
          "LoanAmount",
          "LoanAmount",
          "LoanAmount",
          "LoanAmount",
          "LoanAmount",
          "LoanAmount",
          "LoanAmount",
          "LoanAmount",
          "LoanAmount",
          "LoanAmount",
          "LoanAmount",
          "LoanAmount",
          "LoanAmount",
          "LoanAmount",
          "LoanAmount",
          "LoanAmount",
          "LoanAmount",
          "LoanAmount",
          "LoanAmount",
          "LoanAmount",
          "LoanAmount",
          "LoanAmount",
          "LoanAmount",
          "LoanAmount",
          "LoanAmount",
          "LoanAmount",
          "LoanAmount",
          "LoanAmount",
          "LoanAmount",
          "LoanAmount",
          "LoanAmount",
          "LoanAmount",
          "LoanAmount",
          "LoanAmount",
          "LoanAmount",
          "LoanAmount",
          "LoanAmount",
          "LoanAmount",
          "LoanAmount",
          "LoanAmount",
          "LoanAmount",
          "LoanAmount",
          "LoanAmount",
          "LoanAmount",
          "LoanAmount",
          "LoanAmount",
          "LoanAmount",
          "LoanAmount",
          "LoanAmount",
          "LoanAmount",
          "LoanAmount",
          "LoanAmount",
          "LoanAmount",
          "LoanAmount",
          "LoanAmount",
          "LoanAmount",
          "LoanAmount",
          "LoanAmount",
          "LoanAmount",
          "LoanAmount",
          "LoanAmount",
          "LoanAmount",
          "LoanAmount",
          "LoanAmount",
          "LoanAmount",
          "LoanAmount",
          "LoanAmount",
          "LoanAmount",
          "LoanAmount",
          "LoanAmount",
          "LoanAmount",
          "LoanAmount",
          "LoanAmount",
          "LoanAmount",
          "LoanAmount",
          "LoanAmount",
          "LoanAmount",
          "LoanAmount",
          "LoanAmount",
          "LoanAmount",
          "LoanAmount",
          "LoanAmount",
          "LoanAmount",
          "LoanAmount",
          "LoanAmount",
          "LoanAmount",
          "LoanAmount",
          "LoanAmount",
          "LoanAmount",
          "LoanAmount",
          "LoanAmount",
          "LoanAmount",
          "LoanAmount",
          "LoanAmount",
          "LoanAmount",
          "LoanAmount",
          "LoanAmount",
          "LoanAmount",
          "LoanAmount",
          "LoanAmount",
          "LoanAmount",
          "LoanAmount",
          "LoanAmount",
          "LoanAmount",
          "LoanAmount",
          "LoanAmount",
          "LoanAmount",
          "LoanAmount",
          "LoanAmount",
          "LoanAmount",
          "LoanAmount",
          "LoanAmount",
          "LoanAmount",
          "LoanAmount",
          "LoanAmount",
          "LoanAmount",
          "LoanAmount",
          "LoanAmount",
          "LoanAmount",
          "LoanAmount",
          "LoanAmount",
          "LoanAmount",
          "LoanAmount",
          "LoanAmount",
          "LoanAmount",
          "LoanAmount",
          "LoanAmount",
          "LoanAmount",
          "LoanAmount",
          "LoanAmount",
          "LoanAmount",
          "LoanAmount",
          "LoanAmount",
          "LoanAmount",
          "LoanAmount",
          "LoanAmount",
          "LoanAmount",
          "LoanAmount",
          "LoanAmount",
          "LoanAmount",
          "LoanAmount",
          "LoanAmount",
          "LoanAmount",
          "LoanAmount",
          "LoanAmount",
          "LoanAmount",
          "LoanAmount",
          "LoanAmount",
          "LoanAmount",
          "LoanAmount",
          "LoanAmount",
          "LoanAmount",
          "LoanAmount",
          "LoanAmount",
          "LoanAmount",
          "LoanAmount",
          "LoanAmount",
          "LoanAmount",
          "LoanAmount",
          "LoanAmount",
          "LoanAmount",
          "LoanAmount",
          "LoanAmount",
          "LoanAmount",
          "LoanAmount",
          "LoanAmount",
          "LoanAmount",
          "LoanAmount",
          "LoanAmount",
          "LoanAmount",
          "LoanAmount",
          "LoanAmount",
          "LoanAmount",
          "LoanAmount",
          "LoanAmount",
          "LoanAmount",
          "LoanAmount",
          "LoanAmount",
          "LoanAmount",
          "LoanAmount",
          "LoanAmount",
          "LoanAmount",
          "LoanAmount",
          "LoanAmount",
          "LoanAmount",
          "LoanAmount",
          "LoanAmount",
          "LoanAmount",
          "LoanAmount",
          "LoanAmount",
          "LoanAmount",
          "LoanAmount",
          "LoanAmount",
          "LoanAmount",
          "LoanAmount",
          "LoanAmount",
          "LoanAmount",
          "LoanAmount",
          "LoanAmount",
          "LoanAmount",
          "LoanAmount",
          "LoanAmount",
          "LoanAmount",
          "LoanAmount",
          "LoanAmount",
          "LoanAmount",
          "LoanAmount",
          "LoanAmount",
          "LoanAmount",
          "LoanAmount",
          "LoanAmount",
          "LoanAmount",
          "LoanAmount",
          "LoanAmount",
          "LoanAmount",
          "LoanAmount",
          "LoanAmount",
          "LoanAmount",
          "LoanAmount",
          "LoanAmount",
          "LoanAmount",
          "LoanAmount",
          "LoanAmount",
          "LoanAmount",
          "LoanAmount",
          "LoanAmount",
          "LoanAmount",
          "LoanAmount",
          "LoanAmount",
          "LoanAmount",
          "LoanAmount",
          "LoanAmount",
          "LoanAmount",
          "LoanAmount",
          "LoanAmount",
          "LoanAmount",
          "LoanAmount",
          "LoanAmount",
          "LoanAmount",
          "LoanAmount",
          "LoanAmount",
          "LoanAmount",
          "LoanAmount",
          "LoanAmount",
          "LoanAmount",
          "LoanAmount",
          "LoanAmount",
          "LoanAmount",
          "LoanAmount",
          "LoanAmount",
          "LoanAmount",
          "LoanAmount",
          "LoanAmount",
          "LoanAmount",
          "LoanAmount",
          "LoanAmount",
          "LoanAmount",
          "LoanAmount",
          "LoanAmount",
          "LoanAmount",
          "LoanAmount",
          "LoanAmount",
          "LoanAmount",
          "LoanAmount",
          "LoanAmount",
          "LoanAmount",
          "LoanAmount",
          "LoanAmount",
          "LoanAmount",
          "LoanAmount",
          "LoanAmount",
          "LoanAmount",
          "LoanAmount",
          "LoanAmount",
          "LoanAmount",
          "LoanAmount",
          "LoanAmount",
          "LoanAmount",
          "LoanAmount",
          "LoanAmount",
          "LoanAmount",
          "LoanAmount",
          "LoanAmount",
          "LoanAmount",
          "LoanAmount",
          "LoanAmount",
          "LoanAmount",
          "LoanAmount",
          "LoanAmount",
          "LoanAmount",
          "LoanAmount",
          "LoanAmount",
          "LoanAmount",
          "LoanAmount",
          "LoanAmount",
          "LoanAmount",
          "LoanAmount",
          "LoanAmount",
          "LoanAmount",
          "LoanAmount"
         ],
         "x0": " ",
         "xaxis": "x",
         "y": [
          null,
          128,
          66,
          120,
          141,
          267,
          95,
          158,
          168,
          349,
          70,
          109,
          200,
          114,
          17,
          125,
          100,
          76,
          133,
          115,
          104,
          315,
          116,
          151,
          191,
          122,
          110,
          35,
          120,
          201,
          74,
          106,
          114,
          320,
          null,
          100,
          144,
          184,
          110,
          80,
          47,
          75,
          134,
          96,
          88,
          44,
          144,
          120,
          144,
          100,
          120,
          112,
          134,
          286,
          97,
          96,
          135,
          180,
          144,
          120,
          99,
          165,
          null,
          116,
          258,
          126,
          312,
          125,
          136,
          172,
          97,
          81,
          95,
          187,
          113,
          176,
          110,
          180,
          130,
          111,
          null,
          167,
          265,
          50,
          136,
          99,
          104,
          210,
          175,
          131,
          188,
          81,
          122,
          25,
          null,
          137,
          50,
          115,
          131,
          133,
          151,
          null,
          null,
          100,
          225,
          120,
          216,
          94,
          136,
          139,
          152,
          null,
          118,
          185,
          154,
          85,
          175,
          259,
          180,
          44,
          137,
          81,
          194,
          93,
          null,
          160,
          182,
          650,
          74,
          70,
          25,
          102,
          290,
          84,
          88,
          242,
          129,
          185,
          168,
          175,
          122,
          187,
          100,
          70,
          30,
          225,
          125,
          118,
          152,
          244,
          113,
          50,
          600,
          160,
          187,
          120,
          255,
          98,
          275,
          121,
          158,
          75,
          182,
          112,
          129,
          63,
          200,
          95,
          81,
          187,
          87,
          116,
          101,
          495,
          116,
          102,
          180,
          67,
          73,
          260,
          108,
          120,
          66,
          58,
          188,
          48,
          164,
          160,
          76,
          120,
          170,
          187,
          120,
          113,
          83,
          90,
          166,
          null,
          135,
          124,
          120,
          80,
          55,
          59,
          127,
          214,
          128,
          240,
          130,
          137,
          100,
          135,
          131,
          72,
          127,
          60,
          116,
          144,
          175,
          128,
          170,
          138,
          210,
          200,
          104,
          42,
          120,
          280,
          140,
          170,
          255,
          122,
          112,
          96,
          120,
          140,
          155,
          108,
          123,
          120,
          112,
          137,
          123,
          90,
          201,
          138,
          104,
          279,
          192,
          255,
          115,
          94,
          304,
          128,
          330,
          134,
          155,
          120,
          128,
          151,
          150,
          160,
          135,
          90,
          30,
          136,
          126,
          150,
          90,
          115,
          207,
          80,
          436,
          124,
          158,
          112,
          78,
          54,
          null,
          89,
          99,
          120,
          115,
          187,
          139,
          127,
          134,
          143,
          172,
          110,
          200,
          135,
          151,
          113,
          93,
          105,
          132,
          96,
          140,
          null,
          135,
          104,
          480,
          185,
          84,
          111,
          56,
          144,
          111,
          120,
          88,
          112,
          155,
          115,
          124,
          null,
          132,
          300,
          376,
          130,
          184,
          110,
          67,
          117,
          98,
          71,
          490,
          70,
          160,
          176,
          null,
          71,
          173,
          46,
          158,
          74,
          125,
          160,
          152,
          126,
          259,
          187,
          228,
          308,
          95,
          105,
          130,
          116,
          165,
          67,
          100,
          200,
          81,
          236,
          130,
          95,
          141,
          133,
          96,
          124,
          175,
          570,
          55,
          155,
          380,
          111,
          110,
          120,
          130,
          130,
          71,
          130,
          128,
          296,
          156,
          128,
          100,
          113,
          132,
          null,
          136,
          125,
          185,
          275,
          120,
          113,
          113,
          135,
          71,
          95,
          109,
          103,
          45,
          65,
          103,
          53,
          194,
          115,
          115,
          66,
          152,
          360,
          62,
          160,
          218,
          110,
          178,
          60,
          160,
          239,
          112,
          138,
          138,
          80,
          100,
          110,
          96,
          121,
          81,
          133,
          87,
          60,
          150,
          105,
          405,
          143,
          100,
          50,
          null,
          187,
          138,
          187,
          180,
          148,
          152,
          175,
          130,
          110,
          55,
          150,
          190,
          125,
          60,
          149,
          90,
          84,
          96,
          118,
          173,
          136,
          160,
          128,
          153,
          132,
          98,
          140,
          70,
          98,
          110,
          162,
          113,
          100,
          93,
          162,
          150,
          230,
          86,
          null,
          154,
          113,
          128,
          234,
          246,
          131,
          80,
          500,
          160,
          75,
          96,
          186,
          110,
          225,
          119,
          105,
          107,
          111,
          95,
          209,
          113,
          100,
          208,
          138,
          124,
          243,
          480,
          188,
          40,
          100,
          250,
          148,
          70,
          311,
          150,
          113,
          123,
          185,
          95,
          45,
          55,
          100,
          480,
          null,
          400,
          110,
          161,
          94,
          130,
          216,
          100,
          110,
          196,
          125,
          126,
          324,
          107,
          66,
          157,
          140,
          99,
          95,
          128,
          102,
          155,
          80,
          145,
          103,
          110,
          null,
          null,
          158,
          181,
          132,
          26,
          84,
          260,
          162,
          182,
          108,
          600,
          211,
          132,
          258,
          120,
          70,
          123,
          9,
          104,
          186,
          165,
          275,
          187,
          150,
          108,
          110,
          107,
          161,
          205,
          90,
          36,
          61,
          146,
          172,
          104,
          70,
          106,
          56,
          205,
          142,
          260,
          110,
          187,
          88,
          180,
          192,
          350,
          155,
          128,
          172,
          496,
          null,
          173,
          157,
          108,
          71,
          40,
          253,
          187,
          133
         ],
         "y0": " ",
         "yaxis": "y"
        }
       ],
       "layout": {
        "boxmode": "group",
        "legend": {
         "tracegroupgap": 0
        },
        "template": {
         "data": {
          "bar": [
           {
            "error_x": {
             "color": "#2a3f5f"
            },
            "error_y": {
             "color": "#2a3f5f"
            },
            "marker": {
             "line": {
              "color": "#E5ECF6",
              "width": 0.5
             },
             "pattern": {
              "fillmode": "overlay",
              "size": 10,
              "solidity": 0.2
             }
            },
            "type": "bar"
           }
          ],
          "barpolar": [
           {
            "marker": {
             "line": {
              "color": "#E5ECF6",
              "width": 0.5
             },
             "pattern": {
              "fillmode": "overlay",
              "size": 10,
              "solidity": 0.2
             }
            },
            "type": "barpolar"
           }
          ],
          "carpet": [
           {
            "aaxis": {
             "endlinecolor": "#2a3f5f",
             "gridcolor": "white",
             "linecolor": "white",
             "minorgridcolor": "white",
             "startlinecolor": "#2a3f5f"
            },
            "baxis": {
             "endlinecolor": "#2a3f5f",
             "gridcolor": "white",
             "linecolor": "white",
             "minorgridcolor": "white",
             "startlinecolor": "#2a3f5f"
            },
            "type": "carpet"
           }
          ],
          "choropleth": [
           {
            "colorbar": {
             "outlinewidth": 0,
             "ticks": ""
            },
            "type": "choropleth"
           }
          ],
          "contour": [
           {
            "colorbar": {
             "outlinewidth": 0,
             "ticks": ""
            },
            "colorscale": [
             [
              0,
              "#0d0887"
             ],
             [
              0.1111111111111111,
              "#46039f"
             ],
             [
              0.2222222222222222,
              "#7201a8"
             ],
             [
              0.3333333333333333,
              "#9c179e"
             ],
             [
              0.4444444444444444,
              "#bd3786"
             ],
             [
              0.5555555555555556,
              "#d8576b"
             ],
             [
              0.6666666666666666,
              "#ed7953"
             ],
             [
              0.7777777777777778,
              "#fb9f3a"
             ],
             [
              0.8888888888888888,
              "#fdca26"
             ],
             [
              1,
              "#f0f921"
             ]
            ],
            "type": "contour"
           }
          ],
          "contourcarpet": [
           {
            "colorbar": {
             "outlinewidth": 0,
             "ticks": ""
            },
            "type": "contourcarpet"
           }
          ],
          "heatmap": [
           {
            "colorbar": {
             "outlinewidth": 0,
             "ticks": ""
            },
            "colorscale": [
             [
              0,
              "#0d0887"
             ],
             [
              0.1111111111111111,
              "#46039f"
             ],
             [
              0.2222222222222222,
              "#7201a8"
             ],
             [
              0.3333333333333333,
              "#9c179e"
             ],
             [
              0.4444444444444444,
              "#bd3786"
             ],
             [
              0.5555555555555556,
              "#d8576b"
             ],
             [
              0.6666666666666666,
              "#ed7953"
             ],
             [
              0.7777777777777778,
              "#fb9f3a"
             ],
             [
              0.8888888888888888,
              "#fdca26"
             ],
             [
              1,
              "#f0f921"
             ]
            ],
            "type": "heatmap"
           }
          ],
          "heatmapgl": [
           {
            "colorbar": {
             "outlinewidth": 0,
             "ticks": ""
            },
            "colorscale": [
             [
              0,
              "#0d0887"
             ],
             [
              0.1111111111111111,
              "#46039f"
             ],
             [
              0.2222222222222222,
              "#7201a8"
             ],
             [
              0.3333333333333333,
              "#9c179e"
             ],
             [
              0.4444444444444444,
              "#bd3786"
             ],
             [
              0.5555555555555556,
              "#d8576b"
             ],
             [
              0.6666666666666666,
              "#ed7953"
             ],
             [
              0.7777777777777778,
              "#fb9f3a"
             ],
             [
              0.8888888888888888,
              "#fdca26"
             ],
             [
              1,
              "#f0f921"
             ]
            ],
            "type": "heatmapgl"
           }
          ],
          "histogram": [
           {
            "marker": {
             "pattern": {
              "fillmode": "overlay",
              "size": 10,
              "solidity": 0.2
             }
            },
            "type": "histogram"
           }
          ],
          "histogram2d": [
           {
            "colorbar": {
             "outlinewidth": 0,
             "ticks": ""
            },
            "colorscale": [
             [
              0,
              "#0d0887"
             ],
             [
              0.1111111111111111,
              "#46039f"
             ],
             [
              0.2222222222222222,
              "#7201a8"
             ],
             [
              0.3333333333333333,
              "#9c179e"
             ],
             [
              0.4444444444444444,
              "#bd3786"
             ],
             [
              0.5555555555555556,
              "#d8576b"
             ],
             [
              0.6666666666666666,
              "#ed7953"
             ],
             [
              0.7777777777777778,
              "#fb9f3a"
             ],
             [
              0.8888888888888888,
              "#fdca26"
             ],
             [
              1,
              "#f0f921"
             ]
            ],
            "type": "histogram2d"
           }
          ],
          "histogram2dcontour": [
           {
            "colorbar": {
             "outlinewidth": 0,
             "ticks": ""
            },
            "colorscale": [
             [
              0,
              "#0d0887"
             ],
             [
              0.1111111111111111,
              "#46039f"
             ],
             [
              0.2222222222222222,
              "#7201a8"
             ],
             [
              0.3333333333333333,
              "#9c179e"
             ],
             [
              0.4444444444444444,
              "#bd3786"
             ],
             [
              0.5555555555555556,
              "#d8576b"
             ],
             [
              0.6666666666666666,
              "#ed7953"
             ],
             [
              0.7777777777777778,
              "#fb9f3a"
             ],
             [
              0.8888888888888888,
              "#fdca26"
             ],
             [
              1,
              "#f0f921"
             ]
            ],
            "type": "histogram2dcontour"
           }
          ],
          "mesh3d": [
           {
            "colorbar": {
             "outlinewidth": 0,
             "ticks": ""
            },
            "type": "mesh3d"
           }
          ],
          "parcoords": [
           {
            "line": {
             "colorbar": {
              "outlinewidth": 0,
              "ticks": ""
             }
            },
            "type": "parcoords"
           }
          ],
          "pie": [
           {
            "automargin": true,
            "type": "pie"
           }
          ],
          "scatter": [
           {
            "fillpattern": {
             "fillmode": "overlay",
             "size": 10,
             "solidity": 0.2
            },
            "type": "scatter"
           }
          ],
          "scatter3d": [
           {
            "line": {
             "colorbar": {
              "outlinewidth": 0,
              "ticks": ""
             }
            },
            "marker": {
             "colorbar": {
              "outlinewidth": 0,
              "ticks": ""
             }
            },
            "type": "scatter3d"
           }
          ],
          "scattercarpet": [
           {
            "marker": {
             "colorbar": {
              "outlinewidth": 0,
              "ticks": ""
             }
            },
            "type": "scattercarpet"
           }
          ],
          "scattergeo": [
           {
            "marker": {
             "colorbar": {
              "outlinewidth": 0,
              "ticks": ""
             }
            },
            "type": "scattergeo"
           }
          ],
          "scattergl": [
           {
            "marker": {
             "colorbar": {
              "outlinewidth": 0,
              "ticks": ""
             }
            },
            "type": "scattergl"
           }
          ],
          "scattermapbox": [
           {
            "marker": {
             "colorbar": {
              "outlinewidth": 0,
              "ticks": ""
             }
            },
            "type": "scattermapbox"
           }
          ],
          "scatterpolar": [
           {
            "marker": {
             "colorbar": {
              "outlinewidth": 0,
              "ticks": ""
             }
            },
            "type": "scatterpolar"
           }
          ],
          "scatterpolargl": [
           {
            "marker": {
             "colorbar": {
              "outlinewidth": 0,
              "ticks": ""
             }
            },
            "type": "scatterpolargl"
           }
          ],
          "scatterternary": [
           {
            "marker": {
             "colorbar": {
              "outlinewidth": 0,
              "ticks": ""
             }
            },
            "type": "scatterternary"
           }
          ],
          "surface": [
           {
            "colorbar": {
             "outlinewidth": 0,
             "ticks": ""
            },
            "colorscale": [
             [
              0,
              "#0d0887"
             ],
             [
              0.1111111111111111,
              "#46039f"
             ],
             [
              0.2222222222222222,
              "#7201a8"
             ],
             [
              0.3333333333333333,
              "#9c179e"
             ],
             [
              0.4444444444444444,
              "#bd3786"
             ],
             [
              0.5555555555555556,
              "#d8576b"
             ],
             [
              0.6666666666666666,
              "#ed7953"
             ],
             [
              0.7777777777777778,
              "#fb9f3a"
             ],
             [
              0.8888888888888888,
              "#fdca26"
             ],
             [
              1,
              "#f0f921"
             ]
            ],
            "type": "surface"
           }
          ],
          "table": [
           {
            "cells": {
             "fill": {
              "color": "#EBF0F8"
             },
             "line": {
              "color": "white"
             }
            },
            "header": {
             "fill": {
              "color": "#C8D4E3"
             },
             "line": {
              "color": "white"
             }
            },
            "type": "table"
           }
          ]
         },
         "layout": {
          "annotationdefaults": {
           "arrowcolor": "#2a3f5f",
           "arrowhead": 0,
           "arrowwidth": 1
          },
          "autotypenumbers": "strict",
          "coloraxis": {
           "colorbar": {
            "outlinewidth": 0,
            "ticks": ""
           }
          },
          "colorscale": {
           "diverging": [
            [
             0,
             "#8e0152"
            ],
            [
             0.1,
             "#c51b7d"
            ],
            [
             0.2,
             "#de77ae"
            ],
            [
             0.3,
             "#f1b6da"
            ],
            [
             0.4,
             "#fde0ef"
            ],
            [
             0.5,
             "#f7f7f7"
            ],
            [
             0.6,
             "#e6f5d0"
            ],
            [
             0.7,
             "#b8e186"
            ],
            [
             0.8,
             "#7fbc41"
            ],
            [
             0.9,
             "#4d9221"
            ],
            [
             1,
             "#276419"
            ]
           ],
           "sequential": [
            [
             0,
             "#0d0887"
            ],
            [
             0.1111111111111111,
             "#46039f"
            ],
            [
             0.2222222222222222,
             "#7201a8"
            ],
            [
             0.3333333333333333,
             "#9c179e"
            ],
            [
             0.4444444444444444,
             "#bd3786"
            ],
            [
             0.5555555555555556,
             "#d8576b"
            ],
            [
             0.6666666666666666,
             "#ed7953"
            ],
            [
             0.7777777777777778,
             "#fb9f3a"
            ],
            [
             0.8888888888888888,
             "#fdca26"
            ],
            [
             1,
             "#f0f921"
            ]
           ],
           "sequentialminus": [
            [
             0,
             "#0d0887"
            ],
            [
             0.1111111111111111,
             "#46039f"
            ],
            [
             0.2222222222222222,
             "#7201a8"
            ],
            [
             0.3333333333333333,
             "#9c179e"
            ],
            [
             0.4444444444444444,
             "#bd3786"
            ],
            [
             0.5555555555555556,
             "#d8576b"
            ],
            [
             0.6666666666666666,
             "#ed7953"
            ],
            [
             0.7777777777777778,
             "#fb9f3a"
            ],
            [
             0.8888888888888888,
             "#fdca26"
            ],
            [
             1,
             "#f0f921"
            ]
           ]
          },
          "colorway": [
           "#636efa",
           "#EF553B",
           "#00cc96",
           "#ab63fa",
           "#FFA15A",
           "#19d3f3",
           "#FF6692",
           "#B6E880",
           "#FF97FF",
           "#FECB52"
          ],
          "font": {
           "color": "#2a3f5f"
          },
          "geo": {
           "bgcolor": "white",
           "lakecolor": "white",
           "landcolor": "#E5ECF6",
           "showlakes": true,
           "showland": true,
           "subunitcolor": "white"
          },
          "hoverlabel": {
           "align": "left"
          },
          "hovermode": "closest",
          "mapbox": {
           "style": "light"
          },
          "paper_bgcolor": "white",
          "plot_bgcolor": "#E5ECF6",
          "polar": {
           "angularaxis": {
            "gridcolor": "white",
            "linecolor": "white",
            "ticks": ""
           },
           "bgcolor": "#E5ECF6",
           "radialaxis": {
            "gridcolor": "white",
            "linecolor": "white",
            "ticks": ""
           }
          },
          "scene": {
           "xaxis": {
            "backgroundcolor": "#E5ECF6",
            "gridcolor": "white",
            "gridwidth": 2,
            "linecolor": "white",
            "showbackground": true,
            "ticks": "",
            "zerolinecolor": "white"
           },
           "yaxis": {
            "backgroundcolor": "#E5ECF6",
            "gridcolor": "white",
            "gridwidth": 2,
            "linecolor": "white",
            "showbackground": true,
            "ticks": "",
            "zerolinecolor": "white"
           },
           "zaxis": {
            "backgroundcolor": "#E5ECF6",
            "gridcolor": "white",
            "gridwidth": 2,
            "linecolor": "white",
            "showbackground": true,
            "ticks": "",
            "zerolinecolor": "white"
           }
          },
          "shapedefaults": {
           "line": {
            "color": "#2a3f5f"
           }
          },
          "ternary": {
           "aaxis": {
            "gridcolor": "white",
            "linecolor": "white",
            "ticks": ""
           },
           "baxis": {
            "gridcolor": "white",
            "linecolor": "white",
            "ticks": ""
           },
           "bgcolor": "#E5ECF6",
           "caxis": {
            "gridcolor": "white",
            "linecolor": "white",
            "ticks": ""
           }
          },
          "title": {
           "x": 0.05
          },
          "xaxis": {
           "automargin": true,
           "gridcolor": "white",
           "linecolor": "white",
           "ticks": "",
           "title": {
            "standoff": 15
           },
           "zerolinecolor": "white",
           "zerolinewidth": 2
          },
          "yaxis": {
           "automargin": true,
           "gridcolor": "white",
           "linecolor": "white",
           "ticks": "",
           "title": {
            "standoff": 15
           },
           "zerolinecolor": "white",
           "zerolinewidth": 2
          }
         }
        },
        "title": {
         "text": "Outliers in LoanAmount"
        },
        "xaxis": {
         "anchor": "y",
         "domain": [
          0,
          1
         ],
         "title": {
          "text": "variable"
         }
        },
        "yaxis": {
         "anchor": "x",
         "domain": [
          0,
          1
         ],
         "title": {
          "text": "value"
         }
        }
       }
      },
      "text/html": [
       "<div>                            <div id=\"b0bc0beb-489f-4759-abfa-38eed1e0d9ee\" class=\"plotly-graph-div\" style=\"height:525px; width:100%;\"></div>            <script type=\"text/javascript\">                require([\"plotly\"], function(Plotly) {                    window.PLOTLYENV=window.PLOTLYENV || {};                                    if (document.getElementById(\"b0bc0beb-489f-4759-abfa-38eed1e0d9ee\")) {                    Plotly.newPlot(                        \"b0bc0beb-489f-4759-abfa-38eed1e0d9ee\",                        [{\"alignmentgroup\":\"True\",\"boxpoints\":\"all\",\"hovertemplate\":\"variable=%{x}\\u003cbr\\u003evalue=%{y}\\u003cextra\\u003e\\u003c\\u002fextra\\u003e\",\"legendgroup\":\"\",\"marker\":{\"color\":\"#636efa\"},\"name\":\"\",\"notched\":false,\"offsetgroup\":\"\",\"orientation\":\"v\",\"showlegend\":false,\"x\":[\"LoanAmount\",\"LoanAmount\",\"LoanAmount\",\"LoanAmount\",\"LoanAmount\",\"LoanAmount\",\"LoanAmount\",\"LoanAmount\",\"LoanAmount\",\"LoanAmount\",\"LoanAmount\",\"LoanAmount\",\"LoanAmount\",\"LoanAmount\",\"LoanAmount\",\"LoanAmount\",\"LoanAmount\",\"LoanAmount\",\"LoanAmount\",\"LoanAmount\",\"LoanAmount\",\"LoanAmount\",\"LoanAmount\",\"LoanAmount\",\"LoanAmount\",\"LoanAmount\",\"LoanAmount\",\"LoanAmount\",\"LoanAmount\",\"LoanAmount\",\"LoanAmount\",\"LoanAmount\",\"LoanAmount\",\"LoanAmount\",\"LoanAmount\",\"LoanAmount\",\"LoanAmount\",\"LoanAmount\",\"LoanAmount\",\"LoanAmount\",\"LoanAmount\",\"LoanAmount\",\"LoanAmount\",\"LoanAmount\",\"LoanAmount\",\"LoanAmount\",\"LoanAmount\",\"LoanAmount\",\"LoanAmount\",\"LoanAmount\",\"LoanAmount\",\"LoanAmount\",\"LoanAmount\",\"LoanAmount\",\"LoanAmount\",\"LoanAmount\",\"LoanAmount\",\"LoanAmount\",\"LoanAmount\",\"LoanAmount\",\"LoanAmount\",\"LoanAmount\",\"LoanAmount\",\"LoanAmount\",\"LoanAmount\",\"LoanAmount\",\"LoanAmount\",\"LoanAmount\",\"LoanAmount\",\"LoanAmount\",\"LoanAmount\",\"LoanAmount\",\"LoanAmount\",\"LoanAmount\",\"LoanAmount\",\"LoanAmount\",\"LoanAmount\",\"LoanAmount\",\"LoanAmount\",\"LoanAmount\",\"LoanAmount\",\"LoanAmount\",\"LoanAmount\",\"LoanAmount\",\"LoanAmount\",\"LoanAmount\",\"LoanAmount\",\"LoanAmount\",\"LoanAmount\",\"LoanAmount\",\"LoanAmount\",\"LoanAmount\",\"LoanAmount\",\"LoanAmount\",\"LoanAmount\",\"LoanAmount\",\"LoanAmount\",\"LoanAmount\",\"LoanAmount\",\"LoanAmount\",\"LoanAmount\",\"LoanAmount\",\"LoanAmount\",\"LoanAmount\",\"LoanAmount\",\"LoanAmount\",\"LoanAmount\",\"LoanAmount\",\"LoanAmount\",\"LoanAmount\",\"LoanAmount\",\"LoanAmount\",\"LoanAmount\",\"LoanAmount\",\"LoanAmount\",\"LoanAmount\",\"LoanAmount\",\"LoanAmount\",\"LoanAmount\",\"LoanAmount\",\"LoanAmount\",\"LoanAmount\",\"LoanAmount\",\"LoanAmount\",\"LoanAmount\",\"LoanAmount\",\"LoanAmount\",\"LoanAmount\",\"LoanAmount\",\"LoanAmount\",\"LoanAmount\",\"LoanAmount\",\"LoanAmount\",\"LoanAmount\",\"LoanAmount\",\"LoanAmount\",\"LoanAmount\",\"LoanAmount\",\"LoanAmount\",\"LoanAmount\",\"LoanAmount\",\"LoanAmount\",\"LoanAmount\",\"LoanAmount\",\"LoanAmount\",\"LoanAmount\",\"LoanAmount\",\"LoanAmount\",\"LoanAmount\",\"LoanAmount\",\"LoanAmount\",\"LoanAmount\",\"LoanAmount\",\"LoanAmount\",\"LoanAmount\",\"LoanAmount\",\"LoanAmount\",\"LoanAmount\",\"LoanAmount\",\"LoanAmount\",\"LoanAmount\",\"LoanAmount\",\"LoanAmount\",\"LoanAmount\",\"LoanAmount\",\"LoanAmount\",\"LoanAmount\",\"LoanAmount\",\"LoanAmount\",\"LoanAmount\",\"LoanAmount\",\"LoanAmount\",\"LoanAmount\",\"LoanAmount\",\"LoanAmount\",\"LoanAmount\",\"LoanAmount\",\"LoanAmount\",\"LoanAmount\",\"LoanAmount\",\"LoanAmount\",\"LoanAmount\",\"LoanAmount\",\"LoanAmount\",\"LoanAmount\",\"LoanAmount\",\"LoanAmount\",\"LoanAmount\",\"LoanAmount\",\"LoanAmount\",\"LoanAmount\",\"LoanAmount\",\"LoanAmount\",\"LoanAmount\",\"LoanAmount\",\"LoanAmount\",\"LoanAmount\",\"LoanAmount\",\"LoanAmount\",\"LoanAmount\",\"LoanAmount\",\"LoanAmount\",\"LoanAmount\",\"LoanAmount\",\"LoanAmount\",\"LoanAmount\",\"LoanAmount\",\"LoanAmount\",\"LoanAmount\",\"LoanAmount\",\"LoanAmount\",\"LoanAmount\",\"LoanAmount\",\"LoanAmount\",\"LoanAmount\",\"LoanAmount\",\"LoanAmount\",\"LoanAmount\",\"LoanAmount\",\"LoanAmount\",\"LoanAmount\",\"LoanAmount\",\"LoanAmount\",\"LoanAmount\",\"LoanAmount\",\"LoanAmount\",\"LoanAmount\",\"LoanAmount\",\"LoanAmount\",\"LoanAmount\",\"LoanAmount\",\"LoanAmount\",\"LoanAmount\",\"LoanAmount\",\"LoanAmount\",\"LoanAmount\",\"LoanAmount\",\"LoanAmount\",\"LoanAmount\",\"LoanAmount\",\"LoanAmount\",\"LoanAmount\",\"LoanAmount\",\"LoanAmount\",\"LoanAmount\",\"LoanAmount\",\"LoanAmount\",\"LoanAmount\",\"LoanAmount\",\"LoanAmount\",\"LoanAmount\",\"LoanAmount\",\"LoanAmount\",\"LoanAmount\",\"LoanAmount\",\"LoanAmount\",\"LoanAmount\",\"LoanAmount\",\"LoanAmount\",\"LoanAmount\",\"LoanAmount\",\"LoanAmount\",\"LoanAmount\",\"LoanAmount\",\"LoanAmount\",\"LoanAmount\",\"LoanAmount\",\"LoanAmount\",\"LoanAmount\",\"LoanAmount\",\"LoanAmount\",\"LoanAmount\",\"LoanAmount\",\"LoanAmount\",\"LoanAmount\",\"LoanAmount\",\"LoanAmount\",\"LoanAmount\",\"LoanAmount\",\"LoanAmount\",\"LoanAmount\",\"LoanAmount\",\"LoanAmount\",\"LoanAmount\",\"LoanAmount\",\"LoanAmount\",\"LoanAmount\",\"LoanAmount\",\"LoanAmount\",\"LoanAmount\",\"LoanAmount\",\"LoanAmount\",\"LoanAmount\",\"LoanAmount\",\"LoanAmount\",\"LoanAmount\",\"LoanAmount\",\"LoanAmount\",\"LoanAmount\",\"LoanAmount\",\"LoanAmount\",\"LoanAmount\",\"LoanAmount\",\"LoanAmount\",\"LoanAmount\",\"LoanAmount\",\"LoanAmount\",\"LoanAmount\",\"LoanAmount\",\"LoanAmount\",\"LoanAmount\",\"LoanAmount\",\"LoanAmount\",\"LoanAmount\",\"LoanAmount\",\"LoanAmount\",\"LoanAmount\",\"LoanAmount\",\"LoanAmount\",\"LoanAmount\",\"LoanAmount\",\"LoanAmount\",\"LoanAmount\",\"LoanAmount\",\"LoanAmount\",\"LoanAmount\",\"LoanAmount\",\"LoanAmount\",\"LoanAmount\",\"LoanAmount\",\"LoanAmount\",\"LoanAmount\",\"LoanAmount\",\"LoanAmount\",\"LoanAmount\",\"LoanAmount\",\"LoanAmount\",\"LoanAmount\",\"LoanAmount\",\"LoanAmount\",\"LoanAmount\",\"LoanAmount\",\"LoanAmount\",\"LoanAmount\",\"LoanAmount\",\"LoanAmount\",\"LoanAmount\",\"LoanAmount\",\"LoanAmount\",\"LoanAmount\",\"LoanAmount\",\"LoanAmount\",\"LoanAmount\",\"LoanAmount\",\"LoanAmount\",\"LoanAmount\",\"LoanAmount\",\"LoanAmount\",\"LoanAmount\",\"LoanAmount\",\"LoanAmount\",\"LoanAmount\",\"LoanAmount\",\"LoanAmount\",\"LoanAmount\",\"LoanAmount\",\"LoanAmount\",\"LoanAmount\",\"LoanAmount\",\"LoanAmount\",\"LoanAmount\",\"LoanAmount\",\"LoanAmount\",\"LoanAmount\",\"LoanAmount\",\"LoanAmount\",\"LoanAmount\",\"LoanAmount\",\"LoanAmount\",\"LoanAmount\",\"LoanAmount\",\"LoanAmount\",\"LoanAmount\",\"LoanAmount\",\"LoanAmount\",\"LoanAmount\",\"LoanAmount\",\"LoanAmount\",\"LoanAmount\",\"LoanAmount\",\"LoanAmount\",\"LoanAmount\",\"LoanAmount\",\"LoanAmount\",\"LoanAmount\",\"LoanAmount\",\"LoanAmount\",\"LoanAmount\",\"LoanAmount\",\"LoanAmount\",\"LoanAmount\",\"LoanAmount\",\"LoanAmount\",\"LoanAmount\",\"LoanAmount\",\"LoanAmount\",\"LoanAmount\",\"LoanAmount\",\"LoanAmount\",\"LoanAmount\",\"LoanAmount\",\"LoanAmount\",\"LoanAmount\",\"LoanAmount\",\"LoanAmount\",\"LoanAmount\",\"LoanAmount\",\"LoanAmount\",\"LoanAmount\",\"LoanAmount\",\"LoanAmount\",\"LoanAmount\",\"LoanAmount\",\"LoanAmount\",\"LoanAmount\",\"LoanAmount\",\"LoanAmount\",\"LoanAmount\",\"LoanAmount\",\"LoanAmount\",\"LoanAmount\",\"LoanAmount\",\"LoanAmount\",\"LoanAmount\",\"LoanAmount\",\"LoanAmount\",\"LoanAmount\",\"LoanAmount\",\"LoanAmount\",\"LoanAmount\",\"LoanAmount\",\"LoanAmount\",\"LoanAmount\",\"LoanAmount\",\"LoanAmount\",\"LoanAmount\",\"LoanAmount\",\"LoanAmount\",\"LoanAmount\",\"LoanAmount\",\"LoanAmount\",\"LoanAmount\",\"LoanAmount\",\"LoanAmount\",\"LoanAmount\",\"LoanAmount\",\"LoanAmount\",\"LoanAmount\",\"LoanAmount\",\"LoanAmount\",\"LoanAmount\",\"LoanAmount\",\"LoanAmount\",\"LoanAmount\",\"LoanAmount\",\"LoanAmount\",\"LoanAmount\",\"LoanAmount\",\"LoanAmount\",\"LoanAmount\",\"LoanAmount\",\"LoanAmount\",\"LoanAmount\",\"LoanAmount\",\"LoanAmount\",\"LoanAmount\",\"LoanAmount\",\"LoanAmount\",\"LoanAmount\",\"LoanAmount\",\"LoanAmount\",\"LoanAmount\",\"LoanAmount\",\"LoanAmount\",\"LoanAmount\",\"LoanAmount\",\"LoanAmount\",\"LoanAmount\",\"LoanAmount\",\"LoanAmount\",\"LoanAmount\",\"LoanAmount\",\"LoanAmount\",\"LoanAmount\",\"LoanAmount\",\"LoanAmount\",\"LoanAmount\",\"LoanAmount\",\"LoanAmount\",\"LoanAmount\",\"LoanAmount\",\"LoanAmount\",\"LoanAmount\",\"LoanAmount\",\"LoanAmount\",\"LoanAmount\",\"LoanAmount\",\"LoanAmount\",\"LoanAmount\",\"LoanAmount\",\"LoanAmount\",\"LoanAmount\",\"LoanAmount\",\"LoanAmount\",\"LoanAmount\",\"LoanAmount\",\"LoanAmount\",\"LoanAmount\",\"LoanAmount\",\"LoanAmount\",\"LoanAmount\",\"LoanAmount\",\"LoanAmount\",\"LoanAmount\",\"LoanAmount\",\"LoanAmount\",\"LoanAmount\",\"LoanAmount\",\"LoanAmount\",\"LoanAmount\",\"LoanAmount\",\"LoanAmount\",\"LoanAmount\",\"LoanAmount\",\"LoanAmount\",\"LoanAmount\",\"LoanAmount\",\"LoanAmount\",\"LoanAmount\",\"LoanAmount\",\"LoanAmount\",\"LoanAmount\",\"LoanAmount\",\"LoanAmount\",\"LoanAmount\",\"LoanAmount\",\"LoanAmount\",\"LoanAmount\",\"LoanAmount\",\"LoanAmount\",\"LoanAmount\",\"LoanAmount\",\"LoanAmount\",\"LoanAmount\",\"LoanAmount\",\"LoanAmount\",\"LoanAmount\",\"LoanAmount\",\"LoanAmount\",\"LoanAmount\",\"LoanAmount\",\"LoanAmount\",\"LoanAmount\",\"LoanAmount\",\"LoanAmount\",\"LoanAmount\",\"LoanAmount\",\"LoanAmount\",\"LoanAmount\",\"LoanAmount\",\"LoanAmount\",\"LoanAmount\",\"LoanAmount\",\"LoanAmount\",\"LoanAmount\",\"LoanAmount\",\"LoanAmount\",\"LoanAmount\",\"LoanAmount\",\"LoanAmount\",\"LoanAmount\",\"LoanAmount\",\"LoanAmount\",\"LoanAmount\",\"LoanAmount\",\"LoanAmount\",\"LoanAmount\",\"LoanAmount\",\"LoanAmount\",\"LoanAmount\",\"LoanAmount\",\"LoanAmount\",\"LoanAmount\",\"LoanAmount\",\"LoanAmount\",\"LoanAmount\",\"LoanAmount\",\"LoanAmount\"],\"x0\":\" \",\"xaxis\":\"x\",\"y\":[null,128.0,66.0,120.0,141.0,267.0,95.0,158.0,168.0,349.0,70.0,109.0,200.0,114.0,17.0,125.0,100.0,76.0,133.0,115.0,104.0,315.0,116.0,151.0,191.0,122.0,110.0,35.0,120.0,201.0,74.0,106.0,114.0,320.0,null,100.0,144.0,184.0,110.0,80.0,47.0,75.0,134.0,96.0,88.0,44.0,144.0,120.0,144.0,100.0,120.0,112.0,134.0,286.0,97.0,96.0,135.0,180.0,144.0,120.0,99.0,165.0,null,116.0,258.0,126.0,312.0,125.0,136.0,172.0,97.0,81.0,95.0,187.0,113.0,176.0,110.0,180.0,130.0,111.0,null,167.0,265.0,50.0,136.0,99.0,104.0,210.0,175.0,131.0,188.0,81.0,122.0,25.0,null,137.0,50.0,115.0,131.0,133.0,151.0,null,null,100.0,225.0,120.0,216.0,94.0,136.0,139.0,152.0,null,118.0,185.0,154.0,85.0,175.0,259.0,180.0,44.0,137.0,81.0,194.0,93.0,null,160.0,182.0,650.0,74.0,70.0,25.0,102.0,290.0,84.0,88.0,242.0,129.0,185.0,168.0,175.0,122.0,187.0,100.0,70.0,30.0,225.0,125.0,118.0,152.0,244.0,113.0,50.0,600.0,160.0,187.0,120.0,255.0,98.0,275.0,121.0,158.0,75.0,182.0,112.0,129.0,63.0,200.0,95.0,81.0,187.0,87.0,116.0,101.0,495.0,116.0,102.0,180.0,67.0,73.0,260.0,108.0,120.0,66.0,58.0,188.0,48.0,164.0,160.0,76.0,120.0,170.0,187.0,120.0,113.0,83.0,90.0,166.0,null,135.0,124.0,120.0,80.0,55.0,59.0,127.0,214.0,128.0,240.0,130.0,137.0,100.0,135.0,131.0,72.0,127.0,60.0,116.0,144.0,175.0,128.0,170.0,138.0,210.0,200.0,104.0,42.0,120.0,280.0,140.0,170.0,255.0,122.0,112.0,96.0,120.0,140.0,155.0,108.0,123.0,120.0,112.0,137.0,123.0,90.0,201.0,138.0,104.0,279.0,192.0,255.0,115.0,94.0,304.0,128.0,330.0,134.0,155.0,120.0,128.0,151.0,150.0,160.0,135.0,90.0,30.0,136.0,126.0,150.0,90.0,115.0,207.0,80.0,436.0,124.0,158.0,112.0,78.0,54.0,null,89.0,99.0,120.0,115.0,187.0,139.0,127.0,134.0,143.0,172.0,110.0,200.0,135.0,151.0,113.0,93.0,105.0,132.0,96.0,140.0,null,135.0,104.0,480.0,185.0,84.0,111.0,56.0,144.0,111.0,120.0,88.0,112.0,155.0,115.0,124.0,null,132.0,300.0,376.0,130.0,184.0,110.0,67.0,117.0,98.0,71.0,490.0,70.0,160.0,176.0,null,71.0,173.0,46.0,158.0,74.0,125.0,160.0,152.0,126.0,259.0,187.0,228.0,308.0,95.0,105.0,130.0,116.0,165.0,67.0,100.0,200.0,81.0,236.0,130.0,95.0,141.0,133.0,96.0,124.0,175.0,570.0,55.0,155.0,380.0,111.0,110.0,120.0,130.0,130.0,71.0,130.0,128.0,296.0,156.0,128.0,100.0,113.0,132.0,null,136.0,125.0,185.0,275.0,120.0,113.0,113.0,135.0,71.0,95.0,109.0,103.0,45.0,65.0,103.0,53.0,194.0,115.0,115.0,66.0,152.0,360.0,62.0,160.0,218.0,110.0,178.0,60.0,160.0,239.0,112.0,138.0,138.0,80.0,100.0,110.0,96.0,121.0,81.0,133.0,87.0,60.0,150.0,105.0,405.0,143.0,100.0,50.0,null,187.0,138.0,187.0,180.0,148.0,152.0,175.0,130.0,110.0,55.0,150.0,190.0,125.0,60.0,149.0,90.0,84.0,96.0,118.0,173.0,136.0,160.0,128.0,153.0,132.0,98.0,140.0,70.0,98.0,110.0,162.0,113.0,100.0,93.0,162.0,150.0,230.0,86.0,null,154.0,113.0,128.0,234.0,246.0,131.0,80.0,500.0,160.0,75.0,96.0,186.0,110.0,225.0,119.0,105.0,107.0,111.0,95.0,209.0,113.0,100.0,208.0,138.0,124.0,243.0,480.0,188.0,40.0,100.0,250.0,148.0,70.0,311.0,150.0,113.0,123.0,185.0,95.0,45.0,55.0,100.0,480.0,null,400.0,110.0,161.0,94.0,130.0,216.0,100.0,110.0,196.0,125.0,126.0,324.0,107.0,66.0,157.0,140.0,99.0,95.0,128.0,102.0,155.0,80.0,145.0,103.0,110.0,null,null,158.0,181.0,132.0,26.0,84.0,260.0,162.0,182.0,108.0,600.0,211.0,132.0,258.0,120.0,70.0,123.0,9.0,104.0,186.0,165.0,275.0,187.0,150.0,108.0,110.0,107.0,161.0,205.0,90.0,36.0,61.0,146.0,172.0,104.0,70.0,106.0,56.0,205.0,142.0,260.0,110.0,187.0,88.0,180.0,192.0,350.0,155.0,128.0,172.0,496.0,null,173.0,157.0,108.0,71.0,40.0,253.0,187.0,133.0],\"y0\":\" \",\"yaxis\":\"y\",\"type\":\"box\"}],                        {\"template\":{\"data\":{\"histogram2dcontour\":[{\"type\":\"histogram2dcontour\",\"colorbar\":{\"outlinewidth\":0,\"ticks\":\"\"},\"colorscale\":[[0.0,\"#0d0887\"],[0.1111111111111111,\"#46039f\"],[0.2222222222222222,\"#7201a8\"],[0.3333333333333333,\"#9c179e\"],[0.4444444444444444,\"#bd3786\"],[0.5555555555555556,\"#d8576b\"],[0.6666666666666666,\"#ed7953\"],[0.7777777777777778,\"#fb9f3a\"],[0.8888888888888888,\"#fdca26\"],[1.0,\"#f0f921\"]]}],\"choropleth\":[{\"type\":\"choropleth\",\"colorbar\":{\"outlinewidth\":0,\"ticks\":\"\"}}],\"histogram2d\":[{\"type\":\"histogram2d\",\"colorbar\":{\"outlinewidth\":0,\"ticks\":\"\"},\"colorscale\":[[0.0,\"#0d0887\"],[0.1111111111111111,\"#46039f\"],[0.2222222222222222,\"#7201a8\"],[0.3333333333333333,\"#9c179e\"],[0.4444444444444444,\"#bd3786\"],[0.5555555555555556,\"#d8576b\"],[0.6666666666666666,\"#ed7953\"],[0.7777777777777778,\"#fb9f3a\"],[0.8888888888888888,\"#fdca26\"],[1.0,\"#f0f921\"]]}],\"heatmap\":[{\"type\":\"heatmap\",\"colorbar\":{\"outlinewidth\":0,\"ticks\":\"\"},\"colorscale\":[[0.0,\"#0d0887\"],[0.1111111111111111,\"#46039f\"],[0.2222222222222222,\"#7201a8\"],[0.3333333333333333,\"#9c179e\"],[0.4444444444444444,\"#bd3786\"],[0.5555555555555556,\"#d8576b\"],[0.6666666666666666,\"#ed7953\"],[0.7777777777777778,\"#fb9f3a\"],[0.8888888888888888,\"#fdca26\"],[1.0,\"#f0f921\"]]}],\"heatmapgl\":[{\"type\":\"heatmapgl\",\"colorbar\":{\"outlinewidth\":0,\"ticks\":\"\"},\"colorscale\":[[0.0,\"#0d0887\"],[0.1111111111111111,\"#46039f\"],[0.2222222222222222,\"#7201a8\"],[0.3333333333333333,\"#9c179e\"],[0.4444444444444444,\"#bd3786\"],[0.5555555555555556,\"#d8576b\"],[0.6666666666666666,\"#ed7953\"],[0.7777777777777778,\"#fb9f3a\"],[0.8888888888888888,\"#fdca26\"],[1.0,\"#f0f921\"]]}],\"contourcarpet\":[{\"type\":\"contourcarpet\",\"colorbar\":{\"outlinewidth\":0,\"ticks\":\"\"}}],\"contour\":[{\"type\":\"contour\",\"colorbar\":{\"outlinewidth\":0,\"ticks\":\"\"},\"colorscale\":[[0.0,\"#0d0887\"],[0.1111111111111111,\"#46039f\"],[0.2222222222222222,\"#7201a8\"],[0.3333333333333333,\"#9c179e\"],[0.4444444444444444,\"#bd3786\"],[0.5555555555555556,\"#d8576b\"],[0.6666666666666666,\"#ed7953\"],[0.7777777777777778,\"#fb9f3a\"],[0.8888888888888888,\"#fdca26\"],[1.0,\"#f0f921\"]]}],\"surface\":[{\"type\":\"surface\",\"colorbar\":{\"outlinewidth\":0,\"ticks\":\"\"},\"colorscale\":[[0.0,\"#0d0887\"],[0.1111111111111111,\"#46039f\"],[0.2222222222222222,\"#7201a8\"],[0.3333333333333333,\"#9c179e\"],[0.4444444444444444,\"#bd3786\"],[0.5555555555555556,\"#d8576b\"],[0.6666666666666666,\"#ed7953\"],[0.7777777777777778,\"#fb9f3a\"],[0.8888888888888888,\"#fdca26\"],[1.0,\"#f0f921\"]]}],\"mesh3d\":[{\"type\":\"mesh3d\",\"colorbar\":{\"outlinewidth\":0,\"ticks\":\"\"}}],\"scatter\":[{\"fillpattern\":{\"fillmode\":\"overlay\",\"size\":10,\"solidity\":0.2},\"type\":\"scatter\"}],\"parcoords\":[{\"type\":\"parcoords\",\"line\":{\"colorbar\":{\"outlinewidth\":0,\"ticks\":\"\"}}}],\"scatterpolargl\":[{\"type\":\"scatterpolargl\",\"marker\":{\"colorbar\":{\"outlinewidth\":0,\"ticks\":\"\"}}}],\"bar\":[{\"error_x\":{\"color\":\"#2a3f5f\"},\"error_y\":{\"color\":\"#2a3f5f\"},\"marker\":{\"line\":{\"color\":\"#E5ECF6\",\"width\":0.5},\"pattern\":{\"fillmode\":\"overlay\",\"size\":10,\"solidity\":0.2}},\"type\":\"bar\"}],\"scattergeo\":[{\"type\":\"scattergeo\",\"marker\":{\"colorbar\":{\"outlinewidth\":0,\"ticks\":\"\"}}}],\"scatterpolar\":[{\"type\":\"scatterpolar\",\"marker\":{\"colorbar\":{\"outlinewidth\":0,\"ticks\":\"\"}}}],\"histogram\":[{\"marker\":{\"pattern\":{\"fillmode\":\"overlay\",\"size\":10,\"solidity\":0.2}},\"type\":\"histogram\"}],\"scattergl\":[{\"type\":\"scattergl\",\"marker\":{\"colorbar\":{\"outlinewidth\":0,\"ticks\":\"\"}}}],\"scatter3d\":[{\"type\":\"scatter3d\",\"line\":{\"colorbar\":{\"outlinewidth\":0,\"ticks\":\"\"}},\"marker\":{\"colorbar\":{\"outlinewidth\":0,\"ticks\":\"\"}}}],\"scattermapbox\":[{\"type\":\"scattermapbox\",\"marker\":{\"colorbar\":{\"outlinewidth\":0,\"ticks\":\"\"}}}],\"scatterternary\":[{\"type\":\"scatterternary\",\"marker\":{\"colorbar\":{\"outlinewidth\":0,\"ticks\":\"\"}}}],\"scattercarpet\":[{\"type\":\"scattercarpet\",\"marker\":{\"colorbar\":{\"outlinewidth\":0,\"ticks\":\"\"}}}],\"carpet\":[{\"aaxis\":{\"endlinecolor\":\"#2a3f5f\",\"gridcolor\":\"white\",\"linecolor\":\"white\",\"minorgridcolor\":\"white\",\"startlinecolor\":\"#2a3f5f\"},\"baxis\":{\"endlinecolor\":\"#2a3f5f\",\"gridcolor\":\"white\",\"linecolor\":\"white\",\"minorgridcolor\":\"white\",\"startlinecolor\":\"#2a3f5f\"},\"type\":\"carpet\"}],\"table\":[{\"cells\":{\"fill\":{\"color\":\"#EBF0F8\"},\"line\":{\"color\":\"white\"}},\"header\":{\"fill\":{\"color\":\"#C8D4E3\"},\"line\":{\"color\":\"white\"}},\"type\":\"table\"}],\"barpolar\":[{\"marker\":{\"line\":{\"color\":\"#E5ECF6\",\"width\":0.5},\"pattern\":{\"fillmode\":\"overlay\",\"size\":10,\"solidity\":0.2}},\"type\":\"barpolar\"}],\"pie\":[{\"automargin\":true,\"type\":\"pie\"}]},\"layout\":{\"autotypenumbers\":\"strict\",\"colorway\":[\"#636efa\",\"#EF553B\",\"#00cc96\",\"#ab63fa\",\"#FFA15A\",\"#19d3f3\",\"#FF6692\",\"#B6E880\",\"#FF97FF\",\"#FECB52\"],\"font\":{\"color\":\"#2a3f5f\"},\"hovermode\":\"closest\",\"hoverlabel\":{\"align\":\"left\"},\"paper_bgcolor\":\"white\",\"plot_bgcolor\":\"#E5ECF6\",\"polar\":{\"bgcolor\":\"#E5ECF6\",\"angularaxis\":{\"gridcolor\":\"white\",\"linecolor\":\"white\",\"ticks\":\"\"},\"radialaxis\":{\"gridcolor\":\"white\",\"linecolor\":\"white\",\"ticks\":\"\"}},\"ternary\":{\"bgcolor\":\"#E5ECF6\",\"aaxis\":{\"gridcolor\":\"white\",\"linecolor\":\"white\",\"ticks\":\"\"},\"baxis\":{\"gridcolor\":\"white\",\"linecolor\":\"white\",\"ticks\":\"\"},\"caxis\":{\"gridcolor\":\"white\",\"linecolor\":\"white\",\"ticks\":\"\"}},\"coloraxis\":{\"colorbar\":{\"outlinewidth\":0,\"ticks\":\"\"}},\"colorscale\":{\"sequential\":[[0.0,\"#0d0887\"],[0.1111111111111111,\"#46039f\"],[0.2222222222222222,\"#7201a8\"],[0.3333333333333333,\"#9c179e\"],[0.4444444444444444,\"#bd3786\"],[0.5555555555555556,\"#d8576b\"],[0.6666666666666666,\"#ed7953\"],[0.7777777777777778,\"#fb9f3a\"],[0.8888888888888888,\"#fdca26\"],[1.0,\"#f0f921\"]],\"sequentialminus\":[[0.0,\"#0d0887\"],[0.1111111111111111,\"#46039f\"],[0.2222222222222222,\"#7201a8\"],[0.3333333333333333,\"#9c179e\"],[0.4444444444444444,\"#bd3786\"],[0.5555555555555556,\"#d8576b\"],[0.6666666666666666,\"#ed7953\"],[0.7777777777777778,\"#fb9f3a\"],[0.8888888888888888,\"#fdca26\"],[1.0,\"#f0f921\"]],\"diverging\":[[0,\"#8e0152\"],[0.1,\"#c51b7d\"],[0.2,\"#de77ae\"],[0.3,\"#f1b6da\"],[0.4,\"#fde0ef\"],[0.5,\"#f7f7f7\"],[0.6,\"#e6f5d0\"],[0.7,\"#b8e186\"],[0.8,\"#7fbc41\"],[0.9,\"#4d9221\"],[1,\"#276419\"]]},\"xaxis\":{\"gridcolor\":\"white\",\"linecolor\":\"white\",\"ticks\":\"\",\"title\":{\"standoff\":15},\"zerolinecolor\":\"white\",\"automargin\":true,\"zerolinewidth\":2},\"yaxis\":{\"gridcolor\":\"white\",\"linecolor\":\"white\",\"ticks\":\"\",\"title\":{\"standoff\":15},\"zerolinecolor\":\"white\",\"automargin\":true,\"zerolinewidth\":2},\"scene\":{\"xaxis\":{\"backgroundcolor\":\"#E5ECF6\",\"gridcolor\":\"white\",\"linecolor\":\"white\",\"showbackground\":true,\"ticks\":\"\",\"zerolinecolor\":\"white\",\"gridwidth\":2},\"yaxis\":{\"backgroundcolor\":\"#E5ECF6\",\"gridcolor\":\"white\",\"linecolor\":\"white\",\"showbackground\":true,\"ticks\":\"\",\"zerolinecolor\":\"white\",\"gridwidth\":2},\"zaxis\":{\"backgroundcolor\":\"#E5ECF6\",\"gridcolor\":\"white\",\"linecolor\":\"white\",\"showbackground\":true,\"ticks\":\"\",\"zerolinecolor\":\"white\",\"gridwidth\":2}},\"shapedefaults\":{\"line\":{\"color\":\"#2a3f5f\"}},\"annotationdefaults\":{\"arrowcolor\":\"#2a3f5f\",\"arrowhead\":0,\"arrowwidth\":1},\"geo\":{\"bgcolor\":\"white\",\"landcolor\":\"#E5ECF6\",\"subunitcolor\":\"white\",\"showland\":true,\"showlakes\":true,\"lakecolor\":\"white\"},\"title\":{\"x\":0.05},\"mapbox\":{\"style\":\"light\"}}},\"xaxis\":{\"anchor\":\"y\",\"domain\":[0.0,1.0],\"title\":{\"text\":\"variable\"}},\"yaxis\":{\"anchor\":\"x\",\"domain\":[0.0,1.0],\"title\":{\"text\":\"value\"}},\"legend\":{\"tracegroupgap\":0},\"title\":{\"text\":\"Outliers in LoanAmount\"},\"boxmode\":\"group\"},                        {\"responsive\": true}                    ).then(function(){\n",
       "                            \n",
       "var gd = document.getElementById('b0bc0beb-489f-4759-abfa-38eed1e0d9ee');\n",
       "var x = new MutationObserver(function (mutations, observer) {{\n",
       "        var display = window.getComputedStyle(gd).display;\n",
       "        if (!display || display === 'none') {{\n",
       "            console.log([gd, 'removed!']);\n",
       "            Plotly.purge(gd);\n",
       "            observer.disconnect();\n",
       "        }}\n",
       "}});\n",
       "\n",
       "// Listen for the removal of the full notebook cells\n",
       "var notebookContainer = gd.closest('#notebook-container');\n",
       "if (notebookContainer) {{\n",
       "    x.observe(notebookContainer, {childList: true});\n",
       "}}\n",
       "\n",
       "// Listen for the clearing of the current output cell\n",
       "var outputEl = gd.closest('.output');\n",
       "if (outputEl) {{\n",
       "    x.observe(outputEl, {childList: true});\n",
       "}}\n",
       "\n",
       "                        })                };                });            </script>        </div>"
      ]
     },
     "metadata": {},
     "output_type": "display_data"
    },
    {
     "data": {
      "application/vnd.plotly.v1+json": {
       "config": {
        "plotlyServerURL": "https://plot.ly"
       },
       "data": [
        {
         "alignmentgroup": "True",
         "boxpoints": "all",
         "hovertemplate": "variable=%{x}<br>value=%{y}<extra></extra>",
         "legendgroup": "",
         "marker": {
          "color": "#636efa"
         },
         "name": "",
         "notched": false,
         "offsetgroup": "",
         "orientation": "v",
         "showlegend": false,
         "type": "box",
         "x": [
          "Loan_Amount_Term",
          "Loan_Amount_Term",
          "Loan_Amount_Term",
          "Loan_Amount_Term",
          "Loan_Amount_Term",
          "Loan_Amount_Term",
          "Loan_Amount_Term",
          "Loan_Amount_Term",
          "Loan_Amount_Term",
          "Loan_Amount_Term",
          "Loan_Amount_Term",
          "Loan_Amount_Term",
          "Loan_Amount_Term",
          "Loan_Amount_Term",
          "Loan_Amount_Term",
          "Loan_Amount_Term",
          "Loan_Amount_Term",
          "Loan_Amount_Term",
          "Loan_Amount_Term",
          "Loan_Amount_Term",
          "Loan_Amount_Term",
          "Loan_Amount_Term",
          "Loan_Amount_Term",
          "Loan_Amount_Term",
          "Loan_Amount_Term",
          "Loan_Amount_Term",
          "Loan_Amount_Term",
          "Loan_Amount_Term",
          "Loan_Amount_Term",
          "Loan_Amount_Term",
          "Loan_Amount_Term",
          "Loan_Amount_Term",
          "Loan_Amount_Term",
          "Loan_Amount_Term",
          "Loan_Amount_Term",
          "Loan_Amount_Term",
          "Loan_Amount_Term",
          "Loan_Amount_Term",
          "Loan_Amount_Term",
          "Loan_Amount_Term",
          "Loan_Amount_Term",
          "Loan_Amount_Term",
          "Loan_Amount_Term",
          "Loan_Amount_Term",
          "Loan_Amount_Term",
          "Loan_Amount_Term",
          "Loan_Amount_Term",
          "Loan_Amount_Term",
          "Loan_Amount_Term",
          "Loan_Amount_Term",
          "Loan_Amount_Term",
          "Loan_Amount_Term",
          "Loan_Amount_Term",
          "Loan_Amount_Term",
          "Loan_Amount_Term",
          "Loan_Amount_Term",
          "Loan_Amount_Term",
          "Loan_Amount_Term",
          "Loan_Amount_Term",
          "Loan_Amount_Term",
          "Loan_Amount_Term",
          "Loan_Amount_Term",
          "Loan_Amount_Term",
          "Loan_Amount_Term",
          "Loan_Amount_Term",
          "Loan_Amount_Term",
          "Loan_Amount_Term",
          "Loan_Amount_Term",
          "Loan_Amount_Term",
          "Loan_Amount_Term",
          "Loan_Amount_Term",
          "Loan_Amount_Term",
          "Loan_Amount_Term",
          "Loan_Amount_Term",
          "Loan_Amount_Term",
          "Loan_Amount_Term",
          "Loan_Amount_Term",
          "Loan_Amount_Term",
          "Loan_Amount_Term",
          "Loan_Amount_Term",
          "Loan_Amount_Term",
          "Loan_Amount_Term",
          "Loan_Amount_Term",
          "Loan_Amount_Term",
          "Loan_Amount_Term",
          "Loan_Amount_Term",
          "Loan_Amount_Term",
          "Loan_Amount_Term",
          "Loan_Amount_Term",
          "Loan_Amount_Term",
          "Loan_Amount_Term",
          "Loan_Amount_Term",
          "Loan_Amount_Term",
          "Loan_Amount_Term",
          "Loan_Amount_Term",
          "Loan_Amount_Term",
          "Loan_Amount_Term",
          "Loan_Amount_Term",
          "Loan_Amount_Term",
          "Loan_Amount_Term",
          "Loan_Amount_Term",
          "Loan_Amount_Term",
          "Loan_Amount_Term",
          "Loan_Amount_Term",
          "Loan_Amount_Term",
          "Loan_Amount_Term",
          "Loan_Amount_Term",
          "Loan_Amount_Term",
          "Loan_Amount_Term",
          "Loan_Amount_Term",
          "Loan_Amount_Term",
          "Loan_Amount_Term",
          "Loan_Amount_Term",
          "Loan_Amount_Term",
          "Loan_Amount_Term",
          "Loan_Amount_Term",
          "Loan_Amount_Term",
          "Loan_Amount_Term",
          "Loan_Amount_Term",
          "Loan_Amount_Term",
          "Loan_Amount_Term",
          "Loan_Amount_Term",
          "Loan_Amount_Term",
          "Loan_Amount_Term",
          "Loan_Amount_Term",
          "Loan_Amount_Term",
          "Loan_Amount_Term",
          "Loan_Amount_Term",
          "Loan_Amount_Term",
          "Loan_Amount_Term",
          "Loan_Amount_Term",
          "Loan_Amount_Term",
          "Loan_Amount_Term",
          "Loan_Amount_Term",
          "Loan_Amount_Term",
          "Loan_Amount_Term",
          "Loan_Amount_Term",
          "Loan_Amount_Term",
          "Loan_Amount_Term",
          "Loan_Amount_Term",
          "Loan_Amount_Term",
          "Loan_Amount_Term",
          "Loan_Amount_Term",
          "Loan_Amount_Term",
          "Loan_Amount_Term",
          "Loan_Amount_Term",
          "Loan_Amount_Term",
          "Loan_Amount_Term",
          "Loan_Amount_Term",
          "Loan_Amount_Term",
          "Loan_Amount_Term",
          "Loan_Amount_Term",
          "Loan_Amount_Term",
          "Loan_Amount_Term",
          "Loan_Amount_Term",
          "Loan_Amount_Term",
          "Loan_Amount_Term",
          "Loan_Amount_Term",
          "Loan_Amount_Term",
          "Loan_Amount_Term",
          "Loan_Amount_Term",
          "Loan_Amount_Term",
          "Loan_Amount_Term",
          "Loan_Amount_Term",
          "Loan_Amount_Term",
          "Loan_Amount_Term",
          "Loan_Amount_Term",
          "Loan_Amount_Term",
          "Loan_Amount_Term",
          "Loan_Amount_Term",
          "Loan_Amount_Term",
          "Loan_Amount_Term",
          "Loan_Amount_Term",
          "Loan_Amount_Term",
          "Loan_Amount_Term",
          "Loan_Amount_Term",
          "Loan_Amount_Term",
          "Loan_Amount_Term",
          "Loan_Amount_Term",
          "Loan_Amount_Term",
          "Loan_Amount_Term",
          "Loan_Amount_Term",
          "Loan_Amount_Term",
          "Loan_Amount_Term",
          "Loan_Amount_Term",
          "Loan_Amount_Term",
          "Loan_Amount_Term",
          "Loan_Amount_Term",
          "Loan_Amount_Term",
          "Loan_Amount_Term",
          "Loan_Amount_Term",
          "Loan_Amount_Term",
          "Loan_Amount_Term",
          "Loan_Amount_Term",
          "Loan_Amount_Term",
          "Loan_Amount_Term",
          "Loan_Amount_Term",
          "Loan_Amount_Term",
          "Loan_Amount_Term",
          "Loan_Amount_Term",
          "Loan_Amount_Term",
          "Loan_Amount_Term",
          "Loan_Amount_Term",
          "Loan_Amount_Term",
          "Loan_Amount_Term",
          "Loan_Amount_Term",
          "Loan_Amount_Term",
          "Loan_Amount_Term",
          "Loan_Amount_Term",
          "Loan_Amount_Term",
          "Loan_Amount_Term",
          "Loan_Amount_Term",
          "Loan_Amount_Term",
          "Loan_Amount_Term",
          "Loan_Amount_Term",
          "Loan_Amount_Term",
          "Loan_Amount_Term",
          "Loan_Amount_Term",
          "Loan_Amount_Term",
          "Loan_Amount_Term",
          "Loan_Amount_Term",
          "Loan_Amount_Term",
          "Loan_Amount_Term",
          "Loan_Amount_Term",
          "Loan_Amount_Term",
          "Loan_Amount_Term",
          "Loan_Amount_Term",
          "Loan_Amount_Term",
          "Loan_Amount_Term",
          "Loan_Amount_Term",
          "Loan_Amount_Term",
          "Loan_Amount_Term",
          "Loan_Amount_Term",
          "Loan_Amount_Term",
          "Loan_Amount_Term",
          "Loan_Amount_Term",
          "Loan_Amount_Term",
          "Loan_Amount_Term",
          "Loan_Amount_Term",
          "Loan_Amount_Term",
          "Loan_Amount_Term",
          "Loan_Amount_Term",
          "Loan_Amount_Term",
          "Loan_Amount_Term",
          "Loan_Amount_Term",
          "Loan_Amount_Term",
          "Loan_Amount_Term",
          "Loan_Amount_Term",
          "Loan_Amount_Term",
          "Loan_Amount_Term",
          "Loan_Amount_Term",
          "Loan_Amount_Term",
          "Loan_Amount_Term",
          "Loan_Amount_Term",
          "Loan_Amount_Term",
          "Loan_Amount_Term",
          "Loan_Amount_Term",
          "Loan_Amount_Term",
          "Loan_Amount_Term",
          "Loan_Amount_Term",
          "Loan_Amount_Term",
          "Loan_Amount_Term",
          "Loan_Amount_Term",
          "Loan_Amount_Term",
          "Loan_Amount_Term",
          "Loan_Amount_Term",
          "Loan_Amount_Term",
          "Loan_Amount_Term",
          "Loan_Amount_Term",
          "Loan_Amount_Term",
          "Loan_Amount_Term",
          "Loan_Amount_Term",
          "Loan_Amount_Term",
          "Loan_Amount_Term",
          "Loan_Amount_Term",
          "Loan_Amount_Term",
          "Loan_Amount_Term",
          "Loan_Amount_Term",
          "Loan_Amount_Term",
          "Loan_Amount_Term",
          "Loan_Amount_Term",
          "Loan_Amount_Term",
          "Loan_Amount_Term",
          "Loan_Amount_Term",
          "Loan_Amount_Term",
          "Loan_Amount_Term",
          "Loan_Amount_Term",
          "Loan_Amount_Term",
          "Loan_Amount_Term",
          "Loan_Amount_Term",
          "Loan_Amount_Term",
          "Loan_Amount_Term",
          "Loan_Amount_Term",
          "Loan_Amount_Term",
          "Loan_Amount_Term",
          "Loan_Amount_Term",
          "Loan_Amount_Term",
          "Loan_Amount_Term",
          "Loan_Amount_Term",
          "Loan_Amount_Term",
          "Loan_Amount_Term",
          "Loan_Amount_Term",
          "Loan_Amount_Term",
          "Loan_Amount_Term",
          "Loan_Amount_Term",
          "Loan_Amount_Term",
          "Loan_Amount_Term",
          "Loan_Amount_Term",
          "Loan_Amount_Term",
          "Loan_Amount_Term",
          "Loan_Amount_Term",
          "Loan_Amount_Term",
          "Loan_Amount_Term",
          "Loan_Amount_Term",
          "Loan_Amount_Term",
          "Loan_Amount_Term",
          "Loan_Amount_Term",
          "Loan_Amount_Term",
          "Loan_Amount_Term",
          "Loan_Amount_Term",
          "Loan_Amount_Term",
          "Loan_Amount_Term",
          "Loan_Amount_Term",
          "Loan_Amount_Term",
          "Loan_Amount_Term",
          "Loan_Amount_Term",
          "Loan_Amount_Term",
          "Loan_Amount_Term",
          "Loan_Amount_Term",
          "Loan_Amount_Term",
          "Loan_Amount_Term",
          "Loan_Amount_Term",
          "Loan_Amount_Term",
          "Loan_Amount_Term",
          "Loan_Amount_Term",
          "Loan_Amount_Term",
          "Loan_Amount_Term",
          "Loan_Amount_Term",
          "Loan_Amount_Term",
          "Loan_Amount_Term",
          "Loan_Amount_Term",
          "Loan_Amount_Term",
          "Loan_Amount_Term",
          "Loan_Amount_Term",
          "Loan_Amount_Term",
          "Loan_Amount_Term",
          "Loan_Amount_Term",
          "Loan_Amount_Term",
          "Loan_Amount_Term",
          "Loan_Amount_Term",
          "Loan_Amount_Term",
          "Loan_Amount_Term",
          "Loan_Amount_Term",
          "Loan_Amount_Term",
          "Loan_Amount_Term",
          "Loan_Amount_Term",
          "Loan_Amount_Term",
          "Loan_Amount_Term",
          "Loan_Amount_Term",
          "Loan_Amount_Term",
          "Loan_Amount_Term",
          "Loan_Amount_Term",
          "Loan_Amount_Term",
          "Loan_Amount_Term",
          "Loan_Amount_Term",
          "Loan_Amount_Term",
          "Loan_Amount_Term",
          "Loan_Amount_Term",
          "Loan_Amount_Term",
          "Loan_Amount_Term",
          "Loan_Amount_Term",
          "Loan_Amount_Term",
          "Loan_Amount_Term",
          "Loan_Amount_Term",
          "Loan_Amount_Term",
          "Loan_Amount_Term",
          "Loan_Amount_Term",
          "Loan_Amount_Term",
          "Loan_Amount_Term",
          "Loan_Amount_Term",
          "Loan_Amount_Term",
          "Loan_Amount_Term",
          "Loan_Amount_Term",
          "Loan_Amount_Term",
          "Loan_Amount_Term",
          "Loan_Amount_Term",
          "Loan_Amount_Term",
          "Loan_Amount_Term",
          "Loan_Amount_Term",
          "Loan_Amount_Term",
          "Loan_Amount_Term",
          "Loan_Amount_Term",
          "Loan_Amount_Term",
          "Loan_Amount_Term",
          "Loan_Amount_Term",
          "Loan_Amount_Term",
          "Loan_Amount_Term",
          "Loan_Amount_Term",
          "Loan_Amount_Term",
          "Loan_Amount_Term",
          "Loan_Amount_Term",
          "Loan_Amount_Term",
          "Loan_Amount_Term",
          "Loan_Amount_Term",
          "Loan_Amount_Term",
          "Loan_Amount_Term",
          "Loan_Amount_Term",
          "Loan_Amount_Term",
          "Loan_Amount_Term",
          "Loan_Amount_Term",
          "Loan_Amount_Term",
          "Loan_Amount_Term",
          "Loan_Amount_Term",
          "Loan_Amount_Term",
          "Loan_Amount_Term",
          "Loan_Amount_Term",
          "Loan_Amount_Term",
          "Loan_Amount_Term",
          "Loan_Amount_Term",
          "Loan_Amount_Term",
          "Loan_Amount_Term",
          "Loan_Amount_Term",
          "Loan_Amount_Term",
          "Loan_Amount_Term",
          "Loan_Amount_Term",
          "Loan_Amount_Term",
          "Loan_Amount_Term",
          "Loan_Amount_Term",
          "Loan_Amount_Term",
          "Loan_Amount_Term",
          "Loan_Amount_Term",
          "Loan_Amount_Term",
          "Loan_Amount_Term",
          "Loan_Amount_Term",
          "Loan_Amount_Term",
          "Loan_Amount_Term",
          "Loan_Amount_Term",
          "Loan_Amount_Term",
          "Loan_Amount_Term",
          "Loan_Amount_Term",
          "Loan_Amount_Term",
          "Loan_Amount_Term",
          "Loan_Amount_Term",
          "Loan_Amount_Term",
          "Loan_Amount_Term",
          "Loan_Amount_Term",
          "Loan_Amount_Term",
          "Loan_Amount_Term",
          "Loan_Amount_Term",
          "Loan_Amount_Term",
          "Loan_Amount_Term",
          "Loan_Amount_Term",
          "Loan_Amount_Term",
          "Loan_Amount_Term",
          "Loan_Amount_Term",
          "Loan_Amount_Term",
          "Loan_Amount_Term",
          "Loan_Amount_Term",
          "Loan_Amount_Term",
          "Loan_Amount_Term",
          "Loan_Amount_Term",
          "Loan_Amount_Term",
          "Loan_Amount_Term",
          "Loan_Amount_Term",
          "Loan_Amount_Term",
          "Loan_Amount_Term",
          "Loan_Amount_Term",
          "Loan_Amount_Term",
          "Loan_Amount_Term",
          "Loan_Amount_Term",
          "Loan_Amount_Term",
          "Loan_Amount_Term",
          "Loan_Amount_Term",
          "Loan_Amount_Term",
          "Loan_Amount_Term",
          "Loan_Amount_Term",
          "Loan_Amount_Term",
          "Loan_Amount_Term",
          "Loan_Amount_Term",
          "Loan_Amount_Term",
          "Loan_Amount_Term",
          "Loan_Amount_Term",
          "Loan_Amount_Term",
          "Loan_Amount_Term",
          "Loan_Amount_Term",
          "Loan_Amount_Term",
          "Loan_Amount_Term",
          "Loan_Amount_Term",
          "Loan_Amount_Term",
          "Loan_Amount_Term",
          "Loan_Amount_Term",
          "Loan_Amount_Term",
          "Loan_Amount_Term",
          "Loan_Amount_Term",
          "Loan_Amount_Term",
          "Loan_Amount_Term",
          "Loan_Amount_Term",
          "Loan_Amount_Term",
          "Loan_Amount_Term",
          "Loan_Amount_Term",
          "Loan_Amount_Term",
          "Loan_Amount_Term",
          "Loan_Amount_Term",
          "Loan_Amount_Term",
          "Loan_Amount_Term",
          "Loan_Amount_Term",
          "Loan_Amount_Term",
          "Loan_Amount_Term",
          "Loan_Amount_Term",
          "Loan_Amount_Term",
          "Loan_Amount_Term",
          "Loan_Amount_Term",
          "Loan_Amount_Term",
          "Loan_Amount_Term",
          "Loan_Amount_Term",
          "Loan_Amount_Term",
          "Loan_Amount_Term",
          "Loan_Amount_Term",
          "Loan_Amount_Term",
          "Loan_Amount_Term",
          "Loan_Amount_Term",
          "Loan_Amount_Term",
          "Loan_Amount_Term",
          "Loan_Amount_Term",
          "Loan_Amount_Term",
          "Loan_Amount_Term",
          "Loan_Amount_Term",
          "Loan_Amount_Term",
          "Loan_Amount_Term",
          "Loan_Amount_Term",
          "Loan_Amount_Term",
          "Loan_Amount_Term",
          "Loan_Amount_Term",
          "Loan_Amount_Term",
          "Loan_Amount_Term",
          "Loan_Amount_Term",
          "Loan_Amount_Term",
          "Loan_Amount_Term",
          "Loan_Amount_Term",
          "Loan_Amount_Term",
          "Loan_Amount_Term",
          "Loan_Amount_Term",
          "Loan_Amount_Term",
          "Loan_Amount_Term",
          "Loan_Amount_Term",
          "Loan_Amount_Term",
          "Loan_Amount_Term",
          "Loan_Amount_Term",
          "Loan_Amount_Term",
          "Loan_Amount_Term",
          "Loan_Amount_Term",
          "Loan_Amount_Term",
          "Loan_Amount_Term",
          "Loan_Amount_Term",
          "Loan_Amount_Term",
          "Loan_Amount_Term",
          "Loan_Amount_Term",
          "Loan_Amount_Term",
          "Loan_Amount_Term",
          "Loan_Amount_Term",
          "Loan_Amount_Term",
          "Loan_Amount_Term",
          "Loan_Amount_Term",
          "Loan_Amount_Term",
          "Loan_Amount_Term",
          "Loan_Amount_Term",
          "Loan_Amount_Term",
          "Loan_Amount_Term",
          "Loan_Amount_Term",
          "Loan_Amount_Term",
          "Loan_Amount_Term",
          "Loan_Amount_Term",
          "Loan_Amount_Term",
          "Loan_Amount_Term",
          "Loan_Amount_Term",
          "Loan_Amount_Term",
          "Loan_Amount_Term",
          "Loan_Amount_Term",
          "Loan_Amount_Term",
          "Loan_Amount_Term",
          "Loan_Amount_Term",
          "Loan_Amount_Term",
          "Loan_Amount_Term",
          "Loan_Amount_Term",
          "Loan_Amount_Term",
          "Loan_Amount_Term",
          "Loan_Amount_Term",
          "Loan_Amount_Term",
          "Loan_Amount_Term",
          "Loan_Amount_Term",
          "Loan_Amount_Term",
          "Loan_Amount_Term",
          "Loan_Amount_Term",
          "Loan_Amount_Term",
          "Loan_Amount_Term",
          "Loan_Amount_Term",
          "Loan_Amount_Term",
          "Loan_Amount_Term"
         ],
         "x0": " ",
         "xaxis": "x",
         "y": [
          360,
          360,
          360,
          360,
          360,
          360,
          360,
          360,
          360,
          360,
          360,
          360,
          360,
          360,
          120,
          360,
          240,
          360,
          360,
          null,
          360,
          360,
          360,
          360,
          360,
          360,
          360,
          360,
          360,
          360,
          360,
          360,
          360,
          360,
          360,
          null,
          360,
          360,
          360,
          360,
          360,
          360,
          360,
          null,
          null,
          360,
          360,
          360,
          360,
          360,
          360,
          360,
          360,
          360,
          360,
          360,
          360,
          360,
          360,
          360,
          360,
          180,
          360,
          360,
          360,
          180,
          360,
          60,
          360,
          360,
          360,
          300,
          null,
          360,
          480,
          360,
          360,
          300,
          360,
          360,
          360,
          360,
          360,
          240,
          360,
          360,
          360,
          360,
          360,
          360,
          180,
          360,
          360,
          120,
          360,
          360,
          360,
          180,
          360,
          180,
          360,
          360,
          360,
          360,
          360,
          360,
          360,
          480,
          360,
          360,
          null,
          360,
          360,
          180,
          360,
          360,
          360,
          360,
          360,
          360,
          360,
          360,
          360,
          360,
          360,
          180,
          360,
          480,
          360,
          360,
          120,
          360,
          360,
          360,
          360,
          360,
          360,
          360,
          360,
          180,
          360,
          180,
          360,
          360,
          360,
          360,
          360,
          360,
          360,
          360,
          360,
          360,
          180,
          360,
          360,
          360,
          360,
          360,
          360,
          360,
          360,
          180,
          null,
          360,
          360,
          480,
          360,
          360,
          180,
          360,
          360,
          360,
          360,
          360,
          360,
          480,
          360,
          360,
          180,
          360,
          360,
          360,
          300,
          360,
          180,
          360,
          360,
          360,
          360,
          360,
          360,
          360,
          null,
          360,
          360,
          360,
          360,
          180,
          360,
          360,
          360,
          360,
          360,
          360,
          360,
          360,
          360,
          360,
          360,
          360,
          360,
          360,
          360,
          360,
          360,
          360,
          360,
          360,
          null,
          360,
          360,
          360,
          360,
          360,
          360,
          180,
          null,
          360,
          360,
          360,
          360,
          360,
          360,
          360,
          360,
          180,
          60,
          360,
          360,
          180,
          360,
          180,
          480,
          360,
          360,
          360,
          360,
          180,
          360,
          360,
          360,
          360,
          360,
          360,
          360,
          360,
          36,
          360,
          360,
          360,
          360,
          360,
          360,
          360,
          360,
          360,
          360,
          360,
          360,
          360,
          360,
          360,
          360,
          360,
          360,
          360,
          180,
          360,
          360,
          360,
          300,
          360,
          360,
          360,
          360,
          360,
          360,
          480,
          360,
          360,
          360,
          360,
          480,
          360,
          360,
          360,
          360,
          360,
          360,
          360,
          360,
          360,
          360,
          360,
          360,
          360,
          360,
          84,
          180,
          360,
          360,
          360,
          360,
          360,
          360,
          360,
          360,
          360,
          360,
          360,
          360,
          360,
          360,
          360,
          360,
          360,
          180,
          null,
          360,
          360,
          360,
          360,
          360,
          360,
          360,
          360,
          360,
          360,
          360,
          360,
          360,
          360,
          360,
          360,
          360,
          360,
          360,
          180,
          360,
          360,
          480,
          360,
          360,
          360,
          360,
          300,
          360,
          360,
          480,
          null,
          360,
          360,
          360,
          360,
          300,
          180,
          360,
          180,
          360,
          360,
          480,
          360,
          360,
          360,
          360,
          360,
          360,
          180,
          360,
          360,
          360,
          360,
          360,
          360,
          360,
          180,
          360,
          360,
          360,
          360,
          360,
          360,
          180,
          300,
          360,
          360,
          360,
          360,
          360,
          360,
          300,
          360,
          360,
          360,
          360,
          360,
          360,
          360,
          360,
          360,
          360,
          360,
          360,
          null,
          360,
          null,
          360,
          360,
          360,
          360,
          360,
          180,
          360,
          360,
          360,
          360,
          360,
          360,
          360,
          360,
          360,
          360,
          360,
          360,
          360,
          300,
          360,
          360,
          360,
          360,
          360,
          360,
          300,
          360,
          180,
          360,
          360,
          360,
          360,
          360,
          360,
          180,
          360,
          360,
          360,
          360,
          180,
          360,
          360,
          360,
          180,
          360,
          360,
          360,
          360,
          300,
          360,
          360,
          360,
          360,
          360,
          360,
          360,
          360,
          360,
          360,
          360,
          360,
          360,
          360,
          360,
          360,
          360,
          84,
          360,
          12,
          360,
          360,
          480,
          360,
          360,
          360,
          300,
          360,
          360,
          360,
          360,
          360,
          360,
          360,
          180,
          360,
          360,
          480,
          360,
          360,
          360,
          360,
          360,
          360,
          360,
          360,
          360,
          360,
          360,
          360,
          360,
          360,
          360,
          360,
          360,
          360,
          360,
          360,
          360,
          360,
          180,
          180,
          360,
          360,
          360,
          360,
          360,
          36,
          360,
          360,
          360,
          360,
          360,
          360,
          360,
          180,
          360,
          360,
          360,
          360,
          360,
          360,
          360,
          360,
          360,
          360,
          360,
          360,
          360,
          360,
          360,
          360,
          360,
          360,
          480,
          360,
          84,
          360,
          360,
          360,
          360,
          360,
          360,
          360,
          360,
          84,
          360,
          360,
          360,
          180,
          240,
          180,
          360,
          360,
          360,
          360,
          360,
          360,
          180,
          360,
          360,
          360,
          360,
          180,
          360,
          360,
          360,
          360,
          180,
          360,
          360,
          360
         ],
         "y0": " ",
         "yaxis": "y"
        }
       ],
       "layout": {
        "boxmode": "group",
        "legend": {
         "tracegroupgap": 0
        },
        "template": {
         "data": {
          "bar": [
           {
            "error_x": {
             "color": "#2a3f5f"
            },
            "error_y": {
             "color": "#2a3f5f"
            },
            "marker": {
             "line": {
              "color": "#E5ECF6",
              "width": 0.5
             },
             "pattern": {
              "fillmode": "overlay",
              "size": 10,
              "solidity": 0.2
             }
            },
            "type": "bar"
           }
          ],
          "barpolar": [
           {
            "marker": {
             "line": {
              "color": "#E5ECF6",
              "width": 0.5
             },
             "pattern": {
              "fillmode": "overlay",
              "size": 10,
              "solidity": 0.2
             }
            },
            "type": "barpolar"
           }
          ],
          "carpet": [
           {
            "aaxis": {
             "endlinecolor": "#2a3f5f",
             "gridcolor": "white",
             "linecolor": "white",
             "minorgridcolor": "white",
             "startlinecolor": "#2a3f5f"
            },
            "baxis": {
             "endlinecolor": "#2a3f5f",
             "gridcolor": "white",
             "linecolor": "white",
             "minorgridcolor": "white",
             "startlinecolor": "#2a3f5f"
            },
            "type": "carpet"
           }
          ],
          "choropleth": [
           {
            "colorbar": {
             "outlinewidth": 0,
             "ticks": ""
            },
            "type": "choropleth"
           }
          ],
          "contour": [
           {
            "colorbar": {
             "outlinewidth": 0,
             "ticks": ""
            },
            "colorscale": [
             [
              0,
              "#0d0887"
             ],
             [
              0.1111111111111111,
              "#46039f"
             ],
             [
              0.2222222222222222,
              "#7201a8"
             ],
             [
              0.3333333333333333,
              "#9c179e"
             ],
             [
              0.4444444444444444,
              "#bd3786"
             ],
             [
              0.5555555555555556,
              "#d8576b"
             ],
             [
              0.6666666666666666,
              "#ed7953"
             ],
             [
              0.7777777777777778,
              "#fb9f3a"
             ],
             [
              0.8888888888888888,
              "#fdca26"
             ],
             [
              1,
              "#f0f921"
             ]
            ],
            "type": "contour"
           }
          ],
          "contourcarpet": [
           {
            "colorbar": {
             "outlinewidth": 0,
             "ticks": ""
            },
            "type": "contourcarpet"
           }
          ],
          "heatmap": [
           {
            "colorbar": {
             "outlinewidth": 0,
             "ticks": ""
            },
            "colorscale": [
             [
              0,
              "#0d0887"
             ],
             [
              0.1111111111111111,
              "#46039f"
             ],
             [
              0.2222222222222222,
              "#7201a8"
             ],
             [
              0.3333333333333333,
              "#9c179e"
             ],
             [
              0.4444444444444444,
              "#bd3786"
             ],
             [
              0.5555555555555556,
              "#d8576b"
             ],
             [
              0.6666666666666666,
              "#ed7953"
             ],
             [
              0.7777777777777778,
              "#fb9f3a"
             ],
             [
              0.8888888888888888,
              "#fdca26"
             ],
             [
              1,
              "#f0f921"
             ]
            ],
            "type": "heatmap"
           }
          ],
          "heatmapgl": [
           {
            "colorbar": {
             "outlinewidth": 0,
             "ticks": ""
            },
            "colorscale": [
             [
              0,
              "#0d0887"
             ],
             [
              0.1111111111111111,
              "#46039f"
             ],
             [
              0.2222222222222222,
              "#7201a8"
             ],
             [
              0.3333333333333333,
              "#9c179e"
             ],
             [
              0.4444444444444444,
              "#bd3786"
             ],
             [
              0.5555555555555556,
              "#d8576b"
             ],
             [
              0.6666666666666666,
              "#ed7953"
             ],
             [
              0.7777777777777778,
              "#fb9f3a"
             ],
             [
              0.8888888888888888,
              "#fdca26"
             ],
             [
              1,
              "#f0f921"
             ]
            ],
            "type": "heatmapgl"
           }
          ],
          "histogram": [
           {
            "marker": {
             "pattern": {
              "fillmode": "overlay",
              "size": 10,
              "solidity": 0.2
             }
            },
            "type": "histogram"
           }
          ],
          "histogram2d": [
           {
            "colorbar": {
             "outlinewidth": 0,
             "ticks": ""
            },
            "colorscale": [
             [
              0,
              "#0d0887"
             ],
             [
              0.1111111111111111,
              "#46039f"
             ],
             [
              0.2222222222222222,
              "#7201a8"
             ],
             [
              0.3333333333333333,
              "#9c179e"
             ],
             [
              0.4444444444444444,
              "#bd3786"
             ],
             [
              0.5555555555555556,
              "#d8576b"
             ],
             [
              0.6666666666666666,
              "#ed7953"
             ],
             [
              0.7777777777777778,
              "#fb9f3a"
             ],
             [
              0.8888888888888888,
              "#fdca26"
             ],
             [
              1,
              "#f0f921"
             ]
            ],
            "type": "histogram2d"
           }
          ],
          "histogram2dcontour": [
           {
            "colorbar": {
             "outlinewidth": 0,
             "ticks": ""
            },
            "colorscale": [
             [
              0,
              "#0d0887"
             ],
             [
              0.1111111111111111,
              "#46039f"
             ],
             [
              0.2222222222222222,
              "#7201a8"
             ],
             [
              0.3333333333333333,
              "#9c179e"
             ],
             [
              0.4444444444444444,
              "#bd3786"
             ],
             [
              0.5555555555555556,
              "#d8576b"
             ],
             [
              0.6666666666666666,
              "#ed7953"
             ],
             [
              0.7777777777777778,
              "#fb9f3a"
             ],
             [
              0.8888888888888888,
              "#fdca26"
             ],
             [
              1,
              "#f0f921"
             ]
            ],
            "type": "histogram2dcontour"
           }
          ],
          "mesh3d": [
           {
            "colorbar": {
             "outlinewidth": 0,
             "ticks": ""
            },
            "type": "mesh3d"
           }
          ],
          "parcoords": [
           {
            "line": {
             "colorbar": {
              "outlinewidth": 0,
              "ticks": ""
             }
            },
            "type": "parcoords"
           }
          ],
          "pie": [
           {
            "automargin": true,
            "type": "pie"
           }
          ],
          "scatter": [
           {
            "fillpattern": {
             "fillmode": "overlay",
             "size": 10,
             "solidity": 0.2
            },
            "type": "scatter"
           }
          ],
          "scatter3d": [
           {
            "line": {
             "colorbar": {
              "outlinewidth": 0,
              "ticks": ""
             }
            },
            "marker": {
             "colorbar": {
              "outlinewidth": 0,
              "ticks": ""
             }
            },
            "type": "scatter3d"
           }
          ],
          "scattercarpet": [
           {
            "marker": {
             "colorbar": {
              "outlinewidth": 0,
              "ticks": ""
             }
            },
            "type": "scattercarpet"
           }
          ],
          "scattergeo": [
           {
            "marker": {
             "colorbar": {
              "outlinewidth": 0,
              "ticks": ""
             }
            },
            "type": "scattergeo"
           }
          ],
          "scattergl": [
           {
            "marker": {
             "colorbar": {
              "outlinewidth": 0,
              "ticks": ""
             }
            },
            "type": "scattergl"
           }
          ],
          "scattermapbox": [
           {
            "marker": {
             "colorbar": {
              "outlinewidth": 0,
              "ticks": ""
             }
            },
            "type": "scattermapbox"
           }
          ],
          "scatterpolar": [
           {
            "marker": {
             "colorbar": {
              "outlinewidth": 0,
              "ticks": ""
             }
            },
            "type": "scatterpolar"
           }
          ],
          "scatterpolargl": [
           {
            "marker": {
             "colorbar": {
              "outlinewidth": 0,
              "ticks": ""
             }
            },
            "type": "scatterpolargl"
           }
          ],
          "scatterternary": [
           {
            "marker": {
             "colorbar": {
              "outlinewidth": 0,
              "ticks": ""
             }
            },
            "type": "scatterternary"
           }
          ],
          "surface": [
           {
            "colorbar": {
             "outlinewidth": 0,
             "ticks": ""
            },
            "colorscale": [
             [
              0,
              "#0d0887"
             ],
             [
              0.1111111111111111,
              "#46039f"
             ],
             [
              0.2222222222222222,
              "#7201a8"
             ],
             [
              0.3333333333333333,
              "#9c179e"
             ],
             [
              0.4444444444444444,
              "#bd3786"
             ],
             [
              0.5555555555555556,
              "#d8576b"
             ],
             [
              0.6666666666666666,
              "#ed7953"
             ],
             [
              0.7777777777777778,
              "#fb9f3a"
             ],
             [
              0.8888888888888888,
              "#fdca26"
             ],
             [
              1,
              "#f0f921"
             ]
            ],
            "type": "surface"
           }
          ],
          "table": [
           {
            "cells": {
             "fill": {
              "color": "#EBF0F8"
             },
             "line": {
              "color": "white"
             }
            },
            "header": {
             "fill": {
              "color": "#C8D4E3"
             },
             "line": {
              "color": "white"
             }
            },
            "type": "table"
           }
          ]
         },
         "layout": {
          "annotationdefaults": {
           "arrowcolor": "#2a3f5f",
           "arrowhead": 0,
           "arrowwidth": 1
          },
          "autotypenumbers": "strict",
          "coloraxis": {
           "colorbar": {
            "outlinewidth": 0,
            "ticks": ""
           }
          },
          "colorscale": {
           "diverging": [
            [
             0,
             "#8e0152"
            ],
            [
             0.1,
             "#c51b7d"
            ],
            [
             0.2,
             "#de77ae"
            ],
            [
             0.3,
             "#f1b6da"
            ],
            [
             0.4,
             "#fde0ef"
            ],
            [
             0.5,
             "#f7f7f7"
            ],
            [
             0.6,
             "#e6f5d0"
            ],
            [
             0.7,
             "#b8e186"
            ],
            [
             0.8,
             "#7fbc41"
            ],
            [
             0.9,
             "#4d9221"
            ],
            [
             1,
             "#276419"
            ]
           ],
           "sequential": [
            [
             0,
             "#0d0887"
            ],
            [
             0.1111111111111111,
             "#46039f"
            ],
            [
             0.2222222222222222,
             "#7201a8"
            ],
            [
             0.3333333333333333,
             "#9c179e"
            ],
            [
             0.4444444444444444,
             "#bd3786"
            ],
            [
             0.5555555555555556,
             "#d8576b"
            ],
            [
             0.6666666666666666,
             "#ed7953"
            ],
            [
             0.7777777777777778,
             "#fb9f3a"
            ],
            [
             0.8888888888888888,
             "#fdca26"
            ],
            [
             1,
             "#f0f921"
            ]
           ],
           "sequentialminus": [
            [
             0,
             "#0d0887"
            ],
            [
             0.1111111111111111,
             "#46039f"
            ],
            [
             0.2222222222222222,
             "#7201a8"
            ],
            [
             0.3333333333333333,
             "#9c179e"
            ],
            [
             0.4444444444444444,
             "#bd3786"
            ],
            [
             0.5555555555555556,
             "#d8576b"
            ],
            [
             0.6666666666666666,
             "#ed7953"
            ],
            [
             0.7777777777777778,
             "#fb9f3a"
            ],
            [
             0.8888888888888888,
             "#fdca26"
            ],
            [
             1,
             "#f0f921"
            ]
           ]
          },
          "colorway": [
           "#636efa",
           "#EF553B",
           "#00cc96",
           "#ab63fa",
           "#FFA15A",
           "#19d3f3",
           "#FF6692",
           "#B6E880",
           "#FF97FF",
           "#FECB52"
          ],
          "font": {
           "color": "#2a3f5f"
          },
          "geo": {
           "bgcolor": "white",
           "lakecolor": "white",
           "landcolor": "#E5ECF6",
           "showlakes": true,
           "showland": true,
           "subunitcolor": "white"
          },
          "hoverlabel": {
           "align": "left"
          },
          "hovermode": "closest",
          "mapbox": {
           "style": "light"
          },
          "paper_bgcolor": "white",
          "plot_bgcolor": "#E5ECF6",
          "polar": {
           "angularaxis": {
            "gridcolor": "white",
            "linecolor": "white",
            "ticks": ""
           },
           "bgcolor": "#E5ECF6",
           "radialaxis": {
            "gridcolor": "white",
            "linecolor": "white",
            "ticks": ""
           }
          },
          "scene": {
           "xaxis": {
            "backgroundcolor": "#E5ECF6",
            "gridcolor": "white",
            "gridwidth": 2,
            "linecolor": "white",
            "showbackground": true,
            "ticks": "",
            "zerolinecolor": "white"
           },
           "yaxis": {
            "backgroundcolor": "#E5ECF6",
            "gridcolor": "white",
            "gridwidth": 2,
            "linecolor": "white",
            "showbackground": true,
            "ticks": "",
            "zerolinecolor": "white"
           },
           "zaxis": {
            "backgroundcolor": "#E5ECF6",
            "gridcolor": "white",
            "gridwidth": 2,
            "linecolor": "white",
            "showbackground": true,
            "ticks": "",
            "zerolinecolor": "white"
           }
          },
          "shapedefaults": {
           "line": {
            "color": "#2a3f5f"
           }
          },
          "ternary": {
           "aaxis": {
            "gridcolor": "white",
            "linecolor": "white",
            "ticks": ""
           },
           "baxis": {
            "gridcolor": "white",
            "linecolor": "white",
            "ticks": ""
           },
           "bgcolor": "#E5ECF6",
           "caxis": {
            "gridcolor": "white",
            "linecolor": "white",
            "ticks": ""
           }
          },
          "title": {
           "x": 0.05
          },
          "xaxis": {
           "automargin": true,
           "gridcolor": "white",
           "linecolor": "white",
           "ticks": "",
           "title": {
            "standoff": 15
           },
           "zerolinecolor": "white",
           "zerolinewidth": 2
          },
          "yaxis": {
           "automargin": true,
           "gridcolor": "white",
           "linecolor": "white",
           "ticks": "",
           "title": {
            "standoff": 15
           },
           "zerolinecolor": "white",
           "zerolinewidth": 2
          }
         }
        },
        "title": {
         "text": "Outliers in Loan_Amount_Term"
        },
        "xaxis": {
         "anchor": "y",
         "domain": [
          0,
          1
         ],
         "title": {
          "text": "variable"
         }
        },
        "yaxis": {
         "anchor": "x",
         "domain": [
          0,
          1
         ],
         "title": {
          "text": "value"
         }
        }
       }
      },
      "text/html": [
       "<div>                            <div id=\"a510726d-c959-4bf8-93cf-ed73e329df54\" class=\"plotly-graph-div\" style=\"height:525px; width:100%;\"></div>            <script type=\"text/javascript\">                require([\"plotly\"], function(Plotly) {                    window.PLOTLYENV=window.PLOTLYENV || {};                                    if (document.getElementById(\"a510726d-c959-4bf8-93cf-ed73e329df54\")) {                    Plotly.newPlot(                        \"a510726d-c959-4bf8-93cf-ed73e329df54\",                        [{\"alignmentgroup\":\"True\",\"boxpoints\":\"all\",\"hovertemplate\":\"variable=%{x}\\u003cbr\\u003evalue=%{y}\\u003cextra\\u003e\\u003c\\u002fextra\\u003e\",\"legendgroup\":\"\",\"marker\":{\"color\":\"#636efa\"},\"name\":\"\",\"notched\":false,\"offsetgroup\":\"\",\"orientation\":\"v\",\"showlegend\":false,\"x\":[\"Loan_Amount_Term\",\"Loan_Amount_Term\",\"Loan_Amount_Term\",\"Loan_Amount_Term\",\"Loan_Amount_Term\",\"Loan_Amount_Term\",\"Loan_Amount_Term\",\"Loan_Amount_Term\",\"Loan_Amount_Term\",\"Loan_Amount_Term\",\"Loan_Amount_Term\",\"Loan_Amount_Term\",\"Loan_Amount_Term\",\"Loan_Amount_Term\",\"Loan_Amount_Term\",\"Loan_Amount_Term\",\"Loan_Amount_Term\",\"Loan_Amount_Term\",\"Loan_Amount_Term\",\"Loan_Amount_Term\",\"Loan_Amount_Term\",\"Loan_Amount_Term\",\"Loan_Amount_Term\",\"Loan_Amount_Term\",\"Loan_Amount_Term\",\"Loan_Amount_Term\",\"Loan_Amount_Term\",\"Loan_Amount_Term\",\"Loan_Amount_Term\",\"Loan_Amount_Term\",\"Loan_Amount_Term\",\"Loan_Amount_Term\",\"Loan_Amount_Term\",\"Loan_Amount_Term\",\"Loan_Amount_Term\",\"Loan_Amount_Term\",\"Loan_Amount_Term\",\"Loan_Amount_Term\",\"Loan_Amount_Term\",\"Loan_Amount_Term\",\"Loan_Amount_Term\",\"Loan_Amount_Term\",\"Loan_Amount_Term\",\"Loan_Amount_Term\",\"Loan_Amount_Term\",\"Loan_Amount_Term\",\"Loan_Amount_Term\",\"Loan_Amount_Term\",\"Loan_Amount_Term\",\"Loan_Amount_Term\",\"Loan_Amount_Term\",\"Loan_Amount_Term\",\"Loan_Amount_Term\",\"Loan_Amount_Term\",\"Loan_Amount_Term\",\"Loan_Amount_Term\",\"Loan_Amount_Term\",\"Loan_Amount_Term\",\"Loan_Amount_Term\",\"Loan_Amount_Term\",\"Loan_Amount_Term\",\"Loan_Amount_Term\",\"Loan_Amount_Term\",\"Loan_Amount_Term\",\"Loan_Amount_Term\",\"Loan_Amount_Term\",\"Loan_Amount_Term\",\"Loan_Amount_Term\",\"Loan_Amount_Term\",\"Loan_Amount_Term\",\"Loan_Amount_Term\",\"Loan_Amount_Term\",\"Loan_Amount_Term\",\"Loan_Amount_Term\",\"Loan_Amount_Term\",\"Loan_Amount_Term\",\"Loan_Amount_Term\",\"Loan_Amount_Term\",\"Loan_Amount_Term\",\"Loan_Amount_Term\",\"Loan_Amount_Term\",\"Loan_Amount_Term\",\"Loan_Amount_Term\",\"Loan_Amount_Term\",\"Loan_Amount_Term\",\"Loan_Amount_Term\",\"Loan_Amount_Term\",\"Loan_Amount_Term\",\"Loan_Amount_Term\",\"Loan_Amount_Term\",\"Loan_Amount_Term\",\"Loan_Amount_Term\",\"Loan_Amount_Term\",\"Loan_Amount_Term\",\"Loan_Amount_Term\",\"Loan_Amount_Term\",\"Loan_Amount_Term\",\"Loan_Amount_Term\",\"Loan_Amount_Term\",\"Loan_Amount_Term\",\"Loan_Amount_Term\",\"Loan_Amount_Term\",\"Loan_Amount_Term\",\"Loan_Amount_Term\",\"Loan_Amount_Term\",\"Loan_Amount_Term\",\"Loan_Amount_Term\",\"Loan_Amount_Term\",\"Loan_Amount_Term\",\"Loan_Amount_Term\",\"Loan_Amount_Term\",\"Loan_Amount_Term\",\"Loan_Amount_Term\",\"Loan_Amount_Term\",\"Loan_Amount_Term\",\"Loan_Amount_Term\",\"Loan_Amount_Term\",\"Loan_Amount_Term\",\"Loan_Amount_Term\",\"Loan_Amount_Term\",\"Loan_Amount_Term\",\"Loan_Amount_Term\",\"Loan_Amount_Term\",\"Loan_Amount_Term\",\"Loan_Amount_Term\",\"Loan_Amount_Term\",\"Loan_Amount_Term\",\"Loan_Amount_Term\",\"Loan_Amount_Term\",\"Loan_Amount_Term\",\"Loan_Amount_Term\",\"Loan_Amount_Term\",\"Loan_Amount_Term\",\"Loan_Amount_Term\",\"Loan_Amount_Term\",\"Loan_Amount_Term\",\"Loan_Amount_Term\",\"Loan_Amount_Term\",\"Loan_Amount_Term\",\"Loan_Amount_Term\",\"Loan_Amount_Term\",\"Loan_Amount_Term\",\"Loan_Amount_Term\",\"Loan_Amount_Term\",\"Loan_Amount_Term\",\"Loan_Amount_Term\",\"Loan_Amount_Term\",\"Loan_Amount_Term\",\"Loan_Amount_Term\",\"Loan_Amount_Term\",\"Loan_Amount_Term\",\"Loan_Amount_Term\",\"Loan_Amount_Term\",\"Loan_Amount_Term\",\"Loan_Amount_Term\",\"Loan_Amount_Term\",\"Loan_Amount_Term\",\"Loan_Amount_Term\",\"Loan_Amount_Term\",\"Loan_Amount_Term\",\"Loan_Amount_Term\",\"Loan_Amount_Term\",\"Loan_Amount_Term\",\"Loan_Amount_Term\",\"Loan_Amount_Term\",\"Loan_Amount_Term\",\"Loan_Amount_Term\",\"Loan_Amount_Term\",\"Loan_Amount_Term\",\"Loan_Amount_Term\",\"Loan_Amount_Term\",\"Loan_Amount_Term\",\"Loan_Amount_Term\",\"Loan_Amount_Term\",\"Loan_Amount_Term\",\"Loan_Amount_Term\",\"Loan_Amount_Term\",\"Loan_Amount_Term\",\"Loan_Amount_Term\",\"Loan_Amount_Term\",\"Loan_Amount_Term\",\"Loan_Amount_Term\",\"Loan_Amount_Term\",\"Loan_Amount_Term\",\"Loan_Amount_Term\",\"Loan_Amount_Term\",\"Loan_Amount_Term\",\"Loan_Amount_Term\",\"Loan_Amount_Term\",\"Loan_Amount_Term\",\"Loan_Amount_Term\",\"Loan_Amount_Term\",\"Loan_Amount_Term\",\"Loan_Amount_Term\",\"Loan_Amount_Term\",\"Loan_Amount_Term\",\"Loan_Amount_Term\",\"Loan_Amount_Term\",\"Loan_Amount_Term\",\"Loan_Amount_Term\",\"Loan_Amount_Term\",\"Loan_Amount_Term\",\"Loan_Amount_Term\",\"Loan_Amount_Term\",\"Loan_Amount_Term\",\"Loan_Amount_Term\",\"Loan_Amount_Term\",\"Loan_Amount_Term\",\"Loan_Amount_Term\",\"Loan_Amount_Term\",\"Loan_Amount_Term\",\"Loan_Amount_Term\",\"Loan_Amount_Term\",\"Loan_Amount_Term\",\"Loan_Amount_Term\",\"Loan_Amount_Term\",\"Loan_Amount_Term\",\"Loan_Amount_Term\",\"Loan_Amount_Term\",\"Loan_Amount_Term\",\"Loan_Amount_Term\",\"Loan_Amount_Term\",\"Loan_Amount_Term\",\"Loan_Amount_Term\",\"Loan_Amount_Term\",\"Loan_Amount_Term\",\"Loan_Amount_Term\",\"Loan_Amount_Term\",\"Loan_Amount_Term\",\"Loan_Amount_Term\",\"Loan_Amount_Term\",\"Loan_Amount_Term\",\"Loan_Amount_Term\",\"Loan_Amount_Term\",\"Loan_Amount_Term\",\"Loan_Amount_Term\",\"Loan_Amount_Term\",\"Loan_Amount_Term\",\"Loan_Amount_Term\",\"Loan_Amount_Term\",\"Loan_Amount_Term\",\"Loan_Amount_Term\",\"Loan_Amount_Term\",\"Loan_Amount_Term\",\"Loan_Amount_Term\",\"Loan_Amount_Term\",\"Loan_Amount_Term\",\"Loan_Amount_Term\",\"Loan_Amount_Term\",\"Loan_Amount_Term\",\"Loan_Amount_Term\",\"Loan_Amount_Term\",\"Loan_Amount_Term\",\"Loan_Amount_Term\",\"Loan_Amount_Term\",\"Loan_Amount_Term\",\"Loan_Amount_Term\",\"Loan_Amount_Term\",\"Loan_Amount_Term\",\"Loan_Amount_Term\",\"Loan_Amount_Term\",\"Loan_Amount_Term\",\"Loan_Amount_Term\",\"Loan_Amount_Term\",\"Loan_Amount_Term\",\"Loan_Amount_Term\",\"Loan_Amount_Term\",\"Loan_Amount_Term\",\"Loan_Amount_Term\",\"Loan_Amount_Term\",\"Loan_Amount_Term\",\"Loan_Amount_Term\",\"Loan_Amount_Term\",\"Loan_Amount_Term\",\"Loan_Amount_Term\",\"Loan_Amount_Term\",\"Loan_Amount_Term\",\"Loan_Amount_Term\",\"Loan_Amount_Term\",\"Loan_Amount_Term\",\"Loan_Amount_Term\",\"Loan_Amount_Term\",\"Loan_Amount_Term\",\"Loan_Amount_Term\",\"Loan_Amount_Term\",\"Loan_Amount_Term\",\"Loan_Amount_Term\",\"Loan_Amount_Term\",\"Loan_Amount_Term\",\"Loan_Amount_Term\",\"Loan_Amount_Term\",\"Loan_Amount_Term\",\"Loan_Amount_Term\",\"Loan_Amount_Term\",\"Loan_Amount_Term\",\"Loan_Amount_Term\",\"Loan_Amount_Term\",\"Loan_Amount_Term\",\"Loan_Amount_Term\",\"Loan_Amount_Term\",\"Loan_Amount_Term\",\"Loan_Amount_Term\",\"Loan_Amount_Term\",\"Loan_Amount_Term\",\"Loan_Amount_Term\",\"Loan_Amount_Term\",\"Loan_Amount_Term\",\"Loan_Amount_Term\",\"Loan_Amount_Term\",\"Loan_Amount_Term\",\"Loan_Amount_Term\",\"Loan_Amount_Term\",\"Loan_Amount_Term\",\"Loan_Amount_Term\",\"Loan_Amount_Term\",\"Loan_Amount_Term\",\"Loan_Amount_Term\",\"Loan_Amount_Term\",\"Loan_Amount_Term\",\"Loan_Amount_Term\",\"Loan_Amount_Term\",\"Loan_Amount_Term\",\"Loan_Amount_Term\",\"Loan_Amount_Term\",\"Loan_Amount_Term\",\"Loan_Amount_Term\",\"Loan_Amount_Term\",\"Loan_Amount_Term\",\"Loan_Amount_Term\",\"Loan_Amount_Term\",\"Loan_Amount_Term\",\"Loan_Amount_Term\",\"Loan_Amount_Term\",\"Loan_Amount_Term\",\"Loan_Amount_Term\",\"Loan_Amount_Term\",\"Loan_Amount_Term\",\"Loan_Amount_Term\",\"Loan_Amount_Term\",\"Loan_Amount_Term\",\"Loan_Amount_Term\",\"Loan_Amount_Term\",\"Loan_Amount_Term\",\"Loan_Amount_Term\",\"Loan_Amount_Term\",\"Loan_Amount_Term\",\"Loan_Amount_Term\",\"Loan_Amount_Term\",\"Loan_Amount_Term\",\"Loan_Amount_Term\",\"Loan_Amount_Term\",\"Loan_Amount_Term\",\"Loan_Amount_Term\",\"Loan_Amount_Term\",\"Loan_Amount_Term\",\"Loan_Amount_Term\",\"Loan_Amount_Term\",\"Loan_Amount_Term\",\"Loan_Amount_Term\",\"Loan_Amount_Term\",\"Loan_Amount_Term\",\"Loan_Amount_Term\",\"Loan_Amount_Term\",\"Loan_Amount_Term\",\"Loan_Amount_Term\",\"Loan_Amount_Term\",\"Loan_Amount_Term\",\"Loan_Amount_Term\",\"Loan_Amount_Term\",\"Loan_Amount_Term\",\"Loan_Amount_Term\",\"Loan_Amount_Term\",\"Loan_Amount_Term\",\"Loan_Amount_Term\",\"Loan_Amount_Term\",\"Loan_Amount_Term\",\"Loan_Amount_Term\",\"Loan_Amount_Term\",\"Loan_Amount_Term\",\"Loan_Amount_Term\",\"Loan_Amount_Term\",\"Loan_Amount_Term\",\"Loan_Amount_Term\",\"Loan_Amount_Term\",\"Loan_Amount_Term\",\"Loan_Amount_Term\",\"Loan_Amount_Term\",\"Loan_Amount_Term\",\"Loan_Amount_Term\",\"Loan_Amount_Term\",\"Loan_Amount_Term\",\"Loan_Amount_Term\",\"Loan_Amount_Term\",\"Loan_Amount_Term\",\"Loan_Amount_Term\",\"Loan_Amount_Term\",\"Loan_Amount_Term\",\"Loan_Amount_Term\",\"Loan_Amount_Term\",\"Loan_Amount_Term\",\"Loan_Amount_Term\",\"Loan_Amount_Term\",\"Loan_Amount_Term\",\"Loan_Amount_Term\",\"Loan_Amount_Term\",\"Loan_Amount_Term\",\"Loan_Amount_Term\",\"Loan_Amount_Term\",\"Loan_Amount_Term\",\"Loan_Amount_Term\",\"Loan_Amount_Term\",\"Loan_Amount_Term\",\"Loan_Amount_Term\",\"Loan_Amount_Term\",\"Loan_Amount_Term\",\"Loan_Amount_Term\",\"Loan_Amount_Term\",\"Loan_Amount_Term\",\"Loan_Amount_Term\",\"Loan_Amount_Term\",\"Loan_Amount_Term\",\"Loan_Amount_Term\",\"Loan_Amount_Term\",\"Loan_Amount_Term\",\"Loan_Amount_Term\",\"Loan_Amount_Term\",\"Loan_Amount_Term\",\"Loan_Amount_Term\",\"Loan_Amount_Term\",\"Loan_Amount_Term\",\"Loan_Amount_Term\",\"Loan_Amount_Term\",\"Loan_Amount_Term\",\"Loan_Amount_Term\",\"Loan_Amount_Term\",\"Loan_Amount_Term\",\"Loan_Amount_Term\",\"Loan_Amount_Term\",\"Loan_Amount_Term\",\"Loan_Amount_Term\",\"Loan_Amount_Term\",\"Loan_Amount_Term\",\"Loan_Amount_Term\",\"Loan_Amount_Term\",\"Loan_Amount_Term\",\"Loan_Amount_Term\",\"Loan_Amount_Term\",\"Loan_Amount_Term\",\"Loan_Amount_Term\",\"Loan_Amount_Term\",\"Loan_Amount_Term\",\"Loan_Amount_Term\",\"Loan_Amount_Term\",\"Loan_Amount_Term\",\"Loan_Amount_Term\",\"Loan_Amount_Term\",\"Loan_Amount_Term\",\"Loan_Amount_Term\",\"Loan_Amount_Term\",\"Loan_Amount_Term\",\"Loan_Amount_Term\",\"Loan_Amount_Term\",\"Loan_Amount_Term\",\"Loan_Amount_Term\",\"Loan_Amount_Term\",\"Loan_Amount_Term\",\"Loan_Amount_Term\",\"Loan_Amount_Term\",\"Loan_Amount_Term\",\"Loan_Amount_Term\",\"Loan_Amount_Term\",\"Loan_Amount_Term\",\"Loan_Amount_Term\",\"Loan_Amount_Term\",\"Loan_Amount_Term\",\"Loan_Amount_Term\",\"Loan_Amount_Term\",\"Loan_Amount_Term\",\"Loan_Amount_Term\",\"Loan_Amount_Term\",\"Loan_Amount_Term\",\"Loan_Amount_Term\",\"Loan_Amount_Term\",\"Loan_Amount_Term\",\"Loan_Amount_Term\",\"Loan_Amount_Term\",\"Loan_Amount_Term\",\"Loan_Amount_Term\",\"Loan_Amount_Term\",\"Loan_Amount_Term\",\"Loan_Amount_Term\",\"Loan_Amount_Term\",\"Loan_Amount_Term\",\"Loan_Amount_Term\",\"Loan_Amount_Term\",\"Loan_Amount_Term\",\"Loan_Amount_Term\",\"Loan_Amount_Term\",\"Loan_Amount_Term\",\"Loan_Amount_Term\",\"Loan_Amount_Term\",\"Loan_Amount_Term\",\"Loan_Amount_Term\",\"Loan_Amount_Term\",\"Loan_Amount_Term\",\"Loan_Amount_Term\",\"Loan_Amount_Term\",\"Loan_Amount_Term\",\"Loan_Amount_Term\",\"Loan_Amount_Term\",\"Loan_Amount_Term\",\"Loan_Amount_Term\",\"Loan_Amount_Term\",\"Loan_Amount_Term\",\"Loan_Amount_Term\",\"Loan_Amount_Term\",\"Loan_Amount_Term\",\"Loan_Amount_Term\",\"Loan_Amount_Term\",\"Loan_Amount_Term\",\"Loan_Amount_Term\",\"Loan_Amount_Term\",\"Loan_Amount_Term\",\"Loan_Amount_Term\",\"Loan_Amount_Term\",\"Loan_Amount_Term\",\"Loan_Amount_Term\",\"Loan_Amount_Term\",\"Loan_Amount_Term\",\"Loan_Amount_Term\",\"Loan_Amount_Term\",\"Loan_Amount_Term\",\"Loan_Amount_Term\",\"Loan_Amount_Term\",\"Loan_Amount_Term\",\"Loan_Amount_Term\",\"Loan_Amount_Term\",\"Loan_Amount_Term\",\"Loan_Amount_Term\",\"Loan_Amount_Term\",\"Loan_Amount_Term\",\"Loan_Amount_Term\",\"Loan_Amount_Term\",\"Loan_Amount_Term\",\"Loan_Amount_Term\",\"Loan_Amount_Term\",\"Loan_Amount_Term\",\"Loan_Amount_Term\",\"Loan_Amount_Term\",\"Loan_Amount_Term\",\"Loan_Amount_Term\",\"Loan_Amount_Term\",\"Loan_Amount_Term\",\"Loan_Amount_Term\",\"Loan_Amount_Term\",\"Loan_Amount_Term\",\"Loan_Amount_Term\",\"Loan_Amount_Term\",\"Loan_Amount_Term\",\"Loan_Amount_Term\",\"Loan_Amount_Term\",\"Loan_Amount_Term\",\"Loan_Amount_Term\",\"Loan_Amount_Term\",\"Loan_Amount_Term\",\"Loan_Amount_Term\",\"Loan_Amount_Term\",\"Loan_Amount_Term\",\"Loan_Amount_Term\",\"Loan_Amount_Term\",\"Loan_Amount_Term\",\"Loan_Amount_Term\",\"Loan_Amount_Term\",\"Loan_Amount_Term\",\"Loan_Amount_Term\",\"Loan_Amount_Term\",\"Loan_Amount_Term\",\"Loan_Amount_Term\",\"Loan_Amount_Term\",\"Loan_Amount_Term\",\"Loan_Amount_Term\",\"Loan_Amount_Term\",\"Loan_Amount_Term\",\"Loan_Amount_Term\",\"Loan_Amount_Term\",\"Loan_Amount_Term\",\"Loan_Amount_Term\",\"Loan_Amount_Term\",\"Loan_Amount_Term\",\"Loan_Amount_Term\",\"Loan_Amount_Term\",\"Loan_Amount_Term\",\"Loan_Amount_Term\",\"Loan_Amount_Term\",\"Loan_Amount_Term\",\"Loan_Amount_Term\",\"Loan_Amount_Term\",\"Loan_Amount_Term\"],\"x0\":\" \",\"xaxis\":\"x\",\"y\":[360.0,360.0,360.0,360.0,360.0,360.0,360.0,360.0,360.0,360.0,360.0,360.0,360.0,360.0,120.0,360.0,240.0,360.0,360.0,null,360.0,360.0,360.0,360.0,360.0,360.0,360.0,360.0,360.0,360.0,360.0,360.0,360.0,360.0,360.0,null,360.0,360.0,360.0,360.0,360.0,360.0,360.0,null,null,360.0,360.0,360.0,360.0,360.0,360.0,360.0,360.0,360.0,360.0,360.0,360.0,360.0,360.0,360.0,360.0,180.0,360.0,360.0,360.0,180.0,360.0,60.0,360.0,360.0,360.0,300.0,null,360.0,480.0,360.0,360.0,300.0,360.0,360.0,360.0,360.0,360.0,240.0,360.0,360.0,360.0,360.0,360.0,360.0,180.0,360.0,360.0,120.0,360.0,360.0,360.0,180.0,360.0,180.0,360.0,360.0,360.0,360.0,360.0,360.0,360.0,480.0,360.0,360.0,null,360.0,360.0,180.0,360.0,360.0,360.0,360.0,360.0,360.0,360.0,360.0,360.0,360.0,360.0,180.0,360.0,480.0,360.0,360.0,120.0,360.0,360.0,360.0,360.0,360.0,360.0,360.0,360.0,180.0,360.0,180.0,360.0,360.0,360.0,360.0,360.0,360.0,360.0,360.0,360.0,360.0,180.0,360.0,360.0,360.0,360.0,360.0,360.0,360.0,360.0,180.0,null,360.0,360.0,480.0,360.0,360.0,180.0,360.0,360.0,360.0,360.0,360.0,360.0,480.0,360.0,360.0,180.0,360.0,360.0,360.0,300.0,360.0,180.0,360.0,360.0,360.0,360.0,360.0,360.0,360.0,null,360.0,360.0,360.0,360.0,180.0,360.0,360.0,360.0,360.0,360.0,360.0,360.0,360.0,360.0,360.0,360.0,360.0,360.0,360.0,360.0,360.0,360.0,360.0,360.0,360.0,null,360.0,360.0,360.0,360.0,360.0,360.0,180.0,null,360.0,360.0,360.0,360.0,360.0,360.0,360.0,360.0,180.0,60.0,360.0,360.0,180.0,360.0,180.0,480.0,360.0,360.0,360.0,360.0,180.0,360.0,360.0,360.0,360.0,360.0,360.0,360.0,360.0,36.0,360.0,360.0,360.0,360.0,360.0,360.0,360.0,360.0,360.0,360.0,360.0,360.0,360.0,360.0,360.0,360.0,360.0,360.0,360.0,180.0,360.0,360.0,360.0,300.0,360.0,360.0,360.0,360.0,360.0,360.0,480.0,360.0,360.0,360.0,360.0,480.0,360.0,360.0,360.0,360.0,360.0,360.0,360.0,360.0,360.0,360.0,360.0,360.0,360.0,360.0,84.0,180.0,360.0,360.0,360.0,360.0,360.0,360.0,360.0,360.0,360.0,360.0,360.0,360.0,360.0,360.0,360.0,360.0,360.0,180.0,null,360.0,360.0,360.0,360.0,360.0,360.0,360.0,360.0,360.0,360.0,360.0,360.0,360.0,360.0,360.0,360.0,360.0,360.0,360.0,180.0,360.0,360.0,480.0,360.0,360.0,360.0,360.0,300.0,360.0,360.0,480.0,null,360.0,360.0,360.0,360.0,300.0,180.0,360.0,180.0,360.0,360.0,480.0,360.0,360.0,360.0,360.0,360.0,360.0,180.0,360.0,360.0,360.0,360.0,360.0,360.0,360.0,180.0,360.0,360.0,360.0,360.0,360.0,360.0,180.0,300.0,360.0,360.0,360.0,360.0,360.0,360.0,300.0,360.0,360.0,360.0,360.0,360.0,360.0,360.0,360.0,360.0,360.0,360.0,360.0,null,360.0,null,360.0,360.0,360.0,360.0,360.0,180.0,360.0,360.0,360.0,360.0,360.0,360.0,360.0,360.0,360.0,360.0,360.0,360.0,360.0,300.0,360.0,360.0,360.0,360.0,360.0,360.0,300.0,360.0,180.0,360.0,360.0,360.0,360.0,360.0,360.0,180.0,360.0,360.0,360.0,360.0,180.0,360.0,360.0,360.0,180.0,360.0,360.0,360.0,360.0,300.0,360.0,360.0,360.0,360.0,360.0,360.0,360.0,360.0,360.0,360.0,360.0,360.0,360.0,360.0,360.0,360.0,360.0,84.0,360.0,12.0,360.0,360.0,480.0,360.0,360.0,360.0,300.0,360.0,360.0,360.0,360.0,360.0,360.0,360.0,180.0,360.0,360.0,480.0,360.0,360.0,360.0,360.0,360.0,360.0,360.0,360.0,360.0,360.0,360.0,360.0,360.0,360.0,360.0,360.0,360.0,360.0,360.0,360.0,360.0,360.0,180.0,180.0,360.0,360.0,360.0,360.0,360.0,36.0,360.0,360.0,360.0,360.0,360.0,360.0,360.0,180.0,360.0,360.0,360.0,360.0,360.0,360.0,360.0,360.0,360.0,360.0,360.0,360.0,360.0,360.0,360.0,360.0,360.0,360.0,480.0,360.0,84.0,360.0,360.0,360.0,360.0,360.0,360.0,360.0,360.0,84.0,360.0,360.0,360.0,180.0,240.0,180.0,360.0,360.0,360.0,360.0,360.0,360.0,180.0,360.0,360.0,360.0,360.0,180.0,360.0,360.0,360.0,360.0,180.0,360.0,360.0,360.0],\"y0\":\" \",\"yaxis\":\"y\",\"type\":\"box\"}],                        {\"template\":{\"data\":{\"histogram2dcontour\":[{\"type\":\"histogram2dcontour\",\"colorbar\":{\"outlinewidth\":0,\"ticks\":\"\"},\"colorscale\":[[0.0,\"#0d0887\"],[0.1111111111111111,\"#46039f\"],[0.2222222222222222,\"#7201a8\"],[0.3333333333333333,\"#9c179e\"],[0.4444444444444444,\"#bd3786\"],[0.5555555555555556,\"#d8576b\"],[0.6666666666666666,\"#ed7953\"],[0.7777777777777778,\"#fb9f3a\"],[0.8888888888888888,\"#fdca26\"],[1.0,\"#f0f921\"]]}],\"choropleth\":[{\"type\":\"choropleth\",\"colorbar\":{\"outlinewidth\":0,\"ticks\":\"\"}}],\"histogram2d\":[{\"type\":\"histogram2d\",\"colorbar\":{\"outlinewidth\":0,\"ticks\":\"\"},\"colorscale\":[[0.0,\"#0d0887\"],[0.1111111111111111,\"#46039f\"],[0.2222222222222222,\"#7201a8\"],[0.3333333333333333,\"#9c179e\"],[0.4444444444444444,\"#bd3786\"],[0.5555555555555556,\"#d8576b\"],[0.6666666666666666,\"#ed7953\"],[0.7777777777777778,\"#fb9f3a\"],[0.8888888888888888,\"#fdca26\"],[1.0,\"#f0f921\"]]}],\"heatmap\":[{\"type\":\"heatmap\",\"colorbar\":{\"outlinewidth\":0,\"ticks\":\"\"},\"colorscale\":[[0.0,\"#0d0887\"],[0.1111111111111111,\"#46039f\"],[0.2222222222222222,\"#7201a8\"],[0.3333333333333333,\"#9c179e\"],[0.4444444444444444,\"#bd3786\"],[0.5555555555555556,\"#d8576b\"],[0.6666666666666666,\"#ed7953\"],[0.7777777777777778,\"#fb9f3a\"],[0.8888888888888888,\"#fdca26\"],[1.0,\"#f0f921\"]]}],\"heatmapgl\":[{\"type\":\"heatmapgl\",\"colorbar\":{\"outlinewidth\":0,\"ticks\":\"\"},\"colorscale\":[[0.0,\"#0d0887\"],[0.1111111111111111,\"#46039f\"],[0.2222222222222222,\"#7201a8\"],[0.3333333333333333,\"#9c179e\"],[0.4444444444444444,\"#bd3786\"],[0.5555555555555556,\"#d8576b\"],[0.6666666666666666,\"#ed7953\"],[0.7777777777777778,\"#fb9f3a\"],[0.8888888888888888,\"#fdca26\"],[1.0,\"#f0f921\"]]}],\"contourcarpet\":[{\"type\":\"contourcarpet\",\"colorbar\":{\"outlinewidth\":0,\"ticks\":\"\"}}],\"contour\":[{\"type\":\"contour\",\"colorbar\":{\"outlinewidth\":0,\"ticks\":\"\"},\"colorscale\":[[0.0,\"#0d0887\"],[0.1111111111111111,\"#46039f\"],[0.2222222222222222,\"#7201a8\"],[0.3333333333333333,\"#9c179e\"],[0.4444444444444444,\"#bd3786\"],[0.5555555555555556,\"#d8576b\"],[0.6666666666666666,\"#ed7953\"],[0.7777777777777778,\"#fb9f3a\"],[0.8888888888888888,\"#fdca26\"],[1.0,\"#f0f921\"]]}],\"surface\":[{\"type\":\"surface\",\"colorbar\":{\"outlinewidth\":0,\"ticks\":\"\"},\"colorscale\":[[0.0,\"#0d0887\"],[0.1111111111111111,\"#46039f\"],[0.2222222222222222,\"#7201a8\"],[0.3333333333333333,\"#9c179e\"],[0.4444444444444444,\"#bd3786\"],[0.5555555555555556,\"#d8576b\"],[0.6666666666666666,\"#ed7953\"],[0.7777777777777778,\"#fb9f3a\"],[0.8888888888888888,\"#fdca26\"],[1.0,\"#f0f921\"]]}],\"mesh3d\":[{\"type\":\"mesh3d\",\"colorbar\":{\"outlinewidth\":0,\"ticks\":\"\"}}],\"scatter\":[{\"fillpattern\":{\"fillmode\":\"overlay\",\"size\":10,\"solidity\":0.2},\"type\":\"scatter\"}],\"parcoords\":[{\"type\":\"parcoords\",\"line\":{\"colorbar\":{\"outlinewidth\":0,\"ticks\":\"\"}}}],\"scatterpolargl\":[{\"type\":\"scatterpolargl\",\"marker\":{\"colorbar\":{\"outlinewidth\":0,\"ticks\":\"\"}}}],\"bar\":[{\"error_x\":{\"color\":\"#2a3f5f\"},\"error_y\":{\"color\":\"#2a3f5f\"},\"marker\":{\"line\":{\"color\":\"#E5ECF6\",\"width\":0.5},\"pattern\":{\"fillmode\":\"overlay\",\"size\":10,\"solidity\":0.2}},\"type\":\"bar\"}],\"scattergeo\":[{\"type\":\"scattergeo\",\"marker\":{\"colorbar\":{\"outlinewidth\":0,\"ticks\":\"\"}}}],\"scatterpolar\":[{\"type\":\"scatterpolar\",\"marker\":{\"colorbar\":{\"outlinewidth\":0,\"ticks\":\"\"}}}],\"histogram\":[{\"marker\":{\"pattern\":{\"fillmode\":\"overlay\",\"size\":10,\"solidity\":0.2}},\"type\":\"histogram\"}],\"scattergl\":[{\"type\":\"scattergl\",\"marker\":{\"colorbar\":{\"outlinewidth\":0,\"ticks\":\"\"}}}],\"scatter3d\":[{\"type\":\"scatter3d\",\"line\":{\"colorbar\":{\"outlinewidth\":0,\"ticks\":\"\"}},\"marker\":{\"colorbar\":{\"outlinewidth\":0,\"ticks\":\"\"}}}],\"scattermapbox\":[{\"type\":\"scattermapbox\",\"marker\":{\"colorbar\":{\"outlinewidth\":0,\"ticks\":\"\"}}}],\"scatterternary\":[{\"type\":\"scatterternary\",\"marker\":{\"colorbar\":{\"outlinewidth\":0,\"ticks\":\"\"}}}],\"scattercarpet\":[{\"type\":\"scattercarpet\",\"marker\":{\"colorbar\":{\"outlinewidth\":0,\"ticks\":\"\"}}}],\"carpet\":[{\"aaxis\":{\"endlinecolor\":\"#2a3f5f\",\"gridcolor\":\"white\",\"linecolor\":\"white\",\"minorgridcolor\":\"white\",\"startlinecolor\":\"#2a3f5f\"},\"baxis\":{\"endlinecolor\":\"#2a3f5f\",\"gridcolor\":\"white\",\"linecolor\":\"white\",\"minorgridcolor\":\"white\",\"startlinecolor\":\"#2a3f5f\"},\"type\":\"carpet\"}],\"table\":[{\"cells\":{\"fill\":{\"color\":\"#EBF0F8\"},\"line\":{\"color\":\"white\"}},\"header\":{\"fill\":{\"color\":\"#C8D4E3\"},\"line\":{\"color\":\"white\"}},\"type\":\"table\"}],\"barpolar\":[{\"marker\":{\"line\":{\"color\":\"#E5ECF6\",\"width\":0.5},\"pattern\":{\"fillmode\":\"overlay\",\"size\":10,\"solidity\":0.2}},\"type\":\"barpolar\"}],\"pie\":[{\"automargin\":true,\"type\":\"pie\"}]},\"layout\":{\"autotypenumbers\":\"strict\",\"colorway\":[\"#636efa\",\"#EF553B\",\"#00cc96\",\"#ab63fa\",\"#FFA15A\",\"#19d3f3\",\"#FF6692\",\"#B6E880\",\"#FF97FF\",\"#FECB52\"],\"font\":{\"color\":\"#2a3f5f\"},\"hovermode\":\"closest\",\"hoverlabel\":{\"align\":\"left\"},\"paper_bgcolor\":\"white\",\"plot_bgcolor\":\"#E5ECF6\",\"polar\":{\"bgcolor\":\"#E5ECF6\",\"angularaxis\":{\"gridcolor\":\"white\",\"linecolor\":\"white\",\"ticks\":\"\"},\"radialaxis\":{\"gridcolor\":\"white\",\"linecolor\":\"white\",\"ticks\":\"\"}},\"ternary\":{\"bgcolor\":\"#E5ECF6\",\"aaxis\":{\"gridcolor\":\"white\",\"linecolor\":\"white\",\"ticks\":\"\"},\"baxis\":{\"gridcolor\":\"white\",\"linecolor\":\"white\",\"ticks\":\"\"},\"caxis\":{\"gridcolor\":\"white\",\"linecolor\":\"white\",\"ticks\":\"\"}},\"coloraxis\":{\"colorbar\":{\"outlinewidth\":0,\"ticks\":\"\"}},\"colorscale\":{\"sequential\":[[0.0,\"#0d0887\"],[0.1111111111111111,\"#46039f\"],[0.2222222222222222,\"#7201a8\"],[0.3333333333333333,\"#9c179e\"],[0.4444444444444444,\"#bd3786\"],[0.5555555555555556,\"#d8576b\"],[0.6666666666666666,\"#ed7953\"],[0.7777777777777778,\"#fb9f3a\"],[0.8888888888888888,\"#fdca26\"],[1.0,\"#f0f921\"]],\"sequentialminus\":[[0.0,\"#0d0887\"],[0.1111111111111111,\"#46039f\"],[0.2222222222222222,\"#7201a8\"],[0.3333333333333333,\"#9c179e\"],[0.4444444444444444,\"#bd3786\"],[0.5555555555555556,\"#d8576b\"],[0.6666666666666666,\"#ed7953\"],[0.7777777777777778,\"#fb9f3a\"],[0.8888888888888888,\"#fdca26\"],[1.0,\"#f0f921\"]],\"diverging\":[[0,\"#8e0152\"],[0.1,\"#c51b7d\"],[0.2,\"#de77ae\"],[0.3,\"#f1b6da\"],[0.4,\"#fde0ef\"],[0.5,\"#f7f7f7\"],[0.6,\"#e6f5d0\"],[0.7,\"#b8e186\"],[0.8,\"#7fbc41\"],[0.9,\"#4d9221\"],[1,\"#276419\"]]},\"xaxis\":{\"gridcolor\":\"white\",\"linecolor\":\"white\",\"ticks\":\"\",\"title\":{\"standoff\":15},\"zerolinecolor\":\"white\",\"automargin\":true,\"zerolinewidth\":2},\"yaxis\":{\"gridcolor\":\"white\",\"linecolor\":\"white\",\"ticks\":\"\",\"title\":{\"standoff\":15},\"zerolinecolor\":\"white\",\"automargin\":true,\"zerolinewidth\":2},\"scene\":{\"xaxis\":{\"backgroundcolor\":\"#E5ECF6\",\"gridcolor\":\"white\",\"linecolor\":\"white\",\"showbackground\":true,\"ticks\":\"\",\"zerolinecolor\":\"white\",\"gridwidth\":2},\"yaxis\":{\"backgroundcolor\":\"#E5ECF6\",\"gridcolor\":\"white\",\"linecolor\":\"white\",\"showbackground\":true,\"ticks\":\"\",\"zerolinecolor\":\"white\",\"gridwidth\":2},\"zaxis\":{\"backgroundcolor\":\"#E5ECF6\",\"gridcolor\":\"white\",\"linecolor\":\"white\",\"showbackground\":true,\"ticks\":\"\",\"zerolinecolor\":\"white\",\"gridwidth\":2}},\"shapedefaults\":{\"line\":{\"color\":\"#2a3f5f\"}},\"annotationdefaults\":{\"arrowcolor\":\"#2a3f5f\",\"arrowhead\":0,\"arrowwidth\":1},\"geo\":{\"bgcolor\":\"white\",\"landcolor\":\"#E5ECF6\",\"subunitcolor\":\"white\",\"showland\":true,\"showlakes\":true,\"lakecolor\":\"white\"},\"title\":{\"x\":0.05},\"mapbox\":{\"style\":\"light\"}}},\"xaxis\":{\"anchor\":\"y\",\"domain\":[0.0,1.0],\"title\":{\"text\":\"variable\"}},\"yaxis\":{\"anchor\":\"x\",\"domain\":[0.0,1.0],\"title\":{\"text\":\"value\"}},\"legend\":{\"tracegroupgap\":0},\"title\":{\"text\":\"Outliers in Loan_Amount_Term\"},\"boxmode\":\"group\"},                        {\"responsive\": true}                    ).then(function(){\n",
       "                            \n",
       "var gd = document.getElementById('a510726d-c959-4bf8-93cf-ed73e329df54');\n",
       "var x = new MutationObserver(function (mutations, observer) {{\n",
       "        var display = window.getComputedStyle(gd).display;\n",
       "        if (!display || display === 'none') {{\n",
       "            console.log([gd, 'removed!']);\n",
       "            Plotly.purge(gd);\n",
       "            observer.disconnect();\n",
       "        }}\n",
       "}});\n",
       "\n",
       "// Listen for the removal of the full notebook cells\n",
       "var notebookContainer = gd.closest('#notebook-container');\n",
       "if (notebookContainer) {{\n",
       "    x.observe(notebookContainer, {childList: true});\n",
       "}}\n",
       "\n",
       "// Listen for the clearing of the current output cell\n",
       "var outputEl = gd.closest('.output');\n",
       "if (outputEl) {{\n",
       "    x.observe(outputEl, {childList: true});\n",
       "}}\n",
       "\n",
       "                        })                };                });            </script>        </div>"
      ]
     },
     "metadata": {},
     "output_type": "display_data"
    },
    {
     "data": {
      "application/vnd.plotly.v1+json": {
       "config": {
        "plotlyServerURL": "https://plot.ly"
       },
       "data": [
        {
         "alignmentgroup": "True",
         "boxpoints": "all",
         "hovertemplate": "variable=%{x}<br>value=%{y}<extra></extra>",
         "legendgroup": "",
         "marker": {
          "color": "#636efa"
         },
         "name": "",
         "notched": false,
         "offsetgroup": "",
         "orientation": "v",
         "showlegend": false,
         "type": "box",
         "x": [
          "Credit_History",
          "Credit_History",
          "Credit_History",
          "Credit_History",
          "Credit_History",
          "Credit_History",
          "Credit_History",
          "Credit_History",
          "Credit_History",
          "Credit_History",
          "Credit_History",
          "Credit_History",
          "Credit_History",
          "Credit_History",
          "Credit_History",
          "Credit_History",
          "Credit_History",
          "Credit_History",
          "Credit_History",
          "Credit_History",
          "Credit_History",
          "Credit_History",
          "Credit_History",
          "Credit_History",
          "Credit_History",
          "Credit_History",
          "Credit_History",
          "Credit_History",
          "Credit_History",
          "Credit_History",
          "Credit_History",
          "Credit_History",
          "Credit_History",
          "Credit_History",
          "Credit_History",
          "Credit_History",
          "Credit_History",
          "Credit_History",
          "Credit_History",
          "Credit_History",
          "Credit_History",
          "Credit_History",
          "Credit_History",
          "Credit_History",
          "Credit_History",
          "Credit_History",
          "Credit_History",
          "Credit_History",
          "Credit_History",
          "Credit_History",
          "Credit_History",
          "Credit_History",
          "Credit_History",
          "Credit_History",
          "Credit_History",
          "Credit_History",
          "Credit_History",
          "Credit_History",
          "Credit_History",
          "Credit_History",
          "Credit_History",
          "Credit_History",
          "Credit_History",
          "Credit_History",
          "Credit_History",
          "Credit_History",
          "Credit_History",
          "Credit_History",
          "Credit_History",
          "Credit_History",
          "Credit_History",
          "Credit_History",
          "Credit_History",
          "Credit_History",
          "Credit_History",
          "Credit_History",
          "Credit_History",
          "Credit_History",
          "Credit_History",
          "Credit_History",
          "Credit_History",
          "Credit_History",
          "Credit_History",
          "Credit_History",
          "Credit_History",
          "Credit_History",
          "Credit_History",
          "Credit_History",
          "Credit_History",
          "Credit_History",
          "Credit_History",
          "Credit_History",
          "Credit_History",
          "Credit_History",
          "Credit_History",
          "Credit_History",
          "Credit_History",
          "Credit_History",
          "Credit_History",
          "Credit_History",
          "Credit_History",
          "Credit_History",
          "Credit_History",
          "Credit_History",
          "Credit_History",
          "Credit_History",
          "Credit_History",
          "Credit_History",
          "Credit_History",
          "Credit_History",
          "Credit_History",
          "Credit_History",
          "Credit_History",
          "Credit_History",
          "Credit_History",
          "Credit_History",
          "Credit_History",
          "Credit_History",
          "Credit_History",
          "Credit_History",
          "Credit_History",
          "Credit_History",
          "Credit_History",
          "Credit_History",
          "Credit_History",
          "Credit_History",
          "Credit_History",
          "Credit_History",
          "Credit_History",
          "Credit_History",
          "Credit_History",
          "Credit_History",
          "Credit_History",
          "Credit_History",
          "Credit_History",
          "Credit_History",
          "Credit_History",
          "Credit_History",
          "Credit_History",
          "Credit_History",
          "Credit_History",
          "Credit_History",
          "Credit_History",
          "Credit_History",
          "Credit_History",
          "Credit_History",
          "Credit_History",
          "Credit_History",
          "Credit_History",
          "Credit_History",
          "Credit_History",
          "Credit_History",
          "Credit_History",
          "Credit_History",
          "Credit_History",
          "Credit_History",
          "Credit_History",
          "Credit_History",
          "Credit_History",
          "Credit_History",
          "Credit_History",
          "Credit_History",
          "Credit_History",
          "Credit_History",
          "Credit_History",
          "Credit_History",
          "Credit_History",
          "Credit_History",
          "Credit_History",
          "Credit_History",
          "Credit_History",
          "Credit_History",
          "Credit_History",
          "Credit_History",
          "Credit_History",
          "Credit_History",
          "Credit_History",
          "Credit_History",
          "Credit_History",
          "Credit_History",
          "Credit_History",
          "Credit_History",
          "Credit_History",
          "Credit_History",
          "Credit_History",
          "Credit_History",
          "Credit_History",
          "Credit_History",
          "Credit_History",
          "Credit_History",
          "Credit_History",
          "Credit_History",
          "Credit_History",
          "Credit_History",
          "Credit_History",
          "Credit_History",
          "Credit_History",
          "Credit_History",
          "Credit_History",
          "Credit_History",
          "Credit_History",
          "Credit_History",
          "Credit_History",
          "Credit_History",
          "Credit_History",
          "Credit_History",
          "Credit_History",
          "Credit_History",
          "Credit_History",
          "Credit_History",
          "Credit_History",
          "Credit_History",
          "Credit_History",
          "Credit_History",
          "Credit_History",
          "Credit_History",
          "Credit_History",
          "Credit_History",
          "Credit_History",
          "Credit_History",
          "Credit_History",
          "Credit_History",
          "Credit_History",
          "Credit_History",
          "Credit_History",
          "Credit_History",
          "Credit_History",
          "Credit_History",
          "Credit_History",
          "Credit_History",
          "Credit_History",
          "Credit_History",
          "Credit_History",
          "Credit_History",
          "Credit_History",
          "Credit_History",
          "Credit_History",
          "Credit_History",
          "Credit_History",
          "Credit_History",
          "Credit_History",
          "Credit_History",
          "Credit_History",
          "Credit_History",
          "Credit_History",
          "Credit_History",
          "Credit_History",
          "Credit_History",
          "Credit_History",
          "Credit_History",
          "Credit_History",
          "Credit_History",
          "Credit_History",
          "Credit_History",
          "Credit_History",
          "Credit_History",
          "Credit_History",
          "Credit_History",
          "Credit_History",
          "Credit_History",
          "Credit_History",
          "Credit_History",
          "Credit_History",
          "Credit_History",
          "Credit_History",
          "Credit_History",
          "Credit_History",
          "Credit_History",
          "Credit_History",
          "Credit_History",
          "Credit_History",
          "Credit_History",
          "Credit_History",
          "Credit_History",
          "Credit_History",
          "Credit_History",
          "Credit_History",
          "Credit_History",
          "Credit_History",
          "Credit_History",
          "Credit_History",
          "Credit_History",
          "Credit_History",
          "Credit_History",
          "Credit_History",
          "Credit_History",
          "Credit_History",
          "Credit_History",
          "Credit_History",
          "Credit_History",
          "Credit_History",
          "Credit_History",
          "Credit_History",
          "Credit_History",
          "Credit_History",
          "Credit_History",
          "Credit_History",
          "Credit_History",
          "Credit_History",
          "Credit_History",
          "Credit_History",
          "Credit_History",
          "Credit_History",
          "Credit_History",
          "Credit_History",
          "Credit_History",
          "Credit_History",
          "Credit_History",
          "Credit_History",
          "Credit_History",
          "Credit_History",
          "Credit_History",
          "Credit_History",
          "Credit_History",
          "Credit_History",
          "Credit_History",
          "Credit_History",
          "Credit_History",
          "Credit_History",
          "Credit_History",
          "Credit_History",
          "Credit_History",
          "Credit_History",
          "Credit_History",
          "Credit_History",
          "Credit_History",
          "Credit_History",
          "Credit_History",
          "Credit_History",
          "Credit_History",
          "Credit_History",
          "Credit_History",
          "Credit_History",
          "Credit_History",
          "Credit_History",
          "Credit_History",
          "Credit_History",
          "Credit_History",
          "Credit_History",
          "Credit_History",
          "Credit_History",
          "Credit_History",
          "Credit_History",
          "Credit_History",
          "Credit_History",
          "Credit_History",
          "Credit_History",
          "Credit_History",
          "Credit_History",
          "Credit_History",
          "Credit_History",
          "Credit_History",
          "Credit_History",
          "Credit_History",
          "Credit_History",
          "Credit_History",
          "Credit_History",
          "Credit_History",
          "Credit_History",
          "Credit_History",
          "Credit_History",
          "Credit_History",
          "Credit_History",
          "Credit_History",
          "Credit_History",
          "Credit_History",
          "Credit_History",
          "Credit_History",
          "Credit_History",
          "Credit_History",
          "Credit_History",
          "Credit_History",
          "Credit_History",
          "Credit_History",
          "Credit_History",
          "Credit_History",
          "Credit_History",
          "Credit_History",
          "Credit_History",
          "Credit_History",
          "Credit_History",
          "Credit_History",
          "Credit_History",
          "Credit_History",
          "Credit_History",
          "Credit_History",
          "Credit_History",
          "Credit_History",
          "Credit_History",
          "Credit_History",
          "Credit_History",
          "Credit_History",
          "Credit_History",
          "Credit_History",
          "Credit_History",
          "Credit_History",
          "Credit_History",
          "Credit_History",
          "Credit_History",
          "Credit_History",
          "Credit_History",
          "Credit_History",
          "Credit_History",
          "Credit_History",
          "Credit_History",
          "Credit_History",
          "Credit_History",
          "Credit_History",
          "Credit_History",
          "Credit_History",
          "Credit_History",
          "Credit_History",
          "Credit_History",
          "Credit_History",
          "Credit_History",
          "Credit_History",
          "Credit_History",
          "Credit_History",
          "Credit_History",
          "Credit_History",
          "Credit_History",
          "Credit_History",
          "Credit_History",
          "Credit_History",
          "Credit_History",
          "Credit_History",
          "Credit_History",
          "Credit_History",
          "Credit_History",
          "Credit_History",
          "Credit_History",
          "Credit_History",
          "Credit_History",
          "Credit_History",
          "Credit_History",
          "Credit_History",
          "Credit_History",
          "Credit_History",
          "Credit_History",
          "Credit_History",
          "Credit_History",
          "Credit_History",
          "Credit_History",
          "Credit_History",
          "Credit_History",
          "Credit_History",
          "Credit_History",
          "Credit_History",
          "Credit_History",
          "Credit_History",
          "Credit_History",
          "Credit_History",
          "Credit_History",
          "Credit_History",
          "Credit_History",
          "Credit_History",
          "Credit_History",
          "Credit_History",
          "Credit_History",
          "Credit_History",
          "Credit_History",
          "Credit_History",
          "Credit_History",
          "Credit_History",
          "Credit_History",
          "Credit_History",
          "Credit_History",
          "Credit_History",
          "Credit_History",
          "Credit_History",
          "Credit_History",
          "Credit_History",
          "Credit_History",
          "Credit_History",
          "Credit_History",
          "Credit_History",
          "Credit_History",
          "Credit_History",
          "Credit_History",
          "Credit_History",
          "Credit_History",
          "Credit_History",
          "Credit_History",
          "Credit_History",
          "Credit_History",
          "Credit_History",
          "Credit_History",
          "Credit_History",
          "Credit_History",
          "Credit_History",
          "Credit_History",
          "Credit_History",
          "Credit_History",
          "Credit_History",
          "Credit_History",
          "Credit_History",
          "Credit_History",
          "Credit_History",
          "Credit_History",
          "Credit_History",
          "Credit_History",
          "Credit_History",
          "Credit_History",
          "Credit_History",
          "Credit_History",
          "Credit_History",
          "Credit_History",
          "Credit_History",
          "Credit_History",
          "Credit_History",
          "Credit_History",
          "Credit_History",
          "Credit_History",
          "Credit_History",
          "Credit_History",
          "Credit_History",
          "Credit_History",
          "Credit_History",
          "Credit_History",
          "Credit_History",
          "Credit_History",
          "Credit_History",
          "Credit_History",
          "Credit_History",
          "Credit_History",
          "Credit_History",
          "Credit_History",
          "Credit_History",
          "Credit_History",
          "Credit_History",
          "Credit_History",
          "Credit_History",
          "Credit_History",
          "Credit_History",
          "Credit_History",
          "Credit_History",
          "Credit_History",
          "Credit_History",
          "Credit_History",
          "Credit_History",
          "Credit_History",
          "Credit_History",
          "Credit_History",
          "Credit_History",
          "Credit_History",
          "Credit_History",
          "Credit_History",
          "Credit_History",
          "Credit_History",
          "Credit_History",
          "Credit_History",
          "Credit_History",
          "Credit_History",
          "Credit_History",
          "Credit_History",
          "Credit_History",
          "Credit_History",
          "Credit_History",
          "Credit_History",
          "Credit_History",
          "Credit_History",
          "Credit_History",
          "Credit_History",
          "Credit_History",
          "Credit_History",
          "Credit_History",
          "Credit_History",
          "Credit_History",
          "Credit_History",
          "Credit_History",
          "Credit_History",
          "Credit_History",
          "Credit_History",
          "Credit_History",
          "Credit_History",
          "Credit_History",
          "Credit_History",
          "Credit_History",
          "Credit_History",
          "Credit_History",
          "Credit_History",
          "Credit_History",
          "Credit_History",
          "Credit_History",
          "Credit_History",
          "Credit_History",
          "Credit_History",
          "Credit_History",
          "Credit_History",
          "Credit_History",
          "Credit_History",
          "Credit_History",
          "Credit_History",
          "Credit_History",
          "Credit_History",
          "Credit_History",
          "Credit_History",
          "Credit_History"
         ],
         "x0": " ",
         "xaxis": "x",
         "y": [
          1,
          1,
          1,
          1,
          1,
          1,
          1,
          0,
          1,
          1,
          1,
          1,
          1,
          1,
          1,
          1,
          null,
          0,
          1,
          1,
          0,
          1,
          0,
          null,
          1,
          1,
          1,
          1,
          1,
          null,
          1,
          1,
          1,
          1,
          1,
          0,
          1,
          1,
          1,
          1,
          1,
          null,
          1,
          1,
          1,
          1,
          1,
          0,
          1,
          1,
          1,
          1,
          1,
          0,
          1,
          1,
          1,
          1,
          1,
          1,
          1,
          0,
          0,
          0,
          1,
          0,
          1,
          1,
          0,
          1,
          1,
          1,
          0,
          1,
          1,
          1,
          1,
          0,
          null,
          1,
          1,
          1,
          null,
          1,
          1,
          null,
          1,
          1,
          1,
          1,
          1,
          1,
          1,
          1,
          null,
          1,
          1,
          1,
          1,
          1,
          1,
          1,
          1,
          1,
          1,
          1,
          0,
          1,
          1,
          1,
          0,
          1,
          1,
          1,
          1,
          null,
          1,
          1,
          1,
          1,
          0,
          1,
          1,
          null,
          1,
          0,
          null,
          null,
          1,
          1,
          1,
          1,
          1,
          1,
          1,
          0,
          1,
          1,
          1,
          1,
          1,
          1,
          1,
          1,
          1,
          1,
          1,
          0,
          1,
          1,
          1,
          1,
          0,
          null,
          1,
          1,
          1,
          1,
          1,
          0,
          1,
          1,
          1,
          1,
          1,
          0,
          1,
          1,
          1,
          1,
          1,
          1,
          1,
          0,
          1,
          0,
          0,
          null,
          1,
          1,
          1,
          1,
          0,
          null,
          1,
          1,
          1,
          1,
          1,
          1,
          1,
          1,
          1,
          null,
          1,
          1,
          0,
          1,
          1,
          1,
          1,
          1,
          1,
          1,
          1,
          1,
          0,
          1,
          1,
          1,
          1,
          1,
          1,
          0,
          null,
          0,
          1,
          1,
          1,
          1,
          1,
          1,
          1,
          1,
          1,
          1,
          1,
          1,
          1,
          1,
          null,
          null,
          1,
          1,
          1,
          1,
          1,
          1,
          1,
          1,
          1,
          1,
          1,
          1,
          0,
          1,
          1,
          1,
          0,
          1,
          0,
          1,
          1,
          null,
          null,
          1,
          1,
          1,
          1,
          1,
          1,
          0,
          1,
          1,
          1,
          1,
          1,
          1,
          1,
          1,
          1,
          1,
          1,
          null,
          0,
          1,
          1,
          1,
          1,
          1,
          1,
          1,
          1,
          1,
          1,
          0,
          1,
          0,
          1,
          1,
          1,
          1,
          1,
          1,
          0,
          1,
          1,
          1,
          1,
          1,
          1,
          0,
          1,
          null,
          1,
          1,
          1,
          null,
          1,
          1,
          null,
          null,
          1,
          1,
          1,
          1,
          null,
          1,
          0,
          0,
          1,
          1,
          1,
          1,
          1,
          1,
          1,
          1,
          1,
          1,
          0,
          1,
          1,
          1,
          1,
          1,
          1,
          1,
          0,
          1,
          null,
          1,
          1,
          1,
          1,
          0,
          1,
          1,
          1,
          1,
          0,
          1,
          1,
          1,
          1,
          null,
          1,
          1,
          1,
          0,
          1,
          1,
          1,
          1,
          1,
          0,
          1,
          1,
          1,
          null,
          1,
          1,
          1,
          1,
          1,
          1,
          1,
          1,
          1,
          0,
          1,
          1,
          1,
          1,
          null,
          1,
          1,
          null,
          0,
          1,
          1,
          0,
          0,
          1,
          1,
          1,
          1,
          1,
          1,
          1,
          0,
          0,
          1,
          null,
          0,
          1,
          0,
          1,
          1,
          1,
          1,
          1,
          1,
          0,
          1,
          0,
          1,
          1,
          1,
          1,
          1,
          1,
          1,
          0,
          1,
          1,
          1,
          1,
          1,
          0,
          1,
          1,
          1,
          1,
          1,
          null,
          1,
          1,
          1,
          0,
          null,
          0,
          null,
          0,
          0,
          1,
          1,
          1,
          1,
          1,
          1,
          1,
          1,
          1,
          0,
          1,
          0,
          1,
          1,
          1,
          0,
          1,
          null,
          1,
          1,
          1,
          1,
          1,
          1,
          1,
          1,
          1,
          1,
          1,
          0,
          1,
          1,
          1,
          null,
          null,
          1,
          1,
          0,
          1,
          1,
          null,
          1,
          0,
          1,
          1,
          1,
          null,
          1,
          1,
          null,
          1,
          1,
          1,
          1,
          1,
          1,
          1,
          1,
          1,
          0,
          1,
          1,
          1,
          1,
          1,
          1,
          1,
          1,
          1,
          0,
          1,
          1,
          null,
          1,
          0,
          null,
          1,
          1,
          1,
          1,
          1,
          1,
          1,
          0,
          1,
          1,
          null,
          1,
          1,
          1,
          0,
          1,
          0,
          1,
          1,
          0,
          0,
          1,
          null,
          1,
          1,
          1,
          1,
          1,
          1,
          1,
          0,
          null,
          1,
          0,
          1,
          0,
          1,
          0,
          1,
          1,
          1,
          1,
          1,
          1,
          1,
          1,
          1,
          1,
          null,
          0,
          1,
          1,
          1,
          0,
          1,
          1,
          1,
          1,
          1,
          1,
          0,
          1,
          1,
          null,
          1,
          1,
          1,
          1,
          1,
          1,
          1,
          1,
          1,
          1,
          1,
          1,
          0
         ],
         "y0": " ",
         "yaxis": "y"
        }
       ],
       "layout": {
        "boxmode": "group",
        "legend": {
         "tracegroupgap": 0
        },
        "template": {
         "data": {
          "bar": [
           {
            "error_x": {
             "color": "#2a3f5f"
            },
            "error_y": {
             "color": "#2a3f5f"
            },
            "marker": {
             "line": {
              "color": "#E5ECF6",
              "width": 0.5
             },
             "pattern": {
              "fillmode": "overlay",
              "size": 10,
              "solidity": 0.2
             }
            },
            "type": "bar"
           }
          ],
          "barpolar": [
           {
            "marker": {
             "line": {
              "color": "#E5ECF6",
              "width": 0.5
             },
             "pattern": {
              "fillmode": "overlay",
              "size": 10,
              "solidity": 0.2
             }
            },
            "type": "barpolar"
           }
          ],
          "carpet": [
           {
            "aaxis": {
             "endlinecolor": "#2a3f5f",
             "gridcolor": "white",
             "linecolor": "white",
             "minorgridcolor": "white",
             "startlinecolor": "#2a3f5f"
            },
            "baxis": {
             "endlinecolor": "#2a3f5f",
             "gridcolor": "white",
             "linecolor": "white",
             "minorgridcolor": "white",
             "startlinecolor": "#2a3f5f"
            },
            "type": "carpet"
           }
          ],
          "choropleth": [
           {
            "colorbar": {
             "outlinewidth": 0,
             "ticks": ""
            },
            "type": "choropleth"
           }
          ],
          "contour": [
           {
            "colorbar": {
             "outlinewidth": 0,
             "ticks": ""
            },
            "colorscale": [
             [
              0,
              "#0d0887"
             ],
             [
              0.1111111111111111,
              "#46039f"
             ],
             [
              0.2222222222222222,
              "#7201a8"
             ],
             [
              0.3333333333333333,
              "#9c179e"
             ],
             [
              0.4444444444444444,
              "#bd3786"
             ],
             [
              0.5555555555555556,
              "#d8576b"
             ],
             [
              0.6666666666666666,
              "#ed7953"
             ],
             [
              0.7777777777777778,
              "#fb9f3a"
             ],
             [
              0.8888888888888888,
              "#fdca26"
             ],
             [
              1,
              "#f0f921"
             ]
            ],
            "type": "contour"
           }
          ],
          "contourcarpet": [
           {
            "colorbar": {
             "outlinewidth": 0,
             "ticks": ""
            },
            "type": "contourcarpet"
           }
          ],
          "heatmap": [
           {
            "colorbar": {
             "outlinewidth": 0,
             "ticks": ""
            },
            "colorscale": [
             [
              0,
              "#0d0887"
             ],
             [
              0.1111111111111111,
              "#46039f"
             ],
             [
              0.2222222222222222,
              "#7201a8"
             ],
             [
              0.3333333333333333,
              "#9c179e"
             ],
             [
              0.4444444444444444,
              "#bd3786"
             ],
             [
              0.5555555555555556,
              "#d8576b"
             ],
             [
              0.6666666666666666,
              "#ed7953"
             ],
             [
              0.7777777777777778,
              "#fb9f3a"
             ],
             [
              0.8888888888888888,
              "#fdca26"
             ],
             [
              1,
              "#f0f921"
             ]
            ],
            "type": "heatmap"
           }
          ],
          "heatmapgl": [
           {
            "colorbar": {
             "outlinewidth": 0,
             "ticks": ""
            },
            "colorscale": [
             [
              0,
              "#0d0887"
             ],
             [
              0.1111111111111111,
              "#46039f"
             ],
             [
              0.2222222222222222,
              "#7201a8"
             ],
             [
              0.3333333333333333,
              "#9c179e"
             ],
             [
              0.4444444444444444,
              "#bd3786"
             ],
             [
              0.5555555555555556,
              "#d8576b"
             ],
             [
              0.6666666666666666,
              "#ed7953"
             ],
             [
              0.7777777777777778,
              "#fb9f3a"
             ],
             [
              0.8888888888888888,
              "#fdca26"
             ],
             [
              1,
              "#f0f921"
             ]
            ],
            "type": "heatmapgl"
           }
          ],
          "histogram": [
           {
            "marker": {
             "pattern": {
              "fillmode": "overlay",
              "size": 10,
              "solidity": 0.2
             }
            },
            "type": "histogram"
           }
          ],
          "histogram2d": [
           {
            "colorbar": {
             "outlinewidth": 0,
             "ticks": ""
            },
            "colorscale": [
             [
              0,
              "#0d0887"
             ],
             [
              0.1111111111111111,
              "#46039f"
             ],
             [
              0.2222222222222222,
              "#7201a8"
             ],
             [
              0.3333333333333333,
              "#9c179e"
             ],
             [
              0.4444444444444444,
              "#bd3786"
             ],
             [
              0.5555555555555556,
              "#d8576b"
             ],
             [
              0.6666666666666666,
              "#ed7953"
             ],
             [
              0.7777777777777778,
              "#fb9f3a"
             ],
             [
              0.8888888888888888,
              "#fdca26"
             ],
             [
              1,
              "#f0f921"
             ]
            ],
            "type": "histogram2d"
           }
          ],
          "histogram2dcontour": [
           {
            "colorbar": {
             "outlinewidth": 0,
             "ticks": ""
            },
            "colorscale": [
             [
              0,
              "#0d0887"
             ],
             [
              0.1111111111111111,
              "#46039f"
             ],
             [
              0.2222222222222222,
              "#7201a8"
             ],
             [
              0.3333333333333333,
              "#9c179e"
             ],
             [
              0.4444444444444444,
              "#bd3786"
             ],
             [
              0.5555555555555556,
              "#d8576b"
             ],
             [
              0.6666666666666666,
              "#ed7953"
             ],
             [
              0.7777777777777778,
              "#fb9f3a"
             ],
             [
              0.8888888888888888,
              "#fdca26"
             ],
             [
              1,
              "#f0f921"
             ]
            ],
            "type": "histogram2dcontour"
           }
          ],
          "mesh3d": [
           {
            "colorbar": {
             "outlinewidth": 0,
             "ticks": ""
            },
            "type": "mesh3d"
           }
          ],
          "parcoords": [
           {
            "line": {
             "colorbar": {
              "outlinewidth": 0,
              "ticks": ""
             }
            },
            "type": "parcoords"
           }
          ],
          "pie": [
           {
            "automargin": true,
            "type": "pie"
           }
          ],
          "scatter": [
           {
            "fillpattern": {
             "fillmode": "overlay",
             "size": 10,
             "solidity": 0.2
            },
            "type": "scatter"
           }
          ],
          "scatter3d": [
           {
            "line": {
             "colorbar": {
              "outlinewidth": 0,
              "ticks": ""
             }
            },
            "marker": {
             "colorbar": {
              "outlinewidth": 0,
              "ticks": ""
             }
            },
            "type": "scatter3d"
           }
          ],
          "scattercarpet": [
           {
            "marker": {
             "colorbar": {
              "outlinewidth": 0,
              "ticks": ""
             }
            },
            "type": "scattercarpet"
           }
          ],
          "scattergeo": [
           {
            "marker": {
             "colorbar": {
              "outlinewidth": 0,
              "ticks": ""
             }
            },
            "type": "scattergeo"
           }
          ],
          "scattergl": [
           {
            "marker": {
             "colorbar": {
              "outlinewidth": 0,
              "ticks": ""
             }
            },
            "type": "scattergl"
           }
          ],
          "scattermapbox": [
           {
            "marker": {
             "colorbar": {
              "outlinewidth": 0,
              "ticks": ""
             }
            },
            "type": "scattermapbox"
           }
          ],
          "scatterpolar": [
           {
            "marker": {
             "colorbar": {
              "outlinewidth": 0,
              "ticks": ""
             }
            },
            "type": "scatterpolar"
           }
          ],
          "scatterpolargl": [
           {
            "marker": {
             "colorbar": {
              "outlinewidth": 0,
              "ticks": ""
             }
            },
            "type": "scatterpolargl"
           }
          ],
          "scatterternary": [
           {
            "marker": {
             "colorbar": {
              "outlinewidth": 0,
              "ticks": ""
             }
            },
            "type": "scatterternary"
           }
          ],
          "surface": [
           {
            "colorbar": {
             "outlinewidth": 0,
             "ticks": ""
            },
            "colorscale": [
             [
              0,
              "#0d0887"
             ],
             [
              0.1111111111111111,
              "#46039f"
             ],
             [
              0.2222222222222222,
              "#7201a8"
             ],
             [
              0.3333333333333333,
              "#9c179e"
             ],
             [
              0.4444444444444444,
              "#bd3786"
             ],
             [
              0.5555555555555556,
              "#d8576b"
             ],
             [
              0.6666666666666666,
              "#ed7953"
             ],
             [
              0.7777777777777778,
              "#fb9f3a"
             ],
             [
              0.8888888888888888,
              "#fdca26"
             ],
             [
              1,
              "#f0f921"
             ]
            ],
            "type": "surface"
           }
          ],
          "table": [
           {
            "cells": {
             "fill": {
              "color": "#EBF0F8"
             },
             "line": {
              "color": "white"
             }
            },
            "header": {
             "fill": {
              "color": "#C8D4E3"
             },
             "line": {
              "color": "white"
             }
            },
            "type": "table"
           }
          ]
         },
         "layout": {
          "annotationdefaults": {
           "arrowcolor": "#2a3f5f",
           "arrowhead": 0,
           "arrowwidth": 1
          },
          "autotypenumbers": "strict",
          "coloraxis": {
           "colorbar": {
            "outlinewidth": 0,
            "ticks": ""
           }
          },
          "colorscale": {
           "diverging": [
            [
             0,
             "#8e0152"
            ],
            [
             0.1,
             "#c51b7d"
            ],
            [
             0.2,
             "#de77ae"
            ],
            [
             0.3,
             "#f1b6da"
            ],
            [
             0.4,
             "#fde0ef"
            ],
            [
             0.5,
             "#f7f7f7"
            ],
            [
             0.6,
             "#e6f5d0"
            ],
            [
             0.7,
             "#b8e186"
            ],
            [
             0.8,
             "#7fbc41"
            ],
            [
             0.9,
             "#4d9221"
            ],
            [
             1,
             "#276419"
            ]
           ],
           "sequential": [
            [
             0,
             "#0d0887"
            ],
            [
             0.1111111111111111,
             "#46039f"
            ],
            [
             0.2222222222222222,
             "#7201a8"
            ],
            [
             0.3333333333333333,
             "#9c179e"
            ],
            [
             0.4444444444444444,
             "#bd3786"
            ],
            [
             0.5555555555555556,
             "#d8576b"
            ],
            [
             0.6666666666666666,
             "#ed7953"
            ],
            [
             0.7777777777777778,
             "#fb9f3a"
            ],
            [
             0.8888888888888888,
             "#fdca26"
            ],
            [
             1,
             "#f0f921"
            ]
           ],
           "sequentialminus": [
            [
             0,
             "#0d0887"
            ],
            [
             0.1111111111111111,
             "#46039f"
            ],
            [
             0.2222222222222222,
             "#7201a8"
            ],
            [
             0.3333333333333333,
             "#9c179e"
            ],
            [
             0.4444444444444444,
             "#bd3786"
            ],
            [
             0.5555555555555556,
             "#d8576b"
            ],
            [
             0.6666666666666666,
             "#ed7953"
            ],
            [
             0.7777777777777778,
             "#fb9f3a"
            ],
            [
             0.8888888888888888,
             "#fdca26"
            ],
            [
             1,
             "#f0f921"
            ]
           ]
          },
          "colorway": [
           "#636efa",
           "#EF553B",
           "#00cc96",
           "#ab63fa",
           "#FFA15A",
           "#19d3f3",
           "#FF6692",
           "#B6E880",
           "#FF97FF",
           "#FECB52"
          ],
          "font": {
           "color": "#2a3f5f"
          },
          "geo": {
           "bgcolor": "white",
           "lakecolor": "white",
           "landcolor": "#E5ECF6",
           "showlakes": true,
           "showland": true,
           "subunitcolor": "white"
          },
          "hoverlabel": {
           "align": "left"
          },
          "hovermode": "closest",
          "mapbox": {
           "style": "light"
          },
          "paper_bgcolor": "white",
          "plot_bgcolor": "#E5ECF6",
          "polar": {
           "angularaxis": {
            "gridcolor": "white",
            "linecolor": "white",
            "ticks": ""
           },
           "bgcolor": "#E5ECF6",
           "radialaxis": {
            "gridcolor": "white",
            "linecolor": "white",
            "ticks": ""
           }
          },
          "scene": {
           "xaxis": {
            "backgroundcolor": "#E5ECF6",
            "gridcolor": "white",
            "gridwidth": 2,
            "linecolor": "white",
            "showbackground": true,
            "ticks": "",
            "zerolinecolor": "white"
           },
           "yaxis": {
            "backgroundcolor": "#E5ECF6",
            "gridcolor": "white",
            "gridwidth": 2,
            "linecolor": "white",
            "showbackground": true,
            "ticks": "",
            "zerolinecolor": "white"
           },
           "zaxis": {
            "backgroundcolor": "#E5ECF6",
            "gridcolor": "white",
            "gridwidth": 2,
            "linecolor": "white",
            "showbackground": true,
            "ticks": "",
            "zerolinecolor": "white"
           }
          },
          "shapedefaults": {
           "line": {
            "color": "#2a3f5f"
           }
          },
          "ternary": {
           "aaxis": {
            "gridcolor": "white",
            "linecolor": "white",
            "ticks": ""
           },
           "baxis": {
            "gridcolor": "white",
            "linecolor": "white",
            "ticks": ""
           },
           "bgcolor": "#E5ECF6",
           "caxis": {
            "gridcolor": "white",
            "linecolor": "white",
            "ticks": ""
           }
          },
          "title": {
           "x": 0.05
          },
          "xaxis": {
           "automargin": true,
           "gridcolor": "white",
           "linecolor": "white",
           "ticks": "",
           "title": {
            "standoff": 15
           },
           "zerolinecolor": "white",
           "zerolinewidth": 2
          },
          "yaxis": {
           "automargin": true,
           "gridcolor": "white",
           "linecolor": "white",
           "ticks": "",
           "title": {
            "standoff": 15
           },
           "zerolinecolor": "white",
           "zerolinewidth": 2
          }
         }
        },
        "title": {
         "text": "Outliers in Credit_History"
        },
        "xaxis": {
         "anchor": "y",
         "domain": [
          0,
          1
         ],
         "title": {
          "text": "variable"
         }
        },
        "yaxis": {
         "anchor": "x",
         "domain": [
          0,
          1
         ],
         "title": {
          "text": "value"
         }
        }
       }
      },
      "text/html": [
       "<div>                            <div id=\"54f38d35-223a-4ef1-a99b-d7ded06c0945\" class=\"plotly-graph-div\" style=\"height:525px; width:100%;\"></div>            <script type=\"text/javascript\">                require([\"plotly\"], function(Plotly) {                    window.PLOTLYENV=window.PLOTLYENV || {};                                    if (document.getElementById(\"54f38d35-223a-4ef1-a99b-d7ded06c0945\")) {                    Plotly.newPlot(                        \"54f38d35-223a-4ef1-a99b-d7ded06c0945\",                        [{\"alignmentgroup\":\"True\",\"boxpoints\":\"all\",\"hovertemplate\":\"variable=%{x}\\u003cbr\\u003evalue=%{y}\\u003cextra\\u003e\\u003c\\u002fextra\\u003e\",\"legendgroup\":\"\",\"marker\":{\"color\":\"#636efa\"},\"name\":\"\",\"notched\":false,\"offsetgroup\":\"\",\"orientation\":\"v\",\"showlegend\":false,\"x\":[\"Credit_History\",\"Credit_History\",\"Credit_History\",\"Credit_History\",\"Credit_History\",\"Credit_History\",\"Credit_History\",\"Credit_History\",\"Credit_History\",\"Credit_History\",\"Credit_History\",\"Credit_History\",\"Credit_History\",\"Credit_History\",\"Credit_History\",\"Credit_History\",\"Credit_History\",\"Credit_History\",\"Credit_History\",\"Credit_History\",\"Credit_History\",\"Credit_History\",\"Credit_History\",\"Credit_History\",\"Credit_History\",\"Credit_History\",\"Credit_History\",\"Credit_History\",\"Credit_History\",\"Credit_History\",\"Credit_History\",\"Credit_History\",\"Credit_History\",\"Credit_History\",\"Credit_History\",\"Credit_History\",\"Credit_History\",\"Credit_History\",\"Credit_History\",\"Credit_History\",\"Credit_History\",\"Credit_History\",\"Credit_History\",\"Credit_History\",\"Credit_History\",\"Credit_History\",\"Credit_History\",\"Credit_History\",\"Credit_History\",\"Credit_History\",\"Credit_History\",\"Credit_History\",\"Credit_History\",\"Credit_History\",\"Credit_History\",\"Credit_History\",\"Credit_History\",\"Credit_History\",\"Credit_History\",\"Credit_History\",\"Credit_History\",\"Credit_History\",\"Credit_History\",\"Credit_History\",\"Credit_History\",\"Credit_History\",\"Credit_History\",\"Credit_History\",\"Credit_History\",\"Credit_History\",\"Credit_History\",\"Credit_History\",\"Credit_History\",\"Credit_History\",\"Credit_History\",\"Credit_History\",\"Credit_History\",\"Credit_History\",\"Credit_History\",\"Credit_History\",\"Credit_History\",\"Credit_History\",\"Credit_History\",\"Credit_History\",\"Credit_History\",\"Credit_History\",\"Credit_History\",\"Credit_History\",\"Credit_History\",\"Credit_History\",\"Credit_History\",\"Credit_History\",\"Credit_History\",\"Credit_History\",\"Credit_History\",\"Credit_History\",\"Credit_History\",\"Credit_History\",\"Credit_History\",\"Credit_History\",\"Credit_History\",\"Credit_History\",\"Credit_History\",\"Credit_History\",\"Credit_History\",\"Credit_History\",\"Credit_History\",\"Credit_History\",\"Credit_History\",\"Credit_History\",\"Credit_History\",\"Credit_History\",\"Credit_History\",\"Credit_History\",\"Credit_History\",\"Credit_History\",\"Credit_History\",\"Credit_History\",\"Credit_History\",\"Credit_History\",\"Credit_History\",\"Credit_History\",\"Credit_History\",\"Credit_History\",\"Credit_History\",\"Credit_History\",\"Credit_History\",\"Credit_History\",\"Credit_History\",\"Credit_History\",\"Credit_History\",\"Credit_History\",\"Credit_History\",\"Credit_History\",\"Credit_History\",\"Credit_History\",\"Credit_History\",\"Credit_History\",\"Credit_History\",\"Credit_History\",\"Credit_History\",\"Credit_History\",\"Credit_History\",\"Credit_History\",\"Credit_History\",\"Credit_History\",\"Credit_History\",\"Credit_History\",\"Credit_History\",\"Credit_History\",\"Credit_History\",\"Credit_History\",\"Credit_History\",\"Credit_History\",\"Credit_History\",\"Credit_History\",\"Credit_History\",\"Credit_History\",\"Credit_History\",\"Credit_History\",\"Credit_History\",\"Credit_History\",\"Credit_History\",\"Credit_History\",\"Credit_History\",\"Credit_History\",\"Credit_History\",\"Credit_History\",\"Credit_History\",\"Credit_History\",\"Credit_History\",\"Credit_History\",\"Credit_History\",\"Credit_History\",\"Credit_History\",\"Credit_History\",\"Credit_History\",\"Credit_History\",\"Credit_History\",\"Credit_History\",\"Credit_History\",\"Credit_History\",\"Credit_History\",\"Credit_History\",\"Credit_History\",\"Credit_History\",\"Credit_History\",\"Credit_History\",\"Credit_History\",\"Credit_History\",\"Credit_History\",\"Credit_History\",\"Credit_History\",\"Credit_History\",\"Credit_History\",\"Credit_History\",\"Credit_History\",\"Credit_History\",\"Credit_History\",\"Credit_History\",\"Credit_History\",\"Credit_History\",\"Credit_History\",\"Credit_History\",\"Credit_History\",\"Credit_History\",\"Credit_History\",\"Credit_History\",\"Credit_History\",\"Credit_History\",\"Credit_History\",\"Credit_History\",\"Credit_History\",\"Credit_History\",\"Credit_History\",\"Credit_History\",\"Credit_History\",\"Credit_History\",\"Credit_History\",\"Credit_History\",\"Credit_History\",\"Credit_History\",\"Credit_History\",\"Credit_History\",\"Credit_History\",\"Credit_History\",\"Credit_History\",\"Credit_History\",\"Credit_History\",\"Credit_History\",\"Credit_History\",\"Credit_History\",\"Credit_History\",\"Credit_History\",\"Credit_History\",\"Credit_History\",\"Credit_History\",\"Credit_History\",\"Credit_History\",\"Credit_History\",\"Credit_History\",\"Credit_History\",\"Credit_History\",\"Credit_History\",\"Credit_History\",\"Credit_History\",\"Credit_History\",\"Credit_History\",\"Credit_History\",\"Credit_History\",\"Credit_History\",\"Credit_History\",\"Credit_History\",\"Credit_History\",\"Credit_History\",\"Credit_History\",\"Credit_History\",\"Credit_History\",\"Credit_History\",\"Credit_History\",\"Credit_History\",\"Credit_History\",\"Credit_History\",\"Credit_History\",\"Credit_History\",\"Credit_History\",\"Credit_History\",\"Credit_History\",\"Credit_History\",\"Credit_History\",\"Credit_History\",\"Credit_History\",\"Credit_History\",\"Credit_History\",\"Credit_History\",\"Credit_History\",\"Credit_History\",\"Credit_History\",\"Credit_History\",\"Credit_History\",\"Credit_History\",\"Credit_History\",\"Credit_History\",\"Credit_History\",\"Credit_History\",\"Credit_History\",\"Credit_History\",\"Credit_History\",\"Credit_History\",\"Credit_History\",\"Credit_History\",\"Credit_History\",\"Credit_History\",\"Credit_History\",\"Credit_History\",\"Credit_History\",\"Credit_History\",\"Credit_History\",\"Credit_History\",\"Credit_History\",\"Credit_History\",\"Credit_History\",\"Credit_History\",\"Credit_History\",\"Credit_History\",\"Credit_History\",\"Credit_History\",\"Credit_History\",\"Credit_History\",\"Credit_History\",\"Credit_History\",\"Credit_History\",\"Credit_History\",\"Credit_History\",\"Credit_History\",\"Credit_History\",\"Credit_History\",\"Credit_History\",\"Credit_History\",\"Credit_History\",\"Credit_History\",\"Credit_History\",\"Credit_History\",\"Credit_History\",\"Credit_History\",\"Credit_History\",\"Credit_History\",\"Credit_History\",\"Credit_History\",\"Credit_History\",\"Credit_History\",\"Credit_History\",\"Credit_History\",\"Credit_History\",\"Credit_History\",\"Credit_History\",\"Credit_History\",\"Credit_History\",\"Credit_History\",\"Credit_History\",\"Credit_History\",\"Credit_History\",\"Credit_History\",\"Credit_History\",\"Credit_History\",\"Credit_History\",\"Credit_History\",\"Credit_History\",\"Credit_History\",\"Credit_History\",\"Credit_History\",\"Credit_History\",\"Credit_History\",\"Credit_History\",\"Credit_History\",\"Credit_History\",\"Credit_History\",\"Credit_History\",\"Credit_History\",\"Credit_History\",\"Credit_History\",\"Credit_History\",\"Credit_History\",\"Credit_History\",\"Credit_History\",\"Credit_History\",\"Credit_History\",\"Credit_History\",\"Credit_History\",\"Credit_History\",\"Credit_History\",\"Credit_History\",\"Credit_History\",\"Credit_History\",\"Credit_History\",\"Credit_History\",\"Credit_History\",\"Credit_History\",\"Credit_History\",\"Credit_History\",\"Credit_History\",\"Credit_History\",\"Credit_History\",\"Credit_History\",\"Credit_History\",\"Credit_History\",\"Credit_History\",\"Credit_History\",\"Credit_History\",\"Credit_History\",\"Credit_History\",\"Credit_History\",\"Credit_History\",\"Credit_History\",\"Credit_History\",\"Credit_History\",\"Credit_History\",\"Credit_History\",\"Credit_History\",\"Credit_History\",\"Credit_History\",\"Credit_History\",\"Credit_History\",\"Credit_History\",\"Credit_History\",\"Credit_History\",\"Credit_History\",\"Credit_History\",\"Credit_History\",\"Credit_History\",\"Credit_History\",\"Credit_History\",\"Credit_History\",\"Credit_History\",\"Credit_History\",\"Credit_History\",\"Credit_History\",\"Credit_History\",\"Credit_History\",\"Credit_History\",\"Credit_History\",\"Credit_History\",\"Credit_History\",\"Credit_History\",\"Credit_History\",\"Credit_History\",\"Credit_History\",\"Credit_History\",\"Credit_History\",\"Credit_History\",\"Credit_History\",\"Credit_History\",\"Credit_History\",\"Credit_History\",\"Credit_History\",\"Credit_History\",\"Credit_History\",\"Credit_History\",\"Credit_History\",\"Credit_History\",\"Credit_History\",\"Credit_History\",\"Credit_History\",\"Credit_History\",\"Credit_History\",\"Credit_History\",\"Credit_History\",\"Credit_History\",\"Credit_History\",\"Credit_History\",\"Credit_History\",\"Credit_History\",\"Credit_History\",\"Credit_History\",\"Credit_History\",\"Credit_History\",\"Credit_History\",\"Credit_History\",\"Credit_History\",\"Credit_History\",\"Credit_History\",\"Credit_History\",\"Credit_History\",\"Credit_History\",\"Credit_History\",\"Credit_History\",\"Credit_History\",\"Credit_History\",\"Credit_History\",\"Credit_History\",\"Credit_History\",\"Credit_History\",\"Credit_History\",\"Credit_History\",\"Credit_History\",\"Credit_History\",\"Credit_History\",\"Credit_History\",\"Credit_History\",\"Credit_History\",\"Credit_History\",\"Credit_History\",\"Credit_History\",\"Credit_History\",\"Credit_History\",\"Credit_History\",\"Credit_History\",\"Credit_History\",\"Credit_History\",\"Credit_History\",\"Credit_History\",\"Credit_History\",\"Credit_History\",\"Credit_History\",\"Credit_History\",\"Credit_History\",\"Credit_History\",\"Credit_History\",\"Credit_History\",\"Credit_History\",\"Credit_History\",\"Credit_History\",\"Credit_History\",\"Credit_History\",\"Credit_History\",\"Credit_History\",\"Credit_History\",\"Credit_History\",\"Credit_History\",\"Credit_History\",\"Credit_History\",\"Credit_History\",\"Credit_History\",\"Credit_History\",\"Credit_History\",\"Credit_History\",\"Credit_History\",\"Credit_History\",\"Credit_History\",\"Credit_History\",\"Credit_History\",\"Credit_History\",\"Credit_History\",\"Credit_History\",\"Credit_History\",\"Credit_History\",\"Credit_History\",\"Credit_History\",\"Credit_History\",\"Credit_History\",\"Credit_History\",\"Credit_History\",\"Credit_History\",\"Credit_History\",\"Credit_History\",\"Credit_History\",\"Credit_History\",\"Credit_History\",\"Credit_History\",\"Credit_History\",\"Credit_History\",\"Credit_History\",\"Credit_History\",\"Credit_History\",\"Credit_History\",\"Credit_History\",\"Credit_History\",\"Credit_History\",\"Credit_History\",\"Credit_History\",\"Credit_History\",\"Credit_History\",\"Credit_History\",\"Credit_History\",\"Credit_History\",\"Credit_History\",\"Credit_History\",\"Credit_History\",\"Credit_History\",\"Credit_History\",\"Credit_History\",\"Credit_History\",\"Credit_History\",\"Credit_History\",\"Credit_History\",\"Credit_History\",\"Credit_History\",\"Credit_History\",\"Credit_History\",\"Credit_History\",\"Credit_History\",\"Credit_History\",\"Credit_History\",\"Credit_History\",\"Credit_History\",\"Credit_History\",\"Credit_History\",\"Credit_History\",\"Credit_History\",\"Credit_History\",\"Credit_History\",\"Credit_History\",\"Credit_History\",\"Credit_History\",\"Credit_History\",\"Credit_History\",\"Credit_History\",\"Credit_History\",\"Credit_History\",\"Credit_History\",\"Credit_History\",\"Credit_History\",\"Credit_History\",\"Credit_History\",\"Credit_History\",\"Credit_History\",\"Credit_History\",\"Credit_History\"],\"x0\":\" \",\"xaxis\":\"x\",\"y\":[1.0,1.0,1.0,1.0,1.0,1.0,1.0,0.0,1.0,1.0,1.0,1.0,1.0,1.0,1.0,1.0,null,0.0,1.0,1.0,0.0,1.0,0.0,null,1.0,1.0,1.0,1.0,1.0,null,1.0,1.0,1.0,1.0,1.0,0.0,1.0,1.0,1.0,1.0,1.0,null,1.0,1.0,1.0,1.0,1.0,0.0,1.0,1.0,1.0,1.0,1.0,0.0,1.0,1.0,1.0,1.0,1.0,1.0,1.0,0.0,0.0,0.0,1.0,0.0,1.0,1.0,0.0,1.0,1.0,1.0,0.0,1.0,1.0,1.0,1.0,0.0,null,1.0,1.0,1.0,null,1.0,1.0,null,1.0,1.0,1.0,1.0,1.0,1.0,1.0,1.0,null,1.0,1.0,1.0,1.0,1.0,1.0,1.0,1.0,1.0,1.0,1.0,0.0,1.0,1.0,1.0,0.0,1.0,1.0,1.0,1.0,null,1.0,1.0,1.0,1.0,0.0,1.0,1.0,null,1.0,0.0,null,null,1.0,1.0,1.0,1.0,1.0,1.0,1.0,0.0,1.0,1.0,1.0,1.0,1.0,1.0,1.0,1.0,1.0,1.0,1.0,0.0,1.0,1.0,1.0,1.0,0.0,null,1.0,1.0,1.0,1.0,1.0,0.0,1.0,1.0,1.0,1.0,1.0,0.0,1.0,1.0,1.0,1.0,1.0,1.0,1.0,0.0,1.0,0.0,0.0,null,1.0,1.0,1.0,1.0,0.0,null,1.0,1.0,1.0,1.0,1.0,1.0,1.0,1.0,1.0,null,1.0,1.0,0.0,1.0,1.0,1.0,1.0,1.0,1.0,1.0,1.0,1.0,0.0,1.0,1.0,1.0,1.0,1.0,1.0,0.0,null,0.0,1.0,1.0,1.0,1.0,1.0,1.0,1.0,1.0,1.0,1.0,1.0,1.0,1.0,1.0,null,null,1.0,1.0,1.0,1.0,1.0,1.0,1.0,1.0,1.0,1.0,1.0,1.0,0.0,1.0,1.0,1.0,0.0,1.0,0.0,1.0,1.0,null,null,1.0,1.0,1.0,1.0,1.0,1.0,0.0,1.0,1.0,1.0,1.0,1.0,1.0,1.0,1.0,1.0,1.0,1.0,null,0.0,1.0,1.0,1.0,1.0,1.0,1.0,1.0,1.0,1.0,1.0,0.0,1.0,0.0,1.0,1.0,1.0,1.0,1.0,1.0,0.0,1.0,1.0,1.0,1.0,1.0,1.0,0.0,1.0,null,1.0,1.0,1.0,null,1.0,1.0,null,null,1.0,1.0,1.0,1.0,null,1.0,0.0,0.0,1.0,1.0,1.0,1.0,1.0,1.0,1.0,1.0,1.0,1.0,0.0,1.0,1.0,1.0,1.0,1.0,1.0,1.0,0.0,1.0,null,1.0,1.0,1.0,1.0,0.0,1.0,1.0,1.0,1.0,0.0,1.0,1.0,1.0,1.0,null,1.0,1.0,1.0,0.0,1.0,1.0,1.0,1.0,1.0,0.0,1.0,1.0,1.0,null,1.0,1.0,1.0,1.0,1.0,1.0,1.0,1.0,1.0,0.0,1.0,1.0,1.0,1.0,null,1.0,1.0,null,0.0,1.0,1.0,0.0,0.0,1.0,1.0,1.0,1.0,1.0,1.0,1.0,0.0,0.0,1.0,null,0.0,1.0,0.0,1.0,1.0,1.0,1.0,1.0,1.0,0.0,1.0,0.0,1.0,1.0,1.0,1.0,1.0,1.0,1.0,0.0,1.0,1.0,1.0,1.0,1.0,0.0,1.0,1.0,1.0,1.0,1.0,null,1.0,1.0,1.0,0.0,null,0.0,null,0.0,0.0,1.0,1.0,1.0,1.0,1.0,1.0,1.0,1.0,1.0,0.0,1.0,0.0,1.0,1.0,1.0,0.0,1.0,null,1.0,1.0,1.0,1.0,1.0,1.0,1.0,1.0,1.0,1.0,1.0,0.0,1.0,1.0,1.0,null,null,1.0,1.0,0.0,1.0,1.0,null,1.0,0.0,1.0,1.0,1.0,null,1.0,1.0,null,1.0,1.0,1.0,1.0,1.0,1.0,1.0,1.0,1.0,0.0,1.0,1.0,1.0,1.0,1.0,1.0,1.0,1.0,1.0,0.0,1.0,1.0,null,1.0,0.0,null,1.0,1.0,1.0,1.0,1.0,1.0,1.0,0.0,1.0,1.0,null,1.0,1.0,1.0,0.0,1.0,0.0,1.0,1.0,0.0,0.0,1.0,null,1.0,1.0,1.0,1.0,1.0,1.0,1.0,0.0,null,1.0,0.0,1.0,0.0,1.0,0.0,1.0,1.0,1.0,1.0,1.0,1.0,1.0,1.0,1.0,1.0,null,0.0,1.0,1.0,1.0,0.0,1.0,1.0,1.0,1.0,1.0,1.0,0.0,1.0,1.0,null,1.0,1.0,1.0,1.0,1.0,1.0,1.0,1.0,1.0,1.0,1.0,1.0,0.0],\"y0\":\" \",\"yaxis\":\"y\",\"type\":\"box\"}],                        {\"template\":{\"data\":{\"histogram2dcontour\":[{\"type\":\"histogram2dcontour\",\"colorbar\":{\"outlinewidth\":0,\"ticks\":\"\"},\"colorscale\":[[0.0,\"#0d0887\"],[0.1111111111111111,\"#46039f\"],[0.2222222222222222,\"#7201a8\"],[0.3333333333333333,\"#9c179e\"],[0.4444444444444444,\"#bd3786\"],[0.5555555555555556,\"#d8576b\"],[0.6666666666666666,\"#ed7953\"],[0.7777777777777778,\"#fb9f3a\"],[0.8888888888888888,\"#fdca26\"],[1.0,\"#f0f921\"]]}],\"choropleth\":[{\"type\":\"choropleth\",\"colorbar\":{\"outlinewidth\":0,\"ticks\":\"\"}}],\"histogram2d\":[{\"type\":\"histogram2d\",\"colorbar\":{\"outlinewidth\":0,\"ticks\":\"\"},\"colorscale\":[[0.0,\"#0d0887\"],[0.1111111111111111,\"#46039f\"],[0.2222222222222222,\"#7201a8\"],[0.3333333333333333,\"#9c179e\"],[0.4444444444444444,\"#bd3786\"],[0.5555555555555556,\"#d8576b\"],[0.6666666666666666,\"#ed7953\"],[0.7777777777777778,\"#fb9f3a\"],[0.8888888888888888,\"#fdca26\"],[1.0,\"#f0f921\"]]}],\"heatmap\":[{\"type\":\"heatmap\",\"colorbar\":{\"outlinewidth\":0,\"ticks\":\"\"},\"colorscale\":[[0.0,\"#0d0887\"],[0.1111111111111111,\"#46039f\"],[0.2222222222222222,\"#7201a8\"],[0.3333333333333333,\"#9c179e\"],[0.4444444444444444,\"#bd3786\"],[0.5555555555555556,\"#d8576b\"],[0.6666666666666666,\"#ed7953\"],[0.7777777777777778,\"#fb9f3a\"],[0.8888888888888888,\"#fdca26\"],[1.0,\"#f0f921\"]]}],\"heatmapgl\":[{\"type\":\"heatmapgl\",\"colorbar\":{\"outlinewidth\":0,\"ticks\":\"\"},\"colorscale\":[[0.0,\"#0d0887\"],[0.1111111111111111,\"#46039f\"],[0.2222222222222222,\"#7201a8\"],[0.3333333333333333,\"#9c179e\"],[0.4444444444444444,\"#bd3786\"],[0.5555555555555556,\"#d8576b\"],[0.6666666666666666,\"#ed7953\"],[0.7777777777777778,\"#fb9f3a\"],[0.8888888888888888,\"#fdca26\"],[1.0,\"#f0f921\"]]}],\"contourcarpet\":[{\"type\":\"contourcarpet\",\"colorbar\":{\"outlinewidth\":0,\"ticks\":\"\"}}],\"contour\":[{\"type\":\"contour\",\"colorbar\":{\"outlinewidth\":0,\"ticks\":\"\"},\"colorscale\":[[0.0,\"#0d0887\"],[0.1111111111111111,\"#46039f\"],[0.2222222222222222,\"#7201a8\"],[0.3333333333333333,\"#9c179e\"],[0.4444444444444444,\"#bd3786\"],[0.5555555555555556,\"#d8576b\"],[0.6666666666666666,\"#ed7953\"],[0.7777777777777778,\"#fb9f3a\"],[0.8888888888888888,\"#fdca26\"],[1.0,\"#f0f921\"]]}],\"surface\":[{\"type\":\"surface\",\"colorbar\":{\"outlinewidth\":0,\"ticks\":\"\"},\"colorscale\":[[0.0,\"#0d0887\"],[0.1111111111111111,\"#46039f\"],[0.2222222222222222,\"#7201a8\"],[0.3333333333333333,\"#9c179e\"],[0.4444444444444444,\"#bd3786\"],[0.5555555555555556,\"#d8576b\"],[0.6666666666666666,\"#ed7953\"],[0.7777777777777778,\"#fb9f3a\"],[0.8888888888888888,\"#fdca26\"],[1.0,\"#f0f921\"]]}],\"mesh3d\":[{\"type\":\"mesh3d\",\"colorbar\":{\"outlinewidth\":0,\"ticks\":\"\"}}],\"scatter\":[{\"fillpattern\":{\"fillmode\":\"overlay\",\"size\":10,\"solidity\":0.2},\"type\":\"scatter\"}],\"parcoords\":[{\"type\":\"parcoords\",\"line\":{\"colorbar\":{\"outlinewidth\":0,\"ticks\":\"\"}}}],\"scatterpolargl\":[{\"type\":\"scatterpolargl\",\"marker\":{\"colorbar\":{\"outlinewidth\":0,\"ticks\":\"\"}}}],\"bar\":[{\"error_x\":{\"color\":\"#2a3f5f\"},\"error_y\":{\"color\":\"#2a3f5f\"},\"marker\":{\"line\":{\"color\":\"#E5ECF6\",\"width\":0.5},\"pattern\":{\"fillmode\":\"overlay\",\"size\":10,\"solidity\":0.2}},\"type\":\"bar\"}],\"scattergeo\":[{\"type\":\"scattergeo\",\"marker\":{\"colorbar\":{\"outlinewidth\":0,\"ticks\":\"\"}}}],\"scatterpolar\":[{\"type\":\"scatterpolar\",\"marker\":{\"colorbar\":{\"outlinewidth\":0,\"ticks\":\"\"}}}],\"histogram\":[{\"marker\":{\"pattern\":{\"fillmode\":\"overlay\",\"size\":10,\"solidity\":0.2}},\"type\":\"histogram\"}],\"scattergl\":[{\"type\":\"scattergl\",\"marker\":{\"colorbar\":{\"outlinewidth\":0,\"ticks\":\"\"}}}],\"scatter3d\":[{\"type\":\"scatter3d\",\"line\":{\"colorbar\":{\"outlinewidth\":0,\"ticks\":\"\"}},\"marker\":{\"colorbar\":{\"outlinewidth\":0,\"ticks\":\"\"}}}],\"scattermapbox\":[{\"type\":\"scattermapbox\",\"marker\":{\"colorbar\":{\"outlinewidth\":0,\"ticks\":\"\"}}}],\"scatterternary\":[{\"type\":\"scatterternary\",\"marker\":{\"colorbar\":{\"outlinewidth\":0,\"ticks\":\"\"}}}],\"scattercarpet\":[{\"type\":\"scattercarpet\",\"marker\":{\"colorbar\":{\"outlinewidth\":0,\"ticks\":\"\"}}}],\"carpet\":[{\"aaxis\":{\"endlinecolor\":\"#2a3f5f\",\"gridcolor\":\"white\",\"linecolor\":\"white\",\"minorgridcolor\":\"white\",\"startlinecolor\":\"#2a3f5f\"},\"baxis\":{\"endlinecolor\":\"#2a3f5f\",\"gridcolor\":\"white\",\"linecolor\":\"white\",\"minorgridcolor\":\"white\",\"startlinecolor\":\"#2a3f5f\"},\"type\":\"carpet\"}],\"table\":[{\"cells\":{\"fill\":{\"color\":\"#EBF0F8\"},\"line\":{\"color\":\"white\"}},\"header\":{\"fill\":{\"color\":\"#C8D4E3\"},\"line\":{\"color\":\"white\"}},\"type\":\"table\"}],\"barpolar\":[{\"marker\":{\"line\":{\"color\":\"#E5ECF6\",\"width\":0.5},\"pattern\":{\"fillmode\":\"overlay\",\"size\":10,\"solidity\":0.2}},\"type\":\"barpolar\"}],\"pie\":[{\"automargin\":true,\"type\":\"pie\"}]},\"layout\":{\"autotypenumbers\":\"strict\",\"colorway\":[\"#636efa\",\"#EF553B\",\"#00cc96\",\"#ab63fa\",\"#FFA15A\",\"#19d3f3\",\"#FF6692\",\"#B6E880\",\"#FF97FF\",\"#FECB52\"],\"font\":{\"color\":\"#2a3f5f\"},\"hovermode\":\"closest\",\"hoverlabel\":{\"align\":\"left\"},\"paper_bgcolor\":\"white\",\"plot_bgcolor\":\"#E5ECF6\",\"polar\":{\"bgcolor\":\"#E5ECF6\",\"angularaxis\":{\"gridcolor\":\"white\",\"linecolor\":\"white\",\"ticks\":\"\"},\"radialaxis\":{\"gridcolor\":\"white\",\"linecolor\":\"white\",\"ticks\":\"\"}},\"ternary\":{\"bgcolor\":\"#E5ECF6\",\"aaxis\":{\"gridcolor\":\"white\",\"linecolor\":\"white\",\"ticks\":\"\"},\"baxis\":{\"gridcolor\":\"white\",\"linecolor\":\"white\",\"ticks\":\"\"},\"caxis\":{\"gridcolor\":\"white\",\"linecolor\":\"white\",\"ticks\":\"\"}},\"coloraxis\":{\"colorbar\":{\"outlinewidth\":0,\"ticks\":\"\"}},\"colorscale\":{\"sequential\":[[0.0,\"#0d0887\"],[0.1111111111111111,\"#46039f\"],[0.2222222222222222,\"#7201a8\"],[0.3333333333333333,\"#9c179e\"],[0.4444444444444444,\"#bd3786\"],[0.5555555555555556,\"#d8576b\"],[0.6666666666666666,\"#ed7953\"],[0.7777777777777778,\"#fb9f3a\"],[0.8888888888888888,\"#fdca26\"],[1.0,\"#f0f921\"]],\"sequentialminus\":[[0.0,\"#0d0887\"],[0.1111111111111111,\"#46039f\"],[0.2222222222222222,\"#7201a8\"],[0.3333333333333333,\"#9c179e\"],[0.4444444444444444,\"#bd3786\"],[0.5555555555555556,\"#d8576b\"],[0.6666666666666666,\"#ed7953\"],[0.7777777777777778,\"#fb9f3a\"],[0.8888888888888888,\"#fdca26\"],[1.0,\"#f0f921\"]],\"diverging\":[[0,\"#8e0152\"],[0.1,\"#c51b7d\"],[0.2,\"#de77ae\"],[0.3,\"#f1b6da\"],[0.4,\"#fde0ef\"],[0.5,\"#f7f7f7\"],[0.6,\"#e6f5d0\"],[0.7,\"#b8e186\"],[0.8,\"#7fbc41\"],[0.9,\"#4d9221\"],[1,\"#276419\"]]},\"xaxis\":{\"gridcolor\":\"white\",\"linecolor\":\"white\",\"ticks\":\"\",\"title\":{\"standoff\":15},\"zerolinecolor\":\"white\",\"automargin\":true,\"zerolinewidth\":2},\"yaxis\":{\"gridcolor\":\"white\",\"linecolor\":\"white\",\"ticks\":\"\",\"title\":{\"standoff\":15},\"zerolinecolor\":\"white\",\"automargin\":true,\"zerolinewidth\":2},\"scene\":{\"xaxis\":{\"backgroundcolor\":\"#E5ECF6\",\"gridcolor\":\"white\",\"linecolor\":\"white\",\"showbackground\":true,\"ticks\":\"\",\"zerolinecolor\":\"white\",\"gridwidth\":2},\"yaxis\":{\"backgroundcolor\":\"#E5ECF6\",\"gridcolor\":\"white\",\"linecolor\":\"white\",\"showbackground\":true,\"ticks\":\"\",\"zerolinecolor\":\"white\",\"gridwidth\":2},\"zaxis\":{\"backgroundcolor\":\"#E5ECF6\",\"gridcolor\":\"white\",\"linecolor\":\"white\",\"showbackground\":true,\"ticks\":\"\",\"zerolinecolor\":\"white\",\"gridwidth\":2}},\"shapedefaults\":{\"line\":{\"color\":\"#2a3f5f\"}},\"annotationdefaults\":{\"arrowcolor\":\"#2a3f5f\",\"arrowhead\":0,\"arrowwidth\":1},\"geo\":{\"bgcolor\":\"white\",\"landcolor\":\"#E5ECF6\",\"subunitcolor\":\"white\",\"showland\":true,\"showlakes\":true,\"lakecolor\":\"white\"},\"title\":{\"x\":0.05},\"mapbox\":{\"style\":\"light\"}}},\"xaxis\":{\"anchor\":\"y\",\"domain\":[0.0,1.0],\"title\":{\"text\":\"variable\"}},\"yaxis\":{\"anchor\":\"x\",\"domain\":[0.0,1.0],\"title\":{\"text\":\"value\"}},\"legend\":{\"tracegroupgap\":0},\"title\":{\"text\":\"Outliers in Credit_History\"},\"boxmode\":\"group\"},                        {\"responsive\": true}                    ).then(function(){\n",
       "                            \n",
       "var gd = document.getElementById('54f38d35-223a-4ef1-a99b-d7ded06c0945');\n",
       "var x = new MutationObserver(function (mutations, observer) {{\n",
       "        var display = window.getComputedStyle(gd).display;\n",
       "        if (!display || display === 'none') {{\n",
       "            console.log([gd, 'removed!']);\n",
       "            Plotly.purge(gd);\n",
       "            observer.disconnect();\n",
       "        }}\n",
       "}});\n",
       "\n",
       "// Listen for the removal of the full notebook cells\n",
       "var notebookContainer = gd.closest('#notebook-container');\n",
       "if (notebookContainer) {{\n",
       "    x.observe(notebookContainer, {childList: true});\n",
       "}}\n",
       "\n",
       "// Listen for the clearing of the current output cell\n",
       "var outputEl = gd.closest('.output');\n",
       "if (outputEl) {{\n",
       "    x.observe(outputEl, {childList: true});\n",
       "}}\n",
       "\n",
       "                        })                };                });            </script>        </div>"
      ]
     },
     "metadata": {},
     "output_type": "display_data"
    }
   ],
   "source": [
    "for column in df.columns:\n",
    "    if column in numeric_columns:\n",
    "        fig = px.box(df[column], points=\"all\", title=f\"Outliers in {column}\")\n",
    "        fig.show()"
   ]
  }
 ],
 "metadata": {
  "kernelspec": {
   "display_name": "Python 3 (ipykernel)",
   "language": "python",
   "name": "python3"
  },
  "language_info": {
   "codemirror_mode": {
    "name": "ipython",
    "version": 3
   },
   "file_extension": ".py",
   "mimetype": "text/x-python",
   "name": "python",
   "nbconvert_exporter": "python",
   "pygments_lexer": "ipython3",
   "version": "3.9.12"
  }
 },
 "nbformat": 4,
 "nbformat_minor": 5
}
