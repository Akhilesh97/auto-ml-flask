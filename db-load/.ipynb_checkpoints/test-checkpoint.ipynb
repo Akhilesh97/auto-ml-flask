{
 "cells": [
  {
   "cell_type": "code",
   "execution_count": 1,
   "id": "15188da9",
   "metadata": {},
   "outputs": [],
   "source": [
    "import pandas as pd"
   ]
  },
  {
   "cell_type": "code",
   "execution_count": 2,
   "id": "432edde5",
   "metadata": {},
   "outputs": [],
   "source": [
    "df = pd.read_csv(\"LoanApprovalPrediction.csv\")"
   ]
  },
  {
   "cell_type": "code",
   "execution_count": 3,
   "id": "09f9d9fe",
   "metadata": {},
   "outputs": [
    {
     "name": "stderr",
     "output_type": "stream",
     "text": [
      "C:\\Users\\Akhilesh\\AppData\\Local\\Temp\\ipykernel_34984\\2899975127.py:1: FutureWarning: Setting an item of incompatible dtype is deprecated and will raise in a future error of pandas. Value '-' has dtype incompatible with float64, please explicitly cast to a compatible dtype first.\n",
      "  df['Dependents'].fillna('-',inplace=True)\n",
      "C:\\Users\\Akhilesh\\AppData\\Local\\Temp\\ipykernel_34984\\2899975127.py:2: FutureWarning: Setting an item of incompatible dtype is deprecated and will raise in a future error of pandas. Value '-' has dtype incompatible with float64, please explicitly cast to a compatible dtype first.\n",
      "  df['Loan_Amount_Term'].fillna('-',inplace=True)\n",
      "C:\\Users\\Akhilesh\\AppData\\Local\\Temp\\ipykernel_34984\\2899975127.py:3: FutureWarning: Setting an item of incompatible dtype is deprecated and will raise in a future error of pandas. Value '-' has dtype incompatible with float64, please explicitly cast to a compatible dtype first.\n",
      "  df['Credit_History'].fillna('-',inplace=True)\n"
     ]
    }
   ],
   "source": [
    "df['Dependents'].fillna('-',inplace=True)\n",
    "df['Loan_Amount_Term'].fillna('-',inplace=True)\n",
    "df['Credit_History'].fillna('-',inplace=True)"
   ]
  },
  {
   "cell_type": "code",
   "execution_count": 4,
   "id": "5615daa5",
   "metadata": {},
   "outputs": [],
   "source": [
    "df.fillna(0, inplace = True)"
   ]
  },
  {
   "cell_type": "code",
   "execution_count": 6,
   "id": "51dc4ceb",
   "metadata": {},
   "outputs": [],
   "source": [
    "#!pip install SQLAlchemy==2.0.7"
   ]
  },
  {
   "cell_type": "code",
   "execution_count": 5,
   "id": "a4f2f915",
   "metadata": {},
   "outputs": [],
   "source": [
    "from google.cloud.sql.connector import Connector\n",
    "import sqlalchemy"
   ]
  },
  {
   "cell_type": "code",
   "execution_count": 7,
   "id": "ac52c411",
   "metadata": {},
   "outputs": [
    {
     "data": {
      "text/plain": [
       "'2.0.7'"
      ]
     },
     "execution_count": 7,
     "metadata": {},
     "output_type": "execute_result"
    }
   ],
   "source": [
    "sqlalchemy.__version__"
   ]
  },
  {
   "cell_type": "code",
   "execution_count": 7,
   "id": "4c2279ad",
   "metadata": {},
   "outputs": [
    {
     "name": "stdout",
     "output_type": "stream",
     "text": [
      "Your instance connection name is: dazzling-tensor-405719:us-central1:auto-ml\n"
     ]
    }
   ],
   "source": [
    "INSTANCE_CONNECTION_NAME = \"dazzling-tensor-405719:us-central1:auto-ml\" # i.e demo-project:us-central1:demo-instance\n",
    "print(f\"Your instance connection name is: {INSTANCE_CONNECTION_NAME}\")\n",
    "DB_USER = \"postgres\"\n",
    "DB_PASS = \"}gL<t,[bmnSzF-s:\"\n",
    "DB_NAME = \"loan-app\""
   ]
  },
  {
   "cell_type": "code",
   "execution_count": 9,
   "id": "372a7f78",
   "metadata": {},
   "outputs": [],
   "source": [
    "#!pip install pg8000"
   ]
  },
  {
   "cell_type": "code",
   "execution_count": 8,
   "id": "ecea8e1c",
   "metadata": {},
   "outputs": [],
   "source": [
    "# function to return the database connection object\n",
    "connector = Connector()\n",
    "\n",
    "def getconn():\n",
    "    conn = connector.connect(\n",
    "        INSTANCE_CONNECTION_NAME,\n",
    "        \"pg8000\",\n",
    "        user=DB_USER,\n",
    "        password=DB_PASS,\n",
    "        db=DB_NAME\n",
    "    )\n",
    "    return conn\n",
    "\n",
    "# create connection pool with 'creator' argument to our connection object function\n",
    "pool = sqlalchemy.create_engine(\n",
    "    \"postgresql+pg8000://\",\n",
    "    creator=getconn,\n",
    ")"
   ]
  },
  {
   "cell_type": "code",
   "execution_count": 9,
   "id": "4dbff929",
   "metadata": {},
   "outputs": [],
   "source": [
    "import os"
   ]
  },
  {
   "cell_type": "code",
   "execution_count": 10,
   "id": "c064a907",
   "metadata": {},
   "outputs": [],
   "source": [
    "os.environ['GOOGLE_APPLICATION_CREDENTIALS'] = \"dazzling-tensor-405719-b0b850808aff.json\""
   ]
  },
  {
   "cell_type": "code",
   "execution_count": 11,
   "id": "3d61b14c",
   "metadata": {},
   "outputs": [
    {
     "data": {
      "text/plain": [
       "598"
      ]
     },
     "execution_count": 11,
     "metadata": {},
     "output_type": "execute_result"
    }
   ],
   "source": [
    "df.to_sql(\"loan_approvals\", pool, if_exists=\"replace\", index=False)"
   ]
  },
  {
   "cell_type": "code",
   "execution_count": 12,
   "id": "e35b1bd9",
   "metadata": {},
   "outputs": [
    {
     "name": "stdout",
     "output_type": "stream",
     "text": [
      "DO $$ DECLARE\n",
      "rec RECORD;\n",
      "BEGIN\n",
      "\tFOR rec IN (\n",
      "\tSELECT\n",
      "\t\ttablename\n",
      "\tFROM\n",
      "\t\tpg_tables\n",
      "\tWHERE\n",
      "\t\tschemaname = 'public') LOOP\n",
      "EXECUTE 'DROP TABLE IF EXISTS ' || rec.tablename || ' CASCADE';\n",
      "END LOOP;\n",
      "END $$;\n",
      "\n",
      "CREATE TABLE loan_approvals (\n",
      "    \"Loan_ID\" VARCHAR,\n",
      "    \"Gender\" VARCHAR,\n",
      "    \"Married\" VARCHAR,\n",
      "    \"Dependents\" VARCHAR,\n",
      "    \"Education\" VARCHAR,\n",
      "    \"Self_Employed\" VARCHAR,\n",
      "    \"ApplicantIncome\" NUMERIC(6),\n",
      "    \"CoapplicantIncome\" NUMERIC(6),\n",
      "    \"LoanAmount\" NUMERIC(3),\n",
      "    \"Loan_Amount_Term\" VARCHAR,\n",
      "    \"Credit_History\" VARCHAR,\n",
      "    \"Property_Area\" VARCHAR,\n",
      "    \"Loan_Status\" VARCHAR\n",
      ");\n",
      "\n",
      "CREATE TABLE dim_gender (\n",
      "    \"Gender_ID\" SERIAL PRIMARY KEY,\n",
      "    \"Gender\" VARCHAR\n",
      ");\n",
      "\n",
      "CREATE TABLE dim_married (\n",
      "    \"Married_ID\" SERIAL PRIMARY KEY,\n",
      "    \"Married\" VARCHAR\n",
      ");\n",
      "\n",
      "CREATE TABLE dim_dependents (\n",
      "    \"Dependents_ID\" SERIAL PRIMARY KEY,\n",
      "    \"Dependents\" VARCHAR\n",
      ");\n",
      "\n",
      "CREATE TABLE dim_education (\n",
      "   \"Education_ID\" SERIAL PRIMARY KEY,\n",
      "   \"Education\" VARCHAR\n",
      ");\n",
      "\n",
      "CREATE TABLE dim_self_employed (\n",
      "    \"Self_Employed_ID\" SERIAL PRIMARY KEY,\n",
      "    \"Self_Employed\" VARCHAR\n",
      ");\n",
      "\n",
      "CREATE TABLE dim_loan_amount_term (\n",
      "    \"Loan_Amount_Term_ID\" SERIAL PRIMARY KEY,\n",
      "    \"Loan_Amount_Term\" VARCHAR\n",
      ");\n",
      "\n",
      "CREATE TABLE dim_property_area (\n",
      "    \"Property_Area_ID\" SERIAL PRIMARY KEY,\n",
      "    \"Property_Area\" VARCHAR\n",
      ");\n",
      "\n",
      "CREATE TABLE dim_loan_status (\n",
      "    \"Loan_Status_ID\" SERIAL PRIMARY KEY,\n",
      "    \"Loan_Status\" VARCHAR\n",
      ");\n",
      "\n",
      "CREATE TABLE dim_credit_history (\n",
      "    \"Credit_History_ID\" SERIAL PRIMARY KEY,\n",
      "    \"Credit_History\" VARCHAR\n",
      ");\n",
      "\n",
      "CREATE TABLE fct_loan_approvals (\n",
      "    \"Loan_ID\" VARCHAR,\n",
      "    \"Gender_ID\" SERIAL REFERENCES dim_gender(\"Gender_ID\"),\n",
      "    \"Married_ID\" SERIAL REFERENCES dim_married(\"Married_ID\"),\n",
      "    \"Dependents_ID\" SERIAL REFERENCES dim_dependents(\"Dependents_ID\"),\n",
      "    \"Education_ID\" SERIAL REFERENCES dim_education(\"Education_ID\"),\n",
      "    \"Self_Employed_ID\" SERIAL REFERENCES dim_self_employed(\"Self_Employed_ID\"),\n",
      "    \"ApplicantIncome\" NUMERIC(6),\n",
      "    \"CoapplicantIncome\" NUMERIC(6),\n",
      "    \"LoanAmount\" NUMERIC(3),\n",
      "    \"Loan_Amount_Term_ID\" SERIAL REFERENCES dim_loan_amount_term(\"Loan_Amount_Term_ID\"),\n",
      "    \"Credit_History_ID\" SERIAL REFERENCES dim_credit_history(\"Credit_History_ID\"),\n",
      "    \"Property_Area_ID\" SERIAL REFERENCES dim_property_area(\"Property_Area_ID\"),\n",
      "    \"Loan_Status_ID\" SERIAL REFERENCES dim_loan_status(\"Loan_Status_ID\")\n",
      ");\n"
     ]
    }
   ],
   "source": [
    "with pool.connect() as db_conn:\n",
    "  # create ratings table in our sandwiches database\n",
    "    with open(\"db/init.sql\") as file:\n",
    "        query = sqlalchemy.sql.text(file.read())\n",
    "        print(query)\n",
    "        db_conn.execute(query)\n",
    "        db_conn.commit()\n"
   ]
  },
  {
   "cell_type": "code",
   "execution_count": 13,
   "id": "d9abd3f2",
   "metadata": {},
   "outputs": [
    {
     "name": "stdout",
     "output_type": "stream",
     "text": [
      "--Populate Gender Dimension Table\n",
      "insert\n",
      "\tinto\n",
      "\tdim_gender (\"Gender\")\n",
      "select\n",
      "\tdistinct on\n",
      "\t(\"Gender\") \"Gender\"\n",
      "from\n",
      "\tloan_approvals;\n",
      "\n",
      "--Populate Married Dimension Table\n",
      "insert\n",
      "\tinto\n",
      "\tdim_married (\"Married\")\n",
      "select\n",
      "\tdistinct on\n",
      "\t(\"Married\") \"Married\"\n",
      "from\n",
      "\tloan_approvals;\n",
      "\n",
      "--Populate Dependents Dimension Table\n",
      "insert\n",
      "\tinto\n",
      "\tdim_dependents (\"Dependents\")\n",
      "select\n",
      "\tdistinct on\n",
      "\t(\"Dependents\") \"Dependents\"\n",
      "from\n",
      "\tloan_approvals;\n",
      "\n",
      "--Populate Education Dimension Table\n",
      "insert\n",
      "\tinto\n",
      "\tdim_education (\"Education\")\n",
      "select\n",
      "\tdistinct on\n",
      "\t(\"Education\") \"Education\"\n",
      "from\n",
      "\tloan_approvals;\n",
      "\n",
      "--Populate Self Employed Dimension Table\n",
      "insert\n",
      "\tinto\n",
      "\tdim_self_employed (\"Self_Employed\")\n",
      "select\n",
      "\tdistinct on\n",
      "\t(\"Self_Employed\") \"Self_Employed\"\n",
      "from\n",
      "\tloan_approvals;\n",
      "\n",
      "--Populate Loan Amount Term Dimension Table\n",
      "insert\n",
      "\tinto\n",
      "\tdim_loan_amount_term (\"Loan_Amount_Term\")\n",
      "select\n",
      "\tdistinct on\n",
      "\t(\"Loan_Amount_Term\") \"Loan_Amount_Term\"\n",
      "from\n",
      "\tloan_approvals;\n",
      "\n",
      "--Populate Property Area Dimension Table\n",
      "insert\n",
      "\tinto\n",
      "\tdim_property_area (\"Property_Area\")\n",
      "select\n",
      "\tdistinct on\n",
      "\t(\"Property_Area\") \"Property_Area\"\n",
      "from\n",
      "\tloan_approvals;\n",
      "\n",
      "--Populate Loan Status Dimension Table\n",
      "insert\n",
      "\tinto\n",
      "\tdim_loan_status (\"Loan_Status\")\n",
      "select\n",
      "\tdistinct on\n",
      "\t(\"Loan_Status\") \"Loan_Status\"\n",
      "from\n",
      "\tloan_approvals;\n",
      "\n",
      "--Populate Credit History Dimension Table\n",
      "insert\n",
      "\tinto\n",
      "\tdim_credit_history (\"Credit_History\")\n",
      "select\n",
      "\tdistinct on\n",
      "\t(\"Credit_History\") \"Credit_History\"\n",
      "from\n",
      "\tloan_approvals;\n",
      "\n",
      "--Populate Loan Approvals Fact Table\n",
      "insert\n",
      "\tinto\n",
      "\tfct_loan_approvals (\"Loan_ID\",\n",
      "    \"Gender_ID\",\n",
      "    \"Married_ID\",\n",
      "    \"Dependents_ID\",\n",
      "    \"Education_ID\",\n",
      "    \"Self_Employed_ID\",\n",
      "    \"ApplicantIncome\",\n",
      "    \"CoapplicantIncome\",\n",
      "    \"LoanAmount\",\n",
      "    \"Loan_Amount_Term_ID\",\n",
      "    \"Credit_History_ID\",\n",
      "    \"Property_Area_ID\",\n",
      "    \"Loan_Status_ID\")\n",
      "select\n",
      "    la.\"Loan_ID\",\n",
      "    dg.\"Gender_ID\",\n",
      "    dm.\"Married_ID\",\n",
      "    dd.\"Dependents_ID\",\n",
      "    de.\"Education_ID\",\n",
      "    dse.\"Self_Employed_ID\",\n",
      "    la.\"ApplicantIncome\",\n",
      "    la.\"CoapplicantIncome\",\n",
      "    la.\"LoanAmount\",\n",
      "    dlat.\"Loan_Amount_Term_ID\",\n",
      "    dch.\"Credit_History_ID\",\n",
      "    dpa.\"Property_Area_ID\",\n",
      "    dls.\"Loan_Status_ID\"\n",
      "from\n",
      "    loan_approvals la,\n",
      "    dim_gender dg,\n",
      "    dim_married dm,\n",
      "    dim_dependents dd,\n",
      "    dim_education de,\n",
      "    dim_loan_amount_term dlat,\n",
      "    dim_loan_status dls,\n",
      "    dim_property_area dpa,\n",
      "    dim_self_employed dse,\n",
      "    dim_credit_history dch\n",
      "where\n",
      "\n",
      "\tla.\"Gender\" = dg.\"Gender\"\n",
      "\tand la.\"Married\" = dm.\"Married\"\n",
      "\tand la.\"Dependents\" = dd.\"Dependents\"\n",
      "    and la.\"Education\" = de.\"Education\"\n",
      "    and la.\"Self_Employed\" = dse.\"Self_Employed\"\n",
      "\tand la.\"Loan_Amount_Term\" = dlat.\"Loan_Amount_Term\"\n",
      "\tand la.\"Property_Area\" = dpa.\"Property_Area\"\n",
      "    and la.\"Loan_Status\" = dls.\"Loan_Status\"\n",
      "    and la.\"Credit_History\" = dch.\"Credit_History\";\n",
      "\n",
      "--Commit changes to data warehouse else above commands will not reflect in DBeaver    \n",
      "COMMIT;\n"
     ]
    }
   ],
   "source": [
    "with pool.connect() as db_conn:\n",
    "    with open(\"db/load_data.sql\") as file:\n",
    "        query = sqlalchemy.sql.text(file.read())\n",
    "        print(query)\n",
    "        db_conn.execute(query)\n",
    "        db_conn.commit()\n",
    "        "
   ]
  },
  {
   "cell_type": "code",
   "execution_count": 19,
   "id": "d8e2fdb3",
   "metadata": {},
   "outputs": [
    {
     "name": "stdout",
     "output_type": "stream",
     "text": [
      "[]\n"
     ]
    }
   ],
   "source": [
    "with pool.connect() as db_conn:\n",
    "    # query and fetch ratings table\n",
    "    results = db_conn.execute(sqlalchemy.text(\"SELECT * FROM loan_approvals\")).fetchall()\n",
    "    # show results\n",
    "    print(results)\n",
    "    for row in results:\n",
    "        print(row)"
   ]
  },
  {
   "cell_type": "code",
   "execution_count": 57,
   "id": "79243a99",
   "metadata": {},
   "outputs": [
    {
     "name": "stdout",
     "output_type": "stream",
     "text": [
      "Collecting sqlparse\n",
      "  Downloading sqlparse-0.4.4-py3-none-any.whl (41 kB)\n",
      "Installing collected packages: sqlparse\n",
      "Successfully installed sqlparse-0.4.4\n"
     ]
    }
   ],
   "source": [
    "!pip install sqlparse\n",
    "import sqlparse\n"
   ]
  },
  {
   "cell_type": "code",
   "execution_count": 78,
   "id": "15aef92d",
   "metadata": {},
   "outputs": [],
   "source": [
    "import re\n",
    "def extract_table_names(sql_content):\n",
    "    table_names = set()\n",
    "\n",
    "    # Use regular expression to find CREATE TABLE statements\n",
    "    create_table_regex = re.compile(r'CREATE TABLE\\s+\"?(\\w+)\"?\\s*\\(', re.IGNORECASE)\n",
    "\n",
    "    matches = create_table_regex.findall(sql_content)\n",
    "    table_names.update(matches)\n",
    "\n",
    "    return table_names\n",
    "\n",
    "# Replace this variable with the path to your SQL file\n",
    "sql_file_path = 'db/init.sql'\n",
    "\n",
    "# Read the SQL file\n",
    "with open(sql_file_path, 'r') as sql_file:\n",
    "    sql_content = sql_file.read()\n",
    "\n",
    "# Extract table names from the SQL file\n",
    "table_names = extract_table_names(sql_content)"
   ]
  },
  {
   "cell_type": "code",
   "execution_count": 79,
   "id": "59a46920",
   "metadata": {},
   "outputs": [
    {
     "data": {
      "text/plain": [
       "{'dim_credit_history',\n",
       " 'dim_dependents',\n",
       " 'dim_education',\n",
       " 'dim_gender',\n",
       " 'dim_loan_amount_term',\n",
       " 'dim_loan_status',\n",
       " 'dim_married',\n",
       " 'dim_property_area',\n",
       " 'dim_self_employed',\n",
       " 'fct_loan_approvals',\n",
       " 'loan_approvals'}"
      ]
     },
     "execution_count": 79,
     "metadata": {},
     "output_type": "execute_result"
    }
   ],
   "source": [
    "table_names"
   ]
  },
  {
   "cell_type": "code",
   "execution_count": 70,
   "id": "2c1f5db0",
   "metadata": {},
   "outputs": [
    {
     "ename": "SyntaxError",
     "evalue": "invalid syntax (1305039659.py, line 1)",
     "output_type": "error",
     "traceback": [
      "\u001b[1;36m  Input \u001b[1;32mIn [70]\u001b[1;36m\u001b[0m\n\u001b[1;33m    query.get_children().\u001b[0m\n\u001b[1;37m                         ^\u001b[0m\n\u001b[1;31mSyntaxError\u001b[0m\u001b[1;31m:\u001b[0m invalid syntax\n"
     ]
    }
   ],
   "source": [
    "query.get_children()."
   ]
  }
 ],
 "metadata": {
  "kernelspec": {
   "display_name": "Python 3 (ipykernel)",
   "language": "python",
   "name": "python3"
  },
  "language_info": {
   "codemirror_mode": {
    "name": "ipython",
    "version": 3
   },
   "file_extension": ".py",
   "mimetype": "text/x-python",
   "name": "python",
   "nbconvert_exporter": "python",
   "pygments_lexer": "ipython3",
   "version": "3.9.12"
  }
 },
 "nbformat": 4,
 "nbformat_minor": 5
}
