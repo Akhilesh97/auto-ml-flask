{
 "cells": [
  {
   "cell_type": "code",
   "execution_count": 2,
   "id": "b79b167d",
   "metadata": {},
   "outputs": [],
   "source": [
    "import pandas as pd"
   ]
  },
  {
   "cell_type": "code",
   "execution_count": 3,
   "id": "29227659",
   "metadata": {},
   "outputs": [],
   "source": [
    "df = pd.read_csv(\"data/LoanApprovalPrediction.csv\")"
   ]
  },
  {
   "cell_type": "markdown",
   "id": "3e23655f",
   "metadata": {},
   "source": [
    "## Duplicate display"
   ]
  },
  {
   "cell_type": "code",
   "execution_count": 4,
   "id": "d9989cb4",
   "metadata": {},
   "outputs": [
    {
     "name": "stdout",
     "output_type": "stream",
     "text": [
      "Number of duplicate rows: 3\n",
      "\n",
      "Duplicate Rows:\n",
      "     Loan_ID Gender Married  Dependents Education Self_Employed  \\\n",
      "0   LP001002   Male      No         0.0  Graduate            No   \n",
      "1   LP001002   Male      No         0.0  Graduate            No   \n",
      "5   LP001011   Male     Yes         2.0  Graduate           Yes   \n",
      "8   LP001011   Male     Yes         2.0  Graduate           Yes   \n",
      "15  LP001032   Male      No         0.0  Graduate            No   \n",
      "16  LP001032   Male      No         0.0  Graduate            No   \n",
      "\n",
      "    ApplicantIncome  CoapplicantIncome  LoanAmount  Loan_Amount_Term  \\\n",
      "0              5849                0.0         NaN             360.0   \n",
      "1              5849                0.0         NaN             360.0   \n",
      "5              5417             4196.0       267.0             360.0   \n",
      "8              5417             4196.0       267.0             360.0   \n",
      "15             4950                0.0       125.0             360.0   \n",
      "16             4950                0.0       125.0             360.0   \n",
      "\n",
      "    Credit_History Property_Area Loan_Status  \n",
      "0              1.0         Urban           Y  \n",
      "1              1.0         Urban           Y  \n",
      "5              1.0         Urban           Y  \n",
      "8              1.0         Urban           Y  \n",
      "15             1.0         Urban           Y  \n",
      "16             1.0         Urban           Y  \n"
     ]
    }
   ],
   "source": [
    "# Find and display the number of duplicates based on all columns\n",
    "duplicate_counts = df.duplicated().sum()\n",
    "print(f'Number of duplicate rows: {duplicate_counts}')\n",
    "\n",
    "# Display the duplicate rows in a new DataFrame\n",
    "duplicates_df = df[df.duplicated(keep=False)]\n",
    "print('\\nDuplicate Rows:')\n",
    "print(duplicates_df)"
   ]
  },
  {
   "cell_type": "code",
   "execution_count": 4,
   "id": "015ceeee",
   "metadata": {},
   "outputs": [],
   "source": [
    "import numpy as np\n",
    "from numbers import Number\n",
    "import datetime\n"
   ]
  },
  {
   "cell_type": "markdown",
   "id": "7083072e",
   "metadata": {},
   "source": [
    "## Inconsistent values"
   ]
  },
  {
   "cell_type": "code",
   "execution_count": 5,
   "id": "445af506",
   "metadata": {},
   "outputs": [],
   "source": [
    "columns = list(df.columns)\n",
    "\n",
    "def get_col_counts(x):\n",
    "    numeric_counts = 0\n",
    "    object_counts = 0\n",
    "    date_types = 0\n",
    "\n",
    "    for val in x:\n",
    "        if isinstance(val, Number):\n",
    "            numeric_counts+=1\n",
    "        elif isinstance(val, str):\n",
    "            object_counts+=1\n",
    "        elif isinstance(val, datetime.date):\n",
    "            date_types+=1\n",
    "\n",
    "    return numeric_counts, object_counts, date_types"
   ]
  },
  {
   "cell_type": "code",
   "execution_count": 6,
   "id": "f3928bb2",
   "metadata": {},
   "outputs": [],
   "source": [
    "numeric_counts_ = []\n",
    "object_counts_ = []\n",
    "date_types_ = []\n",
    "inconsistencies_ = []\n",
    "for col in columns:\n",
    "    numeric_counts, object_counts, date_types = get_col_counts(df[col])    \n",
    "    inconsistency = 100-(max(numeric_counts, object_counts, date_types)/len(df))*100    \n",
    "    numeric_counts_.append(numeric_counts)\n",
    "    object_counts_.append(object_counts)\n",
    "    date_types_.append(date_types)\n",
    "    inconsistencies_.append(inconsistency)\n",
    "\n",
    "inconsistency_df = pd.DataFrame(columns=['column', 'numeric_vals', 'object_vals', 'date_vals', 'inconsistency_percentage'])\n",
    "inconsistency_df['column'] = columns\n",
    "inconsistency_df['numeric_vals'] = numeric_counts_\n",
    "inconsistency_df['object_vals'] = object_counts_\n",
    "inconsistency_df['date_vals'] = date_types_\n",
    "inconsistency_df['inconsistency_percentage'] = inconsistencies_"
   ]
  },
  {
   "cell_type": "code",
   "execution_count": 8,
   "id": "e775c910",
   "metadata": {},
   "outputs": [
    {
     "data": {
      "text/html": [
       "<div>\n",
       "<style scoped>\n",
       "    .dataframe tbody tr th:only-of-type {\n",
       "        vertical-align: middle;\n",
       "    }\n",
       "\n",
       "    .dataframe tbody tr th {\n",
       "        vertical-align: top;\n",
       "    }\n",
       "\n",
       "    .dataframe thead th {\n",
       "        text-align: right;\n",
       "    }\n",
       "</style>\n",
       "<table border=\"1\" class=\"dataframe\">\n",
       "  <thead>\n",
       "    <tr style=\"text-align: right;\">\n",
       "      <th></th>\n",
       "      <th>column</th>\n",
       "      <th>numeric_vals</th>\n",
       "      <th>object_vals</th>\n",
       "      <th>date_vals</th>\n",
       "      <th>inconsistency_percentage</th>\n",
       "    </tr>\n",
       "  </thead>\n",
       "  <tbody>\n",
       "    <tr>\n",
       "      <th>0</th>\n",
       "      <td>Loan_ID</td>\n",
       "      <td>0</td>\n",
       "      <td>598</td>\n",
       "      <td>0</td>\n",
       "      <td>0.0</td>\n",
       "    </tr>\n",
       "    <tr>\n",
       "      <th>1</th>\n",
       "      <td>Gender</td>\n",
       "      <td>0</td>\n",
       "      <td>598</td>\n",
       "      <td>0</td>\n",
       "      <td>0.0</td>\n",
       "    </tr>\n",
       "    <tr>\n",
       "      <th>2</th>\n",
       "      <td>Married</td>\n",
       "      <td>0</td>\n",
       "      <td>598</td>\n",
       "      <td>0</td>\n",
       "      <td>0.0</td>\n",
       "    </tr>\n",
       "    <tr>\n",
       "      <th>3</th>\n",
       "      <td>Dependents</td>\n",
       "      <td>598</td>\n",
       "      <td>0</td>\n",
       "      <td>0</td>\n",
       "      <td>0.0</td>\n",
       "    </tr>\n",
       "    <tr>\n",
       "      <th>4</th>\n",
       "      <td>Education</td>\n",
       "      <td>0</td>\n",
       "      <td>598</td>\n",
       "      <td>0</td>\n",
       "      <td>0.0</td>\n",
       "    </tr>\n",
       "    <tr>\n",
       "      <th>5</th>\n",
       "      <td>Self_Employed</td>\n",
       "      <td>0</td>\n",
       "      <td>598</td>\n",
       "      <td>0</td>\n",
       "      <td>0.0</td>\n",
       "    </tr>\n",
       "    <tr>\n",
       "      <th>6</th>\n",
       "      <td>ApplicantIncome</td>\n",
       "      <td>598</td>\n",
       "      <td>0</td>\n",
       "      <td>0</td>\n",
       "      <td>0.0</td>\n",
       "    </tr>\n",
       "    <tr>\n",
       "      <th>7</th>\n",
       "      <td>CoapplicantIncome</td>\n",
       "      <td>598</td>\n",
       "      <td>0</td>\n",
       "      <td>0</td>\n",
       "      <td>0.0</td>\n",
       "    </tr>\n",
       "    <tr>\n",
       "      <th>8</th>\n",
       "      <td>LoanAmount</td>\n",
       "      <td>598</td>\n",
       "      <td>0</td>\n",
       "      <td>0</td>\n",
       "      <td>0.0</td>\n",
       "    </tr>\n",
       "    <tr>\n",
       "      <th>9</th>\n",
       "      <td>Loan_Amount_Term</td>\n",
       "      <td>598</td>\n",
       "      <td>0</td>\n",
       "      <td>0</td>\n",
       "      <td>0.0</td>\n",
       "    </tr>\n",
       "    <tr>\n",
       "      <th>10</th>\n",
       "      <td>Credit_History</td>\n",
       "      <td>598</td>\n",
       "      <td>0</td>\n",
       "      <td>0</td>\n",
       "      <td>0.0</td>\n",
       "    </tr>\n",
       "    <tr>\n",
       "      <th>11</th>\n",
       "      <td>Property_Area</td>\n",
       "      <td>0</td>\n",
       "      <td>598</td>\n",
       "      <td>0</td>\n",
       "      <td>0.0</td>\n",
       "    </tr>\n",
       "    <tr>\n",
       "      <th>12</th>\n",
       "      <td>Loan_Status</td>\n",
       "      <td>0</td>\n",
       "      <td>598</td>\n",
       "      <td>0</td>\n",
       "      <td>0.0</td>\n",
       "    </tr>\n",
       "  </tbody>\n",
       "</table>\n",
       "</div>"
      ],
      "text/plain": [
       "               column  numeric_vals  object_vals  date_vals  \\\n",
       "0             Loan_ID             0          598          0   \n",
       "1              Gender             0          598          0   \n",
       "2             Married             0          598          0   \n",
       "3          Dependents           598            0          0   \n",
       "4           Education             0          598          0   \n",
       "5       Self_Employed             0          598          0   \n",
       "6     ApplicantIncome           598            0          0   \n",
       "7   CoapplicantIncome           598            0          0   \n",
       "8          LoanAmount           598            0          0   \n",
       "9    Loan_Amount_Term           598            0          0   \n",
       "10     Credit_History           598            0          0   \n",
       "11      Property_Area             0          598          0   \n",
       "12        Loan_Status             0          598          0   \n",
       "\n",
       "    inconsistency_percentage  \n",
       "0                        0.0  \n",
       "1                        0.0  \n",
       "2                        0.0  \n",
       "3                        0.0  \n",
       "4                        0.0  \n",
       "5                        0.0  \n",
       "6                        0.0  \n",
       "7                        0.0  \n",
       "8                        0.0  \n",
       "9                        0.0  \n",
       "10                       0.0  \n",
       "11                       0.0  \n",
       "12                       0.0  "
      ]
     },
     "execution_count": 8,
     "metadata": {},
     "output_type": "execute_result"
    }
   ],
   "source": [
    "inconsistency_df"
   ]
  },
  {
   "cell_type": "code",
   "execution_count": 9,
   "id": "f7252fee",
   "metadata": {},
   "outputs": [],
   "source": [
    "import plotly.express as px"
   ]
  },
  {
   "cell_type": "code",
   "execution_count": 10,
   "id": "583bc318",
   "metadata": {},
   "outputs": [],
   "source": [
    "numeric_columns = df.select_dtypes(include=['number']).columns"
   ]
  },
  {
   "cell_type": "code",
   "execution_count": 5,
   "id": "57914067",
   "metadata": {},
   "outputs": [
    {
     "data": {
      "text/plain": [
       "Index(['Loan_ID', 'Gender', 'Married', 'Dependents', 'Education',\n",
       "       'Self_Employed', 'ApplicantIncome', 'CoapplicantIncome', 'LoanAmount',\n",
       "       'Loan_Amount_Term', 'Credit_History', 'Property_Area', 'Loan_Status'],\n",
       "      dtype='object')"
      ]
     },
     "execution_count": 5,
     "metadata": {},
     "output_type": "execute_result"
    }
   ],
   "source": [
    "df.columns"
   ]
  },
  {
   "cell_type": "code",
   "execution_count": 17,
   "id": "2e2770e2",
   "metadata": {},
   "outputs": [
    {
     "data": {
      "text/html": [
       "<div>\n",
       "<style scoped>\n",
       "    .dataframe tbody tr th:only-of-type {\n",
       "        vertical-align: middle;\n",
       "    }\n",
       "\n",
       "    .dataframe tbody tr th {\n",
       "        vertical-align: top;\n",
       "    }\n",
       "\n",
       "    .dataframe thead th {\n",
       "        text-align: right;\n",
       "    }\n",
       "</style>\n",
       "<table border=\"1\" class=\"dataframe\">\n",
       "  <thead>\n",
       "    <tr style=\"text-align: right;\">\n",
       "      <th></th>\n",
       "      <th>Dependents</th>\n",
       "      <th>ApplicantIncome</th>\n",
       "      <th>CoapplicantIncome</th>\n",
       "      <th>LoanAmount</th>\n",
       "      <th>Loan_Amount_Term</th>\n",
       "      <th>Credit_History</th>\n",
       "    </tr>\n",
       "  </thead>\n",
       "  <tbody>\n",
       "    <tr>\n",
       "      <th>count</th>\n",
       "      <td>586.000000</td>\n",
       "      <td>598.000000</td>\n",
       "      <td>598.000000</td>\n",
       "      <td>577.000000</td>\n",
       "      <td>584.000000</td>\n",
       "      <td>549.000000</td>\n",
       "    </tr>\n",
       "    <tr>\n",
       "      <th>mean</th>\n",
       "      <td>0.755973</td>\n",
       "      <td>5292.252508</td>\n",
       "      <td>1631.499866</td>\n",
       "      <td>144.968804</td>\n",
       "      <td>341.917808</td>\n",
       "      <td>0.843352</td>\n",
       "    </tr>\n",
       "    <tr>\n",
       "      <th>std</th>\n",
       "      <td>1.007751</td>\n",
       "      <td>5807.265364</td>\n",
       "      <td>2953.315785</td>\n",
       "      <td>82.704182</td>\n",
       "      <td>65.205994</td>\n",
       "      <td>0.363800</td>\n",
       "    </tr>\n",
       "    <tr>\n",
       "      <th>min</th>\n",
       "      <td>0.000000</td>\n",
       "      <td>150.000000</td>\n",
       "      <td>0.000000</td>\n",
       "      <td>9.000000</td>\n",
       "      <td>12.000000</td>\n",
       "      <td>0.000000</td>\n",
       "    </tr>\n",
       "    <tr>\n",
       "      <th>25%</th>\n",
       "      <td>0.000000</td>\n",
       "      <td>2877.500000</td>\n",
       "      <td>0.000000</td>\n",
       "      <td>100.000000</td>\n",
       "      <td>360.000000</td>\n",
       "      <td>1.000000</td>\n",
       "    </tr>\n",
       "    <tr>\n",
       "      <th>50%</th>\n",
       "      <td>0.000000</td>\n",
       "      <td>3806.000000</td>\n",
       "      <td>1211.500000</td>\n",
       "      <td>127.000000</td>\n",
       "      <td>360.000000</td>\n",
       "      <td>1.000000</td>\n",
       "    </tr>\n",
       "    <tr>\n",
       "      <th>75%</th>\n",
       "      <td>1.750000</td>\n",
       "      <td>5746.000000</td>\n",
       "      <td>2324.000000</td>\n",
       "      <td>167.000000</td>\n",
       "      <td>360.000000</td>\n",
       "      <td>1.000000</td>\n",
       "    </tr>\n",
       "    <tr>\n",
       "      <th>max</th>\n",
       "      <td>3.000000</td>\n",
       "      <td>81000.000000</td>\n",
       "      <td>41667.000000</td>\n",
       "      <td>650.000000</td>\n",
       "      <td>480.000000</td>\n",
       "      <td>1.000000</td>\n",
       "    </tr>\n",
       "  </tbody>\n",
       "</table>\n",
       "</div>"
      ],
      "text/plain": [
       "       Dependents  ApplicantIncome  CoapplicantIncome  LoanAmount  \\\n",
       "count  586.000000       598.000000         598.000000  577.000000   \n",
       "mean     0.755973      5292.252508        1631.499866  144.968804   \n",
       "std      1.007751      5807.265364        2953.315785   82.704182   \n",
       "min      0.000000       150.000000           0.000000    9.000000   \n",
       "25%      0.000000      2877.500000           0.000000  100.000000   \n",
       "50%      0.000000      3806.000000        1211.500000  127.000000   \n",
       "75%      1.750000      5746.000000        2324.000000  167.000000   \n",
       "max      3.000000     81000.000000       41667.000000  650.000000   \n",
       "\n",
       "       Loan_Amount_Term  Credit_History  \n",
       "count        584.000000      549.000000  \n",
       "mean         341.917808        0.843352  \n",
       "std           65.205994        0.363800  \n",
       "min           12.000000        0.000000  \n",
       "25%          360.000000        1.000000  \n",
       "50%          360.000000        1.000000  \n",
       "75%          360.000000        1.000000  \n",
       "max          480.000000        1.000000  "
      ]
     },
     "execution_count": 17,
     "metadata": {},
     "output_type": "execute_result"
    }
   ],
   "source": [
    "df[numeric_columns].describe()"
   ]
  },
  {
   "cell_type": "code",
   "execution_count": 7,
   "id": "147d4681",
   "metadata": {},
   "outputs": [],
   "source": [
    "import plotly.express as px"
   ]
  },
  {
   "cell_type": "code",
   "execution_count": 10,
   "id": "39feb5b5",
   "metadata": {},
   "outputs": [],
   "source": [
    "df = df.iloc[:,1:]"
   ]
  },
  {
   "cell_type": "code",
   "execution_count": 12,
   "id": "0821985a",
   "metadata": {},
   "outputs": [],
   "source": [
    "duplicate_action = 'keep'\n",
    "null_action_radios = ['drop', 'impute', 'drop']\n",
    "incon_action_radios = ['drop', 'impute']"
   ]
  },
  {
   "cell_type": "code",
   "execution_count": 15,
   "id": "11879354",
   "metadata": {},
   "outputs": [],
   "source": [
    "columns = list(df.columns)"
   ]
  },
  {
   "cell_type": "code",
   "execution_count": 26,
   "id": "ab878c6b",
   "metadata": {},
   "outputs": [],
   "source": [
    "msg = \"\"\n",
    "if duplicate_action == \"keep\":\n",
    "    msg+=\"Keeping duplicate columns\\n\"\n",
    "else:\n",
    "    msg+=\"Dropping duplicate columns\\n\"\n",
    "\n",
    "msg += \"Null value handling operations performed\"    \n",
    "for index, action in enumerate(null_action_radios):\n",
    "    msg += \"%sing column - %s\\n \"%(action, columns[index])\n",
    "\n",
    "msg += \"Inconsistency value handling operations performed\"    \n",
    "for index, action in enumerate(incon_action_radios):\n",
    "    msg += \"%sing column - %s\\n \"%(action, columns[index])\n"
   ]
  },
  {
   "cell_type": "code",
   "execution_count": 27,
   "id": "f810d492",
   "metadata": {},
   "outputs": [
    {
     "data": {
      "text/plain": [
       "'Keeping duplicate columns\\nNull value handling operations performeddroping column - Gender\\n imputeing column - Married\\n droping column - Dependents\\n Inconsistency value handling operations performeddroping column - Gender\\n imputeing column - Married\\n '"
      ]
     },
     "execution_count": 27,
     "metadata": {},
     "output_type": "execute_result"
    }
   ],
   "source": [
    "msg"
   ]
  },
  {
   "cell_type": "code",
   "execution_count": 13,
   "id": "086d0be0",
   "metadata": {},
   "outputs": [
    {
     "data": {
      "text/plain": [
       "Index(['Gender', 'Married', 'Dependents', 'Education', 'Self_Employed',\n",
       "       'ApplicantIncome', 'CoapplicantIncome', 'LoanAmount',\n",
       "       'Loan_Amount_Term', 'Credit_History', 'Property_Area', 'Loan_Status'],\n",
       "      dtype='object')"
      ]
     },
     "execution_count": 13,
     "metadata": {},
     "output_type": "execute_result"
    }
   ],
   "source": [
    "for i, col_name in df.columns:"
   ]
  }
 ],
 "metadata": {
  "kernelspec": {
   "display_name": "Python 3 (ipykernel)",
   "language": "python",
   "name": "python3"
  },
  "language_info": {
   "codemirror_mode": {
    "name": "ipython",
    "version": 3
   },
   "file_extension": ".py",
   "mimetype": "text/x-python",
   "name": "python",
   "nbconvert_exporter": "python",
   "pygments_lexer": "ipython3",
   "version": "3.9.12"
  }
 },
 "nbformat": 4,
 "nbformat_minor": 5
}
